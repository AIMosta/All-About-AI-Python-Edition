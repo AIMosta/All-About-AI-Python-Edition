{
  "nbformat": 4,
  "nbformat_minor": 0,
  "metadata": {
    "colab": {
      "name": "AAA-ped-w2-c5.ipynb",
      "version": "0.3.2",
      "provenance": [],
      "collapsed_sections": [],
      "toc_visible": true
    },
    "kernelspec": {
      "name": "python3",
      "display_name": "Python 3"
    }
  },
  "cells": [
    {
      "metadata": {
        "id": "mh0PZxrv9jhG",
        "colab_type": "text"
      },
      "cell_type": "markdown",
      "source": [
        "<img src=\"https://docs.google.com/uc?export=download&id=1EiHSYfHYk8nKMEWd6A74CMFVak5Lf4ab\">\n",
        "# Data manipulation:  Plotting and visualization"
      ]
    },
    {
      "metadata": {
        "id": "PqF0PT2CDNkw",
        "colab_type": "text"
      },
      "cell_type": "markdown",
      "source": [
        "# 1- matplotlib"
      ]
    },
    {
      "metadata": {
        "id": "LfjtRDDQ9bko",
        "colab_type": "code",
        "colab": {}
      },
      "cell_type": "code",
      "source": [
        "import numpy as np\n",
        "import pandas as pd\n",
        "import matplotlib.pyplot as plt\n",
        "from pandas import Series as S, DataFrame as DF"
      ],
      "execution_count": 0,
      "outputs": []
    },
    {
      "metadata": {
        "id": "cq8p9bF6JGZg",
        "colab_type": "code",
        "colab": {}
      },
      "cell_type": "code",
      "source": [
        "from IPython.core.interactiveshell import InteractiveShell\n",
        "InteractiveShell.ast_node_interactivity = \"all\"\n",
        "%matplotlib inline"
      ],
      "execution_count": 0,
      "outputs": []
    },
    {
      "metadata": {
        "id": "ipzk6TK9-SHM",
        "colab_type": "code",
        "colab": {
          "base_uri": "https://localhost:8080/",
          "height": 156
        },
        "outputId": "e2eecfbb-e39d-46da-add5-7a5c4b739f0b"
      },
      "cell_type": "code",
      "source": [
        "# creating a Series\n",
        "ser1 = S(range(3,10),index=list(\"abcdefg\"))\n",
        "\n",
        "ser1"
      ],
      "execution_count": 29,
      "outputs": [
        {
          "output_type": "execute_result",
          "data": {
            "text/plain": [
              "a    3\n",
              "b    4\n",
              "c    5\n",
              "d    6\n",
              "e    7\n",
              "f    8\n",
              "g    9\n",
              "dtype: int64"
            ]
          },
          "metadata": {
            "tags": []
          },
          "execution_count": 29
        }
      ]
    },
    {
      "metadata": {
        "id": "Hmrs1ewI917y",
        "colab_type": "code",
        "colab": {
          "base_uri": "https://localhost:8080/",
          "height": 282
        },
        "outputId": "286285cf-60d8-4794-ea6d-ae414ddc169f"
      },
      "cell_type": "code",
      "source": [
        "# plotting ser1 values as a line\n",
        "plt.plot(ser1)"
      ],
      "execution_count": 30,
      "outputs": [
        {
          "output_type": "execute_result",
          "data": {
            "text/plain": [
              "[<matplotlib.lines.Line2D at 0x7f97780c27b8>]"
            ]
          },
          "metadata": {
            "tags": []
          },
          "execution_count": 30
        },
        {
          "output_type": "display_data",
          "data": {
            "image/png": "[encoded data removed]",
            "text/plain": [
              "<matplotlib.figure.Figure at 0x7f9778449358>"
            ]
          },
          "metadata": {
            "tags": []
          }
        }
      ]
    },
    {
      "metadata": {
        "id": "iiYrrIfdDIyC",
        "colab_type": "text"
      },
      "cell_type": "markdown",
      "source": [
        "## Basic plotting"
      ]
    },
    {
      "metadata": {
        "id": "dMELmJq4-kx8",
        "colab_type": "code",
        "colab": {
          "base_uri": "https://localhost:8080/",
          "height": 286
        },
        "outputId": "8b890e48-2604-4013-fef3-7e6d83288ccf"
      },
      "cell_type": "code",
      "source": [
        "# annother way to plot lines (figures)\n",
        "# using figures, axis and subplots\n",
        "# creating a figure instance\n",
        "myFig= plt.figure()\n",
        "# adding to the figure a subplot:\n",
        "# divinding the corresponding region\n",
        "# in (1,1) ==> 1 line x 2 columns\n",
        "# the third value 1: position (number of the subplot)\n",
        "axis1= myFig.add_subplot(1,2,1)\n",
        "axis2= myFig.add_subplot(1,2,2)\n",
        "# plotting in the first position\n",
        "axis1.plot(ser1)\n"
      ],
      "execution_count": 31,
      "outputs": [
        {
          "output_type": "execute_result",
          "data": {
            "text/plain": [
              "[<matplotlib.lines.Line2D at 0x7f97780939e8>]"
            ]
          },
          "metadata": {
            "tags": []
          },
          "execution_count": 31
        },
        {
          "output_type": "display_data",
          "data": {
            "image/png": "[encoded data removed]",
            "text/plain": [
              "<matplotlib.figure.Figure at 0x7f97781286a0>"
            ]
          },
          "metadata": {
            "tags": []
          }
        }
      ]
    },
    {
      "metadata": {
        "id": "saneJ76fDAKU",
        "colab_type": "text"
      },
      "cell_type": "markdown",
      "source": [
        "## Customizing plots"
      ]
    },
    {
      "metadata": {
        "id": "3YGHIqApDT0Q",
        "colab_type": "code",
        "colab": {
          "base_uri": "https://localhost:8080/",
          "height": 282
        },
        "outputId": "e0c9ddbe-1e84-46ca-f13b-f6bf9297ad31"
      },
      "cell_type": "code",
      "source": [
        "\n",
        "# you can specify : the color, the line_style\n",
        "# and the marker type of the plot\n",
        "plt.plot(ser1, color='g', linestyle='dashed', marker='o')"
      ],
      "execution_count": 42,
      "outputs": [
        {
          "output_type": "execute_result",
          "data": {
            "text/plain": [
              "[<matplotlib.lines.Line2D at 0x7f9777fc9f60>]"
            ]
          },
          "metadata": {
            "tags": []
          },
          "execution_count": 42
        },
        {
          "output_type": "display_data",
          "data": {
            "image/png": "[encoded data removed]",
            "text/plain": [
              "<matplotlib.figure.Figure at 0x7f9777d6b6a0>"
            ]
          },
          "metadata": {
            "tags": []
          }
        }
      ]
    },
    {
      "metadata": {
        "id": "iTlCpbstOGou",
        "colab_type": "code",
        "colab": {
          "base_uri": "https://localhost:8080/",
          "height": 384
        },
        "outputId": "c3908d2b-b39b-4552-8d6b-d2a4ab7f719f"
      },
      "cell_type": "code",
      "source": [
        "myFig2= plt.figure()\n",
        "axis1= myFig2.add_subplot(1,1,1)\n",
        "# modify the values of x to be shown\n",
        "axis1.set_xticks([0,2,4,6])\n",
        "# modify theire names\n",
        "axis1.set_xticklabels(list(\"ABCD\"))\n",
        "# adding a title to the plot\n",
        "axis1.set_title (\"Plotting ser1\")\n",
        "# ploting axis1 wiht a label \"range\"\n",
        "axis1.plot(ser1,label=\"range\",marker=\"o\")\n",
        "# adding a legend \n",
        "axis1.legend(loc=\"best\")"
      ],
      "execution_count": 55,
      "outputs": [
        {
          "output_type": "execute_result",
          "data": {
            "text/plain": [
              "[<matplotlib.axis.XTick at 0x7f97777e0438>,\n",
              " <matplotlib.axis.XTick at 0x7f977778ef60>,\n",
              " <matplotlib.axis.XTick at 0x7f9777782ac8>,\n",
              " <matplotlib.axis.XTick at 0x7f97777a9978>]"
            ]
          },
          "metadata": {
            "tags": []
          },
          "execution_count": 55
        },
        {
          "output_type": "execute_result",
          "data": {
            "text/plain": [
              "[Text(0,0,'A'), Text(0,0,'B'), Text(0,0,'C'), Text(0,0,'D')]"
            ]
          },
          "metadata": {
            "tags": []
          },
          "execution_count": 55
        },
        {
          "output_type": "execute_result",
          "data": {
            "text/plain": [
              "Text(0.5,1,'Plotting ser1')"
            ]
          },
          "metadata": {
            "tags": []
          },
          "execution_count": 55
        },
        {
          "output_type": "execute_result",
          "data": {
            "text/plain": [
              "[<matplotlib.lines.Line2D at 0x7f97777a9c18>]"
            ]
          },
          "metadata": {
            "tags": []
          },
          "execution_count": 55
        },
        {
          "output_type": "execute_result",
          "data": {
            "text/plain": [
              "<matplotlib.legend.Legend at 0x7f97777a9e80>"
            ]
          },
          "metadata": {
            "tags": []
          },
          "execution_count": 55
        },
        {
          "output_type": "display_data",
          "data": {
            "image/png": "[encoded data removed]",
            "text/plain": [
              "<matplotlib.figure.Figure at 0x7f97778247b8>"
            ]
          },
          "metadata": {
            "tags": []
          }
        }
      ]
    },
    {
      "metadata": {
        "id": "nGzL3BC2VmOm",
        "colab_type": "text"
      },
      "cell_type": "markdown",
      "source": [
        "## Annotations"
      ]
    },
    {
      "metadata": {
        "id": "30lyiMriVozG",
        "colab_type": "code",
        "colab": {
          "base_uri": "https://localhost:8080/",
          "height": 286
        },
        "outputId": "cb40e036-9047-4e31-d786-3e1b780f214f"
      },
      "cell_type": "code",
      "source": [
        "# adding a text in a plot at a certain position\n",
        "plt.text(0.5,0.5,\"Here is the example\")\n"
      ],
      "execution_count": 67,
      "outputs": [
        {
          "output_type": "execute_result",
          "data": {
            "text/plain": [
              "Text(0.5,0.5,'Here is the example')"
            ]
          },
          "metadata": {
            "tags": []
          },
          "execution_count": 67
        },
        {
          "output_type": "display_data",
          "data": {
            "image/png": "[encoded data removed]",
            "text/plain": [
              "<matplotlib.figure.Figure at 0x7f9777fc4a58>"
            ]
          },
          "metadata": {
            "tags": []
          }
        }
      ]
    },
    {
      "metadata": {
        "id": "A2vMvlxKZee6",
        "colab_type": "code",
        "colab": {
          "base_uri": "https://localhost:8080/",
          "height": 286
        },
        "outputId": "ed90d1bf-da0d-4e50-f94d-ee60ee3d53ab"
      },
      "cell_type": "code",
      "source": [
        "# adding a figure in  a plot at a certain position\n",
        "rec= plt.Rectangle((0.5, 0.5), 0.2, 0.2, color='r')\n",
        "axis = plt.figure().add_subplot(1,1,1)\n",
        "axis.add_patch(rec)"
      ],
      "execution_count": 73,
      "outputs": [
        {
          "output_type": "execute_result",
          "data": {
            "text/plain": [
              "<matplotlib.patches.Rectangle at 0x7f9775bbe470>"
            ]
          },
          "metadata": {
            "tags": []
          },
          "execution_count": 73
        },
        {
          "output_type": "display_data",
          "data": {
            "image/png": "[encoded data removed]",
            "text/plain": [
              "<matplotlib.figure.Figure at 0x7f9775bbe438>"
            ]
          },
          "metadata": {
            "tags": []
          }
        }
      ]
    },
    {
      "metadata": {
        "id": "rspNjhAvcdxU",
        "colab_type": "code",
        "colab": {}
      },
      "cell_type": "code",
      "source": [
        "\n",
        "axis = plt.figure().add_subplot(1,1,1)\n",
        "\n",
        "axis.annotate(\"My annotation\", xy=(2,5),arrowprops=dict(facecolor='black', headwidth=4, width=2,\n",
        "headlength=4),horizontalalignment='left', verticalalignment='top')\n",
        "          \n",
        "axis.plot(ser1)\n"
      ],
      "execution_count": 0,
      "outputs": []
    },
    {
      "metadata": {
        "id": "46RVqiymgdZS",
        "colab_type": "text"
      },
      "cell_type": "markdown",
      "source": [
        "## File handling and configuration"
      ]
    },
    {
      "metadata": {
        "id": "1LCaxJjXghOm",
        "colab_type": "code",
        "colab": {}
      },
      "cell_type": "code",
      "source": [
        "# saving the plot image into a svg file\n"
      ],
      "execution_count": 0,
      "outputs": []
    }
  ]
}