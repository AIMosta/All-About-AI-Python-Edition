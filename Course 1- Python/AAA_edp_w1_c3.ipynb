{
  "nbformat": 4,
  "nbformat_minor": 0,
  "metadata": {
    "colab": {
      "name": "AAA_edp_w1_c3.ipynb",
      "version": "0.3.2",
      "provenance": [],
      "collapsed_sections": [],
      "toc_visible": true,
      "include_colab_link": true
    },
    "kernelspec": {
      "name": "python3",
      "display_name": "Python 3"
    }
  },
  "cells": [
    {
      "cell_type": "markdown",
      "metadata": {
        "id": "view-in-github",
        "colab_type": "text"
      },
      "source": [
        "<a href=\"https://colab.research.google.com/github/MostaSchoolOfAI/All-About-AI-Python-Edition/blob/master/Course%201-%20Python/AAA_edp_w1_c3.ipynb\" target=\"_parent\"><img src=\"https://colab.research.google.com/assets/colab-badge.svg\" alt=\"Open In Colab\"/></a>"
      ]
    },
    {
      "metadata": {
        "id": "ZxiwV8d7oqxO",
        "colab_type": "text"
      },
      "cell_type": "markdown",
      "source": [
        "<img src=\"https://docs.google.com/uc?export=download&id=1EiHSYfHYk8nKMEWd6A74CMFVak5Lf4ab\">\n",
        "# Python: More about Python"
      ]
    },
    {
      "metadata": {
        "id": "xDnHA-OXSsP-",
        "colab_type": "text"
      },
      "cell_type": "markdown",
      "source": [
        "# 1- if / else , For, While"
      ]
    },
    {
      "metadata": {
        "id": "iouItiuGoRRu",
        "colab_type": "text"
      },
      "cell_type": "markdown",
      "source": [
        "\n",
        "\n",
        "* **if** / **else**  statements are used to control which block of code to execute:\n",
        "\n",
        "\n",
        "\n"
      ]
    },
    {
      "metadata": {
        "id": "Y4DTChLvpe6e",
        "colab_type": "code",
        "outputId": "293f32ee-6d27-4c37-bdcb-be9e5ed2071e",
        "colab": {
          "base_uri": "https://localhost:8080/",
          "height": 34
        }
      },
      "cell_type": "code",
      "source": [
        "a=3\n",
        "if a>8 :\n",
        "  print(\"a is greater than 8\")\n",
        "else:\n",
        "  print(\"a is not greater than 8\")"
      ],
      "execution_count": 0,
      "outputs": [
        {
          "output_type": "stream",
          "text": [
            "a is not greater than 8\n"
          ],
          "name": "stdout"
        }
      ]
    },
    {
      "metadata": {
        "id": "P-pxIAORpwp6",
        "colab_type": "code",
        "outputId": "63f7c699-5a15-4f70-a86c-7b7eb0dd8c70",
        "colab": {
          "base_uri": "https://localhost:8080/",
          "height": 35
        }
      },
      "cell_type": "code",
      "source": [
        "Pythona=3\n",
        "if a>8 :\n",
        "  print(\"a is greater than 8\")\n",
        "elif a==3:\n",
        "  print(\"actually, a=3\")\n",
        "else:\n",
        "  print(\"a is not greater than 8\")"
      ],
      "execution_count": 1,
      "outputs": [
        {
          "output_type": "stream",
          "text": [
            "actually, a=3\n"
          ],
          "name": "stdout"
        }
      ]
    },
    {
      "metadata": {
        "id": "qiAw6CTdpnA0",
        "colab_type": "text"
      },
      "cell_type": "markdown",
      "source": [
        "\n",
        "*  This statement is used to **control**  **how many times** a block of code has to be executed:\n"
      ]
    },
    {
      "metadata": {
        "id": "zfcCLdNluP2q",
        "colab_type": "code",
        "outputId": "2aeb1049-afb7-45fd-f4a4-f3fc5130860f",
        "colab": {
          "base_uri": "https://localhost:8080/",
          "height": 179
        }
      },
      "cell_type": "code",
      "source": [
        "i=j=1\n",
        "while(i>0):\n",
        "  print(\"**** execution number \"+str(j)+\"***\" )\n",
        "  i=float(input(\"Give a float value for i: \"))\n",
        "  print(\"Last given i =\",i)\n",
        "  j=j+1\n",
        "  "
      ],
      "execution_count": 2,
      "outputs": [
        {
          "output_type": "stream",
          "text": [
            "**** execution number 1***\n",
            "Give a float value for i: 3.5\n",
            "Last given i = 3.5\n",
            "**** execution number 2***\n",
            "Give a float value for i: 2.6\n",
            "Last given i = 2.6\n",
            "**** execution number 3***\n",
            "Give a float value for i: -3\n",
            "Last given i = -3.0\n"
          ],
          "name": "stdout"
        }
      ]
    },
    {
      "metadata": {
        "id": "zmXWRwqKwB2g",
        "colab_type": "text"
      },
      "cell_type": "markdown",
      "source": [
        "* The **for** statement is used to  execute a block of code  a certain number of times:"
      ]
    },
    {
      "metadata": {
        "id": "OWYd-vuYwWCC",
        "colab_type": "code",
        "outputId": "4f4795dd-7880-49a3-b76e-80240076977c",
        "colab": {
          "base_uri": "https://localhost:8080/",
          "height": 89
        }
      },
      "cell_type": "code",
      "source": [
        "for i in range(4):\n",
        "\n",
        "  print(i)"
      ],
      "execution_count": 3,
      "outputs": [
        {
          "output_type": "stream",
          "text": [
            "0\n",
            "1\n",
            "2\n",
            "3\n"
          ],
          "name": "stdout"
        }
      ]
    },
    {
      "metadata": {
        "id": "RZzWKUuiS7mg",
        "colab_type": "text"
      },
      "cell_type": "markdown",
      "source": [
        "# 2- Lists, Tuples, List comprehensions"
      ]
    },
    {
      "metadata": {
        "id": "B28nGQlVwzEq",
        "colab_type": "text"
      },
      "cell_type": "markdown",
      "source": [
        "* **lists**: a value that contains **multiple values**\n",
        "\n"
      ]
    },
    {
      "metadata": {
        "id": "3zADWaBDw6Ny",
        "colab_type": "code",
        "outputId": "de508625-edfb-4f8e-933e-73e070679d2c",
        "colab": {
          "base_uri": "https://localhost:8080/",
          "height": 53
        }
      },
      "cell_type": "code",
      "source": [
        "l1=[1,15,\"element\",0.3]\n",
        "l2= list(range(5))\n",
        "print(l1)\n",
        "print(l2)"
      ],
      "execution_count": 4,
      "outputs": [
        {
          "output_type": "stream",
          "text": [
            "[1, 15, 'element', 0.3]\n",
            "[0, 1, 2, 3, 4]\n"
          ],
          "name": "stdout"
        }
      ]
    },
    {
      "metadata": {
        "id": "2ZHXV6VnxGRk",
        "colab_type": "text"
      },
      "cell_type": "markdown",
      "source": [
        "* A **tuple** is a list  of **immutable** values\n",
        "\n"
      ]
    },
    {
      "metadata": {
        "id": "6C7tlrNUxSqi",
        "colab_type": "code",
        "outputId": "8ea889be-25a6-4052-ba36-3b60baacf7ff",
        "colab": {
          "base_uri": "https://localhost:8080/",
          "height": 53
        }
      },
      "cell_type": "code",
      "source": [
        "t1=(\"here\",5)\n",
        "t2 =tuple(range(3))\n",
        "print(t1)\n",
        "print(t2)"
      ],
      "execution_count": 5,
      "outputs": [
        {
          "output_type": "stream",
          "text": [
            "('here', 5)\n",
            "(0, 1, 2)\n"
          ],
          "name": "stdout"
        }
      ]
    },
    {
      "metadata": {
        "id": "HxhrZjyQyX3-",
        "colab_type": "code",
        "outputId": "927fee91-fc5e-43fa-850b-c3fde5705d8e",
        "colab": {
          "base_uri": "https://localhost:8080/",
          "height": 247
        }
      },
      "cell_type": "code",
      "source": [
        "l1=[2,5,9]\n",
        "l1[0]=\"first\"\n",
        "print(\"l1=\",l1)\n",
        "print(\"t1[0]=\",t1[0])\n",
        "# this statement will generate an error, since tupple assignment is forbidden\n",
        "t1[0]=5"
      ],
      "execution_count": 6,
      "outputs": [
        {
          "output_type": "stream",
          "text": [
            "l1= ['first', 5, 9]\n",
            "t1[0]= here\n"
          ],
          "name": "stdout"
        },
        {
          "output_type": "error",
          "ename": "TypeError",
          "evalue": "ignored",
          "traceback": [
            "\u001b[0;31m---------------------------------------------------------------------------\u001b[0m",
            "\u001b[0;31mTypeError\u001b[0m                                 Traceback (most recent call last)",
            "\u001b[0;32m<ipython-input-6-820a4679b5dc>\u001b[0m in \u001b[0;36m<module>\u001b[0;34m()\u001b[0m\n\u001b[1;32m      3\u001b[0m \u001b[0mprint\u001b[0m\u001b[0;34m(\u001b[0m\u001b[0;34m\"l1=\"\u001b[0m\u001b[0;34m,\u001b[0m\u001b[0ml1\u001b[0m\u001b[0;34m)\u001b[0m\u001b[0;34m\u001b[0m\u001b[0;34m\u001b[0m\u001b[0m\n\u001b[1;32m      4\u001b[0m \u001b[0mprint\u001b[0m\u001b[0;34m(\u001b[0m\u001b[0;34m\"t1[0]=\"\u001b[0m\u001b[0;34m,\u001b[0m\u001b[0mt1\u001b[0m\u001b[0;34m[\u001b[0m\u001b[0;36m0\u001b[0m\u001b[0;34m]\u001b[0m\u001b[0;34m)\u001b[0m\u001b[0;34m\u001b[0m\u001b[0;34m\u001b[0m\u001b[0m\n\u001b[0;32m----> 5\u001b[0;31m \u001b[0mt1\u001b[0m\u001b[0;34m[\u001b[0m\u001b[0;36m0\u001b[0m\u001b[0;34m]\u001b[0m\u001b[0;34m=\u001b[0m\u001b[0;36m5\u001b[0m\u001b[0;34m\u001b[0m\u001b[0;34m\u001b[0m\u001b[0m\n\u001b[0m",
            "\u001b[0;31mTypeError\u001b[0m: 'tuple' object does not support item assignment"
          ]
        }
      ]
    },
    {
      "metadata": {
        "id": "vZWWUAvxurms",
        "colab_type": "text"
      },
      "cell_type": "markdown",
      "source": [
        "\n",
        "*   Some list operations:"
      ]
    },
    {
      "metadata": {
        "id": "p5Ej1uoIuq1g",
        "colab_type": "code",
        "outputId": "c66a0d30-8028-4458-acc1-64048aefaf7c",
        "colab": {
          "base_uri": "https://localhost:8080/",
          "height": 143
        }
      },
      "cell_type": "code",
      "source": [
        "l1=list(range(-5,2))\n",
        "print(\"l1=\",l1)\n",
        "\n",
        "l2=list(range(7,20,3))\n",
        "print(\"l2= \",l2)\n",
        "\n",
        "l3=l1[2:4]\n",
        "print(\"l3= \",l3)\n",
        "\n",
        "del(l3[0]);print (\"l3=\",l3)\n",
        "\n",
        "l4=l3+[10,11]; print(\"l4=\",l4)\n",
        "\n",
        "l5=7*[2];print(\"l5=\",l5); print(\"l5 has\",str(len(l5))+\" elements\")\n",
        "\n"
      ],
      "execution_count": 9,
      "outputs": [
        {
          "output_type": "stream",
          "text": [
            "l1= [-5, -4, -3, -2, -1, 0, 1]\n",
            "l2=  [7, 10, 13, 16, 19]\n",
            "l3=  [-3, -2]\n",
            "l3= [-2]\n",
            "l4= [-2, 10, 11]\n",
            "l5= [2, 2, 2, 2, 2, 2, 2]\n",
            "l5 has 7 elements\n"
          ],
          "name": "stdout"
        }
      ]
    },
    {
      "metadata": {
        "id": "qi4ZSYKBuVwK",
        "colab_type": "code",
        "outputId": "72ac3102-e658-45fc-d9ec-a665fb062847",
        "colab": {
          "base_uri": "https://localhost:8080/",
          "height": 107
        }
      },
      "cell_type": "code",
      "source": [
        "l1=list(range(2,10,5))\n",
        "l2=list(range(5,25,9))\n",
        "print(l1);print(l2)\n",
        "print(\"The greatest value in l1=\",max(l1)) \n",
        "print(\"The smallest value in l2\",min(l2))\n",
        "x,y=l1\n",
        "print(x,y)\n",
        "\n"
      ],
      "execution_count": 10,
      "outputs": [
        {
          "output_type": "stream",
          "text": [
            "[2, 7]\n",
            "[5, 14, 23]\n",
            "The greatest value in l1= 7\n",
            "The smallest value in l2 5\n",
            "2 7\n"
          ],
          "name": "stdout"
        }
      ]
    },
    {
      "metadata": {
        "id": "rrZWQaDGwiae",
        "colab_type": "code",
        "outputId": "af40d88f-46cc-47a4-b057-9df68b774f3b",
        "colab": {
          "base_uri": "https://localhost:8080/",
          "height": 143
        }
      },
      "cell_type": "code",
      "source": [
        "l1= list(\"ABC\")\n",
        "for i in l1:\n",
        "  print(i)\n",
        "  \n",
        "for i in range(len(l1)):\n",
        "  print(str(i)+\"- \"+l1[i])\n",
        "  \n",
        "if 'G' not in l1:\n",
        "  print (\"G is not in l1\")\n",
        "  "
      ],
      "execution_count": 11,
      "outputs": [
        {
          "output_type": "stream",
          "text": [
            "A\n",
            "B\n",
            "C\n",
            "0- A\n",
            "1- B\n",
            "2- C\n",
            "G is not in l1\n"
          ],
          "name": "stdout"
        }
      ]
    },
    {
      "metadata": {
        "id": "5kma2jzHyaX0",
        "colab_type": "code",
        "outputId": "c0b2c7a3-42bd-4c72-98e7-4261a1cf58e0",
        "colab": {
          "base_uri": "https://localhost:8080/",
          "height": 71
        }
      },
      "cell_type": "code",
      "source": [
        "l1=[x for x in range(4) if x!= 2]\n",
        "print (l1)\n",
        "l2=[x**2 for x in [1,2,3]]\n",
        "print(l2)\n",
        "l3=[[x,y,z] for x in range(3) for y in (\"A\") for z in [\"el1\",\"el2\"]]\n",
        "print(l3)\n",
        "\n"
      ],
      "execution_count": 12,
      "outputs": [
        {
          "output_type": "stream",
          "text": [
            "[0, 1, 3]\n",
            "[1, 4, 9]\n",
            "[[0, 'A', 'el1'], [0, 'A', 'el2'], [1, 'A', 'el1'], [1, 'A', 'el2'], [2, 'A', 'el1'], [2, 'A', 'el2']]\n"
          ],
          "name": "stdout"
        }
      ]
    },
    {
      "metadata": {
        "id": "T2LHa6Q_xfUw",
        "colab_type": "text"
      },
      "cell_type": "markdown",
      "source": [
        "* A list has some **methods**.  We will talk about methods later."
      ]
    },
    {
      "metadata": {
        "id": "8aTdYu6cyQDG",
        "colab_type": "code",
        "outputId": "9c87a3be-f176-40bc-aac9-c208f106d8f3",
        "colab": {
          "base_uri": "https://localhost:8080/",
          "height": 35
        }
      },
      "cell_type": "code",
      "source": [
        "l1=list(\"LETTERS\")\n",
        "print(l1.index(\"R\"))"
      ],
      "execution_count": 13,
      "outputs": [
        {
          "output_type": "stream",
          "text": [
            "5\n"
          ],
          "name": "stdout"
        }
      ]
    },
    {
      "metadata": {
        "id": "-U33fKWs4F1E",
        "colab_type": "code",
        "outputId": "1f9e9b0f-de0e-4b7a-e6bf-5fa98649563f",
        "colab": {
          "base_uri": "https://localhost:8080/",
          "height": 35
        }
      },
      "cell_type": "code",
      "source": [
        "l1.append(\"G\")\n",
        "print(l1)"
      ],
      "execution_count": 14,
      "outputs": [
        {
          "output_type": "stream",
          "text": [
            "['L', 'E', 'T', 'T', 'E', 'R', 'S', 'G']\n"
          ],
          "name": "stdout"
        }
      ]
    },
    {
      "metadata": {
        "id": "qGon5co14Olg",
        "colab_type": "code",
        "outputId": "a551e2f8-199a-4392-af74-a0d1a386295f",
        "colab": {
          "base_uri": "https://localhost:8080/",
          "height": 35
        }
      },
      "cell_type": "code",
      "source": [
        "l1.insert(5,\"H\")\n",
        "print(l1)"
      ],
      "execution_count": 15,
      "outputs": [
        {
          "output_type": "stream",
          "text": [
            "['L', 'E', 'T', 'T', 'E', 'H', 'R', 'S', 'G']\n"
          ],
          "name": "stdout"
        }
      ]
    },
    {
      "metadata": {
        "id": "xrwsNoMyz0pu",
        "colab_type": "code",
        "outputId": "47fe6a1b-f3f6-472d-ef96-642f14c3a597",
        "colab": {
          "base_uri": "https://localhost:8080/",
          "height": 34
        }
      },
      "cell_type": "code",
      "source": [
        "l1.remove(\"T\")\n",
        "print(l1)"
      ],
      "execution_count": 0,
      "outputs": [
        {
          "output_type": "stream",
          "text": [
            "['L', 'E', 'T', 'E', 'H', 'R', 'S', 'G']\n"
          ],
          "name": "stdout"
        }
      ]
    },
    {
      "metadata": {
        "id": "Yl7bN0qOTHDC",
        "colab_type": "text"
      },
      "cell_type": "markdown",
      "source": [
        "# 3- Dictionaries"
      ]
    },
    {
      "metadata": {
        "id": "CoHwGU33_HrI",
        "colab_type": "text"
      },
      "cell_type": "markdown",
      "source": [
        "* A **dictionnary** is a list of values with their associated **keys**:"
      ]
    },
    {
      "metadata": {
        "id": "D9-Qzf6gz2dO",
        "colab_type": "code",
        "outputId": "0ac1123c-a8c1-47e0-8f85-89c27e2ba4d3",
        "colab": {
          "base_uri": "https://localhost:8080/",
          "height": 52
        }
      },
      "cell_type": "code",
      "source": [
        "d1={\"Name\":\"bob\",\"Age\":36}\n",
        "print(d1)\n",
        "d2={1:\"First\",2:\"Second\"}\n",
        "print(d2)"
      ],
      "execution_count": 0,
      "outputs": [
        {
          "output_type": "stream",
          "text": [
            "{'Name': 'bob', 'Age': 36}\n",
            "{1: 'First', 2: 'Second'}\n"
          ],
          "name": "stdout"
        }
      ]
    },
    {
      "metadata": {
        "id": "q75kyGBB_3ra",
        "colab_type": "code",
        "outputId": "751826be-7743-45fd-875f-b4f602bc7a48",
        "colab": {
          "base_uri": "https://localhost:8080/",
          "height": 52
        }
      },
      "cell_type": "code",
      "source": [
        "for i in d2.values():\n",
        "  print (i)"
      ],
      "execution_count": 0,
      "outputs": [
        {
          "output_type": "stream",
          "text": [
            "First\n",
            "Second\n"
          ],
          "name": "stdout"
        }
      ]
    },
    {
      "metadata": {
        "id": "uHpDZS4ZBFeW",
        "colab_type": "code",
        "outputId": "e890b045-2989-4350-c8cd-732f6c9c97e4",
        "colab": {
          "base_uri": "https://localhost:8080/",
          "height": 69
        }
      },
      "cell_type": "code",
      "source": [
        "for i in d2.keys():\n",
        "  print(i)"
      ],
      "execution_count": 0,
      "outputs": [
        {
          "output_type": "stream",
          "text": [
            "1\n",
            "2\n",
            "dict_keys([1, 2])\n"
          ],
          "name": "stdout"
        }
      ]
    },
    {
      "metadata": {
        "id": "GC_gBKuY0Mx6",
        "colab_type": "code",
        "outputId": "f060039f-db21-4e3f-c056-df6b9c6001e8",
        "colab": {
          "base_uri": "https://localhost:8080/",
          "height": 86
        }
      },
      "cell_type": "code",
      "source": [
        "for i in d2.items():\n",
        "  print(i)\n",
        "  k,l=i\n",
        "  print(k,l)"
      ],
      "execution_count": 0,
      "outputs": [
        {
          "output_type": "stream",
          "text": [
            "(1, 'First')\n",
            "1 First\n",
            "(2, 'Second')\n",
            "2 Second\n"
          ],
          "name": "stdout"
        }
      ]
    },
    {
      "metadata": {
        "id": "iYSiZy88EYk-",
        "colab_type": "code",
        "outputId": "1733ab74-937e-447b-aa5d-2c1c0235fb75",
        "colab": {
          "base_uri": "https://localhost:8080/",
          "height": 52
        }
      },
      "cell_type": "code",
      "source": [
        "print(d1.get(\"Name\"))\n",
        "print(d1.get(\"name\",\"Smith\"))\n"
      ],
      "execution_count": 0,
      "outputs": [
        {
          "output_type": "stream",
          "text": [
            "bob\n",
            "Smith\n"
          ],
          "name": "stdout"
        }
      ]
    },
    {
      "metadata": {
        "id": "rmSi_RnGE0Om",
        "colab_type": "code",
        "outputId": "fa71c6a7-e9fb-46e7-d76f-d4274d3e6f73",
        "colab": {
          "base_uri": "https://localhost:8080/",
          "height": 34
        }
      },
      "cell_type": "code",
      "source": [
        "d2.setdefault(3,\"third\")\n",
        "print(d2)"
      ],
      "execution_count": 0,
      "outputs": [
        {
          "output_type": "stream",
          "text": [
            "{1: 'First', 2: 'Second', 3: 'third'}\n"
          ],
          "name": "stdout"
        }
      ]
    },
    {
      "metadata": {
        "id": "LlD6DUiSFATK",
        "colab_type": "code",
        "outputId": "36abef89-45fa-4a7b-9857-eaf47529963e",
        "colab": {
          "base_uri": "https://localhost:8080/",
          "height": 34
        }
      },
      "cell_type": "code",
      "source": [
        "d2.setdefault(3,\"other element\")\n",
        "print(d2)"
      ],
      "execution_count": 0,
      "outputs": [
        {
          "output_type": "stream",
          "text": [
            "{1: 'First', 2: 'Second', 3: 'third'}\n"
          ],
          "name": "stdout"
        }
      ]
    },
    {
      "metadata": {
        "id": "ceQebJbQTT4a",
        "colab_type": "text"
      },
      "cell_type": "markdown",
      "source": [
        "# 4- Sets"
      ]
    },
    {
      "metadata": {
        "id": "YIqHhRC01guw",
        "colab_type": "text"
      },
      "cell_type": "markdown",
      "source": [
        "*A **set** is a list of **distinct** values "
      ]
    },
    {
      "metadata": {
        "id": "Ib2bs-461YSW",
        "colab_type": "code",
        "outputId": "30ce2bbb-9e0c-4d8c-9c49-d511fc79bf23",
        "colab": {
          "base_uri": "https://localhost:8080/",
          "height": 86
        }
      },
      "cell_type": "code",
      "source": [
        "l1=list(range(2))+list(range(2))\n",
        "s1=set(l1)\n",
        "print(\"l1=\",l1)\n",
        "print(\"s1=\",s1)\n",
        "s1.add(3);print(s1)\n",
        "s2=set(list(range(1,3)))\n",
        "print(s1.isdisjoint(s2))"
      ],
      "execution_count": 0,
      "outputs": [
        {
          "output_type": "stream",
          "text": [
            "l1= [0, 1, 0, 1]\n",
            "s1= {0, 1}\n",
            "{0, 1, 3}\n",
            "False\n"
          ],
          "name": "stdout"
        }
      ]
    },
    {
      "metadata": {
        "id": "Vc0D8FOFNFPi",
        "colab_type": "code",
        "outputId": "6243a760-fec7-4515-9a74-8778edda8e86",
        "colab": {
          "base_uri": "https://localhost:8080/",
          "height": 34
        }
      },
      "cell_type": "code",
      "source": [
        "print(s1 & s2)"
      ],
      "execution_count": 0,
      "outputs": [
        {
          "output_type": "stream",
          "text": [
            "{1}\n"
          ],
          "name": "stdout"
        }
      ]
    },
    {
      "metadata": {
        "id": "c5r1qaUmNmlY",
        "colab_type": "code",
        "outputId": "7435f10e-9ea4-4879-a5be-05ef9da33baa",
        "colab": {
          "base_uri": "https://localhost:8080/",
          "height": 52
        }
      },
      "cell_type": "code",
      "source": [
        "print(s1-s2)\n",
        "print(s1<=s2)"
      ],
      "execution_count": 0,
      "outputs": [
        {
          "output_type": "stream",
          "text": [
            "{0, 3}\n",
            "False\n"
          ],
          "name": "stdout"
        }
      ]
    },
    {
      "metadata": {
        "id": "THnBgZLnTckU",
        "colab_type": "text"
      },
      "cell_type": "markdown",
      "source": [
        "# 5- Object Oriented Programming"
      ]
    },
    {
      "metadata": {
        "id": "bvtSpIOOFd7S",
        "colab_type": "text"
      },
      "cell_type": "markdown",
      "source": [
        "* In Python, we can define “**classes**”: a defined prototype that encapsulates **data** and the **functions** to operate on them.\n",
        "\n",
        "* An **instance** of a class is called an “**object**”. We already used objects when we used **lists**, **sets** and **dictionaries**."
      ]
    },
    {
      "metadata": {
        "id": "mraUsz2v1tsG",
        "colab_type": "code",
        "outputId": "85ca9711-8c8c-4319-dfe6-e2ded2c3fb6e",
        "colab": {
          "base_uri": "https://localhost:8080/",
          "height": 295
        }
      },
      "cell_type": "code",
      "source": [
        "#definition of class MyTable\n",
        "\n",
        "class MyTable:\n",
        "  l1=0\n",
        "  def __init__(self,name,length=0):\n",
        "    self.length=length\n",
        "    self.name=name\n",
        "    self.myList=[None for _ in  range(length)]\n",
        "    \n",
        "   # to be sure that the lenght represents the actual list length\n",
        "  def validL(self):\n",
        "    self.length=len(self.myList)\n",
        "    \n",
        " # print the type of the list\n",
        "  def myType(self):\n",
        "    print(\"I am a TABLE 1 \")    \n",
        "  \n",
        "  # insert doesn't accept negative values or values greater than length\n",
        "  def insert (self,ind,val):\n",
        "    self.validL()\n",
        "    if ind >= self.length :\n",
        "      print(\"The given index: \"+str(ind)+ \n",
        "            \" exceeds the table length: \"+str(self.length))\n",
        "    elif ind < 0:\n",
        "      print(\"The given index: \"+str(ind)+\" is negative\")\n",
        "    else:\n",
        "      self.myList.insert(ind,val)\n",
        "      print(\"The value has been inserted at the index\"+str(ind) )\n",
        "      \n",
        "     \n",
        "  # print myList and the length attribute    \n",
        "  def printme(self):\n",
        "    self.validL()\n",
        "    print(self.name+\" (\"+str(self.length)+\"): \",end=\" \")\n",
        "    for i in self.myList:\n",
        "      print (i,end=\" \")\n",
        "    print(\" \")\n",
        "    \n",
        "   # append a new element at the end of the \n",
        "  def add (self,val=None):\n",
        "    self.validL()\n",
        "    self.myList=self.myList +[val]\n",
        "    self.length=self.length+1\n",
        "    \n",
        "\n",
        "    \n",
        "    # MyTable2 inherit MyTable1 functions\n",
        "  \n",
        "class MyTable2(MyTable):\n",
        "  def myType(self):\n",
        "    print(\"I am a TABLE 2 \")\n",
        "    \n",
        "class MyTable3(MyTable):\n",
        "  def myType(self):\n",
        "    print(\"I am a TABLE 3 \")\n",
        "  \n",
        "print(\"######\")\n",
        "a= MyTable(\"table1\",3)\n",
        "a.insert(22,\"B\")\n",
        "a.insert(2,\"A\")\n",
        "a.printme()\n",
        "a.add(2)\n",
        "a.printme()\n",
        "a.add()\n",
        "a.printme()\n",
        "a.length=8\n",
        "print(\"a.length=\",a.length)\n",
        "a.printme()\n",
        "print(\"######\")\n",
        "b=MyTable(\"table2\",4)\n",
        "b.printme()\n",
        "print(\"######\")\n",
        "c=MyTable2(\"table2\",3)\n",
        "c.printme()\n",
        "d=MyTable3(\"table3\")\n",
        "l=[a,b,c,d]\n",
        "for i in l:\n",
        "  i.myType()\n",
        "\n",
        "    "
      ],
      "execution_count": 0,
      "outputs": [
        {
          "output_type": "stream",
          "text": [
            "######\n",
            "The given index: 22 exceeds the table length: 3\n",
            "The value has been inserted at the index2\n",
            "table1 (4):  None None A None  \n",
            "table1 (5):  None None A None 2  \n",
            "table1 (6):  None None A None 2 None  \n",
            "a.length= 8\n",
            "table1 (6):  None None A None 2 None  \n",
            "######\n",
            "table2 (4):  None None None None  \n",
            "######\n",
            "table2 (3):  None None None  \n",
            "I am a TABLE 1 \n",
            "I am a TABLE 1 \n",
            "I am a TABLE 2 \n",
            "I am a TABLE 3 \n"
          ],
          "name": "stdout"
        }
      ]
    },
    {
      "metadata": {
        "id": "IDq7onmDTlnE",
        "colab_type": "text"
      },
      "cell_type": "markdown",
      "source": [
        "# 6- Regular expressions"
      ]
    },
    {
      "metadata": {
        "id": "7qACPsT84ePS",
        "colab_type": "text"
      },
      "cell_type": "markdown",
      "source": [
        "* A **regular expression** is a** description** of **pattern** of text"
      ]
    },
    {
      "metadata": {
        "id": "Bd8B1ZTw3I5Q",
        "colab_type": "code",
        "outputId": "1ea115e4-a178-4981-f945-ddf9c7063a9d",
        "colab": {
          "base_uri": "https://localhost:8080/",
          "height": 104
        }
      },
      "cell_type": "code",
      "source": [
        "import re\n",
        "#creating a regex pattern object\n",
        "myReg=re.compile(r\"([0-2][1-9]|30|31)-(0[1-9]|1[0-2])-(19[7-9][0-9]|2[0-9]{3})\")\n",
        "myReg2=re.compile(r\"[a]+\")\n",
        "\n",
        "print(myReg.findall(\"It starts from 11-02-2018 and ends at 25-09-2029.\"))\n",
        "res=myReg.search(\"It starts from 11-02-2018* and ends at 25-09-2029.\")\n",
        "print(\"*\"+res.group()+\"*\")\n",
        "print(myReg.match(\"It starts from 11-02-2018 and ends at 25-09-2029.\"))\n",
        "print(myReg2.findall(\"a string aa and aaaa\"))\n",
        "print(myReg2.findall(\"my string\"))\n"
      ],
      "execution_count": 0,
      "outputs": [
        {
          "output_type": "stream",
          "text": [
            "[('11', '02', '2018'), ('25', '09', '2029')]\n",
            "*11-02-2018*\n",
            "None\n",
            "['a', 'aa', 'a', 'aaaa']\n",
            "[]\n"
          ],
          "name": "stdout"
        }
      ]
    },
    {
      "metadata": {
        "id": "Hc_y1GsGTvCO",
        "colab_type": "text"
      },
      "cell_type": "markdown",
      "source": [
        "# 7- System programming"
      ]
    },
    {
      "metadata": {
        "id": "FBHeDcF8Q_lE",
        "colab_type": "text"
      },
      "cell_type": "markdown",
      "source": [
        "* We will **focus** on **system programming** in **Colab**.\n",
        "* Some Python functions can be **simply** done on  **Colab**. \n",
        "\n",
        "* For example the **bash commands**: they can be used as they are by prefixing them by **“!”** or **\"%\"**:  \n",
        "!ls, !mkdir, !git, !pip, %cd … etc\n",
        "\n",
        "\n",
        "\n"
      ]
    },
    {
      "metadata": {
        "id": "Wzxd9XcSSIK0",
        "colab_type": "text"
      },
      "cell_type": "markdown",
      "source": [
        "* First way of executing using a **user** defined **script**"
      ]
    },
    {
      "metadata": {
        "id": "7Qm_v1KUEbZ6",
        "colab_type": "code",
        "outputId": "768b9114-558c-417b-ea77-779f1985a0ed",
        "colab": {
          "resources": {
            "http://localhost:8080/nbextensions/google.colab/files.js": {
              "data": "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",
              "ok": true,
              "headers": [
                [
                  "content-type",
                  "application/javascript"
                ]
              ],
              "status": 200,
              "status_text": "OK"
            }
          },
          "base_uri": "https://localhost:8080/",
          "height": 61
        }
      },
      "cell_type": "code",
      "source": [
        "\n",
        "import subprocess\n",
        "p = subprocess.run([\"ls\", \"-l\"])\n",
        "!ls\n",
        "from google.colab import files\n",
        "myFile= files.upload()\n",
        " "
      ],
      "execution_count": 0,
      "outputs": [
        {
          "output_type": "stream",
          "text": [
            "drive  sample_data\n"
          ],
          "name": "stdout"
        },
        {
          "output_type": "display_data",
          "data": {
            "text/html": [
              "\n",
              "     <input type=\"file\" id=\"files-b6530269-83ab-421d-8501-7a7141f2c9b9\" name=\"files[]\" multiple disabled />\n",
              "     <output id=\"result-b6530269-83ab-421d-8501-7a7141f2c9b9\">\n",
              "      Upload widget is only available when the cell has been executed in the\n",
              "      current browser session. Please rerun this cell to enable.\n",
              "      </output>\n",
              "      <script src=\"/nbextensions/google.colab/files.js\"></script> "
            ],
            "text/plain": [
              "<IPython.core.display.HTML object>"
            ]
          },
          "metadata": {
            "tags": []
          }
        }
      ]
    },
    {
      "metadata": {
        "id": "XOn7raV5FNqi",
        "colab_type": "code",
        "outputId": "a0082a91-25f8-4e38-e283-0a95098f04e1",
        "colab": {
          "base_uri": "https://localhost:8080/",
          "height": 52
        }
      },
      "cell_type": "code",
      "source": [
        "import Hello as h\n",
        "h.sayHello()"
      ],
      "execution_count": 0,
      "outputs": [
        {
          "output_type": "stream",
          "text": [
            "Hello.\n",
            " Welcome to School Of AI!\n"
          ],
          "name": "stdout"
        }
      ]
    },
    {
      "metadata": {
        "id": "PPNbirBqSdio",
        "colab_type": "text"
      },
      "cell_type": "markdown",
      "source": [
        "* second way of executing using a **user** defined **script**:\n",
        "* We have to mount Google Drive"
      ]
    },
    {
      "metadata": {
        "id": "PayMjYGRAQrS",
        "colab_type": "code",
        "outputId": "268eb02b-3253-4373-dfe3-64a33dec2754",
        "colab": {
          "base_uri": "https://localhost:8080/",
          "height": 124
        }
      },
      "cell_type": "code",
      "source": [
        "\n",
        "\n",
        "# mounting google drive\n",
        "\n",
        "from google.colab import drive\n",
        "drive.mount('/content/drive')\n"
      ],
      "execution_count": 0,
      "outputs": [
        {
          "output_type": "stream",
          "text": [
            "Go to this URL in a browser: https://accounts.google.com/o/oauth2/auth?client_id=947318989803-6bn6qk8qdgf4n4g3pfee6491hc0brc4i.apps.googleusercontent.com&redirect_uri=urn%3Aietf%3Awg%3Aoauth%3A2.0%3Aoob&scope=email%20https%3A%2F%2Fwww.googleapis.com%2Fauth%2Fdocs.test%20https%3A%2F%2Fwww.googleapis.com%2Fauth%2Fdrive%20https%3A%2F%2Fwww.googleapis.com%2Fauth%2Fdrive.photos.readonly%20https%3A%2F%2Fwww.googleapis.com%2Fauth%2Fpeopleapi.readonly&response_type=code\n",
            "\n",
            "Enter your authorization code:\n",
            "··········\n",
            "Mounted at /content/drive\n"
          ],
          "name": "stdout"
        }
      ]
    },
    {
      "metadata": {
        "id": "AJ9OEzjgqVsQ",
        "colab_type": "code",
        "colab": {}
      },
      "cell_type": "code",
      "source": [
        "\n",
        "import sys\n",
        "\n",
        "sys.path.append(\"drive/My Drive/myScripts/\")"
      ],
      "execution_count": 0,
      "outputs": []
    },
    {
      "metadata": {
        "id": "pFj3WtlpHSUU",
        "colab_type": "code",
        "outputId": "780ed690-4107-4948-a191-91cf862af700",
        "colab": {
          "base_uri": "https://localhost:8080/",
          "height": 69
        }
      },
      "cell_type": "code",
      "source": [
        "import Quit as me\n",
        "\n",
        "me.quit()\n",
        "\n",
        "!python3 \"drive/My Drive/myScripts/Quit.py\"\n",
        "\n"
      ],
      "execution_count": 0,
      "outputs": [
        {
          "output_type": "stream",
          "text": [
            "Have a nice day!\n",
            "This is the execution of Quit.py as a main script\n",
            "\n"
          ],
          "name": "stdout"
        }
      ]
    },
    {
      "metadata": {
        "id": "JQhJMYtufAbk",
        "colab_type": "code",
        "outputId": "b518403f-632f-49f2-806b-e66d638ef12d",
        "colab": {
          "base_uri": "https://localhost:8080/",
          "height": 225
        }
      },
      "cell_type": "code",
      "source": [
        "#printing the script content using cat command\n",
        "print(\"---------------\")\n",
        "!cat \"drive/My Drive/myScripts/Quit.py\"\n",
        "\n",
        "#printing the script content using path.join an open functions\n",
        "import os\n",
        "\n",
        "print(\"\\n---------------\")\n",
        "myFile=os.path.join(\"drive\",\"My Drive\",\"myScripts\",\"Quit.py\")\n",
        "f=open(myFile,'r')\n",
        "lines=f.readlines()\n",
        "f.close()\n",
        "for l in lines:\n",
        "  print(l,end=\"\")"
      ],
      "execution_count": 0,
      "outputs": [
        {
          "output_type": "stream",
          "text": [
            "---------------\n",
            "def quit():\n",
            "  print (\"Have a nice day!\")\n",
            "\n",
            "if __name__ == \"__main__\":\n",
            " print(\"This is the execution of Quit.py as a main script\\n\")\n",
            "---------------\n",
            "def quit():\n",
            "  print (\"Have a nice day!\")\n",
            "\n",
            "if __name__ == \"__main__\":\n",
            " print(\"This is the execution of Quit.py as a main script\\n\")"
          ],
          "name": "stdout"
        }
      ]
    }
  ]
}