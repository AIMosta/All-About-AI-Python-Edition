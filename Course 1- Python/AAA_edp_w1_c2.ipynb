{
  "nbformat": 4,
  "nbformat_minor": 0,
  "metadata": {
    "colab": {
      "name": "AAA-edp-w1-c2.ipynb",
      "version": "0.3.2",
      "provenance": [],
      "collapsed_sections": [],
      "toc_visible": true,
      "include_colab_link": true
    },
    "kernelspec": {
      "name": "python3",
      "display_name": "Python 3"
    }
  },
  "cells": [
    {
      "cell_type": "markdown",
      "metadata": {
        "id": "view-in-github",
        "colab_type": "text"
      },
      "source": [
        "<a href=\"https://colab.research.google.com/github/AIMosta/All-About-AI-Python-Edition/blob/master/Course%201-%20Python/AAA_edp_w1_c2.ipynb\" target=\"_parent\"><img src=\"https://colab.research.google.com/assets/colab-badge.svg\" alt=\"Open In Colab\"/></a>"
      ]
    },
    {
      "metadata": {
        "id": "ZxiwV8d7oqxO",
        "colab_type": "text"
      },
      "cell_type": "markdown",
      "source": [
        "<img src=\"https://docs.google.com/uc?export=download&id=1ap18raVTUCSJeGzTLz9kViroFGvTknrV\">\n",
        "# Basics in Python"
      ]
    },
    {
      "metadata": {
        "id": "Dq6CEoS3Do7g",
        "colab_type": "text"
      },
      "cell_type": "markdown",
      "source": [
        "# 1- Basic Operations and variables"
      ]
    },
    {
      "metadata": {
        "id": "iouItiuGoRRu",
        "colab_type": "text"
      },
      "cell_type": "markdown",
      "source": [
        "\n",
        "\n",
        "* To perform simple operations, you just have to type them:\n",
        "\n",
        "\n",
        "\n"
      ]
    },
    {
      "metadata": {
        "id": "Y4DTChLvpe6e",
        "colab_type": "code",
        "outputId": "c7613d98-9104-4673-d57f-5485a2a3c1ba",
        "colab": {
          "base_uri": "https://localhost:8080/",
          "height": 34
        }
      },
      "cell_type": "code",
      "source": [
        "11 + 8"
      ],
      "execution_count": 0,
      "outputs": [
        {
          "output_type": "execute_result",
          "data": {
            "text/plain": [
              "19"
            ]
          },
          "metadata": {
            "tags": []
          },
          "execution_count": 6
        }
      ]
    },
    {
      "metadata": {
        "id": "P-pxIAORpwp6",
        "colab_type": "code",
        "outputId": "555bc09a-174f-4ca0-e66b-27602642df32",
        "colab": {
          "base_uri": "https://localhost:8080/",
          "height": 34
        }
      },
      "cell_type": "code",
      "source": [
        "25 / 2"
      ],
      "execution_count": 0,
      "outputs": [
        {
          "output_type": "execute_result",
          "data": {
            "text/plain": [
              "12.5"
            ]
          },
          "metadata": {
            "tags": []
          },
          "execution_count": 8
        }
      ]
    },
    {
      "metadata": {
        "id": "oJY6XBqNpVxa",
        "colab_type": "code",
        "outputId": "3ea96541-91e6-4d43-b040-0c9ba495b167",
        "colab": {
          "base_uri": "https://localhost:8080/",
          "height": 34
        }
      },
      "cell_type": "code",
      "source": [
        "25 // 2"
      ],
      "execution_count": 0,
      "outputs": [
        {
          "output_type": "execute_result",
          "data": {
            "text/plain": [
              "12"
            ]
          },
          "metadata": {
            "tags": []
          },
          "execution_count": 4
        }
      ]
    },
    {
      "metadata": {
        "id": "Q9tFDR31o52g",
        "colab_type": "code",
        "outputId": "85cdbee9-b1d8-41cf-962a-895fb57c29ea",
        "colab": {
          "base_uri": "https://localhost:8080/",
          "height": 34
        }
      },
      "cell_type": "code",
      "source": [
        "10 % 4"
      ],
      "execution_count": 0,
      "outputs": [
        {
          "output_type": "execute_result",
          "data": {
            "text/plain": [
              "2"
            ]
          },
          "metadata": {
            "tags": []
          },
          "execution_count": 3
        }
      ]
    },
    {
      "metadata": {
        "id": "7c74jXKMgsjs",
        "colab_type": "code",
        "outputId": "d4ce4316-8ad7-4ab6-b013-60a6ac71a0c7",
        "colab": {
          "base_uri": "https://localhost:8080/",
          "height": 34
        }
      },
      "cell_type": "code",
      "source": [
        "2 ** 3"
      ],
      "execution_count": 0,
      "outputs": [
        {
          "output_type": "execute_result",
          "data": {
            "text/plain": [
              "8"
            ]
          },
          "metadata": {
            "tags": []
          },
          "execution_count": 13
        }
      ]
    },
    {
      "metadata": {
        "id": "ByfOA88nCE1C",
        "colab_type": "code",
        "outputId": "37697252-e168-409d-e4e1-d984a129848e",
        "colab": {
          "base_uri": "https://localhost:8080/",
          "height": 34
        }
      },
      "cell_type": "code",
      "source": [
        "5 > 3"
      ],
      "execution_count": 0,
      "outputs": [
        {
          "output_type": "execute_result",
          "data": {
            "text/plain": [
              "True"
            ]
          },
          "metadata": {
            "tags": []
          },
          "execution_count": 24
        }
      ]
    },
    {
      "metadata": {
        "id": "kEMJuOzqCLuM",
        "colab_type": "code",
        "outputId": "36a1b9dd-e72b-4426-f917-638a188a3a17",
        "colab": {
          "base_uri": "https://localhost:8080/",
          "height": 34
        }
      },
      "cell_type": "code",
      "source": [
        "5 != 3"
      ],
      "execution_count": 0,
      "outputs": [
        {
          "output_type": "execute_result",
          "data": {
            "text/plain": [
              "True"
            ]
          },
          "metadata": {
            "tags": []
          },
          "execution_count": 25
        }
      ]
    },
    {
      "metadata": {
        "id": "uPSvvsPiCZL4",
        "colab_type": "code",
        "outputId": "7f4d7f33-9a78-4689-94a4-c25bf8699903",
        "colab": {
          "base_uri": "https://localhost:8080/",
          "height": 34
        }
      },
      "cell_type": "code",
      "source": [
        "5 == 3"
      ],
      "execution_count": 0,
      "outputs": [
        {
          "output_type": "execute_result",
          "data": {
            "text/plain": [
              "False"
            ]
          },
          "metadata": {
            "tags": []
          },
          "execution_count": 29
        }
      ]
    },
    {
      "metadata": {
        "id": "QQHE1gX3Cnl4",
        "colab_type": "code",
        "outputId": "d6cb075a-1836-44d8-a14d-643f0b2ab5df",
        "colab": {
          "base_uri": "https://localhost:8080/",
          "height": 34
        }
      },
      "cell_type": "code",
      "source": [
        "not (5==3)"
      ],
      "execution_count": 0,
      "outputs": [
        {
          "output_type": "execute_result",
          "data": {
            "text/plain": [
              "True"
            ]
          },
          "metadata": {
            "tags": []
          },
          "execution_count": 30
        }
      ]
    },
    {
      "metadata": {
        "id": "tPHzvXS8C3nG",
        "colab_type": "code",
        "outputId": "342fb325-1907-4d74-b98b-797eed7cb5ac",
        "colab": {
          "base_uri": "https://localhost:8080/",
          "height": 34
        }
      },
      "cell_type": "code",
      "source": [
        "(5>3) and (2 >3)"
      ],
      "execution_count": 0,
      "outputs": [
        {
          "output_type": "execute_result",
          "data": {
            "text/plain": [
              "False"
            ]
          },
          "metadata": {
            "tags": []
          },
          "execution_count": 31
        }
      ]
    },
    {
      "metadata": {
        "id": "ee6UVOZGC-Mc",
        "colab_type": "code",
        "outputId": "2191a57d-a9bd-4bfa-c08a-a06ab07760a5",
        "colab": {
          "base_uri": "https://localhost:8080/",
          "height": 34
        }
      },
      "cell_type": "code",
      "source": [
        "(5>3) or (2 >3)"
      ],
      "execution_count": 0,
      "outputs": [
        {
          "output_type": "execute_result",
          "data": {
            "text/plain": [
              "True"
            ]
          },
          "metadata": {
            "tags": []
          },
          "execution_count": 32
        }
      ]
    },
    {
      "metadata": {
        "id": "qiAw6CTdpnA0",
        "colab_type": "text"
      },
      "cell_type": "markdown",
      "source": [
        "\n",
        "\n",
        "*   The evaluation of an expressions takes into account the \"**precedence**\" of the operators in that expression:\n",
        "\n"
      ]
    },
    {
      "metadata": {
        "id": "zfcCLdNluP2q",
        "colab_type": "code",
        "outputId": "c8c81251-8b7e-4add-d4ed-3f5e5102d86c",
        "colab": {
          "base_uri": "https://localhost:8080/",
          "height": 34
        }
      },
      "cell_type": "code",
      "source": [
        "5 +3 *6 ** (-1+1)"
      ],
      "execution_count": 0,
      "outputs": [
        {
          "output_type": "execute_result",
          "data": {
            "text/plain": [
              "8"
            ]
          },
          "metadata": {
            "tags": []
          },
          "execution_count": 23
        }
      ]
    },
    {
      "metadata": {
        "id": "zmXWRwqKwB2g",
        "colab_type": "text"
      },
      "cell_type": "markdown",
      "source": [
        "* These values can be assigned to \"**variables**\":"
      ]
    },
    {
      "metadata": {
        "id": "OWYd-vuYwWCC",
        "colab_type": "code",
        "outputId": "df9703a1-6c28-48ef-ea7e-70f384d62d05",
        "colab": {
          "base_uri": "https://localhost:8080/",
          "height": 34
        }
      },
      "cell_type": "code",
      "source": [
        "a = 3\n",
        "b = 5\n",
        "c = a - b\n",
        "c"
      ],
      "execution_count": 0,
      "outputs": [
        {
          "output_type": "execute_result",
          "data": {
            "text/plain": [
              "-2"
            ]
          },
          "metadata": {
            "tags": []
          },
          "execution_count": 16
        }
      ]
    },
    {
      "metadata": {
        "id": "B28nGQlVwzEq",
        "colab_type": "text"
      },
      "cell_type": "markdown",
      "source": [
        "* You can assing one value to multiple variables:"
      ]
    },
    {
      "metadata": {
        "id": "3zADWaBDw6Ny",
        "colab_type": "code",
        "outputId": "aed9a88a-2899-450a-b20c-3eda1b9fdeda",
        "colab": {
          "base_uri": "https://localhost:8080/",
          "height": 34
        }
      },
      "cell_type": "code",
      "source": [
        "g = h = j = 5.31\n",
        "\n",
        "h"
      ],
      "execution_count": 0,
      "outputs": [
        {
          "output_type": "execute_result",
          "data": {
            "text/plain": [
              "5.31"
            ]
          },
          "metadata": {
            "tags": []
          },
          "execution_count": 34
        }
      ]
    },
    {
      "metadata": {
        "id": "qN1OydyJwbV8",
        "colab_type": "code",
        "colab": {}
      },
      "cell_type": "code",
      "source": [
        ""
      ],
      "execution_count": 0,
      "outputs": []
    },
    {
      "metadata": {
        "id": "2ZHXV6VnxGRk",
        "colab_type": "text"
      },
      "cell_type": "markdown",
      "source": [
        "* You can assign multiple values to multiple variables:"
      ]
    },
    {
      "metadata": {
        "id": "6C7tlrNUxSqi",
        "colab_type": "code",
        "outputId": "94175b48-0a54-4530-9b33-752a0fdb545b",
        "colab": {
          "base_uri": "https://localhost:8080/",
          "height": 34
        }
      },
      "cell_type": "code",
      "source": [
        "str1 , str2 , num1 = \"Hello\" , \"World!\" , -3\n",
        "str2"
      ],
      "execution_count": 0,
      "outputs": [
        {
          "output_type": "execute_result",
          "data": {
            "text/plain": [
              "'World!'"
            ]
          },
          "metadata": {
            "tags": []
          },
          "execution_count": 35
        }
      ]
    },
    {
      "metadata": {
        "id": "gsrhWM3ED2wc",
        "colab_type": "text"
      },
      "cell_type": "markdown",
      "source": [
        "# 2- Basic Types"
      ]
    },
    {
      "metadata": {
        "id": "vZWWUAvxurms",
        "colab_type": "text"
      },
      "cell_type": "markdown",
      "source": [
        "\n",
        "\n",
        "*   A number in Python can be:\n",
        " \n",
        "\n",
        "      * Integer\n",
        "      * Float\n",
        "      * Complex\n",
        "      \n",
        "*   Complex Numbers are created using the letter \"**j**\" or \"**J**\" to denote the imaginary part of the Complex number.\n",
        "\n",
        "* If **a** is a complex number:\n",
        "  \n",
        "  \n",
        "\n",
        "    *   **a.real**  is its real part\n",
        "  *   **a.imag** is its imaginary part\n",
        "\n",
        "\n",
        "\n"
      ]
    },
    {
      "metadata": {
        "id": "p5Ej1uoIuq1g",
        "colab_type": "code",
        "outputId": "ccb0f434-6bce-4f7e-85c5-537f18d8b7b7",
        "colab": {
          "base_uri": "https://localhost:8080/",
          "height": 34
        }
      },
      "cell_type": "code",
      "source": [
        "a = 4.3 + 5j\n",
        "a"
      ],
      "execution_count": 0,
      "outputs": [
        {
          "output_type": "execute_result",
          "data": {
            "text/plain": [
              "(4.3+5j)"
            ]
          },
          "metadata": {
            "tags": []
          },
          "execution_count": 37
        }
      ]
    },
    {
      "metadata": {
        "id": "A4EhZ6FhwZu0",
        "colab_type": "code",
        "outputId": "10c237b2-44ae-43a5-91ef-508a1c998551",
        "colab": {
          "base_uri": "https://localhost:8080/",
          "height": 34
        }
      },
      "cell_type": "code",
      "source": [
        "a.real"
      ],
      "execution_count": 0,
      "outputs": [
        {
          "output_type": "execute_result",
          "data": {
            "text/plain": [
              "4.3"
            ]
          },
          "metadata": {
            "tags": []
          },
          "execution_count": 38
        }
      ]
    },
    {
      "metadata": {
        "id": "rrZWQaDGwiae",
        "colab_type": "code",
        "outputId": "062ffec0-1a77-4105-9963-45e625f035b9",
        "colab": {
          "base_uri": "https://localhost:8080/",
          "height": 34
        }
      },
      "cell_type": "code",
      "source": [
        "a.imag"
      ],
      "execution_count": 0,
      "outputs": [
        {
          "output_type": "execute_result",
          "data": {
            "text/plain": [
              "5.0"
            ]
          },
          "metadata": {
            "tags": []
          },
          "execution_count": 39
        }
      ]
    },
    {
      "metadata": {
        "id": "T2LHa6Q_xfUw",
        "colab_type": "text"
      },
      "cell_type": "markdown",
      "source": [
        "* Strings are text values written between **quotes**\n",
        "* These quotes can be **simple**, **double**, or **triple**"
      ]
    },
    {
      "metadata": {
        "id": "8aTdYu6cyQDG",
        "colab_type": "code",
        "outputId": "ace17d79-55a5-4595-ce1e-772e35cacada",
        "colab": {
          "base_uri": "https://localhost:8080/",
          "height": 34
        }
      },
      "cell_type": "code",
      "source": [
        "S1='Simple Quoted String'\n",
        "S2=\"Double Quoted String\"\n",
        "S3='''Triple Quoted String with a simple quote.\n",
        "Can be written with double quotes.\n",
        "Contatins multiple lines'''\n",
        "S1"
      ],
      "execution_count": 0,
      "outputs": [
        {
          "output_type": "execute_result",
          "data": {
            "text/plain": [
              "'Simple Quoted String'"
            ]
          },
          "metadata": {
            "tags": []
          },
          "execution_count": 56
        }
      ]
    },
    {
      "metadata": {
        "id": "xrwsNoMyz0pu",
        "colab_type": "code",
        "outputId": "67004783-cfa4-49b8-c245-8656853b3f50",
        "colab": {
          "base_uri": "https://localhost:8080/",
          "height": 34
        }
      },
      "cell_type": "code",
      "source": [
        "S2"
      ],
      "execution_count": 0,
      "outputs": [
        {
          "output_type": "execute_result",
          "data": {
            "text/plain": [
              "'Double Quoted String'"
            ]
          },
          "metadata": {
            "tags": []
          },
          "execution_count": 54
        }
      ]
    },
    {
      "metadata": {
        "id": "D9-Qzf6gz2dO",
        "colab_type": "code",
        "outputId": "7f1a1880-21f6-4760-e1d8-27f4d22fa702",
        "colab": {
          "base_uri": "https://localhost:8080/",
          "height": 34
        }
      },
      "cell_type": "code",
      "source": [
        "S3"
      ],
      "execution_count": 0,
      "outputs": [
        {
          "output_type": "execute_result",
          "data": {
            "text/plain": [
              "'Triple Quoted String with a simple quote.\\nCan be written with double quotes.\\nContatins multiple lines'"
            ]
          },
          "metadata": {
            "tags": []
          },
          "execution_count": 58
        }
      ]
    },
    {
      "metadata": {
        "id": "GC_gBKuY0Mx6",
        "colab_type": "code",
        "outputId": "50319e59-9f47-4ace-ac28-356225e8f4cd",
        "colab": {
          "base_uri": "https://localhost:8080/",
          "height": 69
        }
      },
      "cell_type": "code",
      "source": [
        "print(S3)"
      ],
      "execution_count": 0,
      "outputs": [
        {
          "output_type": "stream",
          "text": [
            "Triple Quoted String with a simple quote.\n",
            "Can be written with double quotes.\n",
            "Contatins multiple lines\n"
          ],
          "name": "stdout"
        }
      ]
    },
    {
      "metadata": {
        "id": "YIqHhRC01guw",
        "colab_type": "text"
      },
      "cell_type": "markdown",
      "source": [
        "* With Strings, we can perform **concatenation** and **replication** operations"
      ]
    },
    {
      "metadata": {
        "id": "Ib2bs-461YSW",
        "colab_type": "code",
        "outputId": "c01c327d-209c-4c85-ae94-bcb6dac30187",
        "colab": {
          "base_uri": "https://localhost:8080/",
          "height": 34
        }
      },
      "cell_type": "code",
      "source": [
        "S1 +\" and a  \" + S2"
      ],
      "execution_count": 0,
      "outputs": [
        {
          "output_type": "execute_result",
          "data": {
            "text/plain": [
              "'Simple Quoted String and a  Double Quoted String'"
            ]
          },
          "metadata": {
            "tags": []
          },
          "execution_count": 62
        }
      ]
    },
    {
      "metadata": {
        "id": "mraUsz2v1tsG",
        "colab_type": "code",
        "outputId": "fb88dba2-2004-4684-a3a5-1ecfbd8b9b30",
        "colab": {
          "base_uri": "https://localhost:8080/",
          "height": 34
        }
      },
      "cell_type": "code",
      "source": [
        "S2 * 2"
      ],
      "execution_count": 0,
      "outputs": [
        {
          "output_type": "execute_result",
          "data": {
            "text/plain": [
              "'Double Quoted StringDouble Quoted String'"
            ]
          },
          "metadata": {
            "tags": []
          },
          "execution_count": 63
        }
      ]
    },
    {
      "metadata": {
        "id": "7qACPsT84ePS",
        "colab_type": "text"
      },
      "cell_type": "markdown",
      "source": [
        "* Boolean  have only two values: **True** and **False**\n",
        "* In a numeric context: **True** behaves like 1 and ** False** like 0"
      ]
    },
    {
      "metadata": {
        "id": "Bd8B1ZTw3I5Q",
        "colab_type": "code",
        "outputId": "80c44d0a-b7ea-486b-f9a0-c0494eed954d",
        "colab": {
          "base_uri": "https://localhost:8080/",
          "height": 34
        }
      },
      "cell_type": "code",
      "source": [
        "True + 3"
      ],
      "execution_count": 0,
      "outputs": [
        {
          "output_type": "execute_result",
          "data": {
            "text/plain": [
              "4"
            ]
          },
          "metadata": {
            "tags": []
          },
          "execution_count": 66
        }
      ]
    },
    {
      "metadata": {
        "id": "423iDV2G3NlI",
        "colab_type": "code",
        "outputId": "3e42079c-f63c-4f90-c970-6219fe83715b",
        "colab": {
          "base_uri": "https://localhost:8080/",
          "height": 34
        }
      },
      "cell_type": "code",
      "source": [
        "False + 3"
      ],
      "execution_count": 0,
      "outputs": [
        {
          "output_type": "execute_result",
          "data": {
            "text/plain": [
              "3"
            ]
          },
          "metadata": {
            "tags": []
          },
          "execution_count": 65
        }
      ]
    },
    {
      "metadata": {
        "id": "plWs6CrjEvR2",
        "colab_type": "text"
      },
      "cell_type": "markdown",
      "source": [
        "# 3- Functions and white space formatting"
      ]
    },
    {
      "metadata": {
        "id": "DYw-rakUFIyu",
        "colab_type": "text"
      },
      "cell_type": "markdown",
      "source": [
        "* Functions are a “**reusable**” block of code.\n",
        "\n",
        "* They can be “**built-in**” functions: already defined\n",
        "\n",
        "* They can be also “**user-defined**”: you can define your own functions."
      ]
    },
    {
      "metadata": {
        "id": "LkDLtoFu8qFe",
        "colab_type": "text"
      },
      "cell_type": "markdown",
      "source": [
        "* Some built-in functions:"
      ]
    },
    {
      "metadata": {
        "id": "IXxysdDU8v_s",
        "colab_type": "code",
        "outputId": "f60de3be-7b63-49bd-9d38-204007e5cccc",
        "colab": {
          "base_uri": "https://localhost:8080/",
          "height": 34
        }
      },
      "cell_type": "code",
      "source": [
        "print(S1,\"A simple string\")"
      ],
      "execution_count": 0,
      "outputs": [
        {
          "output_type": "stream",
          "text": [
            "Simple Quoted String A simple string\n"
          ],
          "name": "stdout"
        }
      ]
    },
    {
      "metadata": {
        "id": "9NHa4WuK9W0W",
        "colab_type": "code",
        "outputId": "1fb56017-88a7-4a2c-e85e-e0fa184cc3be",
        "colab": {
          "base_uri": "https://localhost:8080/",
          "height": 34
        }
      },
      "cell_type": "code",
      "source": [
        "len(S1)"
      ],
      "execution_count": 0,
      "outputs": [
        {
          "output_type": "execute_result",
          "data": {
            "text/plain": [
              "20"
            ]
          },
          "metadata": {
            "tags": []
          },
          "execution_count": 74
        }
      ]
    },
    {
      "metadata": {
        "id": "PXLQVnsdASzs",
        "colab_type": "code",
        "outputId": "f7b49d4e-e7c7-4ca7-9cbe-a16f612944cf",
        "colab": {
          "base_uri": "https://localhost:8080/",
          "height": 69
        }
      },
      "cell_type": "code",
      "source": [
        "j= input(\"Give je value of j:\\n\")\n",
        "print (\"j=\",j)\n"
      ],
      "execution_count": 0,
      "outputs": [
        {
          "output_type": "stream",
          "text": [
            "Give je value of j:\n",
            "12\n",
            "j= 12\n"
          ],
          "name": "stdout"
        }
      ]
    },
    {
      "metadata": {
        "id": "Rtdte-bFAqZS",
        "colab_type": "code",
        "outputId": "9789f768-08ed-4760-d73c-f3f9b1b316df",
        "colab": {
          "base_uri": "https://localhost:8080/",
          "height": 34
        }
      },
      "cell_type": "code",
      "source": [
        "floatoat(j)"
      ],
      "execution_count": 0,
      "outputs": [
        {
          "output_type": "execute_result",
          "data": {
            "text/plain": [
              "12.0"
            ]
          },
          "metadata": {
            "tags": []
          },
          "execution_count": 80
        }
      ]
    },
    {
      "metadata": {
        "id": "ga0XMTNACK0G",
        "colab_type": "code",
        "outputId": "3607bc21-ea21-43c7-ae0d-1d7c884883b3",
        "colab": {
          "base_uri": "https://localhost:8080/",
          "height": 34
        }
      },
      "cell_type": "code",
      "source": [
        "len(\"Simple Quoted String\")"
      ],
      "execution_count": 0,
      "outputs": [
        {
          "output_type": "execute_result",
          "data": {
            "text/plain": [
              "20"
            ]
          },
          "metadata": {
            "tags": []
          },
          "execution_count": 85
        }
      ]
    },
    {
      "metadata": {
        "id": "FBHeDcF8Q_lE",
        "colab_type": "text"
      },
      "cell_type": "markdown",
      "source": [
        "* An example of a **user defined** function:"
      ]
    },
    {
      "metadata": {
        "id": "p_Imj81DRDnK",
        "colab_type": "code",
        "outputId": "fb38704e-81c3-4017-9781-62a8ebf39dad",
        "colab": {
          "base_uri": "https://localhost:8080/",
          "height": 34
        }
      },
      "cell_type": "code",
      "source": [
        "def function_name(param):\n",
        "  print(\"This is the parameter of the function: \"+ param)\n",
        "function_name(\"here\")"
      ],
      "execution_count": 0,
      "outputs": [
        {
          "output_type": "stream",
          "text": [
            "This is the parameter of the function: here\n"
          ],
          "name": "stdout"
        }
      ]
    },
    {
      "metadata": {
        "id": "-SZJEy39RN0q",
        "colab_type": "code",
        "outputId": "c0a8b749-ff07-4dee-fdf0-c892f901a97f",
        "colab": {
          "base_uri": "https://localhost:8080/",
          "height": 34
        }
      },
      "cell_type": "code",
      "source": [
        "function_name(\"here\")"
      ],
      "execution_count": 0,
      "outputs": [
        {
          "output_type": "stream",
          "text": [
            "This is the parameter of the function: here\n"
          ],
          "name": "stdout"
        }
      ]
    },
    {
      "metadata": {
        "id": "9oEBHpmlTnx2",
        "colab_type": "text"
      },
      "cell_type": "markdown",
      "source": [
        "* A function can return a value using the keyword “**return**”:"
      ]
    },
    {
      "metadata": {
        "id": "4X55GnqaTrtS",
        "colab_type": "code",
        "outputId": "10ab87ff-246d-4792-cad4-c93f4edef6f2",
        "colab": {
          "base_uri": "https://localhost:8080/",
          "height": 34
        }
      },
      "cell_type": "code",
      "source": [
        "def add(a, b):\n",
        "  c= a+b\n",
        "  return c\n",
        "\n",
        "print(add(5,3))"
      ],
      "execution_count": 0,
      "outputs": [
        {
          "output_type": "stream",
          "text": [
            "8\n"
          ],
          "name": "stdout"
        }
      ]
    },
    {
      "metadata": {
        "id": "OMWvLIPxXmYg",
        "colab_type": "text"
      },
      "cell_type": "markdown",
      "source": [
        "* In a function call, we can **identify** the arguments by their **name.**\n",
        "* In a function definition, the arguments can have a **default value**, so they will be **optional**"
      ]
    },
    {
      "metadata": {
        "id": "uYEMRru2X89Q",
        "colab_type": "code",
        "outputId": "14a78fca-de22-4144-831a-904d394eacb4",
        "colab": {
          "base_uri": "https://localhost:8080/",
          "height": 69
        }
      },
      "cell_type": "code",
      "source": [
        "def printAnyway(a,b,toprint=\"No Given third argument\"):\n",
        "  d=a/b\n",
        "  print(\"The result=\",d)\n",
        "  print(toprint)\n",
        "  return d\n",
        "printAnyway(b=2,a=4)\n"
      ],
      "execution_count": 0,
      "outputs": [
        {
          "output_type": "stream",
          "text": [
            "The result= 2.0\n",
            "No Given third argument\n"
          ],
          "name": "stdout"
        },
        {
          "output_type": "execute_result",
          "data": {
            "text/plain": [
              "2.0"
            ]
          },
          "metadata": {
            "tags": []
          },
          "execution_count": 98
        }
      ]
    },
    {
      "metadata": {
        "id": "Vrwukq4WFmvI",
        "colab_type": "text"
      },
      "cell_type": "markdown",
      "source": [
        "# 4- Modules and Libraries"
      ]
    },
    {
      "metadata": {
        "id": "uMFrF12_eMHE",
        "colab_type": "text"
      },
      "cell_type": "markdown",
      "source": [
        "* A **module** is a  program that contains a related group of functions that can be embedded in your programs\n",
        "\n",
        "* To use the functions module you have to use the “**import**” statement\n",
        "* Other statement with import like “**from**” and “**as**” can be used.\n",
        "\n",
        "* A set of modules define a **Library**\n",
        "* Python comes with a library called the **standard library**\n"
      ]
    },
    {
      "metadata": {
        "id": "PYiGDozoYyww",
        "colab_type": "code",
        "outputId": "e124d465-e172-47f0-b207-6011f60f2d90",
        "colab": {
          "base_uri": "https://localhost:8080/",
          "height": 34
        }
      },
      "cell_type": "code",
      "source": [
        "import random\n",
        "print(random.randint(1,100))"
      ],
      "execution_count": 0,
      "outputs": [
        {
          "output_type": "stream",
          "text": [
            "93\n"
          ],
          "name": "stdout"
        }
      ]
    },
    {
      "metadata": {
        "id": "0AeFB8OVfh1M",
        "colab_type": "code",
        "outputId": "dc37b700-2b8d-4208-a7b9-46b1c1ccec5f",
        "colab": {
          "base_uri": "https://localhost:8080/",
          "height": 34
        }
      },
      "cell_type": "code",
      "source": [
        "from random import randint\n",
        "print(randint(1,100))"
      ],
      "execution_count": 0,
      "outputs": [
        {
          "output_type": "stream",
          "text": [
            "22\n"
          ],
          "name": "stdout"
        }
      ]
    },
    {
      "metadata": {
        "id": "8WtMQGN4fsjk",
        "colab_type": "code",
        "outputId": "a526f311-2d4e-4142-b858-03fea291e7d7",
        "colab": {
          "base_uri": "https://localhost:8080/",
          "height": 34
        }
      },
      "cell_type": "code",
      "source": [
        "from random import randint as ri\n",
        "print(ri(1,100))"
      ],
      "execution_count": 0,
      "outputs": [
        {
          "output_type": "stream",
          "text": [
            "14\n"
          ],
          "name": "stdout"
        }
      ]
    },
    {
      "metadata": {
        "id": "iePoEmEfHtOg",
        "colab_type": "text"
      },
      "cell_type": "markdown",
      "source": [
        "# 5- Examples of some Libraries"
      ]
    },
    {
      "metadata": {
        "id": "yQCDfyAvIc9O",
        "colab_type": "code",
        "outputId": "31efa1bf-2515-4cae-f64e-ebea5cbb5131",
        "colab": {
          "base_uri": "https://localhost:8080/",
          "height": 69
        }
      },
      "cell_type": "code",
      "source": [
        "import numpy as np\n",
        "# create an array wih a range of integers from 0 to 5\n",
        "a = np.arange(6)\n",
        "print(a)\n",
        "\n",
        "# transoform the array into a (2,3) dimension array\n",
        "a=a.reshape(2,3)\n",
        "print(a)"
      ],
      "execution_count": 0,
      "outputs": [
        {
          "output_type": "stream",
          "text": [
            "[0 1 2 3 4 5]\n",
            "[[0 1 2]\n",
            " [3 4 5]]\n"
          ],
          "name": "stdout"
        }
      ]
    },
    {
      "metadata": {
        "id": "8zm2WL9gJ_n-",
        "colab_type": "code",
        "outputId": "acbba720-9223-4a2a-f164-ea8959e65858",
        "colab": {
          "base_uri": "https://localhost:8080/",
          "height": 330
        }
      },
      "cell_type": "code",
      "source": [
        "import matplotlib.pyplot as plt\n",
        "# Pie chart\n",
        "labels = 'Apples', 'Bananas','Oranges', 'Dates' #names of the pie slices\n",
        "sizes = [10, 15, 35, 40] # size of each slice\n",
        "explode = (0,0,0,0.1 )   # explode the bigest slice (with 0.1 value)\n",
        "fig, ax = plt.subplots()\n",
        "ax.pie(sizes, explode=explode, labels=labels, autopct='%1.2f%%',shadow=True, startangle=90)\n",
        "ax.axis('equal')  # The pie has a circle form\n",
        "plt.show()"
      ],
      "execution_count": 0,
      "outputs": [
        {
          "output_type": "display_data",
          "data": {
            "image/png": "[encoded data removed]",
            "text/plain": [
              "<matplotlib.figure.Figure at 0x7f564ed7add8>"
            ]
          },
          "metadata": {
            "tags": []
          }
        }
      ]
    },
    {
      "metadata": {
        "id": "hYUepfslGCfu",
        "colab_type": "text"
      },
      "cell_type": "markdown",
      "source": [
        "# 6- Installing Libraries in Google Colab:\n",
        "\n"
      ]
    },
    {
      "metadata": {
        "id": "zbOIMNMyGqPY",
        "colab_type": "code",
        "colab": {}
      },
      "cell_type": "code",
      "source": [
        "# cell from https://colab.research.google.com/notebooks/snippets/importing_libraries.ipynb#scrollTo=6km1lWMF2kAm\n",
        "\n",
        "# To determine which version you're using:\n",
        "!pip show tensorflow\n",
        "\n",
        "# For the current version: \n",
        "!pip install --upgrade tensorflow\n",
        "\n",
        "# For a specific version:\n",
        "!pip install tensorflow==1.2\n",
        "\n",
        "# For the latest nightly build:\n",
        "!pip install tf-nightly"
      ],
      "execution_count": 0,
      "outputs": []
    },
    {
      "metadata": {
        "id": "0U1l3fxuJfeW",
        "colab_type": "code",
        "colab": {}
      },
      "cell_type": "code",
      "source": [
        "!apt-get update\n",
        "!apt-get install r-base"
      ],
      "execution_count": 0,
      "outputs": []
    }
  ]
}