{
  "nbformat": 4,
  "nbformat_minor": 0,
  "metadata": {
    "colab": {
      "name": "AAA-ped-w4-c1.ipynb",
      "version": "0.3.2",
      "provenance": [],
      "collapsed_sections": [],
      "toc_visible": true,
      "include_colab_link": true
    },
    "kernelspec": {
      "name": "python3",
      "display_name": "Python 3"
    }
  },
  "cells": [
    {
      "cell_type": "markdown",
      "metadata": {
        "id": "view-in-github",
        "colab_type": "text"
      },
      "source": [
        "<a href=\"https://colab.research.google.com/github/AIMosta/All-About-AI-Python-Edition/blob/master/Course%204-%20Supervised%20Learning/AAA_ped_w4_c1.ipynb\" target=\"_parent\"><img src=\"https://colab.research.google.com/assets/colab-badge.svg\" alt=\"Open In Colab\"/></a>"
      ]
    },
    {
      "metadata": {
        "id": "b9q-VxEW5tRs",
        "colab_type": "text"
      },
      "cell_type": "markdown",
      "source": [
        "<img src=\"https://docs.google.com/uc?export=download&id=1ap18raVTUCSJeGzTLz9kViroFGvTknrV\">\n",
        "# Supervised Learning: Introduction to Supervised Learning"
      ]
    },
    {
      "metadata": {
        "id": "z44rxaSYZ022",
        "colab_type": "toc"
      },
      "cell_type": "markdown",
      "source": [
        ">[Supervised Learning: Introduction to Supervised Learning](#scrollTo=b9q-VxEW5tRs)\n",
        "\n",
        ">[1- Supervised Learning](#scrollTo=1oBho425Q7ca)\n",
        "\n",
        ">>[Machine learning](#scrollTo=yLvtrsm0RcWq)\n",
        "\n",
        ">>[Supervised Learning](#scrollTo=A8DvRRWlRdGi)\n",
        "\n",
        ">>[Unsupervised Learning](#scrollTo=OjzIaOe1RdZ2)\n",
        "\n",
        ">[2- Classification](#scrollTo=VL49qQMiRCfC)\n",
        "\n",
        ">>[Classification](#scrollTo=QtI6YjSJRzo8)\n",
        "\n",
        ">>[Scikit-learn](#scrollTo=Tg2exEipRz7w)\n",
        "\n",
        ">>[Classification problems](#scrollTo=lYnbKQUdR0Ou)\n",
        "\n",
        ">[3- Regression](#scrollTo=Nhm8OJc_RFU8)\n",
        "\n",
        ">>[Regression](#scrollTo=TOgMnI_CR7QE)\n",
        "\n",
        ">>[Regression problems](#scrollTo=Zd06of0ZR7JC)\n",
        "\n",
        ">[4- Features](#scrollTo=Ca8Ofrs7RHwC)\n",
        "\n",
        ">>[Introduction](#scrollTo=xn8bZSmqSBwY)\n",
        "\n",
        ">>[Categorical Features](#scrollTo=cbSqKX-_LCaS)\n",
        "\n",
        ">>[Text Features](#scrollTo=yMgLDZAdSGjG)\n",
        "\n",
        ">>[Image Featuers](#scrollTo=Z7prBx0pSGbS)\n",
        "\n",
        ">[5- Linear Regression](#scrollTo=5aXVjrUrRNGi)\n",
        "\n",
        ">>[Simple Linear Regression ( with 1 feature)](#scrollTo=H71qigLHSGU2)\n",
        "\n",
        ">>[Example](#scrollTo=157T7zEfSB_u)\n",
        "\n",
        ">[6- Polynomial Regression](#scrollTo=CffbTqAERQKg)\n",
        "\n",
        ">>[Linear regression basis Polynomial function (1 feature)](#scrollTo=_6H6Ca-GSK4-)\n",
        "\n",
        ">>[Example](#scrollTo=ZwP_1uLFmoXE)\n",
        "\n",
        ">>[Example with a pipeline](#scrollTo=Av5tKx6Nh6iq)\n",
        "\n",
        ">[References](#scrollTo=tSbN2yDrRSdW)\n",
        "\n"
      ]
    },
    {
      "metadata": {
        "id": "1oBho425Q7ca",
        "colab_type": "text"
      },
      "cell_type": "markdown",
      "source": [
        "# 1- Supervised Learning"
      ]
    },
    {
      "metadata": {
        "id": "yLvtrsm0RcWq",
        "colab_type": "text"
      },
      "cell_type": "markdown",
      "source": [
        "## Machine learning\n",
        "\n",
        "* We can define machine learning as \"**Building a mathematical model**\" with \"**tunable parameters**\". These parameters are  calculated by **fitting** the model to  \"**Observed Data**\", described by a set of **features**\n",
        "* The resulting model can be applied on **new Data** to **predic**t its behavior"
      ]
    },
    {
      "metadata": {
        "id": "A8DvRRWlRdGi",
        "colab_type": "text"
      },
      "cell_type": "markdown",
      "source": [
        "## Supervised Learning\n",
        "* In supervised Learning the used observed data is \"**labeled**\"\n",
        "\n",
        "* This data is used to determine the “parameters” that minimize a cost function, calculated from the difference between predicted and real labels\n",
        "\n",
        "* The predicting process consist of **predicting the labels** for the new Data.\n",
        "\n",
        "* The prediction is done by applying the obtained mathematical\n",
        "model  (defined by parameters values) on the new data"
      ]
    },
    {
      "metadata": {
        "id": "OjzIaOe1RdZ2",
        "colab_type": "text"
      },
      "cell_type": "markdown",
      "source": [
        "## Unsupervised Learning\n",
        "* In unsupervised Learning the used observed data is \"**not labled**\"\n",
        "* The predicting process consist of infering  information about the new data"
      ]
    },
    {
      "metadata": {
        "id": "VL49qQMiRCfC",
        "colab_type": "text"
      },
      "cell_type": "markdown",
      "source": [
        "# 2- Classification"
      ]
    },
    {
      "metadata": {
        "id": "QtI6YjSJRzo8",
        "colab_type": "text"
      },
      "cell_type": "markdown",
      "source": [
        "## Classification\n",
        "* classification is a supervised learning where, the used observed data is \"**labled**\" with **categories**: discrete values.\n",
        "* The predicting process consist of **predicting the knwon categories** for the new Data"
      ]
    },
    {
      "metadata": {
        "id": "Tg2exEipRz7w",
        "colab_type": "text"
      },
      "cell_type": "markdown",
      "source": [
        "## Scikit-learn\n",
        "\n",
        "* Scikit-learn is a python library used for **data mining** and **data analysis**\n",
        "\n",
        "* It is build on :”**Numpy**”, “**Scipy**”, and “**Matplotlib**” libraries.\n",
        "\n",
        "* It will be used for both **classification**  and **regression** by importing the corresponding  modules.\n",
        "\n",
        "* It will also be used for feature extraction using :”**sklearn.feature_extraction**” module\n",
        "\n",
        "* The full documentation about scikit-learn, is available at its homepage: http://scikit-learn.org/stable/index.html"
      ]
    },
    {
      "metadata": {
        "id": "lYnbKQUdR0Ou",
        "colab_type": "text"
      },
      "cell_type": "markdown",
      "source": [
        "## Classification problems\n",
        " We can use classification for:\n",
        " * classifying images: the input data can be \"x-ray\" **images**  labeled: \"**Yes**\" and \"**No**\". \"Yes\" indicates the **presence** of a tumor. \"No\" indicates its **absence**. After fiting the model, it can be applied to new, not labeled, x-ray images to predict if each image indicates the presence or the absence of a tumor.\n",
        " * classifying text: the training data can be \"words in sentences\". The words are labeled: \"**verb**\",\"**subject**\" and \"**adjective**\". The trained model, will predict for new words if they are: \"**verbs**\",\"**subjects**\" or \"**adjectives**\""
      ]
    },
    {
      "metadata": {
        "id": "Nhm8OJc_RFU8",
        "colab_type": "text"
      },
      "cell_type": "markdown",
      "source": [
        "# 3- Regression"
      ]
    },
    {
      "metadata": {
        "id": "TOgMnI_CR7QE",
        "colab_type": "text"
      },
      "cell_type": "markdown",
      "source": [
        "## Regression\n",
        "* Regression is a supervised learning where, the used observed data is \"**labled**\" with **continious quantities**.\n",
        "* The predicting process consist of **predicting new quantities** for the new Data"
      ]
    },
    {
      "metadata": {
        "id": "Zd06of0ZR7JC",
        "colab_type": "text"
      },
      "cell_type": "markdown",
      "source": [
        "## Regression problems\n",
        "\n",
        "We can useregression for:\n",
        " * predict houses prices: the input data are **houses** , described by a set of characteristics, and  labeled by the ** prices** of the houses.\n",
        " After fiting the model, it can be applied to new, not labeled houses data to predict their prices.\n",
        " \n",
        " * photometric redshift : the training data are  **galaxies** described by the**brightness**  of the galaxies at several **wavelengths**. The galaxies are labeled by their distances.\n",
        " The trained model the distances of other galaxies."
      ]
    },
    {
      "metadata": {
        "id": "Ca8Ofrs7RHwC",
        "colab_type": "text"
      },
      "cell_type": "markdown",
      "source": [
        "# 4- Features\n"
      ]
    },
    {
      "metadata": {
        "id": "xn8bZSmqSBwY",
        "colab_type": "text"
      },
      "cell_type": "markdown",
      "source": [
        "## Introduction\n",
        "* The data used in Machine learning must be described by a set of\n",
        " **numerical Features**: **numerical vlaues** repersenting a \"**characteristic**\"\n",
        "* But the **Features** are rarely **numeric**.\n",
        "* They can be categories: so we an apply **one-hot-encoding**\n"
      ]
    },
    {
      "metadata": {
        "id": "cbSqKX-_LCaS",
        "colab_type": "text"
      },
      "cell_type": "markdown",
      "source": [
        "## Categorical Features\n",
        "\n",
        "* The features  can be categories: so we an apply **one-hot-encoding**\n",
        " "
      ]
    },
    {
      "metadata": {
        "id": "ZN9esbFPoRC6",
        "colab_type": "code",
        "colab": {}
      },
      "cell_type": "code",
      "source": [
        "from pandas import DataFrame as DF, Series as S\n"
      ],
      "execution_count": 0,
      "outputs": []
    },
    {
      "metadata": {
        "id": "SZbo3aXImFv2",
        "colab_type": "code",
        "outputId": "1c5fbb47-28e1-4e3f-9239-aa959afa9767",
        "colab": {
          "base_uri": "https://localhost:8080/",
          "height": 143
        }
      },
      "cell_type": "code",
      "source": [
        "# we assume that the features are contained in dataframe dataF\n",
        "# the feature: \"Feat3\" is a categorical feature (not numeric)\n",
        "\n",
        "dataF = DF([{\"Feat1\": 545,\"Feat2\":3, \"Feat3\": \"Cat1\" },{\"Feat1\": 362,\"Feat2\":2, \"Feat3\": \"Cat3\" },\n",
        "  {\"Feat1\": 1005,\"Feat2\":5, \"Feat3\": \"Cat2\" }],index=[\"house1\",\"house2\",\"house3\"])\n",
        "dataF"
      ],
      "execution_count": 0,
      "outputs": [
        {
          "output_type": "execute_result",
          "data": {
            "text/html": [
              "<div>\n",
              "<style scoped>\n",
              "    .dataframe tbody tr th:only-of-type {\n",
              "        vertical-align: middle;\n",
              "    }\n",
              "\n",
              "    .dataframe tbody tr th {\n",
              "        vertical-align: top;\n",
              "    }\n",
              "\n",
              "    .dataframe thead th {\n",
              "        text-align: right;\n",
              "    }\n",
              "</style>\n",
              "<table border=\"1\" class=\"dataframe\">\n",
              "  <thead>\n",
              "    <tr style=\"text-align: right;\">\n",
              "      <th></th>\n",
              "      <th>Feat1</th>\n",
              "      <th>Feat2</th>\n",
              "      <th>Feat3</th>\n",
              "    </tr>\n",
              "  </thead>\n",
              "  <tbody>\n",
              "    <tr>\n",
              "      <th>house1</th>\n",
              "      <td>545</td>\n",
              "      <td>3</td>\n",
              "      <td>Cat1</td>\n",
              "    </tr>\n",
              "    <tr>\n",
              "      <th>house2</th>\n",
              "      <td>362</td>\n",
              "      <td>2</td>\n",
              "      <td>Cat3</td>\n",
              "    </tr>\n",
              "    <tr>\n",
              "      <th>house3</th>\n",
              "      <td>1005</td>\n",
              "      <td>5</td>\n",
              "      <td>Cat2</td>\n",
              "    </tr>\n",
              "  </tbody>\n",
              "</table>\n",
              "</div>"
            ],
            "text/plain": [
              "        Feat1  Feat2 Feat3\n",
              "house1    545      3  Cat1\n",
              "house2    362      2  Cat3\n",
              "house3   1005      5  Cat2"
            ]
          },
          "metadata": {
            "tags": []
          },
          "execution_count": 3
        }
      ]
    },
    {
      "metadata": {
        "id": "xKjoLzhUp2fE",
        "colab_type": "code",
        "outputId": "3ae9d408-a822-413e-8d22-552f5255761e",
        "colab": {
          "base_uri": "https://localhost:8080/",
          "height": 143
        }
      },
      "cell_type": "code",
      "source": [
        "# The DictVectorizer from sklearn will be used for the one-hot-encoding\n",
        "from sklearn.feature_extraction import DictVectorizer\n",
        "# convert the dataframe to a dictionary values\n",
        "myDict = dataF.to_dict('records')\n",
        "# create an instance of a DictVectorizer\n",
        "vec = DictVectorizer(sparse=False, dtype=int)\n",
        "# transform the category data\n",
        "trDict=vec.fit_transform(myDict)\n",
        "# convert the dictionary to a dataframe (just for visualization purpose)\n",
        "myDF2 = DF.from_dict(trDict)\n",
        "myDF2.index = [\"house1\",\"house2\",\"house3\"]\n",
        "myDF2"
      ],
      "execution_count": 0,
      "outputs": [
        {
          "output_type": "execute_result",
          "data": {
            "text/html": [
              "<div>\n",
              "<style scoped>\n",
              "    .dataframe tbody tr th:only-of-type {\n",
              "        vertical-align: middle;\n",
              "    }\n",
              "\n",
              "    .dataframe tbody tr th {\n",
              "        vertical-align: top;\n",
              "    }\n",
              "\n",
              "    .dataframe thead th {\n",
              "        text-align: right;\n",
              "    }\n",
              "</style>\n",
              "<table border=\"1\" class=\"dataframe\">\n",
              "  <thead>\n",
              "    <tr style=\"text-align: right;\">\n",
              "      <th></th>\n",
              "      <th>0</th>\n",
              "      <th>1</th>\n",
              "      <th>2</th>\n",
              "      <th>3</th>\n",
              "      <th>4</th>\n",
              "    </tr>\n",
              "  </thead>\n",
              "  <tbody>\n",
              "    <tr>\n",
              "      <th>house1</th>\n",
              "      <td>545</td>\n",
              "      <td>3</td>\n",
              "      <td>1</td>\n",
              "      <td>0</td>\n",
              "      <td>0</td>\n",
              "    </tr>\n",
              "    <tr>\n",
              "      <th>house2</th>\n",
              "      <td>362</td>\n",
              "      <td>2</td>\n",
              "      <td>0</td>\n",
              "      <td>0</td>\n",
              "      <td>1</td>\n",
              "    </tr>\n",
              "    <tr>\n",
              "      <th>house3</th>\n",
              "      <td>1005</td>\n",
              "      <td>5</td>\n",
              "      <td>0</td>\n",
              "      <td>1</td>\n",
              "      <td>0</td>\n",
              "    </tr>\n",
              "  </tbody>\n",
              "</table>\n",
              "</div>"
            ],
            "text/plain": [
              "           0  1  2  3  4\n",
              "house1   545  3  1  0  0\n",
              "house2   362  2  0  0  1\n",
              "house3  1005  5  0  1  0"
            ]
          },
          "metadata": {
            "tags": []
          },
          "execution_count": 5
        }
      ]
    },
    {
      "metadata": {
        "id": "mIzYoStftJ58",
        "colab_type": "code",
        "outputId": "8fda9782-2e07-4453-997a-56d7fece8b79",
        "colab": {
          "base_uri": "https://localhost:8080/",
          "height": 69
        }
      },
      "cell_type": "code",
      "source": [
        "myDict"
      ],
      "execution_count": 0,
      "outputs": [
        {
          "output_type": "execute_result",
          "data": {
            "text/plain": [
              "[{'Feat1': 545, 'Feat2': 3, 'Feat3': 'Cat1'},\n",
              " {'Feat1': 362, 'Feat2': 2, 'Feat3': 'Cat3'},\n",
              " {'Feat1': 1005, 'Feat2': 5, 'Feat3': 'Cat2'}]"
            ]
          },
          "metadata": {
            "tags": []
          },
          "execution_count": 59
        }
      ]
    },
    {
      "metadata": {
        "id": "yMgLDZAdSGjG",
        "colab_type": "text"
      },
      "cell_type": "markdown",
      "source": [
        "## Text Features\n",
        "* The features can also be **text**: so we an apply **word counts**  or **term frequency–inverse document frequency** **(TF–IDF)** encodings\n"
      ]
    },
    {
      "metadata": {
        "id": "W0RHkhc5BN9k",
        "colab_type": "code",
        "outputId": "79843190-1c0e-4ace-f9a1-704bb507ef16",
        "colab": {
          "base_uri": "https://localhost:8080/",
          "height": 112
        }
      },
      "cell_type": "code",
      "source": [
        "# a multilines string\n",
        "text= '''this is a simple text\n",
        "we will count and we will see this'''\n",
        "# converting each line to a list element\n",
        "textT = text.split(\"\\n\")\n",
        "# import CountVectorizer for word count encoding\n",
        "from sklearn.feature_extraction.text import CountVectorizer\n",
        "# create an instance of CountVectorizer\n",
        "vec = CountVectorizer()\n",
        "# create the encoding\n",
        "wc = vec.fit_transform(textT)\n",
        "# create the corresponding dataframe\n",
        "DF(wc.toarray(),columns=vec.get_feature_names())"
      ],
      "execution_count": 0,
      "outputs": [
        {
          "output_type": "execute_result",
          "data": {
            "text/html": [
              "<div>\n",
              "<style scoped>\n",
              "    .dataframe tbody tr th:only-of-type {\n",
              "        vertical-align: middle;\n",
              "    }\n",
              "\n",
              "    .dataframe tbody tr th {\n",
              "        vertical-align: top;\n",
              "    }\n",
              "\n",
              "    .dataframe thead th {\n",
              "        text-align: right;\n",
              "    }\n",
              "</style>\n",
              "<table border=\"1\" class=\"dataframe\">\n",
              "  <thead>\n",
              "    <tr style=\"text-align: right;\">\n",
              "      <th></th>\n",
              "      <th>and</th>\n",
              "      <th>count</th>\n",
              "      <th>is</th>\n",
              "      <th>see</th>\n",
              "      <th>simple</th>\n",
              "      <th>text</th>\n",
              "      <th>this</th>\n",
              "      <th>we</th>\n",
              "      <th>will</th>\n",
              "    </tr>\n",
              "  </thead>\n",
              "  <tbody>\n",
              "    <tr>\n",
              "      <th>0</th>\n",
              "      <td>0</td>\n",
              "      <td>0</td>\n",
              "      <td>1</td>\n",
              "      <td>0</td>\n",
              "      <td>1</td>\n",
              "      <td>1</td>\n",
              "      <td>1</td>\n",
              "      <td>0</td>\n",
              "      <td>0</td>\n",
              "    </tr>\n",
              "    <tr>\n",
              "      <th>1</th>\n",
              "      <td>1</td>\n",
              "      <td>1</td>\n",
              "      <td>0</td>\n",
              "      <td>1</td>\n",
              "      <td>0</td>\n",
              "      <td>0</td>\n",
              "      <td>1</td>\n",
              "      <td>2</td>\n",
              "      <td>2</td>\n",
              "    </tr>\n",
              "  </tbody>\n",
              "</table>\n",
              "</div>"
            ],
            "text/plain": [
              "   and  count  is  see  simple  text  this  we  will\n",
              "0    0      0   1    0       1     1     1   0     0\n",
              "1    1      1   0    1       0     0     1   2     2"
            ]
          },
          "metadata": {
            "tags": []
          },
          "execution_count": 6
        }
      ]
    },
    {
      "metadata": {
        "id": "pLY0jGYRXXeu",
        "colab_type": "code",
        "outputId": "58bcd8ed-6aa4-4d1c-b451-220ad891e005",
        "colab": {
          "base_uri": "https://localhost:8080/",
          "height": 34
        }
      },
      "cell_type": "code",
      "source": [
        "textT"
      ],
      "execution_count": 0,
      "outputs": [
        {
          "output_type": "execute_result",
          "data": {
            "text/plain": [
              "['this is a simple text', 'we will count and we will see this']"
            ]
          },
          "metadata": {
            "tags": []
          },
          "execution_count": 61
        }
      ]
    },
    {
      "metadata": {
        "id": "XN3oBdT6Pfpk",
        "colab_type": "code",
        "outputId": "45015ebb-6583-42c5-bd03-22de4deb7772",
        "colab": {
          "base_uri": "https://localhost:8080/",
          "height": 112
        }
      },
      "cell_type": "code",
      "source": [
        "# import TfidfVectorizer for  frequency–inverse document frequency encoding\n",
        "from sklearn.feature_extraction.text import TfidfVectorizer\n",
        "# create an instance of CountVectorizer\n",
        "vec = TfidfVectorizer(norm=None)\n",
        "# create the encoding\n",
        "wc = vec.fit_transform(textT)\n",
        "# create the corresponding dataframe\n",
        "DF(wc.toarray(), columns=vec.get_feature_names())"
      ],
      "execution_count": 0,
      "outputs": [
        {
          "output_type": "execute_result",
          "data": {
            "text/html": [
              "<div>\n",
              "<style scoped>\n",
              "    .dataframe tbody tr th:only-of-type {\n",
              "        vertical-align: middle;\n",
              "    }\n",
              "\n",
              "    .dataframe tbody tr th {\n",
              "        vertical-align: top;\n",
              "    }\n",
              "\n",
              "    .dataframe thead th {\n",
              "        text-align: right;\n",
              "    }\n",
              "</style>\n",
              "<table border=\"1\" class=\"dataframe\">\n",
              "  <thead>\n",
              "    <tr style=\"text-align: right;\">\n",
              "      <th></th>\n",
              "      <th>and</th>\n",
              "      <th>count</th>\n",
              "      <th>is</th>\n",
              "      <th>see</th>\n",
              "      <th>simple</th>\n",
              "      <th>text</th>\n",
              "      <th>this</th>\n",
              "      <th>we</th>\n",
              "      <th>will</th>\n",
              "    </tr>\n",
              "  </thead>\n",
              "  <tbody>\n",
              "    <tr>\n",
              "      <th>0</th>\n",
              "      <td>0.000000</td>\n",
              "      <td>0.000000</td>\n",
              "      <td>1.405465</td>\n",
              "      <td>0.000000</td>\n",
              "      <td>1.405465</td>\n",
              "      <td>1.405465</td>\n",
              "      <td>1.0</td>\n",
              "      <td>0.00000</td>\n",
              "      <td>0.00000</td>\n",
              "    </tr>\n",
              "    <tr>\n",
              "      <th>1</th>\n",
              "      <td>1.405465</td>\n",
              "      <td>1.405465</td>\n",
              "      <td>0.000000</td>\n",
              "      <td>1.405465</td>\n",
              "      <td>0.000000</td>\n",
              "      <td>0.000000</td>\n",
              "      <td>1.0</td>\n",
              "      <td>2.81093</td>\n",
              "      <td>2.81093</td>\n",
              "    </tr>\n",
              "  </tbody>\n",
              "</table>\n",
              "</div>"
            ],
            "text/plain": [
              "        and     count        is       see    simple      text  this       we  \\\n",
              "0  0.000000  0.000000  1.405465  0.000000  1.405465  1.405465   1.0  0.00000   \n",
              "1  1.405465  1.405465  0.000000  1.405465  0.000000  0.000000   1.0  2.81093   \n",
              "\n",
              "      will  \n",
              "0  0.00000  \n",
              "1  2.81093  "
            ]
          },
          "metadata": {
            "tags": []
          },
          "execution_count": 7
        }
      ]
    },
    {
      "metadata": {
        "id": "Z7prBx0pSGbS",
        "colab_type": "text"
      },
      "cell_type": "markdown",
      "source": [
        "## Image Featuers\n",
        "* The features can  be **images**: so we can use **pixel values**"
      ]
    },
    {
      "metadata": {
        "id": "ZkJffcXblJRq",
        "colab_type": "code",
        "outputId": "d7945c27-216c-4d7a-9ebb-b67a7564915d",
        "colab": {
          "base_uri": "https://localhost:8080/",
          "height": 173
        }
      },
      "cell_type": "code",
      "source": [
        "# importing digits dataset sample\n",
        "from sklearn.datasets import load_digits\n",
        "# loding digits dataset sample\n",
        "digits = load_digits()\n",
        "# the dataset has pixel values for 1797 images,\n",
        "# each image is coded in 8*8 pixel values\n",
        "# indicating grayscale values\n",
        "print(digits.images.shape)\n",
        "# for example, the 35th image represent a \"6\"\n",
        "digits.images[34]"
      ],
      "execution_count": 0,
      "outputs": [
        {
          "output_type": "stream",
          "text": [
            "(1797, 8, 8)\n"
          ],
          "name": "stdout"
        },
        {
          "output_type": "execute_result",
          "data": {
            "text/plain": [
              "array([[ 0.,  0.,  0.,  5., 14.,  2.,  0.,  0.],\n",
              "       [ 0.,  0.,  1., 13., 11.,  0.,  0.,  0.],\n",
              "       [ 0.,  0.,  5., 16.,  2.,  0.,  0.,  0.],\n",
              "       [ 0.,  0.,  6., 15.,  5.,  0.,  0.,  0.],\n",
              "       [ 0.,  1., 15., 16., 15., 11.,  1.,  0.],\n",
              "       [ 0.,  2., 13., 14.,  1., 12.,  9.,  0.],\n",
              "       [ 0.,  0.,  4., 16.,  7., 13.,  9.,  0.],\n",
              "       [ 0.,  0.,  0.,  5., 16., 15.,  3.,  0.]])"
            ]
          },
          "metadata": {
            "tags": []
          },
          "execution_count": 63
        }
      ]
    },
    {
      "metadata": {
        "id": "7oL15jDFmDBy",
        "colab_type": "code",
        "outputId": "f6fdfbaa-54a1-40d2-df1a-af92eb189e09",
        "colab": {
          "base_uri": "https://localhost:8080/",
          "height": 282
        }
      },
      "cell_type": "code",
      "source": [
        "# ploting the 35th image ( the digit 6)\n",
        "%matplotlib inline\n",
        "\n",
        "import matplotlib.pyplot as plt\n",
        "plt.imshow(digits.images[34])"
      ],
      "execution_count": 0,
      "outputs": [
        {
          "output_type": "execute_result",
          "data": {
            "text/plain": [
              "<matplotlib.image.AxesImage at 0x7f5f3fd19128>"
            ]
          },
          "metadata": {
            "tags": []
          },
          "execution_count": 64
        },
        {
          "output_type": "display_data",
          "data": {
            "image/png": "[encoded data removed]",
            "text/plain": [
              "<matplotlib.figure.Figure at 0x7f5f45a11518>"
            ]
          },
          "metadata": {
            "tags": []
          }
        }
      ]
    },
    {
      "metadata": {
        "id": "Z8gUamAnrgEs",
        "colab_type": "code",
        "outputId": "d0191dcf-b02c-4777-f4e7-6a5ccb5d138c",
        "colab": {
          "base_uri": "https://localhost:8080/",
          "height": 121
        }
      },
      "cell_type": "code",
      "source": [
        "# to use as features, we can use its corresponding\n",
        "# data array: align all the 8*8 values in one dimension \n",
        "# 64 values\n",
        "print(digits.data.shape)\n",
        "digits.data[34]"
      ],
      "execution_count": 0,
      "outputs": [
        {
          "output_type": "stream",
          "text": [
            "(1797, 64)\n"
          ],
          "name": "stdout"
        },
        {
          "output_type": "execute_result",
          "data": {
            "text/plain": [
              "array([ 0.,  0.,  0.,  5., 14.,  2.,  0.,  0.,  0.,  0.,  1., 13., 11.,\n",
              "        0.,  0.,  0.,  0.,  0.,  5., 16.,  2.,  0.,  0.,  0.,  0.,  0.,\n",
              "        6., 15.,  5.,  0.,  0.,  0.,  0.,  1., 15., 16., 15., 11.,  1.,\n",
              "        0.,  0.,  2., 13., 14.,  1., 12.,  9.,  0.,  0.,  0.,  4., 16.,\n",
              "        7., 13.,  9.,  0.,  0.,  0.,  0.,  5., 16., 15.,  3.,  0.])"
            ]
          },
          "metadata": {
            "tags": []
          },
          "execution_count": 65
        }
      ]
    },
    {
      "metadata": {
        "id": "bFPBZGvSsyGs",
        "colab_type": "code",
        "outputId": "c33c5f69-a413-4e39-e60e-b47934dd770b",
        "colab": {
          "base_uri": "https://localhost:8080/",
          "height": 34
        }
      },
      "cell_type": "code",
      "source": [
        "# and we can use also the target array\n",
        "# it represents the labels corresponding to\n",
        "# the images\n",
        "digits.target[34]"
      ],
      "execution_count": 0,
      "outputs": [
        {
          "output_type": "execute_result",
          "data": {
            "text/plain": [
              "6"
            ]
          },
          "metadata": {
            "tags": []
          },
          "execution_count": 66
        }
      ]
    },
    {
      "metadata": {
        "id": "X_IaJ-8eohww",
        "colab_type": "code",
        "outputId": "7b589728-2ddf-49f5-f861-7c447ae15d1b",
        "colab": {
          "base_uri": "https://localhost:8080/",
          "height": 282
        }
      },
      "cell_type": "code",
      "source": [
        "import numpy as np\n",
        "# we can create our own image\n",
        "# this one will represent the letter T\n",
        "myList = ([16]*8)*2+ ([0]*3+[13]*2+[0]*3)* 6\n",
        "myT= np.array(myList).reshape(8,8)\n",
        "plt.imshow(myT)"
      ],
      "execution_count": 0,
      "outputs": [
        {
          "output_type": "execute_result",
          "data": {
            "text/plain": [
              "<matplotlib.image.AxesImage at 0x7f5f3fb7fc18>"
            ]
          },
          "metadata": {
            "tags": []
          },
          "execution_count": 67
        },
        {
          "output_type": "display_data",
          "data": {
            "image/png": "[encoded data removed]",
            "text/plain": [
              "<matplotlib.figure.Figure at 0x7f5f3fd8b400>"
            ]
          },
          "metadata": {
            "tags": []
          }
        }
      ]
    },
    {
      "metadata": {
        "id": "9OH0vPForrVW",
        "colab_type": "code",
        "outputId": "82d755e6-b413-42d6-d19f-1e5ccff0ee13",
        "colab": {
          "base_uri": "https://localhost:8080/",
          "height": 34
        }
      },
      "cell_type": "code",
      "source": [
        "myT.shape"
      ],
      "execution_count": 0,
      "outputs": [
        {
          "output_type": "execute_result",
          "data": {
            "text/plain": [
              "(8, 8)"
            ]
          },
          "metadata": {
            "tags": []
          },
          "execution_count": 68
        }
      ]
    },
    {
      "metadata": {
        "id": "xzqxSfBHre2s",
        "colab_type": "code",
        "outputId": "1f0c68b1-8599-4066-888f-9ecfe92316f8",
        "colab": {
          "base_uri": "https://localhost:8080/",
          "height": 86
        }
      },
      "cell_type": "code",
      "source": [
        "# to use as features values, we will just reshape it\n",
        "myT.reshape(64)"
      ],
      "execution_count": 0,
      "outputs": [
        {
          "output_type": "execute_result",
          "data": {
            "text/plain": [
              "array([16, 16, 16, 16, 16, 16, 16, 16, 16, 16, 16, 16, 16, 16, 16, 16,  0,\n",
              "        0,  0, 13, 13,  0,  0,  0,  0,  0,  0, 13, 13,  0,  0,  0,  0,  0,\n",
              "        0, 13, 13,  0,  0,  0,  0,  0,  0, 13, 13,  0,  0,  0,  0,  0,  0,\n",
              "       13, 13,  0,  0,  0,  0,  0,  0, 13, 13,  0,  0,  0])"
            ]
          },
          "metadata": {
            "tags": []
          },
          "execution_count": 69
        }
      ]
    },
    {
      "metadata": {
        "id": "5aXVjrUrRNGi",
        "colab_type": "text"
      },
      "cell_type": "markdown",
      "source": [
        "# 5- Linear Regression"
      ]
    },
    {
      "metadata": {
        "id": "H71qigLHSGU2",
        "colab_type": "text"
      },
      "cell_type": "markdown",
      "source": [
        "## Simple Linear Regression ( with 1 feature)\n",
        "\n",
        "* In a Simple Linear Regression (with 1 feature) the mathematical model is **line**  with **2 parameters**:  the  **slope a** and  the **inetercept  b**: $y=aX + b$\n",
        " \n",
        "* The data are the **X** values \"**labled**\" with **y** values. \n",
        "\n",
        "* The predicting process consist of **predicting y values**  for the new Data  using the calculated parameters **a** and **b**"
      ]
    },
    {
      "metadata": {
        "id": "157T7zEfSB_u",
        "colab_type": "text"
      },
      "cell_type": "markdown",
      "source": [
        "## Example"
      ]
    },
    {
      "metadata": {
        "id": "Cak5Z6V7Ftbe",
        "colab_type": "code",
        "colab": {}
      },
      "cell_type": "code",
      "source": [
        "import numpy as np"
      ],
      "execution_count": 0,
      "outputs": []
    },
    {
      "metadata": {
        "id": "v4CXoZOfGhFe",
        "colab_type": "code",
        "outputId": "9d8dd4d0-3d19-4e6f-fb30-815887f7f431",
        "colab": {
          "base_uri": "https://localhost:8080/",
          "height": 265
        }
      },
      "cell_type": "code",
      "source": [
        "# a random generated points\n",
        "rangP= list(range(20))\n",
        "x = rangP + [i - 0.25 for i in rangP] + [i + 0.4 for i in rangP] \n",
        "y = [5*i+2*np.random.randn(1) for i in x[:20]] +  [3.5*i+6*np.random.randn(1) for i in x[20:40]] +  [2.5*i+5*np.random.randn(1) for i in x[40:]]\n",
        "plt.scatter(x, y);"
      ],
      "execution_count": 0,
      "outputs": [
        {
          "output_type": "display_data",
          "data": {
            "image/png": "[encoded data removed]",
            "text/plain": [
              "<matplotlib.figure.Figure at 0x7f5f3fb7fef0>"
            ]
          },
          "metadata": {
            "tags": []
          }
        }
      ]
    },
    {
      "metadata": {
        "id": "sDCo7IkHGqiE",
        "colab_type": "code",
        "outputId": "a28e0fc8-5ba7-49b2-80ce-c83761a934b3",
        "colab": {
          "base_uri": "https://localhost:8080/",
          "height": 300
        }
      },
      "cell_type": "code",
      "source": [
        "# importing form linear_model module, LinearRegression\n",
        "from sklearn.linear_model import LinearRegression\n",
        "# create an instance of the model\n",
        "model = LinearRegression()\n",
        "# fiting the model using x and y values\n",
        "model.fit(np.array(x).reshape(-1,1), np.array(y).reshape(-1,1))\n",
        "# values of a (coef) and b(intercept) after fitting\n",
        "print(\"a == the value in  \", model.coef_)\n",
        "print(\"b == the value in  \", model.intercept_)\n",
        "# new values of x : we create this values to generate the\n",
        "# line representing the model\n",
        "newX = np.linspace(1,20,1000)\n",
        "# predict the labels for newX\n",
        "newy = model.predict(np.array(newX).reshape(-1,1))\n",
        "# plotting the old and the new values\n",
        "plt.scatter(x, y)\n",
        "plt.plot(newX, newy, color=\"g\");"
      ],
      "execution_count": 0,
      "outputs": [
        {
          "output_type": "stream",
          "text": [
            "a == the value in   [[3.029415]]\n",
            "b == the value in   [-1.97286737]\n"
          ],
          "name": "stdout"
        },
        {
          "output_type": "display_data",
          "data": {
            "image/png": "[encoded data removed]",
            "text/plain": [
              "<matplotlib.figure.Figure at 0x7f5f3ffdc588>"
            ]
          },
          "metadata": {
            "tags": []
          }
        }
      ]
    },
    {
      "metadata": {
        "id": "CffbTqAERQKg",
        "colab_type": "text"
      },
      "cell_type": "markdown",
      "source": [
        "# 6- Polynomial Regression"
      ]
    },
    {
      "metadata": {
        "id": "_6H6Ca-GSK4-",
        "colab_type": "text"
      },
      "cell_type": "markdown",
      "source": [
        "\n",
        "\n",
        "## Linear regression basis Polynomial function (1 feature)\n",
        "* In this  Polynomial Regression (with 1 feature) the mathematical model is **polynomial curve**  with **n+1 parameters**:  the  ** $a_i$ values** and  the * b**: $y=a_1X +a_2X² + a_3X³+ ... + a_nX^n + b$\n",
        " \n",
        "* The data are the **X** values transformed into **polynomial features** and **labled**\" with the original **y** values. \n",
        "\n",
        "* The predicting process consist of **predicting y values**  for the new Data  using the calculated parameters **$a_i$** and **b**"
      ]
    },
    {
      "metadata": {
        "id": "ZwP_1uLFmoXE",
        "colab_type": "text"
      },
      "cell_type": "markdown",
      "source": [
        "## Example"
      ]
    },
    {
      "metadata": {
        "id": "kN6pbTuoWISQ",
        "colab_type": "code",
        "outputId": "aff7c525-dd84-4e25-f957-bc193b995f05",
        "colab": {
          "base_uri": "https://localhost:8080/",
          "height": 265
        }
      },
      "cell_type": "code",
      "source": [
        "x = rangP + [i - 0.5 for i in rangP] + [i + 0.4 for i in rangP] \n",
        "# an aother random generated labels\n",
        "y2 = [np.cos(i)+0.2*np.random.randn(1) for i in x[:20]] +  [np.cos(i)+0.6*np.random.randn(1) for i in x[20:40]] +  [np.cos(i)+0.5*np.random.randn(1) for i in x[40:]]\n",
        "plt.scatter(x, y2);"
      ],
      "execution_count": 0,
      "outputs": [
        {
          "output_type": "display_data",
          "data": {
            "image/png": "[encoded data removed]",
            "text/plain": [
              "<matplotlib.figure.Figure at 0x7f5f3ff36358>"
            ]
          },
          "metadata": {
            "tags": []
          }
        }
      ]
    },
    {
      "metadata": {
        "id": "9GBjJ5HhTs5-",
        "colab_type": "code",
        "outputId": "0764da0d-df1c-4c94-ebdb-aedc130e1e72",
        "colab": {
          "base_uri": "https://localhost:8080/",
          "height": 473
        }
      },
      "cell_type": "code",
      "source": [
        "from sklearn.preprocessing import PolynomialFeatures\n",
        "from sklearn.pipeline import make_pipeline\n",
        "xArr= np.array(x).reshape(-1,1)\n",
        "y2Arr= np.array(y2).reshape(-1,1)\n",
        "# the order of the polynomial features\n",
        "order =11\n",
        "# creating new polynomial features from the x values, to the 11th order\n",
        "## instanciate a PolynomialFeatures object\n",
        "polyObj= PolynomialFeatures(order,include_bias=False)\n",
        "myNewFeatures=polyObj.fit_transform(xArr)\n",
        "# instanciate a linear regrossor model\n",
        "myModel = LinearRegression()\n",
        "# fitinig the model\n",
        "myModel.fit(myNewFeatures, y2Arr)\n",
        "# the calculated parameters\n",
        "for i in range(1,order+1):\n",
        "  print(\"a\"+ str(i)+\" == \"+ str(myModel.coef_[0,i-1]))\n",
        "print (\"b == \",myModel.intercept_)\n",
        "\n",
        "# new values of x : to visualize the model \n",
        "newX = np.linspace(1,20,1000)\n",
        "newXArr= np.array(newX).reshape(-1,1)\n",
        "# corresponding polynomial features for the new values\n",
        "newPlolyX =polyObj.fit_transform(newXArr)\n",
        "# predict the labels for newX\n",
        "newy2 = myModel.predict(newPlolyX)\n",
        "# plotting the old values and the visualization of the model\n",
        "plt.scatter(x, y2)\n",
        "plt.plot(newX, newy2, color=\"g\");\n"
      ],
      "execution_count": 0,
      "outputs": [
        {
          "output_type": "stream",
          "text": [
            "a1 == 1.082342788616737\n",
            "a2 == -0.3467361207602115\n",
            "a3 == -1.2783129359707837\n",
            "a4 == 0.870162600264868\n",
            "a5 == -0.23920956721148331\n",
            "a6 == 0.03551683982444699\n",
            "a7 == -0.0031199102810342853\n",
            "a8 == 0.00016568970314629125\n",
            "a9 == -5.162501041638913e-06\n",
            "a10 == 8.504986120580482e-08\n",
            "a11 == -5.486717191693913e-10\n",
            "b ==  [0.7848334]\n"
          ],
          "name": "stdout"
        },
        {
          "output_type": "display_data",
          "data": {
            "image/png": "[encoded data removed]",
            "text/plain": [
              "<matplotlib.figure.Figure at 0x7f5f40013438>"
            ]
          },
          "metadata": {
            "tags": []
          }
        }
      ]
    },
    {
      "metadata": {
        "id": "Av5tKx6Nh6iq",
        "colab_type": "text"
      },
      "cell_type": "markdown",
      "source": [
        "## Example with a pipeline\n",
        "\n",
        "* In the previous example, we have to repat **the process** of generating the **polynomial** features each time we need to use the **regression model**.\n",
        "\n",
        "* In this case, we will use  a **pipeline** to avoid this repetition. It will define the **regression model** to be used for training and prediction."
      ]
    },
    {
      "metadata": {
        "id": "mi-urFyKiAD6",
        "colab_type": "code",
        "outputId": "08ef151f-70ca-46ef-936d-1d4d1e002189",
        "colab": {
          "base_uri": "https://localhost:8080/",
          "height": 473
        }
      },
      "cell_type": "code",
      "source": [
        "from sklearn.pipeline import make_pipeline\n",
        "# create the pipeline\n",
        "myPipeline= make_pipeline(polyObj,myModel)\n",
        "myPipeline.fit(xArr, y2Arr)\n",
        "# the calculated parameters\n",
        "for i in range(1,order+1):\n",
        "  print(\"a\"+ str(i)+\" == \"+ str(myModel.coef_[0,i-1]))\n",
        "print (\"b == \",myModel.intercept_)\n",
        "\n",
        "# predict the labels for newX\n",
        "newy2 = myPipeline.predict(newXArr)\n",
        "# plotting the old values and the model visualization\n",
        "plt.scatter(x, y2)\n",
        "plt.plot(newX, newy2, color=\"g\");\n"
      ],
      "execution_count": 0,
      "outputs": [
        {
          "output_type": "stream",
          "text": [
            "a1 == 1.082342788616737\n",
            "a2 == -0.3467361207602115\n",
            "a3 == -1.2783129359707837\n",
            "a4 == 0.870162600264868\n",
            "a5 == -0.23920956721148331\n",
            "a6 == 0.03551683982444699\n",
            "a7 == -0.0031199102810342853\n",
            "a8 == 0.00016568970314629125\n",
            "a9 == -5.162501041638913e-06\n",
            "a10 == 8.504986120580482e-08\n",
            "a11 == -5.486717191693913e-10\n",
            "b ==  [0.7848334]\n"
          ],
          "name": "stdout"
        },
        {
          "output_type": "display_data",
          "data": {
            "image/png": "[encoded data removed]",
            "text/plain": [
              "<matplotlib.figure.Figure at 0x7f5f3fb715f8>"
            ]
          },
          "metadata": {
            "tags": []
          }
        }
      ]
    },
    {
      "metadata": {
        "id": "tSbN2yDrRSdW",
        "colab_type": "text"
      },
      "cell_type": "markdown",
      "source": [
        "# References\n",
        "\n",
        "* Brillant.org. Classification problems. On-line at https://brilliant.org/wiki/classification/. Accessed on 03-11-2018. Karleigh Moore and Christopher Williams contributed.\n",
        "\n",
        "* Joshi Prateek. Artificial intelligence with Python. Packt Publishing, 2017.\n",
        "\n",
        "* Scikit-learn.org. scikit-learn, machine learning in python.\n",
        "On-line at scikit-learn.org/stable/. Accessed on 03-11-2018.\n",
        "\n",
        "* Jake VanderPlas. Python data science handbook: essential tools for working with data. O’Reilly Media, Inc, 2017."
      ]
    }
  ]
}