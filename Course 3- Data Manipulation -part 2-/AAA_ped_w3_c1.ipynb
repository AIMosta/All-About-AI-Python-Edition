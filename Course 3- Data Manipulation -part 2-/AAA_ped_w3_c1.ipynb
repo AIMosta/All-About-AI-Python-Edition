{
  "nbformat": 4,
  "nbformat_minor": 0,
  "metadata": {
    "colab": {
      "name": "AAA-ped-w3-c1.ipynb",
      "version": "0.3.2",
      "provenance": [],
      "collapsed_sections": [],
      "toc_visible": true,
      "include_colab_link": true
    },
    "kernelspec": {
      "name": "python3",
      "display_name": "Python 3"
    }
  },
  "cells": [
    {
      "cell_type": "markdown",
      "metadata": {
        "id": "view-in-github",
        "colab_type": "text"
      },
      "source": [
        "<a href=\"https://colab.research.google.com/github/AIMosta/All-About-AI-Python-Edition/blob/master/Course%203-%20Data%20Manipulation%20-part%202-/AAA_ped_w3_c1.ipynb\" target=\"_parent\"><img src=\"https://colab.research.google.com/assets/colab-badge.svg\" alt=\"Open In Colab\"/></a>"
      ]
    },
    {
      "metadata": {
        "id": "gLmrHd4EuEDM",
        "colab_type": "text"
      },
      "cell_type": "markdown",
      "source": [
        "<img src=\"https://docs.google.com/uc?export=download&id=1ap18raVTUCSJeGzTLz9kViroFGvTknrV\">\n",
        "# Data manipulation:  Data wrangling, aggeregation, and group operations."
      ]
    },
    {
      "metadata": {
        "id": "EKA9mMGRv0co",
        "colab_type": "text"
      },
      "cell_type": "markdown",
      "source": [
        "# 1- Hierarchical Indexing"
      ]
    },
    {
      "metadata": {
        "id": "4Se0lbygtz_0",
        "colab_type": "text"
      },
      "cell_type": "markdown",
      "source": [
        "* **Data wrangling** is the process of **cleaning** and **unifying messy ** and **complex** data sets for **easy access** and **analysis**. (from: https://www.datawatch.com/what-is-data-wrangling/)\n",
        "* **Hierarchical indexing**: is the use of **multiple** indexes at \n",
        "different** levels**"
      ]
    },
    {
      "metadata": {
        "id": "_pQcWdvEidwu",
        "colab_type": "code",
        "colab": {}
      },
      "cell_type": "code",
      "source": [
        "# importing necessary libraries\n",
        "import pandas as pd\n",
        "from pandas import Series as S, DataFrame as DF\n",
        "import numpy as np\n",
        "\n"
      ],
      "execution_count": 0,
      "outputs": []
    },
    {
      "metadata": {
        "id": "wZ9IVxnLxIhe",
        "colab_type": "code",
        "outputId": "b3d126c7-bfbf-4efd-c020-3e5a94b2a11b",
        "colab": {
          "base_uri": "https://localhost:8080/",
          "height": 208
        }
      },
      "cell_type": "code",
      "source": [
        "# creating a Series with a hirearchical index\n",
        "hind = [list(\"AAABBBCCCD\"),[\"i1\",\"i2\",\"i3\"]*3 +[\"i1\"]]\n",
        "ser1 = S(range(10), index= hind)\n",
        "ser1\n"
      ],
      "execution_count": 0,
      "outputs": [
        {
          "output_type": "execute_result",
          "data": {
            "text/plain": [
              "A  i1    0\n",
              "   i2    1\n",
              "   i3    2\n",
              "B  i1    3\n",
              "   i2    4\n",
              "   i3    5\n",
              "C  i1    6\n",
              "   i2    7\n",
              "   i3    8\n",
              "D  i1    9\n",
              "dtype: int64"
            ]
          },
          "metadata": {
            "tags": []
          },
          "execution_count": 250
        }
      ]
    },
    {
      "metadata": {
        "id": "D-oqfBpxzGQ2",
        "colab_type": "code",
        "outputId": "c7043890-f2e3-4658-e98b-b7e384137f9d",
        "colab": {
          "base_uri": "https://localhost:8080/",
          "height": 52
        }
      },
      "cell_type": "code",
      "source": [
        "# the index given as argument when creating the series\n",
        "hind"
      ],
      "execution_count": 0,
      "outputs": [
        {
          "output_type": "execute_result",
          "data": {
            "text/plain": [
              "[['A', 'A', 'A', 'B', 'B', 'B', 'C', 'C', 'C', 'D'],\n",
              " ['i1', 'i2', 'i3', 'i1', 'i2', 'i3', 'i1', 'i2', 'i3', 'i1']]"
            ]
          },
          "metadata": {
            "tags": []
          },
          "execution_count": 251
        }
      ]
    },
    {
      "metadata": {
        "id": "hhAok5KTy4DI",
        "colab_type": "code",
        "outputId": "0e35c5a9-9196-4fa8-e2af-0e87565e6d2a",
        "colab": {
          "base_uri": "https://localhost:8080/",
          "height": 52
        }
      },
      "cell_type": "code",
      "source": [
        "ser1.index"
      ],
      "execution_count": 0,
      "outputs": [
        {
          "output_type": "execute_result",
          "data": {
            "text/plain": [
              "MultiIndex(levels=[['A', 'B', 'C', 'D'], ['i1', 'i2', 'i3']],\n",
              "           labels=[[0, 0, 0, 1, 1, 1, 2, 2, 2, 3], [0, 1, 2, 0, 1, 2, 0, 1, 2, 0]])"
            ]
          },
          "metadata": {
            "tags": []
          },
          "execution_count": 252
        }
      ]
    },
    {
      "metadata": {
        "id": "H-JFbXf3wijK",
        "colab_type": "text"
      },
      "cell_type": "markdown",
      "source": [
        "## Reordering an sorting"
      ]
    },
    {
      "metadata": {
        "id": "US8PUZB3woY-",
        "colab_type": "text"
      },
      "cell_type": "markdown",
      "source": [
        "* Reordering  enables **interchanging the index levels** using the **swaplevel** method\n",
        "* Sorting enables** sorting** the  **data** by sorting** one level values**, using the **sort_index** method."
      ]
    },
    {
      "metadata": {
        "id": "gL89ihRK2vqG",
        "colab_type": "code",
        "outputId": "b35d10bb-b4dc-45d8-de16-407949da50f4",
        "colab": {
          "base_uri": "https://localhost:8080/",
          "height": 225
        }
      },
      "cell_type": "code",
      "source": [
        "# naming the levels\n",
        "ser1.index.names=[\"the_level0\",\"the_level1\"]\n",
        "# rearanging the levels\n",
        "ser1.swaplevel(\"the_level0\",\"the_level1\")"
      ],
      "execution_count": 0,
      "outputs": [
        {
          "output_type": "execute_result",
          "data": {
            "text/plain": [
              "the_level1  the_level0\n",
              "i1          A             0\n",
              "i2          A             1\n",
              "i3          A             2\n",
              "i1          B             3\n",
              "i2          B             4\n",
              "i3          B             5\n",
              "i1          C             6\n",
              "i2          C             7\n",
              "i3          C             8\n",
              "i1          D             9\n",
              "dtype: int64"
            ]
          },
          "metadata": {
            "tags": []
          },
          "execution_count": 253
        }
      ]
    },
    {
      "metadata": {
        "id": "thscv_yU3oQC",
        "colab_type": "code",
        "outputId": "db807943-906f-4b93-aff6-20f7926f3369",
        "colab": {
          "base_uri": "https://localhost:8080/",
          "height": 225
        }
      },
      "cell_type": "code",
      "source": [
        "# sorting the values following the second level : level=1\n",
        "ser1.sort_index(level=1)"
      ],
      "execution_count": 0,
      "outputs": [
        {
          "output_type": "execute_result",
          "data": {
            "text/plain": [
              "the_level0  the_level1\n",
              "A           i1            0\n",
              "B           i1            3\n",
              "C           i1            6\n",
              "D           i1            9\n",
              "A           i2            1\n",
              "B           i2            4\n",
              "C           i2            7\n",
              "A           i3            2\n",
              "B           i3            5\n",
              "C           i3            8\n",
              "dtype: int64"
            ]
          },
          "metadata": {
            "tags": []
          },
          "execution_count": 254
        }
      ]
    },
    {
      "metadata": {
        "id": "-UlmKqz7NVf-",
        "colab_type": "text"
      },
      "cell_type": "markdown",
      "source": [
        "## operations by level\n"
      ]
    },
    {
      "metadata": {
        "id": "Cyn67mDt2_HQ",
        "colab_type": "code",
        "outputId": "6db250a8-1b80-4ea8-c7d6-1e718b5195ff",
        "colab": {
          "base_uri": "https://localhost:8080/",
          "height": 269
        }
      },
      "cell_type": "code",
      "source": [
        "hind2=[[\"hex\",\"hex\",\"hex\",\"rgb\",\"rgb\",\"rgb\"],[1,2,3,1,2,3]]\n",
        "# creating a new DataFrame\n",
        "df1 = DF({\"colors\":[\"green\",\"blue\",\"red\",\"green\",\"blue\",\"red\"],\"codes\":[\"#FF0000\",\"#0000FF\",\"#FF0000\",(0,0,255),(0,255,0),(255,0,0)]}, index=hind2,columns=[\"colors\",\"codes\"])\n",
        "df1.index.names=[\"Code_type\",\"number\"]\n",
        "df1"
      ],
      "execution_count": 0,
      "outputs": [
        {
          "output_type": "execute_result",
          "data": {
            "text/html": [
              "<div>\n",
              "<style scoped>\n",
              "    .dataframe tbody tr th:only-of-type {\n",
              "        vertical-align: middle;\n",
              "    }\n",
              "\n",
              "    .dataframe tbody tr th {\n",
              "        vertical-align: top;\n",
              "    }\n",
              "\n",
              "    .dataframe thead th {\n",
              "        text-align: right;\n",
              "    }\n",
              "</style>\n",
              "<table border=\"1\" class=\"dataframe\">\n",
              "  <thead>\n",
              "    <tr style=\"text-align: right;\">\n",
              "      <th></th>\n",
              "      <th></th>\n",
              "      <th>colors</th>\n",
              "      <th>codes</th>\n",
              "    </tr>\n",
              "    <tr>\n",
              "      <th>Code_type</th>\n",
              "      <th>number</th>\n",
              "      <th></th>\n",
              "      <th></th>\n",
              "    </tr>\n",
              "  </thead>\n",
              "  <tbody>\n",
              "    <tr>\n",
              "      <th rowspan=\"3\" valign=\"top\">hex</th>\n",
              "      <th>1</th>\n",
              "      <td>green</td>\n",
              "      <td>#FF0000</td>\n",
              "    </tr>\n",
              "    <tr>\n",
              "      <th>2</th>\n",
              "      <td>blue</td>\n",
              "      <td>#0000FF</td>\n",
              "    </tr>\n",
              "    <tr>\n",
              "      <th>3</th>\n",
              "      <td>red</td>\n",
              "      <td>#FF0000</td>\n",
              "    </tr>\n",
              "    <tr>\n",
              "      <th rowspan=\"3\" valign=\"top\">rgb</th>\n",
              "      <th>1</th>\n",
              "      <td>green</td>\n",
              "      <td>(0, 0, 255)</td>\n",
              "    </tr>\n",
              "    <tr>\n",
              "      <th>2</th>\n",
              "      <td>blue</td>\n",
              "      <td>(0, 255, 0)</td>\n",
              "    </tr>\n",
              "    <tr>\n",
              "      <th>3</th>\n",
              "      <td>red</td>\n",
              "      <td>(255, 0, 0)</td>\n",
              "    </tr>\n",
              "  </tbody>\n",
              "</table>\n",
              "</div>"
            ],
            "text/plain": [
              "                 colors        codes\n",
              "Code_type number                    \n",
              "hex       1       green      #FF0000\n",
              "          2        blue      #0000FF\n",
              "          3         red      #FF0000\n",
              "rgb       1       green  (0, 0, 255)\n",
              "          2        blue  (0, 255, 0)\n",
              "          3         red  (255, 0, 0)"
            ]
          },
          "metadata": {
            "tags": []
          },
          "execution_count": 255
        }
      ]
    },
    {
      "metadata": {
        "id": "4IPfZHd5Rq2C",
        "colab_type": "code",
        "outputId": "4215b85e-67c6-4818-a3b7-e46ef17bc7d6",
        "colab": {
          "base_uri": "https://localhost:8080/",
          "height": 143
        }
      },
      "cell_type": "code",
      "source": [
        "# summrising the columns values by \"code_type\"\n",
        "df1.sum(level=\"Code_type\")"
      ],
      "execution_count": 0,
      "outputs": [
        {
          "output_type": "execute_result",
          "data": {
            "text/html": [
              "<div>\n",
              "<style scoped>\n",
              "    .dataframe tbody tr th:only-of-type {\n",
              "        vertical-align: middle;\n",
              "    }\n",
              "\n",
              "    .dataframe tbody tr th {\n",
              "        vertical-align: top;\n",
              "    }\n",
              "\n",
              "    .dataframe thead th {\n",
              "        text-align: right;\n",
              "    }\n",
              "</style>\n",
              "<table border=\"1\" class=\"dataframe\">\n",
              "  <thead>\n",
              "    <tr style=\"text-align: right;\">\n",
              "      <th></th>\n",
              "      <th>colors</th>\n",
              "      <th>codes</th>\n",
              "    </tr>\n",
              "    <tr>\n",
              "      <th>Code_type</th>\n",
              "      <th></th>\n",
              "      <th></th>\n",
              "    </tr>\n",
              "  </thead>\n",
              "  <tbody>\n",
              "    <tr>\n",
              "      <th>hex</th>\n",
              "      <td>greenbluered</td>\n",
              "      <td>#FF0000#0000FF#FF0000</td>\n",
              "    </tr>\n",
              "    <tr>\n",
              "      <th>rgb</th>\n",
              "      <td>greenbluered</td>\n",
              "      <td>(0, 0, 255, 0, 255, 0, 255, 0, 0)</td>\n",
              "    </tr>\n",
              "  </tbody>\n",
              "</table>\n",
              "</div>"
            ],
            "text/plain": [
              "                 colors                              codes\n",
              "Code_type                                                 \n",
              "hex        greenbluered              #FF0000#0000FF#FF0000\n",
              "rgb        greenbluered  (0, 0, 255, 0, 255, 0, 255, 0, 0)"
            ]
          },
          "metadata": {
            "tags": []
          },
          "execution_count": 256
        }
      ]
    },
    {
      "metadata": {
        "id": "t_D0P8n5rCXo",
        "colab_type": "text"
      },
      "cell_type": "markdown",
      "source": [
        "## indexing"
      ]
    },
    {
      "metadata": {
        "id": "YcEZ9-o_SgmG",
        "colab_type": "code",
        "outputId": "0dde238f-0558-4966-fb75-3feacf797f6e",
        "colab": {
          "base_uri": "https://localhost:8080/",
          "height": 269
        }
      },
      "cell_type": "code",
      "source": [
        "df1[\"value\"]= [5,7,8,10,3,1]\n",
        "# sort the df1 values according to the second index\n",
        "df1= df1.sort_index(level=1)\n",
        "df1"
      ],
      "execution_count": 0,
      "outputs": [
        {
          "output_type": "execute_result",
          "data": {
            "text/html": [
              "<div>\n",
              "<style scoped>\n",
              "    .dataframe tbody tr th:only-of-type {\n",
              "        vertical-align: middle;\n",
              "    }\n",
              "\n",
              "    .dataframe tbody tr th {\n",
              "        vertical-align: top;\n",
              "    }\n",
              "\n",
              "    .dataframe thead th {\n",
              "        text-align: right;\n",
              "    }\n",
              "</style>\n",
              "<table border=\"1\" class=\"dataframe\">\n",
              "  <thead>\n",
              "    <tr style=\"text-align: right;\">\n",
              "      <th></th>\n",
              "      <th></th>\n",
              "      <th>colors</th>\n",
              "      <th>codes</th>\n",
              "      <th>value</th>\n",
              "    </tr>\n",
              "    <tr>\n",
              "      <th>Code_type</th>\n",
              "      <th>number</th>\n",
              "      <th></th>\n",
              "      <th></th>\n",
              "      <th></th>\n",
              "    </tr>\n",
              "  </thead>\n",
              "  <tbody>\n",
              "    <tr>\n",
              "      <th>hex</th>\n",
              "      <th>1</th>\n",
              "      <td>green</td>\n",
              "      <td>#FF0000</td>\n",
              "      <td>5</td>\n",
              "    </tr>\n",
              "    <tr>\n",
              "      <th>rgb</th>\n",
              "      <th>1</th>\n",
              "      <td>green</td>\n",
              "      <td>(0, 0, 255)</td>\n",
              "      <td>10</td>\n",
              "    </tr>\n",
              "    <tr>\n",
              "      <th>hex</th>\n",
              "      <th>2</th>\n",
              "      <td>blue</td>\n",
              "      <td>#0000FF</td>\n",
              "      <td>7</td>\n",
              "    </tr>\n",
              "    <tr>\n",
              "      <th>rgb</th>\n",
              "      <th>2</th>\n",
              "      <td>blue</td>\n",
              "      <td>(0, 255, 0)</td>\n",
              "      <td>3</td>\n",
              "    </tr>\n",
              "    <tr>\n",
              "      <th>hex</th>\n",
              "      <th>3</th>\n",
              "      <td>red</td>\n",
              "      <td>#FF0000</td>\n",
              "      <td>8</td>\n",
              "    </tr>\n",
              "    <tr>\n",
              "      <th>rgb</th>\n",
              "      <th>3</th>\n",
              "      <td>red</td>\n",
              "      <td>(255, 0, 0)</td>\n",
              "      <td>1</td>\n",
              "    </tr>\n",
              "  </tbody>\n",
              "</table>\n",
              "</div>"
            ],
            "text/plain": [
              "                 colors        codes  value\n",
              "Code_type number                           \n",
              "hex       1       green      #FF0000      5\n",
              "rgb       1       green  (0, 0, 255)     10\n",
              "hex       2        blue      #0000FF      7\n",
              "rgb       2        blue  (0, 255, 0)      3\n",
              "hex       3         red      #FF0000      8\n",
              "rgb       3         red  (255, 0, 0)      1"
            ]
          },
          "metadata": {
            "tags": []
          },
          "execution_count": 257
        }
      ]
    },
    {
      "metadata": {
        "id": "r4_d8we5U4oY",
        "colab_type": "code",
        "outputId": "f40fa137-9a42-4d5f-9f34-666248a6c391",
        "colab": {
          "base_uri": "https://localhost:8080/",
          "height": 269
        }
      },
      "cell_type": "code",
      "source": [
        "# creating a new DataFrame using df1 columns\n",
        "df2 =df1.set_index([\"colors\",\"codes\"])\n",
        "df2"
      ],
      "execution_count": 0,
      "outputs": [
        {
          "output_type": "execute_result",
          "data": {
            "text/html": [
              "<div>\n",
              "<style scoped>\n",
              "    .dataframe tbody tr th:only-of-type {\n",
              "        vertical-align: middle;\n",
              "    }\n",
              "\n",
              "    .dataframe tbody tr th {\n",
              "        vertical-align: top;\n",
              "    }\n",
              "\n",
              "    .dataframe thead th {\n",
              "        text-align: right;\n",
              "    }\n",
              "</style>\n",
              "<table border=\"1\" class=\"dataframe\">\n",
              "  <thead>\n",
              "    <tr style=\"text-align: right;\">\n",
              "      <th></th>\n",
              "      <th></th>\n",
              "      <th>value</th>\n",
              "    </tr>\n",
              "    <tr>\n",
              "      <th>colors</th>\n",
              "      <th>codes</th>\n",
              "      <th></th>\n",
              "    </tr>\n",
              "  </thead>\n",
              "  <tbody>\n",
              "    <tr>\n",
              "      <th rowspan=\"2\" valign=\"top\">green</th>\n",
              "      <th>#FF0000</th>\n",
              "      <td>5</td>\n",
              "    </tr>\n",
              "    <tr>\n",
              "      <th>(0, 0, 255)</th>\n",
              "      <td>10</td>\n",
              "    </tr>\n",
              "    <tr>\n",
              "      <th rowspan=\"2\" valign=\"top\">blue</th>\n",
              "      <th>#0000FF</th>\n",
              "      <td>7</td>\n",
              "    </tr>\n",
              "    <tr>\n",
              "      <th>(0, 255, 0)</th>\n",
              "      <td>3</td>\n",
              "    </tr>\n",
              "    <tr>\n",
              "      <th rowspan=\"2\" valign=\"top\">red</th>\n",
              "      <th>#FF0000</th>\n",
              "      <td>8</td>\n",
              "    </tr>\n",
              "    <tr>\n",
              "      <th>(255, 0, 0)</th>\n",
              "      <td>1</td>\n",
              "    </tr>\n",
              "  </tbody>\n",
              "</table>\n",
              "</div>"
            ],
            "text/plain": [
              "                    value\n",
              "colors codes             \n",
              "green  #FF0000          5\n",
              "       (0, 0, 255)     10\n",
              "blue   #0000FF          7\n",
              "       (0, 255, 0)      3\n",
              "red    #FF0000          8\n",
              "       (255, 0, 0)      1"
            ]
          },
          "metadata": {
            "tags": []
          },
          "execution_count": 258
        }
      ]
    },
    {
      "metadata": {
        "id": "4eNAjESKUXek",
        "colab_type": "code",
        "outputId": "804acd0e-e5c1-4415-e884-7ca632ee69ac",
        "colab": {
          "base_uri": "https://localhost:8080/",
          "height": 237
        }
      },
      "cell_type": "code",
      "source": [
        "# the indexes are converted into columns\n",
        "df2.reset_index()"
      ],
      "execution_count": 0,
      "outputs": [
        {
          "output_type": "execute_result",
          "data": {
            "text/html": [
              "<div>\n",
              "<style scoped>\n",
              "    .dataframe tbody tr th:only-of-type {\n",
              "        vertical-align: middle;\n",
              "    }\n",
              "\n",
              "    .dataframe tbody tr th {\n",
              "        vertical-align: top;\n",
              "    }\n",
              "\n",
              "    .dataframe thead th {\n",
              "        text-align: right;\n",
              "    }\n",
              "</style>\n",
              "<table border=\"1\" class=\"dataframe\">\n",
              "  <thead>\n",
              "    <tr style=\"text-align: right;\">\n",
              "      <th></th>\n",
              "      <th>colors</th>\n",
              "      <th>codes</th>\n",
              "      <th>value</th>\n",
              "    </tr>\n",
              "  </thead>\n",
              "  <tbody>\n",
              "    <tr>\n",
              "      <th>0</th>\n",
              "      <td>green</td>\n",
              "      <td>#FF0000</td>\n",
              "      <td>5</td>\n",
              "    </tr>\n",
              "    <tr>\n",
              "      <th>1</th>\n",
              "      <td>green</td>\n",
              "      <td>(0, 0, 255)</td>\n",
              "      <td>10</td>\n",
              "    </tr>\n",
              "    <tr>\n",
              "      <th>2</th>\n",
              "      <td>blue</td>\n",
              "      <td>#0000FF</td>\n",
              "      <td>7</td>\n",
              "    </tr>\n",
              "    <tr>\n",
              "      <th>3</th>\n",
              "      <td>blue</td>\n",
              "      <td>(0, 255, 0)</td>\n",
              "      <td>3</td>\n",
              "    </tr>\n",
              "    <tr>\n",
              "      <th>4</th>\n",
              "      <td>red</td>\n",
              "      <td>#FF0000</td>\n",
              "      <td>8</td>\n",
              "    </tr>\n",
              "    <tr>\n",
              "      <th>5</th>\n",
              "      <td>red</td>\n",
              "      <td>(255, 0, 0)</td>\n",
              "      <td>1</td>\n",
              "    </tr>\n",
              "  </tbody>\n",
              "</table>\n",
              "</div>"
            ],
            "text/plain": [
              "  colors        codes  value\n",
              "0  green      #FF0000      5\n",
              "1  green  (0, 0, 255)     10\n",
              "2   blue      #0000FF      7\n",
              "3   blue  (0, 255, 0)      3\n",
              "4    red      #FF0000      8\n",
              "5    red  (255, 0, 0)      1"
            ]
          },
          "metadata": {
            "tags": []
          },
          "execution_count": 259
        }
      ]
    },
    {
      "metadata": {
        "id": "PH9R-mkQazga",
        "colab_type": "text"
      },
      "cell_type": "markdown",
      "source": [
        "# 2- Combining and merging Data Sets"
      ]
    },
    {
      "metadata": {
        "id": "L0BN0eWT93r2",
        "colab_type": "text"
      },
      "cell_type": "markdown",
      "source": [
        "## merge"
      ]
    },
    {
      "metadata": {
        "id": "uNihCpxPbiF0",
        "colab_type": "code",
        "outputId": "6726e579-fdcd-4adb-f2dd-3a8346b2031e",
        "colab": {
          "base_uri": "https://localhost:8080/",
          "height": 269
        }
      },
      "cell_type": "code",
      "source": [
        "df1"
      ],
      "execution_count": 0,
      "outputs": [
        {
          "output_type": "execute_result",
          "data": {
            "text/html": [
              "<div>\n",
              "<style scoped>\n",
              "    .dataframe tbody tr th:only-of-type {\n",
              "        vertical-align: middle;\n",
              "    }\n",
              "\n",
              "    .dataframe tbody tr th {\n",
              "        vertical-align: top;\n",
              "    }\n",
              "\n",
              "    .dataframe thead th {\n",
              "        text-align: right;\n",
              "    }\n",
              "</style>\n",
              "<table border=\"1\" class=\"dataframe\">\n",
              "  <thead>\n",
              "    <tr style=\"text-align: right;\">\n",
              "      <th></th>\n",
              "      <th></th>\n",
              "      <th>colors</th>\n",
              "      <th>codes</th>\n",
              "      <th>value</th>\n",
              "    </tr>\n",
              "    <tr>\n",
              "      <th>Code_type</th>\n",
              "      <th>number</th>\n",
              "      <th></th>\n",
              "      <th></th>\n",
              "      <th></th>\n",
              "    </tr>\n",
              "  </thead>\n",
              "  <tbody>\n",
              "    <tr>\n",
              "      <th>hex</th>\n",
              "      <th>1</th>\n",
              "      <td>green</td>\n",
              "      <td>#FF0000</td>\n",
              "      <td>5</td>\n",
              "    </tr>\n",
              "    <tr>\n",
              "      <th>rgb</th>\n",
              "      <th>1</th>\n",
              "      <td>green</td>\n",
              "      <td>(0, 0, 255)</td>\n",
              "      <td>10</td>\n",
              "    </tr>\n",
              "    <tr>\n",
              "      <th>hex</th>\n",
              "      <th>2</th>\n",
              "      <td>blue</td>\n",
              "      <td>#0000FF</td>\n",
              "      <td>7</td>\n",
              "    </tr>\n",
              "    <tr>\n",
              "      <th>rgb</th>\n",
              "      <th>2</th>\n",
              "      <td>blue</td>\n",
              "      <td>(0, 255, 0)</td>\n",
              "      <td>3</td>\n",
              "    </tr>\n",
              "    <tr>\n",
              "      <th>hex</th>\n",
              "      <th>3</th>\n",
              "      <td>red</td>\n",
              "      <td>#FF0000</td>\n",
              "      <td>8</td>\n",
              "    </tr>\n",
              "    <tr>\n",
              "      <th>rgb</th>\n",
              "      <th>3</th>\n",
              "      <td>red</td>\n",
              "      <td>(255, 0, 0)</td>\n",
              "      <td>1</td>\n",
              "    </tr>\n",
              "  </tbody>\n",
              "</table>\n",
              "</div>"
            ],
            "text/plain": [
              "                 colors        codes  value\n",
              "Code_type number                           \n",
              "hex       1       green      #FF0000      5\n",
              "rgb       1       green  (0, 0, 255)     10\n",
              "hex       2        blue      #0000FF      7\n",
              "rgb       2        blue  (0, 255, 0)      3\n",
              "hex       3         red      #FF0000      8\n",
              "rgb       3         red  (255, 0, 0)      1"
            ]
          },
          "metadata": {
            "tags": []
          },
          "execution_count": 260
        }
      ]
    },
    {
      "metadata": {
        "id": "Nxe5UGYRbkdq",
        "colab_type": "code",
        "outputId": "33f17f22-1a11-4635-b9c5-a565a61beaa3",
        "colab": {
          "base_uri": "https://localhost:8080/",
          "height": 112
        }
      },
      "cell_type": "code",
      "source": [
        "df3 = DF({\"mycolors\":[\"green\",\"blue\"],\"codes\":[\"G\",\"B\"]})\n",
        "df3"
      ],
      "execution_count": 0,
      "outputs": [
        {
          "output_type": "execute_result",
          "data": {
            "text/html": [
              "<div>\n",
              "<style scoped>\n",
              "    .dataframe tbody tr th:only-of-type {\n",
              "        vertical-align: middle;\n",
              "    }\n",
              "\n",
              "    .dataframe tbody tr th {\n",
              "        vertical-align: top;\n",
              "    }\n",
              "\n",
              "    .dataframe thead th {\n",
              "        text-align: right;\n",
              "    }\n",
              "</style>\n",
              "<table border=\"1\" class=\"dataframe\">\n",
              "  <thead>\n",
              "    <tr style=\"text-align: right;\">\n",
              "      <th></th>\n",
              "      <th>codes</th>\n",
              "      <th>mycolors</th>\n",
              "    </tr>\n",
              "  </thead>\n",
              "  <tbody>\n",
              "    <tr>\n",
              "      <th>0</th>\n",
              "      <td>G</td>\n",
              "      <td>green</td>\n",
              "    </tr>\n",
              "    <tr>\n",
              "      <th>1</th>\n",
              "      <td>B</td>\n",
              "      <td>blue</td>\n",
              "    </tr>\n",
              "  </tbody>\n",
              "</table>\n",
              "</div>"
            ],
            "text/plain": [
              "  codes mycolors\n",
              "0     G    green\n",
              "1     B     blue"
            ]
          },
          "metadata": {
            "tags": []
          },
          "execution_count": 261
        }
      ]
    },
    {
      "metadata": {
        "id": "keCDuI_-cg8i",
        "colab_type": "code",
        "outputId": "721b3fc7-7cb9-4a5e-bc11-47247e54732f",
        "colab": {
          "base_uri": "https://localhost:8080/",
          "height": 175
        }
      },
      "cell_type": "code",
      "source": [
        "# merging two dataframes df1 and df3, using the common values\n",
        "#in \"colors\" and \"mycolors\" columns\n",
        "pd.merge(df1,df3,left_on=\"colors\",right_on=\"mycolors\")"
      ],
      "execution_count": 0,
      "outputs": [
        {
          "output_type": "execute_result",
          "data": {
            "text/html": [
              "<div>\n",
              "<style scoped>\n",
              "    .dataframe tbody tr th:only-of-type {\n",
              "        vertical-align: middle;\n",
              "    }\n",
              "\n",
              "    .dataframe tbody tr th {\n",
              "        vertical-align: top;\n",
              "    }\n",
              "\n",
              "    .dataframe thead th {\n",
              "        text-align: right;\n",
              "    }\n",
              "</style>\n",
              "<table border=\"1\" class=\"dataframe\">\n",
              "  <thead>\n",
              "    <tr style=\"text-align: right;\">\n",
              "      <th></th>\n",
              "      <th>colors</th>\n",
              "      <th>codes_x</th>\n",
              "      <th>value</th>\n",
              "      <th>codes_y</th>\n",
              "      <th>mycolors</th>\n",
              "    </tr>\n",
              "  </thead>\n",
              "  <tbody>\n",
              "    <tr>\n",
              "      <th>0</th>\n",
              "      <td>green</td>\n",
              "      <td>#FF0000</td>\n",
              "      <td>5</td>\n",
              "      <td>G</td>\n",
              "      <td>green</td>\n",
              "    </tr>\n",
              "    <tr>\n",
              "      <th>1</th>\n",
              "      <td>green</td>\n",
              "      <td>(0, 0, 255)</td>\n",
              "      <td>10</td>\n",
              "      <td>G</td>\n",
              "      <td>green</td>\n",
              "    </tr>\n",
              "    <tr>\n",
              "      <th>2</th>\n",
              "      <td>blue</td>\n",
              "      <td>#0000FF</td>\n",
              "      <td>7</td>\n",
              "      <td>B</td>\n",
              "      <td>blue</td>\n",
              "    </tr>\n",
              "    <tr>\n",
              "      <th>3</th>\n",
              "      <td>blue</td>\n",
              "      <td>(0, 255, 0)</td>\n",
              "      <td>3</td>\n",
              "      <td>B</td>\n",
              "      <td>blue</td>\n",
              "    </tr>\n",
              "  </tbody>\n",
              "</table>\n",
              "</div>"
            ],
            "text/plain": [
              "  colors      codes_x  value codes_y mycolors\n",
              "0  green      #FF0000      5       G    green\n",
              "1  green  (0, 0, 255)     10       G    green\n",
              "2   blue      #0000FF      7       B     blue\n",
              "3   blue  (0, 255, 0)      3       B     blue"
            ]
          },
          "metadata": {
            "tags": []
          },
          "execution_count": 262
        }
      ]
    },
    {
      "metadata": {
        "id": "olLXvZJAfZFi",
        "colab_type": "code",
        "outputId": "126ad350-d35f-4f1b-ccd3-58745f141dec",
        "colab": {
          "base_uri": "https://localhost:8080/",
          "height": 237
        }
      },
      "cell_type": "code",
      "source": [
        "# merging two dataframes df1 and df3, using the common values\n",
        "#in \"colors\" and \"mycolors\" columns\n",
        "#keeping all df1 values (even if they are missing in df3)\n",
        "pd.merge(df1,df3,left_on=\"colors\",right_on=\"mycolors\",suffixes=(\"_df1\",\"_df3\"),how=\"left\")"
      ],
      "execution_count": 0,
      "outputs": [
        {
          "output_type": "execute_result",
          "data": {
            "text/html": [
              "<div>\n",
              "<style scoped>\n",
              "    .dataframe tbody tr th:only-of-type {\n",
              "        vertical-align: middle;\n",
              "    }\n",
              "\n",
              "    .dataframe tbody tr th {\n",
              "        vertical-align: top;\n",
              "    }\n",
              "\n",
              "    .dataframe thead th {\n",
              "        text-align: right;\n",
              "    }\n",
              "</style>\n",
              "<table border=\"1\" class=\"dataframe\">\n",
              "  <thead>\n",
              "    <tr style=\"text-align: right;\">\n",
              "      <th></th>\n",
              "      <th>colors</th>\n",
              "      <th>codes_df1</th>\n",
              "      <th>value</th>\n",
              "      <th>codes_df3</th>\n",
              "      <th>mycolors</th>\n",
              "    </tr>\n",
              "  </thead>\n",
              "  <tbody>\n",
              "    <tr>\n",
              "      <th>0</th>\n",
              "      <td>green</td>\n",
              "      <td>#FF0000</td>\n",
              "      <td>5</td>\n",
              "      <td>G</td>\n",
              "      <td>green</td>\n",
              "    </tr>\n",
              "    <tr>\n",
              "      <th>1</th>\n",
              "      <td>green</td>\n",
              "      <td>(0, 0, 255)</td>\n",
              "      <td>10</td>\n",
              "      <td>G</td>\n",
              "      <td>green</td>\n",
              "    </tr>\n",
              "    <tr>\n",
              "      <th>2</th>\n",
              "      <td>blue</td>\n",
              "      <td>#0000FF</td>\n",
              "      <td>7</td>\n",
              "      <td>B</td>\n",
              "      <td>blue</td>\n",
              "    </tr>\n",
              "    <tr>\n",
              "      <th>3</th>\n",
              "      <td>blue</td>\n",
              "      <td>(0, 255, 0)</td>\n",
              "      <td>3</td>\n",
              "      <td>B</td>\n",
              "      <td>blue</td>\n",
              "    </tr>\n",
              "    <tr>\n",
              "      <th>4</th>\n",
              "      <td>red</td>\n",
              "      <td>#FF0000</td>\n",
              "      <td>8</td>\n",
              "      <td>NaN</td>\n",
              "      <td>NaN</td>\n",
              "    </tr>\n",
              "    <tr>\n",
              "      <th>5</th>\n",
              "      <td>red</td>\n",
              "      <td>(255, 0, 0)</td>\n",
              "      <td>1</td>\n",
              "      <td>NaN</td>\n",
              "      <td>NaN</td>\n",
              "    </tr>\n",
              "  </tbody>\n",
              "</table>\n",
              "</div>"
            ],
            "text/plain": [
              "  colors    codes_df1  value codes_df3 mycolors\n",
              "0  green      #FF0000      5         G    green\n",
              "1  green  (0, 0, 255)     10         G    green\n",
              "2   blue      #0000FF      7         B     blue\n",
              "3   blue  (0, 255, 0)      3         B     blue\n",
              "4    red      #FF0000      8       NaN      NaN\n",
              "5    red  (255, 0, 0)      1       NaN      NaN"
            ]
          },
          "metadata": {
            "tags": []
          },
          "execution_count": 263
        }
      ]
    },
    {
      "metadata": {
        "id": "J8p_kt68fl3q",
        "colab_type": "code",
        "outputId": "3d157a0c-174a-4216-874c-85b4494d9127",
        "colab": {
          "base_uri": "https://localhost:8080/",
          "height": 112
        }
      },
      "cell_type": "code",
      "source": [
        "# reseting the index of df1\n",
        "df11=df1.reset_index()\n",
        "# using df3 indexes values as common values for merge\n",
        "pd.merge(df11,df3,left_on=\"number\", right_index=True)\n"
      ],
      "execution_count": 0,
      "outputs": [
        {
          "output_type": "execute_result",
          "data": {
            "text/html": [
              "<div>\n",
              "<style scoped>\n",
              "    .dataframe tbody tr th:only-of-type {\n",
              "        vertical-align: middle;\n",
              "    }\n",
              "\n",
              "    .dataframe tbody tr th {\n",
              "        vertical-align: top;\n",
              "    }\n",
              "\n",
              "    .dataframe thead th {\n",
              "        text-align: right;\n",
              "    }\n",
              "</style>\n",
              "<table border=\"1\" class=\"dataframe\">\n",
              "  <thead>\n",
              "    <tr style=\"text-align: right;\">\n",
              "      <th></th>\n",
              "      <th>Code_type</th>\n",
              "      <th>number</th>\n",
              "      <th>colors</th>\n",
              "      <th>codes_x</th>\n",
              "      <th>value</th>\n",
              "      <th>codes_y</th>\n",
              "      <th>mycolors</th>\n",
              "    </tr>\n",
              "  </thead>\n",
              "  <tbody>\n",
              "    <tr>\n",
              "      <th>0</th>\n",
              "      <td>hex</td>\n",
              "      <td>1</td>\n",
              "      <td>green</td>\n",
              "      <td>#FF0000</td>\n",
              "      <td>5</td>\n",
              "      <td>B</td>\n",
              "      <td>blue</td>\n",
              "    </tr>\n",
              "    <tr>\n",
              "      <th>1</th>\n",
              "      <td>rgb</td>\n",
              "      <td>1</td>\n",
              "      <td>green</td>\n",
              "      <td>(0, 0, 255)</td>\n",
              "      <td>10</td>\n",
              "      <td>B</td>\n",
              "      <td>blue</td>\n",
              "    </tr>\n",
              "  </tbody>\n",
              "</table>\n",
              "</div>"
            ],
            "text/plain": [
              "  Code_type  number colors      codes_x  value codes_y mycolors\n",
              "0       hex       1  green      #FF0000      5       B     blue\n",
              "1       rgb       1  green  (0, 0, 255)     10       B     blue"
            ]
          },
          "metadata": {
            "tags": []
          },
          "execution_count": 264
        }
      ]
    },
    {
      "metadata": {
        "id": "vhwaaWvL99j6",
        "colab_type": "text"
      },
      "cell_type": "markdown",
      "source": [
        "## join"
      ]
    },
    {
      "metadata": {
        "id": "nMDxMhOa9E84",
        "colab_type": "code",
        "outputId": "9c7806a3-6c09-43ce-dbd8-eaf225faebb0",
        "colab": {
          "base_uri": "https://localhost:8080/",
          "height": 237
        }
      },
      "cell_type": "code",
      "source": [
        "df11"
      ],
      "execution_count": 0,
      "outputs": [
        {
          "output_type": "execute_result",
          "data": {
            "text/html": [
              "<div>\n",
              "<style scoped>\n",
              "    .dataframe tbody tr th:only-of-type {\n",
              "        vertical-align: middle;\n",
              "    }\n",
              "\n",
              "    .dataframe tbody tr th {\n",
              "        vertical-align: top;\n",
              "    }\n",
              "\n",
              "    .dataframe thead th {\n",
              "        text-align: right;\n",
              "    }\n",
              "</style>\n",
              "<table border=\"1\" class=\"dataframe\">\n",
              "  <thead>\n",
              "    <tr style=\"text-align: right;\">\n",
              "      <th></th>\n",
              "      <th>Code_type</th>\n",
              "      <th>number</th>\n",
              "      <th>colors</th>\n",
              "      <th>codes</th>\n",
              "      <th>value</th>\n",
              "    </tr>\n",
              "  </thead>\n",
              "  <tbody>\n",
              "    <tr>\n",
              "      <th>0</th>\n",
              "      <td>hex</td>\n",
              "      <td>1</td>\n",
              "      <td>green</td>\n",
              "      <td>#FF0000</td>\n",
              "      <td>5</td>\n",
              "    </tr>\n",
              "    <tr>\n",
              "      <th>1</th>\n",
              "      <td>rgb</td>\n",
              "      <td>1</td>\n",
              "      <td>green</td>\n",
              "      <td>(0, 0, 255)</td>\n",
              "      <td>10</td>\n",
              "    </tr>\n",
              "    <tr>\n",
              "      <th>2</th>\n",
              "      <td>hex</td>\n",
              "      <td>2</td>\n",
              "      <td>blue</td>\n",
              "      <td>#0000FF</td>\n",
              "      <td>7</td>\n",
              "    </tr>\n",
              "    <tr>\n",
              "      <th>3</th>\n",
              "      <td>rgb</td>\n",
              "      <td>2</td>\n",
              "      <td>blue</td>\n",
              "      <td>(0, 255, 0)</td>\n",
              "      <td>3</td>\n",
              "    </tr>\n",
              "    <tr>\n",
              "      <th>4</th>\n",
              "      <td>hex</td>\n",
              "      <td>3</td>\n",
              "      <td>red</td>\n",
              "      <td>#FF0000</td>\n",
              "      <td>8</td>\n",
              "    </tr>\n",
              "    <tr>\n",
              "      <th>5</th>\n",
              "      <td>rgb</td>\n",
              "      <td>3</td>\n",
              "      <td>red</td>\n",
              "      <td>(255, 0, 0)</td>\n",
              "      <td>1</td>\n",
              "    </tr>\n",
              "  </tbody>\n",
              "</table>\n",
              "</div>"
            ],
            "text/plain": [
              "  Code_type  number colors        codes  value\n",
              "0       hex       1  green      #FF0000      5\n",
              "1       rgb       1  green  (0, 0, 255)     10\n",
              "2       hex       2   blue      #0000FF      7\n",
              "3       rgb       2   blue  (0, 255, 0)      3\n",
              "4       hex       3    red      #FF0000      8\n",
              "5       rgb       3    red  (255, 0, 0)      1"
            ]
          },
          "metadata": {
            "tags": []
          },
          "execution_count": 265
        }
      ]
    },
    {
      "metadata": {
        "id": "f8skR0rA6-bm",
        "colab_type": "code",
        "outputId": "d716864e-0e80-4be0-c603-c9d474e1b9b4",
        "colab": {
          "base_uri": "https://localhost:8080/",
          "height": 237
        }
      },
      "cell_type": "code",
      "source": [
        "# combining df11 and df3 by common indexes values\n",
        "df11.join(df3,lsuffix=\"_df11\",rsuffix=\"_df3\")\n"
      ],
      "execution_count": 0,
      "outputs": [
        {
          "output_type": "execute_result",
          "data": {
            "text/html": [
              "<div>\n",
              "<style scoped>\n",
              "    .dataframe tbody tr th:only-of-type {\n",
              "        vertical-align: middle;\n",
              "    }\n",
              "\n",
              "    .dataframe tbody tr th {\n",
              "        vertical-align: top;\n",
              "    }\n",
              "\n",
              "    .dataframe thead th {\n",
              "        text-align: right;\n",
              "    }\n",
              "</style>\n",
              "<table border=\"1\" class=\"dataframe\">\n",
              "  <thead>\n",
              "    <tr style=\"text-align: right;\">\n",
              "      <th></th>\n",
              "      <th>Code_type</th>\n",
              "      <th>number</th>\n",
              "      <th>colors</th>\n",
              "      <th>codes_df11</th>\n",
              "      <th>value</th>\n",
              "      <th>codes_df3</th>\n",
              "      <th>mycolors</th>\n",
              "    </tr>\n",
              "  </thead>\n",
              "  <tbody>\n",
              "    <tr>\n",
              "      <th>0</th>\n",
              "      <td>hex</td>\n",
              "      <td>1</td>\n",
              "      <td>green</td>\n",
              "      <td>#FF0000</td>\n",
              "      <td>5</td>\n",
              "      <td>G</td>\n",
              "      <td>green</td>\n",
              "    </tr>\n",
              "    <tr>\n",
              "      <th>1</th>\n",
              "      <td>rgb</td>\n",
              "      <td>1</td>\n",
              "      <td>green</td>\n",
              "      <td>(0, 0, 255)</td>\n",
              "      <td>10</td>\n",
              "      <td>B</td>\n",
              "      <td>blue</td>\n",
              "    </tr>\n",
              "    <tr>\n",
              "      <th>2</th>\n",
              "      <td>hex</td>\n",
              "      <td>2</td>\n",
              "      <td>blue</td>\n",
              "      <td>#0000FF</td>\n",
              "      <td>7</td>\n",
              "      <td>NaN</td>\n",
              "      <td>NaN</td>\n",
              "    </tr>\n",
              "    <tr>\n",
              "      <th>3</th>\n",
              "      <td>rgb</td>\n",
              "      <td>2</td>\n",
              "      <td>blue</td>\n",
              "      <td>(0, 255, 0)</td>\n",
              "      <td>3</td>\n",
              "      <td>NaN</td>\n",
              "      <td>NaN</td>\n",
              "    </tr>\n",
              "    <tr>\n",
              "      <th>4</th>\n",
              "      <td>hex</td>\n",
              "      <td>3</td>\n",
              "      <td>red</td>\n",
              "      <td>#FF0000</td>\n",
              "      <td>8</td>\n",
              "      <td>NaN</td>\n",
              "      <td>NaN</td>\n",
              "    </tr>\n",
              "    <tr>\n",
              "      <th>5</th>\n",
              "      <td>rgb</td>\n",
              "      <td>3</td>\n",
              "      <td>red</td>\n",
              "      <td>(255, 0, 0)</td>\n",
              "      <td>1</td>\n",
              "      <td>NaN</td>\n",
              "      <td>NaN</td>\n",
              "    </tr>\n",
              "  </tbody>\n",
              "</table>\n",
              "</div>"
            ],
            "text/plain": [
              "  Code_type  number colors   codes_df11  value codes_df3 mycolors\n",
              "0       hex       1  green      #FF0000      5         G    green\n",
              "1       rgb       1  green  (0, 0, 255)     10         B     blue\n",
              "2       hex       2   blue      #0000FF      7       NaN      NaN\n",
              "3       rgb       2   blue  (0, 255, 0)      3       NaN      NaN\n",
              "4       hex       3    red      #FF0000      8       NaN      NaN\n",
              "5       rgb       3    red  (255, 0, 0)      1       NaN      NaN"
            ]
          },
          "metadata": {
            "tags": []
          },
          "execution_count": 266
        }
      ]
    },
    {
      "metadata": {
        "id": "y9-ZSaE4Do-I",
        "colab_type": "text"
      },
      "cell_type": "markdown",
      "source": [
        "## concat"
      ]
    },
    {
      "metadata": {
        "id": "x9VpmaJpDrcw",
        "colab_type": "code",
        "outputId": "c0bd9cc2-0d0c-404a-869c-5ec696f34629",
        "colab": {
          "base_uri": "https://localhost:8080/",
          "height": 69
        }
      },
      "cell_type": "code",
      "source": [
        "ser11=S(range(2),index=list(\"ab\"))\n",
        "ser11"
      ],
      "execution_count": 0,
      "outputs": [
        {
          "output_type": "execute_result",
          "data": {
            "text/plain": [
              "a    0\n",
              "b    1\n",
              "dtype: int64"
            ]
          },
          "metadata": {
            "tags": []
          },
          "execution_count": 267
        }
      ]
    },
    {
      "metadata": {
        "id": "j9NysX6HE69w",
        "colab_type": "code",
        "outputId": "9cc898d2-c173-44b5-8b44-c84d8bb6ea52",
        "colab": {
          "base_uri": "https://localhost:8080/",
          "height": 86
        }
      },
      "cell_type": "code",
      "source": [
        "ser2 = S(range(7,10),index=list(\"cde\"))\n",
        "ser2"
      ],
      "execution_count": 0,
      "outputs": [
        {
          "output_type": "execute_result",
          "data": {
            "text/plain": [
              "c    7\n",
              "d    8\n",
              "e    9\n",
              "dtype: int64"
            ]
          },
          "metadata": {
            "tags": []
          },
          "execution_count": 268
        }
      ]
    },
    {
      "metadata": {
        "id": "y01_ifhFFYBW",
        "colab_type": "code",
        "outputId": "959063d6-7d2b-42e3-f2d1-d01f39661c0b",
        "colab": {
          "base_uri": "https://localhost:8080/",
          "height": 121
        }
      },
      "cell_type": "code",
      "source": [
        "# concatenating ser11 and ser2 by concatenating the indexes\n",
        "pd.concat([ser11,ser2])"
      ],
      "execution_count": 0,
      "outputs": [
        {
          "output_type": "execute_result",
          "data": {
            "text/plain": [
              "a    0\n",
              "b    1\n",
              "c    7\n",
              "d    8\n",
              "e    9\n",
              "dtype: int64"
            ]
          },
          "metadata": {
            "tags": []
          },
          "execution_count": 269
        }
      ]
    },
    {
      "metadata": {
        "id": "BAyfoKWAJO5a",
        "colab_type": "text"
      },
      "cell_type": "markdown",
      "source": [
        "## combine first"
      ]
    },
    {
      "metadata": {
        "id": "Noz-44a8JRL2",
        "colab_type": "code",
        "outputId": "4a5fca52-6af3-44cf-c48f-903d05fbd716",
        "colab": {
          "base_uri": "https://localhost:8080/",
          "height": 86
        }
      },
      "cell_type": "code",
      "source": [
        "ser3 =S(range(3),index=list(\"abc\"))\n",
        "ser3"
      ],
      "execution_count": 0,
      "outputs": [
        {
          "output_type": "execute_result",
          "data": {
            "text/plain": [
              "a    0\n",
              "b    1\n",
              "c    2\n",
              "dtype: int64"
            ]
          },
          "metadata": {
            "tags": []
          },
          "execution_count": 270
        }
      ]
    },
    {
      "metadata": {
        "id": "v3lxG84TKIpi",
        "colab_type": "code",
        "colab": {}
      },
      "cell_type": "code",
      "source": [
        ""
      ],
      "execution_count": 0,
      "outputs": []
    },
    {
      "metadata": {
        "id": "NTPKSebTJoOq",
        "colab_type": "code",
        "outputId": "869b904b-3449-4eda-8388-a2f757f4348b",
        "colab": {
          "base_uri": "https://localhost:8080/",
          "height": 86
        }
      },
      "cell_type": "code",
      "source": [
        "ser4= S(range(7,10),index=list(\"abd\"))\n",
        "ser4"
      ],
      "execution_count": 0,
      "outputs": [
        {
          "output_type": "execute_result",
          "data": {
            "text/plain": [
              "a    7\n",
              "b    8\n",
              "d    9\n",
              "dtype: int64"
            ]
          },
          "metadata": {
            "tags": []
          },
          "execution_count": 271
        }
      ]
    },
    {
      "metadata": {
        "id": "1iCBm1PLJxgA",
        "colab_type": "code",
        "outputId": "5296544d-35cc-424d-95ac-b43560f51ad1",
        "colab": {
          "base_uri": "https://localhost:8080/",
          "height": 104
        }
      },
      "cell_type": "code",
      "source": [
        "# select first ser3 values \n",
        "# for common indexes values\n",
        "ser3.combine_first(ser4)"
      ],
      "execution_count": 0,
      "outputs": [
        {
          "output_type": "execute_result",
          "data": {
            "text/plain": [
              "a    0.0\n",
              "b    1.0\n",
              "c    2.0\n",
              "d    9.0\n",
              "dtype: float64"
            ]
          },
          "metadata": {
            "tags": []
          },
          "execution_count": 272
        }
      ]
    },
    {
      "metadata": {
        "id": "TlUKc0t3K9dW",
        "colab_type": "code",
        "outputId": "ad65d0a8-cc93-41df-edd2-668029336183",
        "colab": {
          "base_uri": "https://localhost:8080/",
          "height": 86
        }
      },
      "cell_type": "code",
      "source": [
        "ser3[\"a\"]=np.nan\n",
        "ser3"
      ],
      "execution_count": 0,
      "outputs": [
        {
          "output_type": "execute_result",
          "data": {
            "text/plain": [
              "a    NaN\n",
              "b    1.0\n",
              "c    2.0\n",
              "dtype: float64"
            ]
          },
          "metadata": {
            "tags": []
          },
          "execution_count": 273
        }
      ]
    },
    {
      "metadata": {
        "id": "-z-xVl9EL8Wa",
        "colab_type": "code",
        "outputId": "30dd1424-01a9-41b5-fec3-72038203e0e0",
        "colab": {
          "base_uri": "https://localhost:8080/",
          "height": 104
        }
      },
      "cell_type": "code",
      "source": [
        "# if a values is from ser3 is nan\n",
        "# you can select the corresponding value\n",
        "# in ser4\n",
        "ser3.combine_first(ser4)"
      ],
      "execution_count": 0,
      "outputs": [
        {
          "output_type": "execute_result",
          "data": {
            "text/plain": [
              "a    7.0\n",
              "b    1.0\n",
              "c    2.0\n",
              "d    9.0\n",
              "dtype: float64"
            ]
          },
          "metadata": {
            "tags": []
          },
          "execution_count": 274
        }
      ]
    },
    {
      "metadata": {
        "id": "R2U6nIgMVQGS",
        "colab_type": "text"
      },
      "cell_type": "markdown",
      "source": [
        "# 3- Reshaping and pivoting"
      ]
    },
    {
      "metadata": {
        "id": "0Wq8uPN9VUVy",
        "colab_type": "text"
      },
      "cell_type": "markdown",
      "source": [
        "## stack and unstack\n",
        "* **stack**: pivot **columns** label  to **rows** indexes\n",
        "* **unstack**: pivot **rows ** indexes to  **columns** labels"
      ]
    },
    {
      "metadata": {
        "id": "5ytYfEttVTbO",
        "colab_type": "code",
        "outputId": "5403eb80-097c-47a9-93e8-2f979751f4db",
        "colab": {
          "base_uri": "https://localhost:8080/",
          "height": 237
        }
      },
      "cell_type": "code",
      "source": [
        "df11"
      ],
      "execution_count": 0,
      "outputs": [
        {
          "output_type": "execute_result",
          "data": {
            "text/html": [
              "<div>\n",
              "<style scoped>\n",
              "    .dataframe tbody tr th:only-of-type {\n",
              "        vertical-align: middle;\n",
              "    }\n",
              "\n",
              "    .dataframe tbody tr th {\n",
              "        vertical-align: top;\n",
              "    }\n",
              "\n",
              "    .dataframe thead th {\n",
              "        text-align: right;\n",
              "    }\n",
              "</style>\n",
              "<table border=\"1\" class=\"dataframe\">\n",
              "  <thead>\n",
              "    <tr style=\"text-align: right;\">\n",
              "      <th></th>\n",
              "      <th>Code_type</th>\n",
              "      <th>number</th>\n",
              "      <th>colors</th>\n",
              "      <th>codes</th>\n",
              "      <th>value</th>\n",
              "    </tr>\n",
              "  </thead>\n",
              "  <tbody>\n",
              "    <tr>\n",
              "      <th>0</th>\n",
              "      <td>hex</td>\n",
              "      <td>1</td>\n",
              "      <td>green</td>\n",
              "      <td>#FF0000</td>\n",
              "      <td>5</td>\n",
              "    </tr>\n",
              "    <tr>\n",
              "      <th>1</th>\n",
              "      <td>rgb</td>\n",
              "      <td>1</td>\n",
              "      <td>green</td>\n",
              "      <td>(0, 0, 255)</td>\n",
              "      <td>10</td>\n",
              "    </tr>\n",
              "    <tr>\n",
              "      <th>2</th>\n",
              "      <td>hex</td>\n",
              "      <td>2</td>\n",
              "      <td>blue</td>\n",
              "      <td>#0000FF</td>\n",
              "      <td>7</td>\n",
              "    </tr>\n",
              "    <tr>\n",
              "      <th>3</th>\n",
              "      <td>rgb</td>\n",
              "      <td>2</td>\n",
              "      <td>blue</td>\n",
              "      <td>(0, 255, 0)</td>\n",
              "      <td>3</td>\n",
              "    </tr>\n",
              "    <tr>\n",
              "      <th>4</th>\n",
              "      <td>hex</td>\n",
              "      <td>3</td>\n",
              "      <td>red</td>\n",
              "      <td>#FF0000</td>\n",
              "      <td>8</td>\n",
              "    </tr>\n",
              "    <tr>\n",
              "      <th>5</th>\n",
              "      <td>rgb</td>\n",
              "      <td>3</td>\n",
              "      <td>red</td>\n",
              "      <td>(255, 0, 0)</td>\n",
              "      <td>1</td>\n",
              "    </tr>\n",
              "  </tbody>\n",
              "</table>\n",
              "</div>"
            ],
            "text/plain": [
              "  Code_type  number colors        codes  value\n",
              "0       hex       1  green      #FF0000      5\n",
              "1       rgb       1  green  (0, 0, 255)     10\n",
              "2       hex       2   blue      #0000FF      7\n",
              "3       rgb       2   blue  (0, 255, 0)      3\n",
              "4       hex       3    red      #FF0000      8\n",
              "5       rgb       3    red  (255, 0, 0)      1"
            ]
          },
          "metadata": {
            "tags": []
          },
          "execution_count": 275
        }
      ]
    },
    {
      "metadata": {
        "id": "hPPqWazAWsdM",
        "colab_type": "code",
        "outputId": "bc033cb7-b1f8-4d92-a61d-836c32dd00b7",
        "colab": {
          "base_uri": "https://localhost:8080/",
          "height": 555
        }
      },
      "cell_type": "code",
      "source": [
        "df11.stack()"
      ],
      "execution_count": 0,
      "outputs": [
        {
          "output_type": "execute_result",
          "data": {
            "text/plain": [
              "0  Code_type            hex\n",
              "   number                 1\n",
              "   colors             green\n",
              "   codes            #FF0000\n",
              "   value                  5\n",
              "1  Code_type            rgb\n",
              "   number                 1\n",
              "   colors             green\n",
              "   codes        (0, 0, 255)\n",
              "   value                 10\n",
              "2  Code_type            hex\n",
              "   number                 2\n",
              "   colors              blue\n",
              "   codes            #0000FF\n",
              "   value                  7\n",
              "3  Code_type            rgb\n",
              "   number                 2\n",
              "   colors              blue\n",
              "   codes        (0, 255, 0)\n",
              "   value                  3\n",
              "4  Code_type            hex\n",
              "   number                 3\n",
              "   colors               red\n",
              "   codes            #FF0000\n",
              "   value                  8\n",
              "5  Code_type            rgb\n",
              "   number                 3\n",
              "   colors               red\n",
              "   codes        (255, 0, 0)\n",
              "   value                  1\n",
              "dtype: object"
            ]
          },
          "metadata": {
            "tags": []
          },
          "execution_count": 276
        }
      ]
    },
    {
      "metadata": {
        "id": "EnElOifQWKHG",
        "colab_type": "code",
        "outputId": "15eff000-40ec-4cfa-bcb0-760b86fab0b4",
        "colab": {
          "base_uri": "https://localhost:8080/",
          "height": 237
        }
      },
      "cell_type": "code",
      "source": [
        "df11.stack().unstack()"
      ],
      "execution_count": 0,
      "outputs": [
        {
          "output_type": "execute_result",
          "data": {
            "text/html": [
              "<div>\n",
              "<style scoped>\n",
              "    .dataframe tbody tr th:only-of-type {\n",
              "        vertical-align: middle;\n",
              "    }\n",
              "\n",
              "    .dataframe tbody tr th {\n",
              "        vertical-align: top;\n",
              "    }\n",
              "\n",
              "    .dataframe thead th {\n",
              "        text-align: right;\n",
              "    }\n",
              "</style>\n",
              "<table border=\"1\" class=\"dataframe\">\n",
              "  <thead>\n",
              "    <tr style=\"text-align: right;\">\n",
              "      <th></th>\n",
              "      <th>Code_type</th>\n",
              "      <th>number</th>\n",
              "      <th>colors</th>\n",
              "      <th>codes</th>\n",
              "      <th>value</th>\n",
              "    </tr>\n",
              "  </thead>\n",
              "  <tbody>\n",
              "    <tr>\n",
              "      <th>0</th>\n",
              "      <td>hex</td>\n",
              "      <td>1</td>\n",
              "      <td>green</td>\n",
              "      <td>#FF0000</td>\n",
              "      <td>5</td>\n",
              "    </tr>\n",
              "    <tr>\n",
              "      <th>1</th>\n",
              "      <td>rgb</td>\n",
              "      <td>1</td>\n",
              "      <td>green</td>\n",
              "      <td>(0, 0, 255)</td>\n",
              "      <td>10</td>\n",
              "    </tr>\n",
              "    <tr>\n",
              "      <th>2</th>\n",
              "      <td>hex</td>\n",
              "      <td>2</td>\n",
              "      <td>blue</td>\n",
              "      <td>#0000FF</td>\n",
              "      <td>7</td>\n",
              "    </tr>\n",
              "    <tr>\n",
              "      <th>3</th>\n",
              "      <td>rgb</td>\n",
              "      <td>2</td>\n",
              "      <td>blue</td>\n",
              "      <td>(0, 255, 0)</td>\n",
              "      <td>3</td>\n",
              "    </tr>\n",
              "    <tr>\n",
              "      <th>4</th>\n",
              "      <td>hex</td>\n",
              "      <td>3</td>\n",
              "      <td>red</td>\n",
              "      <td>#FF0000</td>\n",
              "      <td>8</td>\n",
              "    </tr>\n",
              "    <tr>\n",
              "      <th>5</th>\n",
              "      <td>rgb</td>\n",
              "      <td>3</td>\n",
              "      <td>red</td>\n",
              "      <td>(255, 0, 0)</td>\n",
              "      <td>1</td>\n",
              "    </tr>\n",
              "  </tbody>\n",
              "</table>\n",
              "</div>"
            ],
            "text/plain": [
              "  Code_type number colors        codes value\n",
              "0       hex      1  green      #FF0000     5\n",
              "1       rgb      1  green  (0, 0, 255)    10\n",
              "2       hex      2   blue      #0000FF     7\n",
              "3       rgb      2   blue  (0, 255, 0)     3\n",
              "4       hex      3    red      #FF0000     8\n",
              "5       rgb      3    red  (255, 0, 0)     1"
            ]
          },
          "metadata": {
            "tags": []
          },
          "execution_count": 277
        }
      ]
    },
    {
      "metadata": {
        "id": "5_RCMJBTb_KI",
        "colab_type": "code",
        "outputId": "34e3e869-d2ce-4f90-a80d-846af84a5a10",
        "colab": {
          "base_uri": "https://localhost:8080/",
          "height": 225
        }
      },
      "cell_type": "code",
      "source": [
        "ser1"
      ],
      "execution_count": 0,
      "outputs": [
        {
          "output_type": "execute_result",
          "data": {
            "text/plain": [
              "the_level0  the_level1\n",
              "A           i1            0\n",
              "            i2            1\n",
              "            i3            2\n",
              "B           i1            3\n",
              "            i2            4\n",
              "            i3            5\n",
              "C           i1            6\n",
              "            i2            7\n",
              "            i3            8\n",
              "D           i1            9\n",
              "dtype: int64"
            ]
          },
          "metadata": {
            "tags": []
          },
          "execution_count": 278
        }
      ]
    },
    {
      "metadata": {
        "id": "7ZvZqbZRbv1k",
        "colab_type": "code",
        "outputId": "eefeffcb-8ddf-4224-dc96-cefe2b7567ec",
        "colab": {
          "base_uri": "https://localhost:8080/",
          "height": 206
        }
      },
      "cell_type": "code",
      "source": [
        "ser1.unstack()"
      ],
      "execution_count": 0,
      "outputs": [
        {
          "output_type": "execute_result",
          "data": {
            "text/html": [
              "<div>\n",
              "<style scoped>\n",
              "    .dataframe tbody tr th:only-of-type {\n",
              "        vertical-align: middle;\n",
              "    }\n",
              "\n",
              "    .dataframe tbody tr th {\n",
              "        vertical-align: top;\n",
              "    }\n",
              "\n",
              "    .dataframe thead th {\n",
              "        text-align: right;\n",
              "    }\n",
              "</style>\n",
              "<table border=\"1\" class=\"dataframe\">\n",
              "  <thead>\n",
              "    <tr style=\"text-align: right;\">\n",
              "      <th>the_level1</th>\n",
              "      <th>i1</th>\n",
              "      <th>i2</th>\n",
              "      <th>i3</th>\n",
              "    </tr>\n",
              "    <tr>\n",
              "      <th>the_level0</th>\n",
              "      <th></th>\n",
              "      <th></th>\n",
              "      <th></th>\n",
              "    </tr>\n",
              "  </thead>\n",
              "  <tbody>\n",
              "    <tr>\n",
              "      <th>A</th>\n",
              "      <td>0.0</td>\n",
              "      <td>1.0</td>\n",
              "      <td>2.0</td>\n",
              "    </tr>\n",
              "    <tr>\n",
              "      <th>B</th>\n",
              "      <td>3.0</td>\n",
              "      <td>4.0</td>\n",
              "      <td>5.0</td>\n",
              "    </tr>\n",
              "    <tr>\n",
              "      <th>C</th>\n",
              "      <td>6.0</td>\n",
              "      <td>7.0</td>\n",
              "      <td>8.0</td>\n",
              "    </tr>\n",
              "    <tr>\n",
              "      <th>D</th>\n",
              "      <td>9.0</td>\n",
              "      <td>NaN</td>\n",
              "      <td>NaN</td>\n",
              "    </tr>\n",
              "  </tbody>\n",
              "</table>\n",
              "</div>"
            ],
            "text/plain": [
              "the_level1   i1   i2   i3\n",
              "the_level0               \n",
              "A           0.0  1.0  2.0\n",
              "B           3.0  4.0  5.0\n",
              "C           6.0  7.0  8.0\n",
              "D           9.0  NaN  NaN"
            ]
          },
          "metadata": {
            "tags": []
          },
          "execution_count": 279
        }
      ]
    },
    {
      "metadata": {
        "id": "bHsXaohXVXVC",
        "colab_type": "text"
      },
      "cell_type": "markdown",
      "source": [
        "## pivot (long to wide)"
      ]
    },
    {
      "metadata": {
        "id": "QTsRRj1yiMNe",
        "colab_type": "code",
        "outputId": "8232a5a3-5ca0-482e-f5a7-532750286e9e",
        "colab": {
          "base_uri": "https://localhost:8080/",
          "height": 237
        }
      },
      "cell_type": "code",
      "source": [
        "df11"
      ],
      "execution_count": 0,
      "outputs": [
        {
          "output_type": "execute_result",
          "data": {
            "text/html": [
              "<div>\n",
              "<style scoped>\n",
              "    .dataframe tbody tr th:only-of-type {\n",
              "        vertical-align: middle;\n",
              "    }\n",
              "\n",
              "    .dataframe tbody tr th {\n",
              "        vertical-align: top;\n",
              "    }\n",
              "\n",
              "    .dataframe thead th {\n",
              "        text-align: right;\n",
              "    }\n",
              "</style>\n",
              "<table border=\"1\" class=\"dataframe\">\n",
              "  <thead>\n",
              "    <tr style=\"text-align: right;\">\n",
              "      <th></th>\n",
              "      <th>Code_type</th>\n",
              "      <th>number</th>\n",
              "      <th>colors</th>\n",
              "      <th>codes</th>\n",
              "      <th>value</th>\n",
              "    </tr>\n",
              "  </thead>\n",
              "  <tbody>\n",
              "    <tr>\n",
              "      <th>0</th>\n",
              "      <td>hex</td>\n",
              "      <td>1</td>\n",
              "      <td>green</td>\n",
              "      <td>#FF0000</td>\n",
              "      <td>5</td>\n",
              "    </tr>\n",
              "    <tr>\n",
              "      <th>1</th>\n",
              "      <td>rgb</td>\n",
              "      <td>1</td>\n",
              "      <td>green</td>\n",
              "      <td>(0, 0, 255)</td>\n",
              "      <td>10</td>\n",
              "    </tr>\n",
              "    <tr>\n",
              "      <th>2</th>\n",
              "      <td>hex</td>\n",
              "      <td>2</td>\n",
              "      <td>blue</td>\n",
              "      <td>#0000FF</td>\n",
              "      <td>7</td>\n",
              "    </tr>\n",
              "    <tr>\n",
              "      <th>3</th>\n",
              "      <td>rgb</td>\n",
              "      <td>2</td>\n",
              "      <td>blue</td>\n",
              "      <td>(0, 255, 0)</td>\n",
              "      <td>3</td>\n",
              "    </tr>\n",
              "    <tr>\n",
              "      <th>4</th>\n",
              "      <td>hex</td>\n",
              "      <td>3</td>\n",
              "      <td>red</td>\n",
              "      <td>#FF0000</td>\n",
              "      <td>8</td>\n",
              "    </tr>\n",
              "    <tr>\n",
              "      <th>5</th>\n",
              "      <td>rgb</td>\n",
              "      <td>3</td>\n",
              "      <td>red</td>\n",
              "      <td>(255, 0, 0)</td>\n",
              "      <td>1</td>\n",
              "    </tr>\n",
              "  </tbody>\n",
              "</table>\n",
              "</div>"
            ],
            "text/plain": [
              "  Code_type  number colors        codes  value\n",
              "0       hex       1  green      #FF0000      5\n",
              "1       rgb       1  green  (0, 0, 255)     10\n",
              "2       hex       2   blue      #0000FF      7\n",
              "3       rgb       2   blue  (0, 255, 0)      3\n",
              "4       hex       3    red      #FF0000      8\n",
              "5       rgb       3    red  (255, 0, 0)      1"
            ]
          },
          "metadata": {
            "tags": []
          },
          "execution_count": 280
        }
      ]
    },
    {
      "metadata": {
        "id": "iCnsv_DMipDK",
        "colab_type": "code",
        "outputId": "b68ce448-7564-43b2-8634-7e344b47196e",
        "colab": {
          "base_uri": "https://localhost:8080/",
          "height": 143
        }
      },
      "cell_type": "code",
      "source": [
        "df11.pivot(index=\"Code_type\",columns=\"number\",values=\"value\")"
      ],
      "execution_count": 0,
      "outputs": [
        {
          "output_type": "execute_result",
          "data": {
            "text/html": [
              "<div>\n",
              "<style scoped>\n",
              "    .dataframe tbody tr th:only-of-type {\n",
              "        vertical-align: middle;\n",
              "    }\n",
              "\n",
              "    .dataframe tbody tr th {\n",
              "        vertical-align: top;\n",
              "    }\n",
              "\n",
              "    .dataframe thead th {\n",
              "        text-align: right;\n",
              "    }\n",
              "</style>\n",
              "<table border=\"1\" class=\"dataframe\">\n",
              "  <thead>\n",
              "    <tr style=\"text-align: right;\">\n",
              "      <th>number</th>\n",
              "      <th>1</th>\n",
              "      <th>2</th>\n",
              "      <th>3</th>\n",
              "    </tr>\n",
              "    <tr>\n",
              "      <th>Code_type</th>\n",
              "      <th></th>\n",
              "      <th></th>\n",
              "      <th></th>\n",
              "    </tr>\n",
              "  </thead>\n",
              "  <tbody>\n",
              "    <tr>\n",
              "      <th>hex</th>\n",
              "      <td>5</td>\n",
              "      <td>7</td>\n",
              "      <td>8</td>\n",
              "    </tr>\n",
              "    <tr>\n",
              "      <th>rgb</th>\n",
              "      <td>10</td>\n",
              "      <td>3</td>\n",
              "      <td>1</td>\n",
              "    </tr>\n",
              "  </tbody>\n",
              "</table>\n",
              "</div>"
            ],
            "text/plain": [
              "number      1  2  3\n",
              "Code_type          \n",
              "hex         5  7  8\n",
              "rgb        10  3  1"
            ]
          },
          "metadata": {
            "tags": []
          },
          "execution_count": 281
        }
      ]
    },
    {
      "metadata": {
        "id": "_kKM9HbSVZCI",
        "colab_type": "text"
      },
      "cell_type": "markdown",
      "source": [
        "## melt (wide to long)"
      ]
    },
    {
      "metadata": {
        "id": "9LYpyoo0kRtY",
        "colab_type": "code",
        "outputId": "de3de222-00fb-4231-c3dd-8761b55cfae0",
        "colab": {
          "base_uri": "https://localhost:8080/",
          "height": 112
        }
      },
      "cell_type": "code",
      "source": [
        "df3 = DF([[1,2],[3,4]],columns=[\"col1\",\"col2\"])\n",
        "df3"
      ],
      "execution_count": 0,
      "outputs": [
        {
          "output_type": "execute_result",
          "data": {
            "text/html": [
              "<div>\n",
              "<style scoped>\n",
              "    .dataframe tbody tr th:only-of-type {\n",
              "        vertical-align: middle;\n",
              "    }\n",
              "\n",
              "    .dataframe tbody tr th {\n",
              "        vertical-align: top;\n",
              "    }\n",
              "\n",
              "    .dataframe thead th {\n",
              "        text-align: right;\n",
              "    }\n",
              "</style>\n",
              "<table border=\"1\" class=\"dataframe\">\n",
              "  <thead>\n",
              "    <tr style=\"text-align: right;\">\n",
              "      <th></th>\n",
              "      <th>col1</th>\n",
              "      <th>col2</th>\n",
              "    </tr>\n",
              "  </thead>\n",
              "  <tbody>\n",
              "    <tr>\n",
              "      <th>0</th>\n",
              "      <td>1</td>\n",
              "      <td>2</td>\n",
              "    </tr>\n",
              "    <tr>\n",
              "      <th>1</th>\n",
              "      <td>3</td>\n",
              "      <td>4</td>\n",
              "    </tr>\n",
              "  </tbody>\n",
              "</table>\n",
              "</div>"
            ],
            "text/plain": [
              "   col1  col2\n",
              "0     1     2\n",
              "1     3     4"
            ]
          },
          "metadata": {
            "tags": []
          },
          "execution_count": 282
        }
      ]
    },
    {
      "metadata": {
        "id": "D6AY-mfHmgE4",
        "colab_type": "code",
        "outputId": "657a9962-a0d7-41db-f529-87f60802694e",
        "colab": {
          "base_uri": "https://localhost:8080/",
          "height": 175
        }
      },
      "cell_type": "code",
      "source": [
        "# melting all the columns in 2 columns \"variable\" and \"value\"\n",
        "pd.melt(df3)"
      ],
      "execution_count": 0,
      "outputs": [
        {
          "output_type": "execute_result",
          "data": {
            "text/html": [
              "<div>\n",
              "<style scoped>\n",
              "    .dataframe tbody tr th:only-of-type {\n",
              "        vertical-align: middle;\n",
              "    }\n",
              "\n",
              "    .dataframe tbody tr th {\n",
              "        vertical-align: top;\n",
              "    }\n",
              "\n",
              "    .dataframe thead th {\n",
              "        text-align: right;\n",
              "    }\n",
              "</style>\n",
              "<table border=\"1\" class=\"dataframe\">\n",
              "  <thead>\n",
              "    <tr style=\"text-align: right;\">\n",
              "      <th></th>\n",
              "      <th>variable</th>\n",
              "      <th>value</th>\n",
              "    </tr>\n",
              "  </thead>\n",
              "  <tbody>\n",
              "    <tr>\n",
              "      <th>0</th>\n",
              "      <td>col1</td>\n",
              "      <td>1</td>\n",
              "    </tr>\n",
              "    <tr>\n",
              "      <th>1</th>\n",
              "      <td>col1</td>\n",
              "      <td>3</td>\n",
              "    </tr>\n",
              "    <tr>\n",
              "      <th>2</th>\n",
              "      <td>col2</td>\n",
              "      <td>2</td>\n",
              "    </tr>\n",
              "    <tr>\n",
              "      <th>3</th>\n",
              "      <td>col2</td>\n",
              "      <td>4</td>\n",
              "    </tr>\n",
              "  </tbody>\n",
              "</table>\n",
              "</div>"
            ],
            "text/plain": [
              "  variable  value\n",
              "0     col1      1\n",
              "1     col1      3\n",
              "2     col2      2\n",
              "3     col2      4"
            ]
          },
          "metadata": {
            "tags": []
          },
          "execution_count": 283
        }
      ]
    },
    {
      "metadata": {
        "id": "7bwpeZ9J0G2m",
        "colab_type": "text"
      },
      "cell_type": "markdown",
      "source": [
        "# 4- Group by Mechanics"
      ]
    },
    {
      "metadata": {
        "id": "yaXDMY_n0Ka-",
        "colab_type": "text"
      },
      "cell_type": "markdown",
      "source": [
        "## groupby"
      ]
    },
    {
      "metadata": {
        "id": "ExlIQx-k0Dbc",
        "colab_type": "code",
        "outputId": "1d16210e-2eaf-4a1b-d476-da5b541bcff3",
        "colab": {
          "base_uri": "https://localhost:8080/",
          "height": 237
        }
      },
      "cell_type": "code",
      "source": [
        "df11"
      ],
      "execution_count": 0,
      "outputs": [
        {
          "output_type": "execute_result",
          "data": {
            "text/html": [
              "<div>\n",
              "<style scoped>\n",
              "    .dataframe tbody tr th:only-of-type {\n",
              "        vertical-align: middle;\n",
              "    }\n",
              "\n",
              "    .dataframe tbody tr th {\n",
              "        vertical-align: top;\n",
              "    }\n",
              "\n",
              "    .dataframe thead th {\n",
              "        text-align: right;\n",
              "    }\n",
              "</style>\n",
              "<table border=\"1\" class=\"dataframe\">\n",
              "  <thead>\n",
              "    <tr style=\"text-align: right;\">\n",
              "      <th></th>\n",
              "      <th>Code_type</th>\n",
              "      <th>number</th>\n",
              "      <th>colors</th>\n",
              "      <th>codes</th>\n",
              "      <th>value</th>\n",
              "    </tr>\n",
              "  </thead>\n",
              "  <tbody>\n",
              "    <tr>\n",
              "      <th>0</th>\n",
              "      <td>hex</td>\n",
              "      <td>1</td>\n",
              "      <td>green</td>\n",
              "      <td>#FF0000</td>\n",
              "      <td>5</td>\n",
              "    </tr>\n",
              "    <tr>\n",
              "      <th>1</th>\n",
              "      <td>rgb</td>\n",
              "      <td>1</td>\n",
              "      <td>green</td>\n",
              "      <td>(0, 0, 255)</td>\n",
              "      <td>10</td>\n",
              "    </tr>\n",
              "    <tr>\n",
              "      <th>2</th>\n",
              "      <td>hex</td>\n",
              "      <td>2</td>\n",
              "      <td>blue</td>\n",
              "      <td>#0000FF</td>\n",
              "      <td>7</td>\n",
              "    </tr>\n",
              "    <tr>\n",
              "      <th>3</th>\n",
              "      <td>rgb</td>\n",
              "      <td>2</td>\n",
              "      <td>blue</td>\n",
              "      <td>(0, 255, 0)</td>\n",
              "      <td>3</td>\n",
              "    </tr>\n",
              "    <tr>\n",
              "      <th>4</th>\n",
              "      <td>hex</td>\n",
              "      <td>3</td>\n",
              "      <td>red</td>\n",
              "      <td>#FF0000</td>\n",
              "      <td>8</td>\n",
              "    </tr>\n",
              "    <tr>\n",
              "      <th>5</th>\n",
              "      <td>rgb</td>\n",
              "      <td>3</td>\n",
              "      <td>red</td>\n",
              "      <td>(255, 0, 0)</td>\n",
              "      <td>1</td>\n",
              "    </tr>\n",
              "  </tbody>\n",
              "</table>\n",
              "</div>"
            ],
            "text/plain": [
              "  Code_type  number colors        codes  value\n",
              "0       hex       1  green      #FF0000      5\n",
              "1       rgb       1  green  (0, 0, 255)     10\n",
              "2       hex       2   blue      #0000FF      7\n",
              "3       rgb       2   blue  (0, 255, 0)      3\n",
              "4       hex       3    red      #FF0000      8\n",
              "5       rgb       3    red  (255, 0, 0)      1"
            ]
          },
          "metadata": {
            "tags": []
          },
          "execution_count": 284
        }
      ]
    },
    {
      "metadata": {
        "id": "JgYK8shy0KG4",
        "colab_type": "code",
        "outputId": "b6fd8fae-152b-40eb-f836-f5faac68343e",
        "colab": {
          "base_uri": "https://localhost:8080/",
          "height": 86
        }
      },
      "cell_type": "code",
      "source": [
        "# gouping values having same Code_type, \n",
        "# and applying on them sum method\n",
        "df11[\"value\"].groupby(df11[\"Code_type\"]).sum()"
      ],
      "execution_count": 0,
      "outputs": [
        {
          "output_type": "execute_result",
          "data": {
            "text/plain": [
              "Code_type\n",
              "hex    20\n",
              "rgb    14\n",
              "Name: value, dtype: int64"
            ]
          },
          "metadata": {
            "tags": []
          },
          "execution_count": 287
        }
      ]
    },
    {
      "metadata": {
        "id": "ygnw0A6R27uc",
        "colab_type": "code",
        "outputId": "3f1e6547-e74a-42a4-8486-8beba3ffe89b",
        "colab": {
          "base_uri": "https://localhost:8080/",
          "height": 191
        }
      },
      "cell_type": "code",
      "source": [
        "# iterating over a group\n",
        "for i,j in df11[\"value\"].groupby(df11[\"Code_type\"]):\n",
        "  print (i)\n",
        "  print (j)\n"
      ],
      "execution_count": 0,
      "outputs": [
        {
          "output_type": "stream",
          "text": [
            "hex\n",
            "0    5\n",
            "2    7\n",
            "4    8\n",
            "Name: value, dtype: int64\n",
            "rgb\n",
            "1    10\n",
            "3     3\n",
            "5     1\n",
            "Name: value, dtype: int64\n"
          ],
          "name": "stdout"
        }
      ]
    },
    {
      "metadata": {
        "id": "FrYlf6Z558ns",
        "colab_type": "code",
        "outputId": "7dc970f1-0b5c-4cd8-c477-40407fd106ce",
        "colab": {
          "base_uri": "https://localhost:8080/",
          "height": 237
        }
      },
      "cell_type": "code",
      "source": [
        "df11[\"value2\"]=[10,11,12,13,14,15]\n",
        "df11[\"value3\"]=[1]*6\n",
        "df11"
      ],
      "execution_count": 0,
      "outputs": [
        {
          "output_type": "execute_result",
          "data": {
            "text/html": [
              "<div>\n",
              "<style scoped>\n",
              "    .dataframe tbody tr th:only-of-type {\n",
              "        vertical-align: middle;\n",
              "    }\n",
              "\n",
              "    .dataframe tbody tr th {\n",
              "        vertical-align: top;\n",
              "    }\n",
              "\n",
              "    .dataframe thead th {\n",
              "        text-align: right;\n",
              "    }\n",
              "</style>\n",
              "<table border=\"1\" class=\"dataframe\">\n",
              "  <thead>\n",
              "    <tr style=\"text-align: right;\">\n",
              "      <th></th>\n",
              "      <th>Code_type</th>\n",
              "      <th>number</th>\n",
              "      <th>colors</th>\n",
              "      <th>codes</th>\n",
              "      <th>value</th>\n",
              "      <th>value2</th>\n",
              "      <th>value3</th>\n",
              "    </tr>\n",
              "  </thead>\n",
              "  <tbody>\n",
              "    <tr>\n",
              "      <th>0</th>\n",
              "      <td>hex</td>\n",
              "      <td>1</td>\n",
              "      <td>green</td>\n",
              "      <td>#FF0000</td>\n",
              "      <td>5</td>\n",
              "      <td>10</td>\n",
              "      <td>1</td>\n",
              "    </tr>\n",
              "    <tr>\n",
              "      <th>1</th>\n",
              "      <td>rgb</td>\n",
              "      <td>1</td>\n",
              "      <td>green</td>\n",
              "      <td>(0, 0, 255)</td>\n",
              "      <td>10</td>\n",
              "      <td>11</td>\n",
              "      <td>1</td>\n",
              "    </tr>\n",
              "    <tr>\n",
              "      <th>2</th>\n",
              "      <td>hex</td>\n",
              "      <td>2</td>\n",
              "      <td>blue</td>\n",
              "      <td>#0000FF</td>\n",
              "      <td>7</td>\n",
              "      <td>12</td>\n",
              "      <td>1</td>\n",
              "    </tr>\n",
              "    <tr>\n",
              "      <th>3</th>\n",
              "      <td>rgb</td>\n",
              "      <td>2</td>\n",
              "      <td>blue</td>\n",
              "      <td>(0, 255, 0)</td>\n",
              "      <td>3</td>\n",
              "      <td>13</td>\n",
              "      <td>1</td>\n",
              "    </tr>\n",
              "    <tr>\n",
              "      <th>4</th>\n",
              "      <td>hex</td>\n",
              "      <td>3</td>\n",
              "      <td>red</td>\n",
              "      <td>#FF0000</td>\n",
              "      <td>8</td>\n",
              "      <td>14</td>\n",
              "      <td>1</td>\n",
              "    </tr>\n",
              "    <tr>\n",
              "      <th>5</th>\n",
              "      <td>rgb</td>\n",
              "      <td>3</td>\n",
              "      <td>red</td>\n",
              "      <td>(255, 0, 0)</td>\n",
              "      <td>1</td>\n",
              "      <td>15</td>\n",
              "      <td>1</td>\n",
              "    </tr>\n",
              "  </tbody>\n",
              "</table>\n",
              "</div>"
            ],
            "text/plain": [
              "  Code_type  number colors        codes  value  value2  value3\n",
              "0       hex       1  green      #FF0000      5      10       1\n",
              "1       rgb       1  green  (0, 0, 255)     10      11       1\n",
              "2       hex       2   blue      #0000FF      7      12       1\n",
              "3       rgb       2   blue  (0, 255, 0)      3      13       1\n",
              "4       hex       3    red      #FF0000      8      14       1\n",
              "5       rgb       3    red  (255, 0, 0)      1      15       1"
            ]
          },
          "metadata": {
            "tags": []
          },
          "execution_count": 323
        }
      ]
    },
    {
      "metadata": {
        "id": "rHrcVG6J6dCK",
        "colab_type": "code",
        "outputId": "2ff0a803-e479-4038-9062-f9f126464175",
        "colab": {
          "base_uri": "https://localhost:8080/",
          "height": 34
        }
      },
      "cell_type": "code",
      "source": [
        "myDict={\"number\":\"Gr1\",\"value\":\"Gr1\",\"value2\":\"Gr2\",\"value3\":\"Gr2\"}\n",
        "myDict"
      ],
      "execution_count": 0,
      "outputs": [
        {
          "output_type": "execute_result",
          "data": {
            "text/plain": [
              "{'number': 'Gr1', 'value': 'Gr1', 'value2': 'Gr2', 'value3': 'Gr2'}"
            ]
          },
          "metadata": {
            "tags": []
          },
          "execution_count": 324
        }
      ]
    },
    {
      "metadata": {
        "id": "SzhKOEnt7Wgo",
        "colab_type": "code",
        "outputId": "def72d6c-0d6b-4b70-910f-553370871b6b",
        "colab": {
          "base_uri": "https://localhost:8080/",
          "height": 237
        }
      },
      "cell_type": "code",
      "source": [
        "# grouping number an value values in Gr1\n",
        "# and grouping colors and codes in Gr2\n",
        "# then applya a sum on the grouped values\n",
        "df11.groupby(myDict,axis=1).sum()\n",
        "\n"
      ],
      "execution_count": 0,
      "outputs": [
        {
          "output_type": "execute_result",
          "data": {
            "text/html": [
              "<div>\n",
              "<style scoped>\n",
              "    .dataframe tbody tr th:only-of-type {\n",
              "        vertical-align: middle;\n",
              "    }\n",
              "\n",
              "    .dataframe tbody tr th {\n",
              "        vertical-align: top;\n",
              "    }\n",
              "\n",
              "    .dataframe thead th {\n",
              "        text-align: right;\n",
              "    }\n",
              "</style>\n",
              "<table border=\"1\" class=\"dataframe\">\n",
              "  <thead>\n",
              "    <tr style=\"text-align: right;\">\n",
              "      <th></th>\n",
              "      <th>Gr1</th>\n",
              "      <th>Gr2</th>\n",
              "    </tr>\n",
              "  </thead>\n",
              "  <tbody>\n",
              "    <tr>\n",
              "      <th>0</th>\n",
              "      <td>6</td>\n",
              "      <td>11</td>\n",
              "    </tr>\n",
              "    <tr>\n",
              "      <th>1</th>\n",
              "      <td>11</td>\n",
              "      <td>12</td>\n",
              "    </tr>\n",
              "    <tr>\n",
              "      <th>2</th>\n",
              "      <td>9</td>\n",
              "      <td>13</td>\n",
              "    </tr>\n",
              "    <tr>\n",
              "      <th>3</th>\n",
              "      <td>5</td>\n",
              "      <td>14</td>\n",
              "    </tr>\n",
              "    <tr>\n",
              "      <th>4</th>\n",
              "      <td>11</td>\n",
              "      <td>15</td>\n",
              "    </tr>\n",
              "    <tr>\n",
              "      <th>5</th>\n",
              "      <td>4</td>\n",
              "      <td>16</td>\n",
              "    </tr>\n",
              "  </tbody>\n",
              "</table>\n",
              "</div>"
            ],
            "text/plain": [
              "   Gr1  Gr2\n",
              "0    6   11\n",
              "1   11   12\n",
              "2    9   13\n",
              "3    5   14\n",
              "4   11   15\n",
              "5    4   16"
            ]
          },
          "metadata": {
            "tags": []
          },
          "execution_count": 325
        }
      ]
    },
    {
      "metadata": {
        "id": "pgJnG_fjBDN-",
        "colab_type": "text"
      },
      "cell_type": "markdown",
      "source": [
        "# 5- Data aggregation"
      ]
    },
    {
      "metadata": {
        "id": "lCf8wp2eBMs6",
        "colab_type": "text"
      },
      "cell_type": "markdown",
      "source": [
        "## agg"
      ]
    },
    {
      "metadata": {
        "id": "CQQln8wpBG9y",
        "colab_type": "code",
        "outputId": "ff6a82c6-fc50-46a5-cd0b-40cec5257aad",
        "colab": {
          "base_uri": "https://localhost:8080/",
          "height": 237
        }
      },
      "cell_type": "code",
      "source": [
        "df11"
      ],
      "execution_count": 0,
      "outputs": [
        {
          "output_type": "execute_result",
          "data": {
            "text/html": [
              "<div>\n",
              "<style scoped>\n",
              "    .dataframe tbody tr th:only-of-type {\n",
              "        vertical-align: middle;\n",
              "    }\n",
              "\n",
              "    .dataframe tbody tr th {\n",
              "        vertical-align: top;\n",
              "    }\n",
              "\n",
              "    .dataframe thead th {\n",
              "        text-align: right;\n",
              "    }\n",
              "</style>\n",
              "<table border=\"1\" class=\"dataframe\">\n",
              "  <thead>\n",
              "    <tr style=\"text-align: right;\">\n",
              "      <th></th>\n",
              "      <th>Code_type</th>\n",
              "      <th>number</th>\n",
              "      <th>colors</th>\n",
              "      <th>codes</th>\n",
              "      <th>value</th>\n",
              "      <th>value2</th>\n",
              "      <th>value3</th>\n",
              "    </tr>\n",
              "  </thead>\n",
              "  <tbody>\n",
              "    <tr>\n",
              "      <th>0</th>\n",
              "      <td>hex</td>\n",
              "      <td>1</td>\n",
              "      <td>green</td>\n",
              "      <td>#FF0000</td>\n",
              "      <td>5</td>\n",
              "      <td>10</td>\n",
              "      <td>1</td>\n",
              "    </tr>\n",
              "    <tr>\n",
              "      <th>1</th>\n",
              "      <td>rgb</td>\n",
              "      <td>1</td>\n",
              "      <td>green</td>\n",
              "      <td>(0, 0, 255)</td>\n",
              "      <td>10</td>\n",
              "      <td>11</td>\n",
              "      <td>1</td>\n",
              "    </tr>\n",
              "    <tr>\n",
              "      <th>2</th>\n",
              "      <td>hex</td>\n",
              "      <td>2</td>\n",
              "      <td>blue</td>\n",
              "      <td>#0000FF</td>\n",
              "      <td>7</td>\n",
              "      <td>12</td>\n",
              "      <td>1</td>\n",
              "    </tr>\n",
              "    <tr>\n",
              "      <th>3</th>\n",
              "      <td>rgb</td>\n",
              "      <td>2</td>\n",
              "      <td>blue</td>\n",
              "      <td>(0, 255, 0)</td>\n",
              "      <td>3</td>\n",
              "      <td>13</td>\n",
              "      <td>1</td>\n",
              "    </tr>\n",
              "    <tr>\n",
              "      <th>4</th>\n",
              "      <td>hex</td>\n",
              "      <td>3</td>\n",
              "      <td>red</td>\n",
              "      <td>#FF0000</td>\n",
              "      <td>8</td>\n",
              "      <td>14</td>\n",
              "      <td>1</td>\n",
              "    </tr>\n",
              "    <tr>\n",
              "      <th>5</th>\n",
              "      <td>rgb</td>\n",
              "      <td>3</td>\n",
              "      <td>red</td>\n",
              "      <td>(255, 0, 0)</td>\n",
              "      <td>1</td>\n",
              "      <td>15</td>\n",
              "      <td>1</td>\n",
              "    </tr>\n",
              "  </tbody>\n",
              "</table>\n",
              "</div>"
            ],
            "text/plain": [
              "  Code_type  number colors        codes  value  value2  value3\n",
              "0       hex       1  green      #FF0000      5      10       1\n",
              "1       rgb       1  green  (0, 0, 255)     10      11       1\n",
              "2       hex       2   blue      #0000FF      7      12       1\n",
              "3       rgb       2   blue  (0, 255, 0)      3      13       1\n",
              "4       hex       3    red      #FF0000      8      14       1\n",
              "5       rgb       3    red  (255, 0, 0)      1      15       1"
            ]
          },
          "metadata": {
            "tags": []
          },
          "execution_count": 326
        }
      ]
    },
    {
      "metadata": {
        "id": "71qY7_A6BVGa",
        "colab_type": "code",
        "colab": {}
      },
      "cell_type": "code",
      "source": [
        "my_group=df11[\"value\"].groupby(df11[\"Code_type\"])\n",
        "my_group2=df11.groupby(df11[\"Code_type\"],as_index=False)\n"
      ],
      "execution_count": 0,
      "outputs": []
    },
    {
      "metadata": {
        "id": "EdFNcFu-CHxU",
        "colab_type": "code",
        "outputId": "fbd31e34-e390-4f66-d552-a8dc837c7bc2",
        "colab": {
          "base_uri": "https://localhost:8080/",
          "height": 143
        }
      },
      "cell_type": "code",
      "source": [
        "# applying multiple aggregation operations on\n",
        "# the grouoped values\n",
        "my_group.agg([\"sum\",\"prod\"])"
      ],
      "execution_count": 0,
      "outputs": [
        {
          "output_type": "execute_result",
          "data": {
            "text/html": [
              "<div>\n",
              "<style scoped>\n",
              "    .dataframe tbody tr th:only-of-type {\n",
              "        vertical-align: middle;\n",
              "    }\n",
              "\n",
              "    .dataframe tbody tr th {\n",
              "        vertical-align: top;\n",
              "    }\n",
              "\n",
              "    .dataframe thead th {\n",
              "        text-align: right;\n",
              "    }\n",
              "</style>\n",
              "<table border=\"1\" class=\"dataframe\">\n",
              "  <thead>\n",
              "    <tr style=\"text-align: right;\">\n",
              "      <th></th>\n",
              "      <th>sum</th>\n",
              "      <th>prod</th>\n",
              "    </tr>\n",
              "    <tr>\n",
              "      <th>Code_type</th>\n",
              "      <th></th>\n",
              "      <th></th>\n",
              "    </tr>\n",
              "  </thead>\n",
              "  <tbody>\n",
              "    <tr>\n",
              "      <th>hex</th>\n",
              "      <td>20</td>\n",
              "      <td>280</td>\n",
              "    </tr>\n",
              "    <tr>\n",
              "      <th>rgb</th>\n",
              "      <td>14</td>\n",
              "      <td>30</td>\n",
              "    </tr>\n",
              "  </tbody>\n",
              "</table>\n",
              "</div>"
            ],
            "text/plain": [
              "           sum  prod\n",
              "Code_type           \n",
              "hex         20   280\n",
              "rgb         14    30"
            ]
          },
          "metadata": {
            "tags": []
          },
          "execution_count": 361
        }
      ]
    },
    {
      "metadata": {
        "id": "jIAWt-cOGape",
        "colab_type": "code",
        "outputId": "5e266e39-1f30-4bab-c426-25043e4d43e1",
        "colab": {
          "base_uri": "https://localhost:8080/",
          "height": 143
        }
      },
      "cell_type": "code",
      "source": [
        "my_group.agg([\"sum\",\"prod\"])"
      ],
      "execution_count": 0,
      "outputs": [
        {
          "output_type": "execute_result",
          "data": {
            "text/html": [
              "<div>\n",
              "<style scoped>\n",
              "    .dataframe tbody tr th:only-of-type {\n",
              "        vertical-align: middle;\n",
              "    }\n",
              "\n",
              "    .dataframe tbody tr th {\n",
              "        vertical-align: top;\n",
              "    }\n",
              "\n",
              "    .dataframe thead th {\n",
              "        text-align: right;\n",
              "    }\n",
              "</style>\n",
              "<table border=\"1\" class=\"dataframe\">\n",
              "  <thead>\n",
              "    <tr style=\"text-align: right;\">\n",
              "      <th></th>\n",
              "      <th>sum</th>\n",
              "      <th>prod</th>\n",
              "    </tr>\n",
              "    <tr>\n",
              "      <th>Code_type</th>\n",
              "      <th></th>\n",
              "      <th></th>\n",
              "    </tr>\n",
              "  </thead>\n",
              "  <tbody>\n",
              "    <tr>\n",
              "      <th>hex</th>\n",
              "      <td>20</td>\n",
              "      <td>280</td>\n",
              "    </tr>\n",
              "    <tr>\n",
              "      <th>rgb</th>\n",
              "      <td>14</td>\n",
              "      <td>30</td>\n",
              "    </tr>\n",
              "  </tbody>\n",
              "</table>\n",
              "</div>"
            ],
            "text/plain": [
              "           sum  prod\n",
              "Code_type           \n",
              "hex         20   280\n",
              "rgb         14    30"
            ]
          },
          "metadata": {
            "tags": []
          },
          "execution_count": 348
        }
      ]
    },
    {
      "metadata": {
        "id": "l7ZMFh0qFU5q",
        "colab_type": "text"
      },
      "cell_type": "markdown",
      "source": [
        "## Columns kept columns"
      ]
    },
    {
      "metadata": {
        "id": "qCAddOe0IMuc",
        "colab_type": "text"
      },
      "cell_type": "markdown",
      "source": [
        "#  6- Other aggregation operations "
      ]
    },
    {
      "metadata": {
        "id": "A5jC8673R03C",
        "colab_type": "text"
      },
      "cell_type": "markdown",
      "source": [
        "## cut & qcut"
      ]
    },
    {
      "metadata": {
        "id": "oi__6APVCRTU",
        "colab_type": "code",
        "outputId": "5bce96e0-4577-4321-db30-1554db5f94fe",
        "colab": {
          "base_uri": "https://localhost:8080/",
          "height": 237
        }
      },
      "cell_type": "code",
      "source": [
        "df11[\"value3\"]=[2,31,62,156,230,1000]\n",
        "df11"
      ],
      "execution_count": 0,
      "outputs": [
        {
          "output_type": "execute_result",
          "data": {
            "text/html": [
              "<div>\n",
              "<style scoped>\n",
              "    .dataframe tbody tr th:only-of-type {\n",
              "        vertical-align: middle;\n",
              "    }\n",
              "\n",
              "    .dataframe tbody tr th {\n",
              "        vertical-align: top;\n",
              "    }\n",
              "\n",
              "    .dataframe thead th {\n",
              "        text-align: right;\n",
              "    }\n",
              "</style>\n",
              "<table border=\"1\" class=\"dataframe\">\n",
              "  <thead>\n",
              "    <tr style=\"text-align: right;\">\n",
              "      <th></th>\n",
              "      <th>Code_type</th>\n",
              "      <th>number</th>\n",
              "      <th>colors</th>\n",
              "      <th>codes</th>\n",
              "      <th>value</th>\n",
              "      <th>value2</th>\n",
              "      <th>value3</th>\n",
              "    </tr>\n",
              "  </thead>\n",
              "  <tbody>\n",
              "    <tr>\n",
              "      <th>0</th>\n",
              "      <td>hex</td>\n",
              "      <td>1</td>\n",
              "      <td>green</td>\n",
              "      <td>#FF0000</td>\n",
              "      <td>5</td>\n",
              "      <td>10</td>\n",
              "      <td>2</td>\n",
              "    </tr>\n",
              "    <tr>\n",
              "      <th>1</th>\n",
              "      <td>rgb</td>\n",
              "      <td>1</td>\n",
              "      <td>green</td>\n",
              "      <td>(0, 0, 255)</td>\n",
              "      <td>10</td>\n",
              "      <td>11</td>\n",
              "      <td>31</td>\n",
              "    </tr>\n",
              "    <tr>\n",
              "      <th>2</th>\n",
              "      <td>hex</td>\n",
              "      <td>2</td>\n",
              "      <td>blue</td>\n",
              "      <td>#0000FF</td>\n",
              "      <td>7</td>\n",
              "      <td>12</td>\n",
              "      <td>62</td>\n",
              "    </tr>\n",
              "    <tr>\n",
              "      <th>3</th>\n",
              "      <td>rgb</td>\n",
              "      <td>2</td>\n",
              "      <td>blue</td>\n",
              "      <td>(0, 255, 0)</td>\n",
              "      <td>3</td>\n",
              "      <td>13</td>\n",
              "      <td>156</td>\n",
              "    </tr>\n",
              "    <tr>\n",
              "      <th>4</th>\n",
              "      <td>hex</td>\n",
              "      <td>3</td>\n",
              "      <td>red</td>\n",
              "      <td>#FF0000</td>\n",
              "      <td>8</td>\n",
              "      <td>14</td>\n",
              "      <td>230</td>\n",
              "    </tr>\n",
              "    <tr>\n",
              "      <th>5</th>\n",
              "      <td>rgb</td>\n",
              "      <td>3</td>\n",
              "      <td>red</td>\n",
              "      <td>(255, 0, 0)</td>\n",
              "      <td>1</td>\n",
              "      <td>15</td>\n",
              "      <td>1000</td>\n",
              "    </tr>\n",
              "  </tbody>\n",
              "</table>\n",
              "</div>"
            ],
            "text/plain": [
              "  Code_type  number colors        codes  value  value2  value3\n",
              "0       hex       1  green      #FF0000      5      10       2\n",
              "1       rgb       1  green  (0, 0, 255)     10      11      31\n",
              "2       hex       2   blue      #0000FF      7      12      62\n",
              "3       rgb       2   blue  (0, 255, 0)      3      13     156\n",
              "4       hex       3    red      #FF0000      8      14     230\n",
              "5       rgb       3    red  (255, 0, 0)      1      15    1000"
            ]
          },
          "metadata": {
            "tags": []
          },
          "execution_count": 381
        }
      ]
    },
    {
      "metadata": {
        "id": "mlzhNVv6IP-E",
        "colab_type": "code",
        "outputId": "398fcab2-c22f-40d7-a6d1-c0e43d62fd8d",
        "colab": {
          "base_uri": "https://localhost:8080/",
          "height": 104
        }
      },
      "cell_type": "code",
      "source": [
        "# grouping value3 by intervals of the same lenght\n",
        "intervals=pd.cut(df11.value3,3)\n",
        "my_group4= df11[\"value3\"].groupby(intervals)\n",
        "my_group4.count()"
      ],
      "execution_count": 0,
      "outputs": [
        {
          "output_type": "execute_result",
          "data": {
            "text/plain": [
              "value3\n",
              "(1.002, 334.667]      5\n",
              "(334.667, 667.333]    0\n",
              "(667.333, 1000.0]     1\n",
              "Name: value3, dtype: int64"
            ]
          },
          "metadata": {
            "tags": []
          },
          "execution_count": 383
        }
      ]
    },
    {
      "metadata": {
        "id": "VStgDqxNPFM2",
        "colab_type": "code",
        "outputId": "e34f42ec-f431-44ce-faeb-30380a7256c0",
        "colab": {
          "base_uri": "https://localhost:8080/",
          "height": 104
        }
      },
      "cell_type": "code",
      "source": [
        "# grouping value3 by intervals of the same size\n",
        "# same number of values in each interval\n",
        "intervals=pd.qcut(df11.value3,3)\n",
        "my_group5= df11[\"value3\"].groupby(intervals)\n",
        "my_group5.count()"
      ],
      "execution_count": 0,
      "outputs": [
        {
          "output_type": "execute_result",
          "data": {
            "text/plain": [
              "value3\n",
              "(1.999, 51.667]      2\n",
              "(51.667, 180.667]    2\n",
              "(180.667, 1000.0]    2\n",
              "Name: value3, dtype: int64"
            ]
          },
          "metadata": {
            "tags": []
          },
          "execution_count": 386
        }
      ]
    },
    {
      "metadata": {
        "id": "Mn_ZjiV6X2ka",
        "colab_type": "text"
      },
      "cell_type": "markdown",
      "source": [
        "## crosstab"
      ]
    },
    {
      "metadata": {
        "id": "jh5rqlW2Sh-y",
        "colab_type": "code",
        "outputId": "ece5de4b-2eaf-47e7-c824-db65f900da28",
        "colab": {
          "base_uri": "https://localhost:8080/",
          "height": 237
        }
      },
      "cell_type": "code",
      "source": [
        "df11"
      ],
      "execution_count": 0,
      "outputs": [
        {
          "output_type": "execute_result",
          "data": {
            "text/html": [
              "<div>\n",
              "<style scoped>\n",
              "    .dataframe tbody tr th:only-of-type {\n",
              "        vertical-align: middle;\n",
              "    }\n",
              "\n",
              "    .dataframe tbody tr th {\n",
              "        vertical-align: top;\n",
              "    }\n",
              "\n",
              "    .dataframe thead th {\n",
              "        text-align: right;\n",
              "    }\n",
              "</style>\n",
              "<table border=\"1\" class=\"dataframe\">\n",
              "  <thead>\n",
              "    <tr style=\"text-align: right;\">\n",
              "      <th></th>\n",
              "      <th>Code_type</th>\n",
              "      <th>number</th>\n",
              "      <th>colors</th>\n",
              "      <th>codes</th>\n",
              "      <th>value</th>\n",
              "      <th>value2</th>\n",
              "      <th>value3</th>\n",
              "    </tr>\n",
              "  </thead>\n",
              "  <tbody>\n",
              "    <tr>\n",
              "      <th>0</th>\n",
              "      <td>hex</td>\n",
              "      <td>1</td>\n",
              "      <td>green</td>\n",
              "      <td>#FF0000</td>\n",
              "      <td>5</td>\n",
              "      <td>10</td>\n",
              "      <td>2</td>\n",
              "    </tr>\n",
              "    <tr>\n",
              "      <th>1</th>\n",
              "      <td>rgb</td>\n",
              "      <td>1</td>\n",
              "      <td>green</td>\n",
              "      <td>(0, 0, 255)</td>\n",
              "      <td>10</td>\n",
              "      <td>11</td>\n",
              "      <td>31</td>\n",
              "    </tr>\n",
              "    <tr>\n",
              "      <th>2</th>\n",
              "      <td>hex</td>\n",
              "      <td>2</td>\n",
              "      <td>blue</td>\n",
              "      <td>#0000FF</td>\n",
              "      <td>7</td>\n",
              "      <td>12</td>\n",
              "      <td>62</td>\n",
              "    </tr>\n",
              "    <tr>\n",
              "      <th>3</th>\n",
              "      <td>rgb</td>\n",
              "      <td>2</td>\n",
              "      <td>blue</td>\n",
              "      <td>(0, 255, 0)</td>\n",
              "      <td>3</td>\n",
              "      <td>13</td>\n",
              "      <td>156</td>\n",
              "    </tr>\n",
              "    <tr>\n",
              "      <th>4</th>\n",
              "      <td>hex</td>\n",
              "      <td>3</td>\n",
              "      <td>red</td>\n",
              "      <td>#FF0000</td>\n",
              "      <td>8</td>\n",
              "      <td>14</td>\n",
              "      <td>230</td>\n",
              "    </tr>\n",
              "    <tr>\n",
              "      <th>5</th>\n",
              "      <td>rgb</td>\n",
              "      <td>3</td>\n",
              "      <td>red</td>\n",
              "      <td>(255, 0, 0)</td>\n",
              "      <td>1</td>\n",
              "      <td>15</td>\n",
              "      <td>1000</td>\n",
              "    </tr>\n",
              "  </tbody>\n",
              "</table>\n",
              "</div>"
            ],
            "text/plain": [
              "  Code_type  number colors        codes  value  value2  value3\n",
              "0       hex       1  green      #FF0000      5      10       2\n",
              "1       rgb       1  green  (0, 0, 255)     10      11      31\n",
              "2       hex       2   blue      #0000FF      7      12      62\n",
              "3       rgb       2   blue  (0, 255, 0)      3      13     156\n",
              "4       hex       3    red      #FF0000      8      14     230\n",
              "5       rgb       3    red  (255, 0, 0)      1      15    1000"
            ]
          },
          "metadata": {
            "tags": []
          },
          "execution_count": 387
        }
      ]
    },
    {
      "metadata": {
        "id": "Q8RpVIWZShIe",
        "colab_type": "code",
        "outputId": "cfc62081-ad60-4f6f-9175-026c3a43c563",
        "colab": {
          "base_uri": "https://localhost:8080/",
          "height": 175
        }
      },
      "cell_type": "code",
      "source": [
        "# for each value in column \"number\",\n",
        "# crosstab will calculate the frequnecies\n",
        "# of each unique value in \"colors\"\n",
        "\n",
        "pd.crosstab(df11.number,df11.colors)"
      ],
      "execution_count": 0,
      "outputs": [
        {
          "output_type": "execute_result",
          "data": {
            "text/html": [
              "<div>\n",
              "<style scoped>\n",
              "    .dataframe tbody tr th:only-of-type {\n",
              "        vertical-align: middle;\n",
              "    }\n",
              "\n",
              "    .dataframe tbody tr th {\n",
              "        vertical-align: top;\n",
              "    }\n",
              "\n",
              "    .dataframe thead th {\n",
              "        text-align: right;\n",
              "    }\n",
              "</style>\n",
              "<table border=\"1\" class=\"dataframe\">\n",
              "  <thead>\n",
              "    <tr style=\"text-align: right;\">\n",
              "      <th>colors</th>\n",
              "      <th>blue</th>\n",
              "      <th>green</th>\n",
              "      <th>red</th>\n",
              "    </tr>\n",
              "    <tr>\n",
              "      <th>number</th>\n",
              "      <th></th>\n",
              "      <th></th>\n",
              "      <th></th>\n",
              "    </tr>\n",
              "  </thead>\n",
              "  <tbody>\n",
              "    <tr>\n",
              "      <th>1</th>\n",
              "      <td>0</td>\n",
              "      <td>2</td>\n",
              "      <td>0</td>\n",
              "    </tr>\n",
              "    <tr>\n",
              "      <th>2</th>\n",
              "      <td>2</td>\n",
              "      <td>0</td>\n",
              "      <td>0</td>\n",
              "    </tr>\n",
              "    <tr>\n",
              "      <th>3</th>\n",
              "      <td>0</td>\n",
              "      <td>0</td>\n",
              "      <td>2</td>\n",
              "    </tr>\n",
              "  </tbody>\n",
              "</table>\n",
              "</div>"
            ],
            "text/plain": [
              "colors  blue  green  red\n",
              "number                  \n",
              "1          0      2    0\n",
              "2          2      0    0\n",
              "3          0      0    2"
            ]
          },
          "metadata": {
            "tags": []
          },
          "execution_count": 396
        }
      ]
    },
    {
      "metadata": {
        "id": "Juol7MPTXHdw",
        "colab_type": "text"
      },
      "cell_type": "markdown",
      "source": [
        "# References\n",
        "* Datawatch. What is data wrangling? On-line at https://www.datawatch.com/what-is-data-wrangling/. Accessed on 31-10-2018.\n",
        "* Wes McKinney. Python for data analysis: Data wrangling with Pandas, NumPy, and IPython. O’Reilly Media, Inc, 2018.\n",
        "pydata.org.\n",
        "* Pandas documentation. On-line at https://pandas.pydata. org/. Accessed on 19-10-2018."
      ]
    }
  ]
}