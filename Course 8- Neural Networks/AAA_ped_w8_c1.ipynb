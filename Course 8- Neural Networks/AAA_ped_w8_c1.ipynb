{
  "nbformat": 4,
  "nbformat_minor": 0,
  "metadata": {
    "colab": {
      "name": "AAA-ped-w8-c1.ipynb",
      "version": "0.3.2",
      "provenance": [],
      "collapsed_sections": [],
      "toc_visible": true,
      "include_colab_link": true
    },
    "kernelspec": {
      "name": "python3",
      "display_name": "Python 3"
    }
  },
  "cells": [
    {
      "cell_type": "markdown",
      "metadata": {
        "id": "view-in-github",
        "colab_type": "text"
      },
      "source": [
        "<a href=\"https://colab.research.google.com/github/AIMosta/All-About-AI-Python-Edition/blob/master/Course%208-%20Neural%20Networks/AAA_ped_w8_c1.ipynb\" target=\"_parent\"><img src=\"https://colab.research.google.com/assets/colab-badge.svg\" alt=\"Open In Colab\"/></a>"
      ]
    },
    {
      "metadata": {
        "id": "b9q-VxEW5tRs",
        "colab_type": "text"
      },
      "cell_type": "markdown",
      "source": [
        "<img src=\"https://docs.google.com/uc?export=download&id=1ap18raVTUCSJeGzTLz9kViroFGvTknrV\">\n",
        "# Artificial Neural Networks: Introduction to ANN\n",
        "[Colaboratory Notebook](https://colab.research.google.com/drive/1CqYwu9NzeXuUNeR8RmkDplUd71DHWNod)"
      ]
    },
    {
      "metadata": {
        "id": "H1a7Uuzz8dnI",
        "colab_type": "toc"
      },
      "cell_type": "markdown",
      "source": [
        ">[Artificial Neural Network: Introduction to ANN](#scrollTo=b9q-VxEW5tRs)\n",
        "\n",
        ">[1- Introduction to ANN](#scrollTo=1oBho425Q7ca)\n",
        "\n",
        ">>[Concept](#scrollTo=yLvtrsm0RcWq)\n",
        "\n",
        ">>[NeuroLab](#scrollTo=A8DvRRWlRdGi)\n",
        "\n",
        ">>[Neurolab example details](#scrollTo=OjzIaOe1RdZ2)\n",
        "\n",
        ">[2- Perceptron](#scrollTo=VL49qQMiRCfC)\n",
        "\n",
        ">>[Definition](#scrollTo=QtI6YjSJRzo8)\n",
        "\n",
        ">>[The functions](#scrollTo=Tg2exEipRz7w)\n",
        "\n",
        ">>[Single Layer Perceptron](#scrollTo=lYnbKQUdR0Ou)\n",
        "\n",
        ">[3-Single Layer Perceptron](#scrollTo=Nhm8OJc_RFU8)\n",
        "\n",
        ">>[SLP Learning](#scrollTo=TOgMnI_CR7QE)\n",
        "\n",
        ">>[SLP Learning: Perceptron Rule](#scrollTo=iJCObGCDR7Wk)\n",
        "\n",
        ">>[Gradient Descent](#scrollTo=Zd06of0ZR7JC)\n",
        "\n",
        ">>[SLP Learning: Delta Rule](#scrollTo=QrWP65T-VEVG)\n",
        "\n",
        ">[4- SLP examples](#scrollTo=Ca8Ofrs7RHwC)\n",
        "\n",
        ">>[With sklearn: perceptron rule](#scrollTo=xn8bZSmqSBwY)\n",
        "\n",
        ">>[Example with neurolab: delta rule](#scrollTo=157T7zEfSB_u)\n",
        "\n",
        ">[5-Multi-Layer Perceptron](#scrollTo=5aXVjrUrRNGi)\n",
        "\n",
        ">>[Multi-Layer Perceptron](#scrollTo=_RT-oRvhVeFM)\n",
        "\n",
        ">>[Backpropagation](#scrollTo=yMgLDZAdSGjG)\n",
        "\n",
        ">>[Example](#scrollTo=Z7prBx0pSGbS)\n",
        "\n",
        ">[6- ANN topologies](#scrollTo=CffbTqAERQKg)\n",
        "\n",
        ">>[FeedForward Neural Networks](#scrollTo=23ma5K3xSKrS)\n",
        "\n",
        ">>[Recurrent Networks](#scrollTo=WIGdB_nfSK9o)\n",
        "\n",
        ">>[Fully connected Neural Network](#scrollTo=_6H6Ca-GSK4-)\n",
        "\n",
        ">[References](#scrollTo=tSbN2yDrRSdW)\n",
        "\n"
      ]
    },
    {
      "metadata": {
        "id": "1oBho425Q7ca",
        "colab_type": "text"
      },
      "cell_type": "markdown",
      "source": [
        "# 1- Introduction to ANN\n",
        "\n"
      ]
    },
    {
      "metadata": {
        "id": "yLvtrsm0RcWq",
        "colab_type": "text"
      },
      "cell_type": "markdown",
      "source": [
        "## Concept\n",
        "\n",
        "* The idea of an **Artificial Neural Network** (**ANN**) is to build a model based on the way the human brain **learns new** things.\n",
        "\n",
        "* It can be used in any type of **machine learning**. It learns by extracting the different underlying patterns in a given data.\n",
        "\n",
        "* This extraction is performed by stages, called **layers**. Each layer, which is composed by a set of **neurons**, will identify a certain pattern. The following layer, will identify another **more complex** pattern, from its previous layer.\n",
        "\n",
        "* The first layer, has the training data as input. It is called the** input layer**. In the last one, the output of the neurons are the final output.  It is called the **output** layer. The layers in between, are called **hidden layers**.\n",
        "* From now, the term **neural network** will mean **artificial neural network**."
      ]
    },
    {
      "metadata": {
        "id": "A8DvRRWlRdGi",
        "colab_type": "text"
      },
      "cell_type": "markdown",
      "source": [
        "## NeuroLab\n",
        "\n",
        "* Neurolab is Neural Network library for Python. It supports several types of neural networks.\n",
        "\n",
        "* For installation, just type: ```!pip install neurolab```\n",
        "\n",
        "* Like other machine learning techniques, a neural network need to be trained. Can be tested. And will be used to predict results.\n",
        "\n",
        "* Here is an example of how to use neurolab to create a neural network, and how to perform the fore-mentioned tasks:"
      ]
    },
    {
      "metadata": {
        "id": "j45OjrHyWBvK",
        "colab_type": "code",
        "outputId": "3d2de099-a33d-4cd7-e29c-74bcef9f4eab",
        "colab": {
          "base_uri": "https://localhost:8080/",
          "height": 193
        }
      },
      "cell_type": "code",
      "source": [
        "# installation of neurolab\n",
        "!pip install neurolab"
      ],
      "execution_count": 0,
      "outputs": [
        {
          "output_type": "stream",
          "text": [
            "Collecting neurolab\n",
            "\u001b[?25l  Downloading https://files.pythonhosted.org/packages/46/fd/47a9a39158b461b6b862d64c0ad7f679b08ed6d316744299f0db89066342/neurolab-0.3.5.tar.gz (645kB)\n",
            "\u001b[K    100% |████████████████████████████████| 655kB 21.4MB/s \n",
            "\u001b[?25hBuilding wheels for collected packages: neurolab\n",
            "  Building wheel for neurolab (setup.py) ... \u001b[?25ldone\n",
            "\u001b[?25h  Stored in directory: /root/.cache/pip/wheels/c6/8f/37/32ab1cf4d601dc0bc49d7241012a4292db4b343bebff5b68e6\n",
            "Successfully built neurolab\n",
            "Installing collected packages: neurolab\n",
            "Successfully installed neurolab-0.3.5\n"
          ],
          "name": "stdout"
        }
      ]
    },
    {
      "metadata": {
        "id": "qk9_t_tuZn9K",
        "colab_type": "code",
        "outputId": "23eb32b1-cdc0-44e1-b84e-593a0f363e92",
        "colab": {
          "base_uri": "https://localhost:8080/",
          "height": 86
        }
      },
      "cell_type": "code",
      "source": [
        "import numpy as np\n",
        "import neurolab as nl\n",
        "# Create data\n",
        "myInput = np.random.uniform(-0.5, 0.5, (10, 2))\n",
        "# the labels correspond to the sum of two values\n",
        "myLabels = (myInput[:, 0] + myInput[:, 1]).reshape(10, 1)\n",
        "# Create network with 2 inputs, 5 neurons in hidden layer and 1 in output layer\n",
        "myNN = nl.net.newff([[-0.5, 0.5], [-0.5, 0.5]], [5, 1])\n",
        "# Train process\n",
        "myErr = myNN.train(myInput,myLabels, show=15)\n",
        "\n",
        "# Test and prediction process\n",
        "pred= myNN.sim([[0.2, 0.1]])\n",
        "# the result should be 0.3\n",
        "testErr= np.abs(0.3-pred)\n",
        "print (\"Prediction=\",pred)\n",
        "print (\"Test error = \",testErr)\n"
      ],
      "execution_count": 0,
      "outputs": [
        {
          "output_type": "stream",
          "text": [
            "Epoch: 15; Error: 0.010827781453884296;\n",
            "The goal of learning is reached\n",
            "Prediction= [[0.27888876]]\n",
            "Test error =  [[0.02111124]]\n"
          ],
          "name": "stdout"
        }
      ]
    },
    {
      "metadata": {
        "id": "JdmOezr3oEou",
        "colab_type": "code",
        "outputId": "07b938a4-edfc-4daa-d3e9-a5793c499ef2",
        "colab": {
          "base_uri": "https://localhost:8080/",
          "height": 54
        }
      },
      "cell_type": "code",
      "source": [
        "print(\"Training errors until converngence:\",myErr)"
      ],
      "execution_count": 0,
      "outputs": [
        {
          "output_type": "stream",
          "text": [
            "Training errors until converngence: [0.32999912867545295, 0.2486661444665599, 0.1292945419367547, 0.0657565980545697, 0.05055297062542579, 0.036675825916531894, 0.02110533590934114, 0.01961050932435214, 0.017889590335269934, 0.017030460795990566, 0.01633692456059261, 0.015204223587932907, 0.013680298794147413, 0.012248254413184468, 0.010827781453884296, 0.010075997772901696, 0.009250550249635933]\n"
          ],
          "name": "stdout"
        }
      ]
    },
    {
      "metadata": {
        "id": "OjzIaOe1RdZ2",
        "colab_type": "text"
      },
      "cell_type": "markdown",
      "source": [
        "## Neurolab example details\n",
        "\n",
        "\n",
        "* Data: **10** samples described by **2** features. The labels are the **sum** of the  **2** features. In fact, the NN tries to model the **sum** function for values ranging from **-0.5** to **0.5 **\n",
        "\n",
        "* After creating the data, the steps were:\n",
        "   * Create an instance of a neural network with specified number of layers and neurons (``` nl.net.newff ```)\n",
        "   * Train the neural network (``` myNN.train ```)\n",
        "   * Predict the output for the value [0.2,0.1] (``` myNN.sim ```)\n",
        "   * Compute the test error (the true label is known: 0.2+0.1)"
      ]
    },
    {
      "metadata": {
        "id": "VL49qQMiRCfC",
        "colab_type": "text"
      },
      "cell_type": "markdown",
      "source": [
        "# 2- Perceptron"
      ]
    },
    {
      "metadata": {
        "id": "QtI6YjSJRzo8",
        "colab_type": "text"
      },
      "cell_type": "markdown",
      "source": [
        "## Definition\n",
        "\n",
        "* The term **Perceptron** refers to an input layer of data features values, with **forward weighted** connections to an output **layer ** of **one single neuron** , or of **multiple neurons**.\n",
        "\n",
        "* One of the simplest form of a neuron is an **LTU**.\n",
        "\n",
        "* **LTU**, for **L**inear **T**hreshold **U**nit, it is a component (**neuron**) that:\n",
        "  * Computes a **weighted sum** of its inputs: a linear function\n",
        "  * Applies a **step** function to the resulting sum, and **outputs** the results"
      ]
    },
    {
      "metadata": {
        "id": "Tg2exEipRz7w",
        "colab_type": "text"
      },
      "cell_type": "markdown",
      "source": [
        "## The functions\n",
        "* The weighted sum function, is also called the **Propagation** function.\n",
        "* The step function, can be :\n",
        "  * A **non-linear** function, in this case, it will be  called the **threshold activation function** **(** This is the case of an LTU **)**. For example:\n",
        "    * Heaviside step function:\n",
        "    \n",
        "    $heaviside(z)=\\begin{cases}\n",
        "0,  & \\text{if $z < 0$} \\\\[2ex]\n",
        "1  & \\text{if $z >=0$} \n",
        "\\end{cases}\n",
        "$\n",
        "    * Sign function:\n",
        "        $sgn(z)=\\begin{cases}\n",
        "-1,  & \\text{if $z < 0$} \\\\[2ex]\n",
        "0  & \\text{if $z =0$} \\\\[2ex]\n",
        "1  & \\text{if $z >=0$} \n",
        "\\end{cases}\n",
        "$\n",
        "\n",
        "  * A **linear** function, simply called **activation function**. For example:\n",
        "    * The **identity function**: which means that the value computed by the propagation function, is the output value of the neuron.\n",
        "  * A **semi-linear** function, that is **monotonous** and **differentiable**. Also called **activation function**."
      ]
    },
    {
      "metadata": {
        "id": "lYnbKQUdR0Ou",
        "colab_type": "text"
      },
      "cell_type": "markdown",
      "source": [
        "## Single Layer Perceptron\n",
        "* A **S**ingle **L**ayer **P**erceptron **(SLP)**, is simply a Perceptron with only one layer (**without** counting the **input layer** ) .\n",
        "* So, it is composed of an **input** layer and an **output** layer. The later one can have one ore more outputs. So, it can be used for binary and for multioutput classification \n",
        "\n",
        "* Considering an ANN in general, a **Perceptron** is considered as a **feedforward** neural network. We are going to talk about it in the next section.\n",
        "\n",
        "* An **SLP** an apply **2** different kind for **rules** to learn: **the perceptron** rule, or the **delta rule**. Each of the rules is associated with a certain type of activation function.  To apply the delta rule, we need the activation function to be differentiable."
      ]
    },
    {
      "metadata": {
        "id": "Nhm8OJc_RFU8",
        "colab_type": "text"
      },
      "cell_type": "markdown",
      "source": [
        "# 3-Single Layer Perceptron"
      ]
    },
    {
      "metadata": {
        "id": "TOgMnI_CR7QE",
        "colab_type": "text"
      },
      "cell_type": "markdown",
      "source": [
        "## SLP Learning\n",
        "<img src=\"https://docs.google.com/uc?export=download&id=1tL4Oi1SL7xjsPovWffuTpiyTh5pMhf6t\">\n"
      ]
    },
    {
      "metadata": {
        "id": "iJCObGCDR7Wk",
        "colab_type": "text"
      },
      "cell_type": "markdown",
      "source": [
        "## SLP Learning: Perceptron Rule\n",
        "* To update the weights, the following formula is used:\n",
        "$w_{i,j}^{(next~step)} = w_{i,j} + \\eta \\cdot (  y_j -  \\hat y_j) \\cdot  x_i$\n",
        "* The concept is that each **wrong** prediction **reinforces** the **weight** corresponding to the **feature** that would contributed to the **correct prediction**. The computation of the weights is repeated until the samples are classified correctly."
      ]
    },
    {
      "metadata": {
        "id": "Zd06of0ZR7JC",
        "colab_type": "text"
      },
      "cell_type": "markdown",
      "source": [
        "## Gradient Descent\n",
        "\n",
        "* The concept of the** gradient** descent:\n",
        "  * With **initial parameters** of a model, predict an **output value**\n",
        "  * Compute the gradient of the “**error**” (“loss”) function (function of the **parameters** of the learning model) at a certain point= the slope of the surface of that function at that point calculated by its **derivative** at that point.\n",
        "  * Update the parameters in order to find the **local minima** by a step **proportional** to **the negative** of that **gradient**. (opposite direction ==> toward the local minima of the function). In the case of :\n",
        "    * **A stochastic gradient descent**: with **one sample**, **predict** →  **update** the parameters for the **next sample** → predict with the next sample with the new parameters \n",
        "    * A **Batch gradient descent**: predict for all samples **==1 epoch → update** the parameters** → **predict again with the new parameters\n",
        "  * Repeat the process in order to **minimize** the error."
      ]
    },
    {
      "metadata": {
        "id": "QrWP65T-VEVG",
        "colab_type": "text"
      },
      "cell_type": "markdown",
      "source": [
        "## SLP Learning: Delta Rule\n",
        "\n",
        "\n",
        "* With the activation rule being **linear** or **semi-linear** but **differentiable**, the gradient descent is used to update the weights.\n",
        "* The weights are updated as follow:  $w_{i,j}^{next} = w_{i,j} + \\Delta w_{i,j}$\n",
        "  * In general:\n",
        " $\\Delta w = \\frac {- \\eta \\cdot \\partial E} {\\partial w}$\n",
        "  * In a case of **a linear activation function, and a Sum-Squared error function**\n",
        "    * In Online training:\n",
        "for a given sample:\n",
        "$\\Delta w_{ i,j } = \\eta\\cdot x_i \\cdot  ( y_j - \\hat y_j ) = \\eta \\cdot \\delta_j$\n",
        "    *  In Offline training:\n",
        "    $\\Delta w_{ i,j } = \\eta \\cdot   \\displaystyle \\sum_{s \\in X} x_i ^ s \\cdot  ( y_j ^s - \\hat y_j^s) = \\eta \\cdot   \\displaystyle \\sum_{s \\in X} x_i ^ s \\cdot \\delta_j ^{~s}$\n",
        "\n",
        "\n",
        "\n",
        "\n",
        "\n",
        "\n",
        "\n"
      ]
    },
    {
      "metadata": {
        "id": "Ca8Ofrs7RHwC",
        "colab_type": "text"
      },
      "cell_type": "markdown",
      "source": [
        "# 4- SLP examples"
      ]
    },
    {
      "metadata": {
        "id": "xn8bZSmqSBwY",
        "colab_type": "text"
      },
      "cell_type": "markdown",
      "source": [
        "## With sklearn: perceptron rule"
      ]
    },
    {
      "metadata": {
        "id": "2FiHnx64tsDM",
        "colab_type": "code",
        "outputId": "09f69e97-a76e-476e-a65c-c24745838ba7",
        "colab": {
          "base_uri": "https://localhost:8080/",
          "height": 52
        }
      },
      "cell_type": "code",
      "source": [
        "#SLP using Perceptron class\n",
        "\n",
        "from sklearn.datasets import load_iris\n",
        "from sklearn.linear_model import Perceptron\n",
        "#load iris datasets\n",
        "X, y = load_iris(return_X_y=True)\n",
        "# instance of a perceptron: SLP with perceptron rule\n",
        "# learning rate =0.1, maximum of epoch = 5000, without shuffle after \n",
        "# each iteration\n",
        "mySLP = Perceptron(eta0=0.1, max_iter=5000,tol=1e-3,shuffle=False)\n",
        "mySLP.fit(X, y)\n",
        "print (\"The score of the classification (without shuffle) = \", mySLP.score(X, y) )\n",
        "\n",
        "# instance of an other perceptron: SLP with perceptron rule\n",
        "# learning rate =0.1, maximum of epoch = 20, with shuffle after\n",
        "# each iteration\n",
        "mySLPShuf = Perceptron(eta0=0.1, max_iter=20,tol=1e-3,shuffle=True)\n",
        "mySLPShuf.fit(X, y)\n",
        "print (\"The score of the classification (with shuffle) = \", mySLPShuf.score(X, y) )\n"
      ],
      "execution_count": 0,
      "outputs": [
        {
          "output_type": "stream",
          "text": [
            "The score of the classification (without shuffle) =  0.6666666666666666\n",
            "The score of the classification (with shuffle) =  0.82\n"
          ],
          "name": "stdout"
        }
      ]
    },
    {
      "metadata": {
        "id": "rkBsxceXSnbA",
        "colab_type": "code",
        "outputId": "d9cdfc6e-e1e5-498a-e95d-5a01ea5bdb5e",
        "colab": {
          "base_uri": "https://localhost:8080/",
          "height": 2188
        }
      },
      "cell_type": "code",
      "source": [
        "from sklearn.linear_model import SGDClassifier\n",
        "#SLP using SGDClassifier class\n",
        "mySGDCl = SGDClassifier(loss=\"perceptron\", learning_rate=\"constant\", eta0=0.1,penalty = \"none\", \n",
        "                        max_iter=20, shuffle= True,tol=1e-3, verbose=2,random_state=0\n",
        "                       )\n",
        "mySGDCl.fit(X, y)\n",
        "\n",
        "print (\"The score of the classification (with shuffle) = \", mySGDCl.score(X, y) )\n",
        "\n",
        "print(\"The number of classes = \", len(mySGDCl.classes_))\n"
      ],
      "execution_count": 0,
      "outputs": [
        {
          "output_type": "stream",
          "text": [
            "-- Epoch 1\n",
            "Norm: 0.83, NNZs: 4, Bias: 0.100000, T: 150, Avg. loss: 0.065987\n",
            "Total training time: 0.00 seconds.\n",
            "-- Epoch 2\n",
            "Norm: 0.83, NNZs: 4, Bias: 0.100000, T: 300, Avg. loss: 0.000000\n",
            "Total training time: 0.00 seconds.\n",
            "-- Epoch 3\n",
            "Norm: 0.83, NNZs: 4, Bias: 0.100000, T: 450, Avg. loss: 0.000000\n",
            "Total training time: 0.00 seconds.\n",
            "-- Epoch 4\n",
            "Norm: 0.83, NNZs: 4, Bias: 0.100000, T: 600, Avg. loss: 0.000000\n",
            "Total training time: 0.00 seconds.\n",
            "-- Epoch 5\n",
            "Norm: 0.83, NNZs: 4, Bias: 0.100000, T: 750, Avg. loss: 0.000000\n",
            "Total training time: 0.00 seconds.\n",
            "-- Epoch 6\n",
            "Norm: 0.83, NNZs: 4, Bias: 0.100000, T: 900, Avg. loss: 0.000000\n",
            "Total training time: 0.00 seconds.\n",
            "-- Epoch 7\n",
            "Norm: 0.83, NNZs: 4, Bias: 0.100000, T: 1050, Avg. loss: 0.000000\n",
            "Total training time: 0.00 seconds.\n",
            "Convergence after 7 epochs took 0.01 seconds\n",
            "-- Epoch 1\n",
            "Norm: 1.27, NNZs: 4, Bias: 0.000000, T: 150, Avg. loss: 1.399133\n",
            "Total training time: 0.00 seconds.\n",
            "-- Epoch 2\n",
            "Norm: 1.75, NNZs: 4, Bias: 0.100000, T: 300, Avg. loss: 1.516893\n",
            "Total training time: 0.00 seconds.\n",
            "-- Epoch 3\n",
            "Norm: 2.19, NNZs: 4, Bias: 0.300000, T: 450, Avg. loss: 1.176173\n",
            "Total training time: 0.00 seconds.\n",
            "-- Epoch 4\n",
            "Norm: 2.91, NNZs: 4, Bias: 0.400000, T: 600, Avg. loss: 1.031007\n",
            "Total training time: 0.00 seconds.\n",
            "-- Epoch 5\n",
            "Norm: 3.33, NNZs: 4, Bias: 0.500000, T: 750, Avg. loss: 1.380293\n",
            "Total training time: 0.00 seconds.\n",
            "-- Epoch 6\n",
            "Norm: 3.64, NNZs: 4, Bias: 0.700000, T: 900, Avg. loss: 1.385113\n",
            "Total training time: 0.00 seconds.\n",
            "-- Epoch 7\n",
            "Norm: 3.78, NNZs: 4, Bias: 0.800000, T: 1050, Avg. loss: 0.930087\n",
            "Total training time: 0.00 seconds.\n",
            "-- Epoch 8\n",
            "Norm: 4.04, NNZs: 4, Bias: 1.000000, T: 1200, Avg. loss: 1.136240\n",
            "Total training time: 0.00 seconds.\n",
            "-- Epoch 9\n",
            "Norm: 4.20, NNZs: 4, Bias: 1.200000, T: 1350, Avg. loss: 1.373373\n",
            "Total training time: 0.00 seconds.\n",
            "-- Epoch 10\n",
            "Norm: 4.46, NNZs: 4, Bias: 1.300000, T: 1500, Avg. loss: 1.272333\n",
            "Total training time: 0.00 seconds.\n",
            "-- Epoch 11\n",
            "Norm: 4.60, NNZs: 4, Bias: 1.400000, T: 1650, Avg. loss: 0.814213\n",
            "Total training time: 0.01 seconds.\n",
            "-- Epoch 12\n",
            "Norm: 4.71, NNZs: 4, Bias: 1.600000, T: 1800, Avg. loss: 1.104687\n",
            "Total training time: 0.01 seconds.\n",
            "-- Epoch 13\n",
            "Norm: 4.88, NNZs: 4, Bias: 1.800000, T: 1950, Avg. loss: 1.141947\n",
            "Total training time: 0.01 seconds.\n",
            "-- Epoch 14\n",
            "Norm: 5.04, NNZs: 4, Bias: 1.900000, T: 2100, Avg. loss: 1.257793\n",
            "Total training time: 0.01 seconds.\n",
            "-- Epoch 15\n",
            "Norm: 5.45, NNZs: 4, Bias: 2.100000, T: 2250, Avg. loss: 1.234720\n",
            "Total training time: 0.01 seconds.\n",
            "-- Epoch 16\n",
            "Norm: 5.57, NNZs: 4, Bias: 2.300000, T: 2400, Avg. loss: 1.119900\n",
            "Total training time: 0.01 seconds.\n",
            "Convergence after 16 epochs took 0.01 seconds\n",
            "-- Epoch 1\n",
            "Norm: 2.02, NNZs: 4, Bias: -0.400000, T: 150, Avg. loss: 1.023480\n",
            "Total training time: 0.00 seconds.\n",
            "-- Epoch 2\n",
            "Norm: 3.42, NNZs: 4, Bias: -0.600000, T: 300, Avg. loss: 0.688727\n",
            "Total training time: 0.00 seconds.\n",
            "-- Epoch 3\n",
            "Norm: 3.79, NNZs: 4, Bias: -0.800000, T: 450, Avg. loss: 0.260560\n",
            "Total training time: 0.00 seconds.\n",
            "-- Epoch 4\n",
            "Norm: 4.43, NNZs: 4, Bias: -1.000000, T: 600, Avg. loss: 0.309707\n",
            "Total training time: 0.00 seconds.\n",
            "-- Epoch 5\n",
            "Norm: 5.09, NNZs: 4, Bias: -1.100000, T: 750, Avg. loss: 0.338753\n",
            "Total training time: 0.00 seconds.\n",
            "-- Epoch 6\n",
            "Norm: 5.48, NNZs: 4, Bias: -1.300000, T: 900, Avg. loss: 0.314093\n",
            "Total training time: 0.00 seconds.\n",
            "-- Epoch 7\n",
            "Norm: 5.59, NNZs: 4, Bias: -1.300000, T: 1050, Avg. loss: 0.152213\n",
            "Total training time: 0.00 seconds.\n",
            "-- Epoch 8\n",
            "Norm: 6.03, NNZs: 4, Bias: -1.500000, T: 1200, Avg. loss: 0.281080\n",
            "Total training time: 0.00 seconds.\n",
            "-- Epoch 9\n",
            "Norm: 6.46, NNZs: 4, Bias: -1.600000, T: 1350, Avg. loss: 0.410687\n",
            "Total training time: 0.00 seconds.\n",
            "-- Epoch 10\n",
            "Norm: 6.67, NNZs: 4, Bias: -1.700000, T: 1500, Avg. loss: 0.195233\n",
            "Total training time: 0.00 seconds.\n",
            "-- Epoch 11\n",
            "Norm: 6.75, NNZs: 4, Bias: -1.700000, T: 1650, Avg. loss: 0.124087\n",
            "Total training time: 0.00 seconds.\n",
            "-- Epoch 12\n",
            "Norm: 7.22, NNZs: 4, Bias: -1.900000, T: 1800, Avg. loss: 0.300580\n",
            "Total training time: 0.01 seconds.\n",
            "-- Epoch 13\n",
            "Norm: 7.56, NNZs: 4, Bias: -1.900000, T: 1950, Avg. loss: 0.236360\n",
            "Total training time: 0.01 seconds.\n",
            "-- Epoch 14\n",
            "Norm: 8.00, NNZs: 4, Bias: -2.100000, T: 2100, Avg. loss: 0.192880\n",
            "Total training time: 0.01 seconds.\n",
            "-- Epoch 15\n",
            "Norm: 8.30, NNZs: 4, Bias: -2.300000, T: 2250, Avg. loss: 0.151153\n",
            "Total training time: 0.01 seconds.\n",
            "-- Epoch 16\n",
            "Norm: 8.72, NNZs: 4, Bias: -2.400000, T: 2400, Avg. loss: 0.206760\n",
            "Total training time: 0.01 seconds.\n",
            "Convergence after 16 epochs took 0.01 seconds\n",
            "The score of the classification (with shuffle) =  0.82\n",
            "The number of classes =  3\n"
          ],
          "name": "stdout"
        },
        {
          "output_type": "stream",
          "text": [
            "[Parallel(n_jobs=1)]: Using backend SequentialBackend with 1 concurrent workers.\n",
            "[Parallel(n_jobs=1)]: Done   1 out of   1 | elapsed:    0.0s remaining:    0.0s\n",
            "[Parallel(n_jobs=1)]: Done   3 out of   3 | elapsed:    0.0s finished\n"
          ],
          "name": "stderr"
        }
      ]
    },
    {
      "metadata": {
        "id": "157T7zEfSB_u",
        "colab_type": "text"
      },
      "cell_type": "markdown",
      "source": [
        "## Example with neurolab: delta rule"
      ]
    },
    {
      "metadata": {
        "id": "95gkfWzCxk2y",
        "colab_type": "code",
        "outputId": "27463658-a640-45ec-e99f-4a195cd53d4f",
        "colab": {
          "base_uri": "https://localhost:8080/",
          "height": 52
        }
      },
      "cell_type": "code",
      "source": [
        "# size of the sample data\n",
        "print(\"The number of samples= \",X.shape[0])\n",
        "print(\"The number of Features = \",X.shape[1])"
      ],
      "execution_count": 0,
      "outputs": [
        {
          "output_type": "stream",
          "text": [
            "The number of samples=  150\n",
            "The number of Features =  4\n"
          ],
          "name": "stdout"
        }
      ]
    },
    {
      "metadata": {
        "id": "khI1OBVShPEU",
        "colab_type": "code",
        "colab": {}
      },
      "cell_type": "code",
      "source": [
        "f1_mi= X[:,0].min()\n",
        "f1_ma= X[:,0].max()\n",
        "f2_mi= X[:,1].min()\n",
        "f2_ma= X[:,1].max()\n",
        "f3_mi=X[:,2].min()\n",
        "f3_ma= X[:,2].max()\n",
        "f4_mi=X[:,3].min()\n",
        "f4_ma= X[:,3].max()\n",
        "# instantiate an SLP with: 4 input nuerons for th 4 features\n",
        "# with 3 output neurons : to represent the 3 classes\n",
        "#  The learning rule is the Delta rule, the activation function is the \n",
        "# SoftMax function\n",
        "mySLPDelta = nl.net.newp([[f1_mi,f1_ma],[f2_mi,f2_ma],[f3_mi,f3_ma],[f4_mi,f4_ma]],3,\n",
        "                         transf=nl.trans.SoftMax())\n"
      ],
      "execution_count": 0,
      "outputs": []
    },
    {
      "metadata": {
        "id": "GUZwaQkhm-fa",
        "colab_type": "code",
        "colab": {}
      },
      "cell_type": "code",
      "source": [
        "# separate the data into test and train samples\n",
        "from sklearn.model_selection import train_test_split\n",
        "x_train, x_test, y_train, y_test = train_test_split(X,y,test_size=0.2)"
      ],
      "execution_count": 0,
      "outputs": []
    },
    {
      "metadata": {
        "id": "JO0iUqgOspU2",
        "colab_type": "code",
        "colab": {}
      },
      "cell_type": "code",
      "source": [
        "# we have to construct the target values (true labels)\n",
        "# we will convert each of the labels vectors into a 3 columns\n",
        "# vector\n",
        "from sklearn.preprocessing import LabelBinarizer\n",
        "from sklearn.utils import shuffle\n",
        "myLB = LabelBinarizer()\n",
        "y3_train= myLB.fit_transform(y_train)\n",
        "y3_test= myLB.fit_transform(y_test)"
      ],
      "execution_count": 0,
      "outputs": []
    },
    {
      "metadata": {
        "id": "-Qsn4zHS2IL2",
        "colab_type": "code",
        "outputId": "8529db9d-5c53-4842-d642-d9a8927509d2",
        "colab": {
          "base_uri": "https://localhost:8080/",
          "height": 34
        }
      },
      "cell_type": "code",
      "source": [
        "y_train[:3]"
      ],
      "execution_count": 0,
      "outputs": [
        {
          "output_type": "execute_result",
          "data": {
            "text/plain": [
              "array([0, 2, 0])"
            ]
          },
          "metadata": {
            "tags": []
          },
          "execution_count": 13
        }
      ]
    },
    {
      "metadata": {
        "id": "1lxOVKuL2OVo",
        "colab_type": "code",
        "outputId": "78448f77-b868-44b7-c9d7-eddd57bae6c7",
        "colab": {
          "base_uri": "https://localhost:8080/",
          "height": 69
        }
      },
      "cell_type": "code",
      "source": [
        "y3_train[:3]"
      ],
      "execution_count": 0,
      "outputs": [
        {
          "output_type": "execute_result",
          "data": {
            "text/plain": [
              "array([[1, 0, 0],\n",
              "       [0, 0, 1],\n",
              "       [1, 0, 0]])"
            ]
          },
          "metadata": {
            "tags": []
          },
          "execution_count": 14
        }
      ]
    },
    {
      "metadata": {
        "id": "l_dqS1TnrJ0C",
        "colab_type": "code",
        "outputId": "5ec70447-a30e-495b-8771-7de9a3d43674",
        "colab": {
          "base_uri": "https://localhost:8080/",
          "height": 208
        }
      },
      "cell_type": "code",
      "source": [
        "# train the SLP\n",
        "myErr2 = mySLPDelta.train(x_train,y3_train, epochs=1000, show=100, lr=0.01)"
      ],
      "execution_count": 0,
      "outputs": [
        {
          "output_type": "stream",
          "text": [
            "Epoch: 100; Error: 3.8853985221501404;\n",
            "Epoch: 200; Error: 3.1950292675296437;\n",
            "Epoch: 300; Error: 2.982660485152986;\n",
            "Epoch: 400; Error: 2.8946913259236964;\n",
            "Epoch: 500; Error: 2.824441033524367;\n",
            "Epoch: 600; Error: 2.7453913597776767;\n",
            "Epoch: 700; Error: 2.6523132225136887;\n",
            "Epoch: 800; Error: 2.547410831400115;\n",
            "Epoch: 900; Error: 2.43713444328122;\n",
            "Epoch: 1000; Error: 2.3293524688849825;\n",
            "The maximum number of train epochs is reached\n"
          ],
          "name": "stdout"
        }
      ]
    },
    {
      "metadata": {
        "id": "CE-EevcLgVgM",
        "colab_type": "code",
        "colab": {}
      },
      "cell_type": "code",
      "source": [
        "# define a prediction function\n",
        "def Predict(x, Net):\n",
        "  if np.ndim(x)==1:    \n",
        "    x=[x]\n",
        "  res = Net.sim(x)\n",
        "  return np.argmax(res,axis=1) "
      ],
      "execution_count": 0,
      "outputs": []
    },
    {
      "metadata": {
        "id": "CzZYJxOahZeA",
        "colab_type": "code",
        "outputId": "5bdfedc8-18cc-4d68-ee5a-b4f6005b46dd",
        "colab": {
          "base_uri": "https://localhost:8080/",
          "height": 52
        }
      },
      "cell_type": "code",
      "source": [
        "# compute the accuracy of the SLP predictions\n",
        "# for the training and testing data\n",
        "\n",
        "yPred = Predict(x_train,mySLPDelta)\n",
        "accuracy =np.count_nonzero(yPred== y_train) / y_train.shape[0]\n",
        "print (\"Accuracy of the training = \",np.round(accuracy,2))\n",
        "  \n",
        "yP_test = Predict(x_test,mySLPDelta)\n",
        "accuracy2 =np.count_nonzero(yP_test== y_test) / y_test.shape[0]\n",
        "print (\"Accuracy of the testing = \",np.round(accuracy2,2))  "
      ],
      "execution_count": 0,
      "outputs": [
        {
          "output_type": "stream",
          "text": [
            "Accuracy of the training =  0.98\n",
            "Accuracy of the testing =  0.97\n"
          ],
          "name": "stdout"
        }
      ]
    },
    {
      "metadata": {
        "id": "5aXVjrUrRNGi",
        "colab_type": "text"
      },
      "cell_type": "markdown",
      "source": [
        "# 5-Multi-Layer Perceptron\n",
        "\n"
      ]
    },
    {
      "metadata": {
        "colab_type": "text",
        "id": "_RT-oRvhVeFM"
      },
      "cell_type": "markdown",
      "source": [
        "## Multi-Layer Perceptron\n",
        "* An **MLP** (**M**ulti-**L**ayer **P**erceptron) is an **Perceptron** with **one** or **more** hidden layers.\n",
        "* It is another **Feed Forwad Artificial neural network**. Each of the layers (**except** the **output** layer) includes a **bias** neuron.\n",
        "* An **ANN** with more than **one hidden** layer is a **Deep Neural Network** ( **DNN** ).\n"
      ]
    },
    {
      "metadata": {
        "id": "yMgLDZAdSGjG",
        "colab_type": "text"
      },
      "cell_type": "markdown",
      "source": [
        "## Backpropagation\n",
        "\n",
        "* It is a generalization of the **delta rule**. After a **forward pass**, a **backward** pass is applied to **update** the **weights** to back propagate the **errors**, using **gradient descent** procedure.\n",
        "* This forward/backward passes are repeated until the error function is minimized\n",
        "* The formula (of the generalized delta rule) is:\n",
        "  * $\\Delta_{w_{k,h}}= \\eta\\cdot o_k \\cdot \\delta_h$\n",
        "  * $    \\delta_h =\\begin{cases}\n",
        "\\acute f_{act} (net_h) \\cdot (y_h - \\hat y_h  )\\text{ ( h is an output neuron )}  \\\\[2ex]\n",
        "\\displaystyle \\acute f_{act} ( net_h ) \\cdot \\sum_{ l \\in L } \\delta_{ w_{h,l} } (\\text{ h is a neuron of a hidden layer })\n",
        "\\end{cases}\n",
        "$"
      ]
    },
    {
      "metadata": {
        "id": "Z7prBx0pSGbS",
        "colab_type": "text"
      },
      "cell_type": "markdown",
      "source": [
        "## Example\n",
        "\n"
      ]
    },
    {
      "metadata": {
        "id": "5jfrUOkx1I18",
        "colab_type": "code",
        "colab": {}
      },
      "cell_type": "code",
      "source": [
        "# an MLP with an input layer with 4 neurons, a hidden layer with\n",
        "# 2 neurons and an output layer with 3 neurons\n",
        "myMLP = nl.net.newff([[f1_mi,f1_ma],[f2_mi,f2_ma],[f3_mi,f3_ma],[f4_mi,f4_ma]],[2, 3],\n",
        "                         [nl.trans.TanSig(), nl.trans.SoftMax()])"
      ],
      "execution_count": 0,
      "outputs": []
    },
    {
      "metadata": {
        "id": "TKIB9vd1zY6k",
        "colab_type": "code",
        "outputId": "9aa6fd45-9246-4018-cbc2-1e1e6d0f35dc",
        "colab": {
          "base_uri": "https://localhost:8080/",
          "height": 34
        }
      },
      "cell_type": "code",
      "source": [
        "# train the MLP\n",
        "myErr2 = myMLP.train(x_train,y3_train, epochs=10000, show=100)"
      ],
      "execution_count": 0,
      "outputs": [
        {
          "output_type": "stream",
          "text": [
            "The goal of learning is reached\n"
          ],
          "name": "stdout"
        }
      ]
    },
    {
      "metadata": {
        "id": "FsC4nBQS1Lke",
        "colab_type": "code",
        "outputId": "bff2ef2f-be22-4705-aa26-f45fdc2eb88b",
        "colab": {
          "base_uri": "https://localhost:8080/",
          "height": 52
        }
      },
      "cell_type": "code",
      "source": [
        "# compute the accuracy of the MLP predictions\n",
        "# for the training and testing data\n",
        "\n",
        "yPred = Predict(x_train,myMLP)\n",
        "accuracy =np.count_nonzero(yPred == y_train) / y_train.shape[0]\n",
        "print (\"Accuracy of the training = \",np.round(accuracy,2))\n",
        "  \n",
        "yP_test = Predict(x_test,myMLP)\n",
        "accuracy2 =np.count_nonzero(yP_test== y_test) / y_test.shape[0]\n",
        "print (\"Accuracy of the testing = \",np.round(accuracy2,2))  "
      ],
      "execution_count": 0,
      "outputs": [
        {
          "output_type": "stream",
          "text": [
            "Accuracy of the training =  1.0\n",
            "Accuracy of the testing =  0.93\n"
          ],
          "name": "stdout"
        }
      ]
    },
    {
      "metadata": {
        "id": "CffbTqAERQKg",
        "colab_type": "text"
      },
      "cell_type": "markdown",
      "source": [
        "# 6- ANN topologies\n",
        "\n"
      ]
    },
    {
      "metadata": {
        "id": "23ma5K3xSKrS",
        "colab_type": "text"
      },
      "cell_type": "markdown",
      "source": [
        "## FeedForward Neural Networks\n",
        "\n",
        "* We have already seen **feedforward neural networks** (SLP and MLP):\n",
        "  * One input layer + n hidden layers + one output layer (n>=1)\n",
        "  * Connection are only allowed to neurons of the following layers\n",
        "  * They can have shortcut connections: the connection are not set to the following layers but to subsequent layers"
      ]
    },
    {
      "metadata": {
        "id": "UtuV9VuAlvua",
        "colab_type": "code",
        "outputId": "3a245819-1a73-414e-b379-8a41d93def4c",
        "colab": {
          "base_uri": "https://localhost:8080/",
          "height": 801
        }
      },
      "cell_type": "code",
      "source": [
        "!pip install neupy"
      ],
      "execution_count": 0,
      "outputs": [
        {
          "output_type": "stream",
          "text": [
            "Collecting neupy\n",
            "\u001b[?25l  Downloading https://files.pythonhosted.org/packages/9c/a2/4d8dc5d686adcdd3ed2c98c85ccf69370ef0675574b0f8dbb9b91abc978c/neupy-0.8.0-py2.py3-none-any.whl (224kB)\n",
            "\u001b[K    100% |████████████████████████████████| 225kB 7.5MB/s \n",
            "\u001b[?25hCollecting graphviz==0.5.1 (from neupy)\n",
            "  Downloading https://files.pythonhosted.org/packages/55/8d/18e45d3f57adfde20ac831a5ba7144b9e643185e05eb0a02b6f22d076752/graphviz-0.5.1-py2.py3-none-any.whl\n",
            "Collecting tensorflow<=1.12.0,>=1.10.1 (from neupy)\n",
            "\u001b[?25l  Downloading https://files.pythonhosted.org/packages/22/cc/ca70b78087015d21c5f3f93694107f34ebccb3be9624385a911d4b52ecef/tensorflow-1.12.0-cp36-cp36m-manylinux1_x86_64.whl (83.1MB)\n",
            "\u001b[K    100% |████████████████████████████████| 83.1MB 318kB/s \n",
            "\u001b[?25hCollecting progressbar2==3.34.3 (from neupy)\n",
            "  Downloading https://files.pythonhosted.org/packages/87/31/b984e17bcc7491c1baeda3906fe3abc14cb5cd5dbd046ab46d9fc7a2edfd/progressbar2-3.34.3-py2.py3-none-any.whl\n",
            "Requirement already satisfied: matplotlib>=1.5.1 in /usr/local/lib/python3.6/dist-packages (from neupy) (3.0.2)\n",
            "Requirement already satisfied: scipy>=0.19.0 in /usr/local/lib/python3.6/dist-packages (from neupy) (1.1.0)\n",
            "Requirement already satisfied: numpy>=1.13.3 in /usr/local/lib/python3.6/dist-packages (from neupy) (1.14.6)\n",
            "Requirement already satisfied: h5py in /usr/local/lib/python3.6/dist-packages (from neupy) (2.8.0)\n",
            "Requirement already satisfied: tensorboard<1.13.0,>=1.12.0 in /usr/local/lib/python3.6/dist-packages (from tensorflow<=1.12.0,>=1.10.1->neupy) (1.12.2)\n",
            "Requirement already satisfied: six>=1.10.0 in /usr/local/lib/python3.6/dist-packages (from tensorflow<=1.12.0,>=1.10.1->neupy) (1.11.0)\n",
            "Requirement already satisfied: gast>=0.2.0 in /usr/local/lib/python3.6/dist-packages (from tensorflow<=1.12.0,>=1.10.1->neupy) (0.2.2)\n",
            "Requirement already satisfied: grpcio>=1.8.6 in /usr/local/lib/python3.6/dist-packages (from tensorflow<=1.12.0,>=1.10.1->neupy) (1.15.0)\n",
            "Requirement already satisfied: keras-preprocessing>=1.0.5 in /usr/local/lib/python3.6/dist-packages (from tensorflow<=1.12.0,>=1.10.1->neupy) (1.0.9)\n",
            "Requirement already satisfied: keras-applications>=1.0.6 in /usr/local/lib/python3.6/dist-packages (from tensorflow<=1.12.0,>=1.10.1->neupy) (1.0.7)\n",
            "Requirement already satisfied: termcolor>=1.1.0 in /usr/local/lib/python3.6/dist-packages (from tensorflow<=1.12.0,>=1.10.1->neupy) (1.1.0)\n",
            "Requirement already satisfied: wheel>=0.26 in /usr/local/lib/python3.6/dist-packages (from tensorflow<=1.12.0,>=1.10.1->neupy) (0.32.3)\n",
            "Requirement already satisfied: absl-py>=0.1.6 in /usr/local/lib/python3.6/dist-packages (from tensorflow<=1.12.0,>=1.10.1->neupy) (0.7.0)\n",
            "Requirement already satisfied: astor>=0.6.0 in /usr/local/lib/python3.6/dist-packages (from tensorflow<=1.12.0,>=1.10.1->neupy) (0.7.1)\n",
            "Requirement already satisfied: protobuf>=3.6.1 in /usr/local/lib/python3.6/dist-packages (from tensorflow<=1.12.0,>=1.10.1->neupy) (3.6.1)\n",
            "Requirement already satisfied: python-utils>=2.1.0 in /usr/local/lib/python3.6/dist-packages (from progressbar2==3.34.3->neupy) (2.3.0)\n",
            "Requirement already satisfied: kiwisolver>=1.0.1 in /usr/local/lib/python3.6/dist-packages (from matplotlib>=1.5.1->neupy) (1.0.1)\n",
            "Requirement already satisfied: pyparsing!=2.0.4,!=2.1.2,!=2.1.6,>=2.0.1 in /usr/local/lib/python3.6/dist-packages (from matplotlib>=1.5.1->neupy) (2.3.1)\n",
            "Requirement already satisfied: cycler>=0.10 in /usr/local/lib/python3.6/dist-packages (from matplotlib>=1.5.1->neupy) (0.10.0)\n",
            "Requirement already satisfied: python-dateutil>=2.1 in /usr/local/lib/python3.6/dist-packages (from matplotlib>=1.5.1->neupy) (2.5.3)\n",
            "Requirement already satisfied: werkzeug>=0.11.10 in /usr/local/lib/python3.6/dist-packages (from tensorboard<1.13.0,>=1.12.0->tensorflow<=1.12.0,>=1.10.1->neupy) (0.14.1)\n",
            "Requirement already satisfied: markdown>=2.6.8 in /usr/local/lib/python3.6/dist-packages (from tensorboard<1.13.0,>=1.12.0->tensorflow<=1.12.0,>=1.10.1->neupy) (3.0.1)\n",
            "Requirement already satisfied: setuptools in /usr/local/lib/python3.6/dist-packages (from protobuf>=3.6.1->tensorflow<=1.12.0,>=1.10.1->neupy) (40.8.0)\n",
            "Installing collected packages: graphviz, tensorflow, progressbar2, neupy\n",
            "  Found existing installation: graphviz 0.10.1\n",
            "    Uninstalling graphviz-0.10.1:\n",
            "      Successfully uninstalled graphviz-0.10.1\n",
            "  Found existing installation: tensorflow 1.13.0rc1\n",
            "    Uninstalling tensorflow-1.13.0rc1:\n",
            "      Successfully uninstalled tensorflow-1.13.0rc1\n",
            "  Found existing installation: progressbar2 3.38.0\n",
            "    Uninstalling progressbar2-3.38.0:\n",
            "      Successfully uninstalled progressbar2-3.38.0\n",
            "Successfully installed graphviz-0.5.1 neupy-0.8.0 progressbar2-3.34.3 tensorflow-1.12.0\n"
          ],
          "name": "stdout"
        }
      ]
    },
    {
      "metadata": {
        "id": "-i_JoAEellhw",
        "colab_type": "code",
        "outputId": "f5c7ce65-bd68-4201-9313-c9c20df503ea",
        "colab": {
          "base_uri": "https://localhost:8080/",
          "height": 347
        }
      },
      "cell_type": "code",
      "source": [
        "import numpy as np\n",
        "from neupy import plots\n",
        "\n",
        "# for visualization issues instead for setting the missing connection to 0\n",
        "# we set them to 0.01\n",
        "myFF = 2*(2*[0.01]+2*[3]+3*[0.01]) + 2* (4*[0.01]+ 3*[3]) + 3*(7*[0.01])\n",
        "myFF = np.array(myFF).reshape(7,7)\n",
        "#print(myFF)\n",
        "#hinton diagram corresponding to the feed forward neural network example\n",
        "plots.hinton(myFF,add_legend=False)"
      ],
      "execution_count": 0,
      "outputs": [
        {
          "output_type": "execute_result",
          "data": {
            "text/plain": [
              "<matplotlib.axes._subplots.AxesSubplot at 0x7f65169f5630>"
            ]
          },
          "metadata": {
            "tags": []
          },
          "execution_count": 39
        },
        {
          "output_type": "display_data",
          "data": {
            "image/png": "[encoded data removed]",
            "text/plain": [
              "<Figure size 576x396 with 1 Axes>"
            ]
          },
          "metadata": {
            "tags": []
          }
        }
      ]
    },
    {
      "metadata": {
        "id": "BLzCY4on4xFq",
        "colab_type": "code",
        "outputId": "e3b84218-4edb-41ce-f273-78b1fa8ca6c1",
        "colab": {
          "base_uri": "https://localhost:8080/",
          "height": 347
        }
      },
      "cell_type": "code",
      "source": [
        "# an other possible visualization\n",
        "# missing connections are represented\n",
        "# by black squares\n",
        "\n",
        "myFF2 = 2*(2*[-1]+2*[3]+3*[-1]) + 2* (4*[-1]+ 3*[3]) + 3*(7*[-1])\n",
        "myFF2 = np.array(myFF2).reshape(7,7)\n",
        "#print(myFF2)\n",
        "#hinton diagram corresponding to the feed forward neural network example\n",
        "plots.hinton(myFF2,add_legend=False)"
      ],
      "execution_count": 0,
      "outputs": [
        {
          "output_type": "execute_result",
          "data": {
            "text/plain": [
              "<matplotlib.axes._subplots.AxesSubplot at 0x7f6516c61a58>"
            ]
          },
          "metadata": {
            "tags": []
          },
          "execution_count": 35
        },
        {
          "output_type": "display_data",
          "data": {
            "image/png": "[encoded data removed]",
            "text/plain": [
              "<Figure size 576x396 with 1 Axes>"
            ]
          },
          "metadata": {
            "tags": []
          }
        }
      ]
    },
    {
      "metadata": {
        "id": "WIGdB_nfSK9o",
        "colab_type": "text"
      },
      "cell_type": "markdown",
      "source": [
        "## Recurrent Networks\n",
        "* Direct Recurrence:\n",
        "  * Multiple layers with connections allowed to neurons of the following layers\n",
        "  * A  neuron can also be connected to itself\n",
        "  \n",
        "\n"
      ]
    },
    {
      "metadata": {
        "id": "wlDH_OspBFrO",
        "colab_type": "code",
        "outputId": "7295dfd8-3a5f-42a4-a87a-c61206a3c077",
        "colab": {
          "base_uri": "https://localhost:8080/",
          "height": 347
        }
      },
      "cell_type": "code",
      "source": [
        "# direct recurrent connections are represented by \n",
        "# smaller squares than the others connections\n",
        "myDR = ([1]+[0.01]+2*[3]+3*[0.01])+([0.01]+[1]+2*[3]+3*[0.01]) +  \\\n",
        "        (2*[0.01]+[1]+[0.01]+ 3*[3])+(3*[0.01]+[1]+ 3*[3]) +  \\\n",
        "        (4*[0.01] +[1]+ 2*[0.01])+ \\\n",
        "        (5*[0.01]+[1]+[0.01])+ \\\n",
        "        (6*[0.01]+[1])\n",
        "\n",
        "myDR = np.array(myDR).reshape(7,7)\n",
        "#print(myDR)\n",
        "plots.hinton(myDR,add_legend=False)"
      ],
      "execution_count": 0,
      "outputs": [
        {
          "output_type": "execute_result",
          "data": {
            "text/plain": [
              "<matplotlib.axes._subplots.AxesSubplot at 0x7f65164f2d30>"
            ]
          },
          "metadata": {
            "tags": []
          },
          "execution_count": 51
        },
        {
          "output_type": "display_data",
          "data": {
            "image/png": "[encoded data removed]",
            "text/plain": [
              "<Figure size 576x396 with 1 Axes>"
            ]
          },
          "metadata": {
            "tags": []
          }
        }
      ]
    },
    {
      "metadata": {
        "id": "ynO5rKL6GhpI",
        "colab_type": "text"
      },
      "cell_type": "markdown",
      "source": [
        "* Indirect Recurrence\n",
        "  * Multiple layers with connections allowed to neurons of the following layers\n",
        "  * Connections are also allowed between neurons and preceding layer\n"
      ]
    },
    {
      "metadata": {
        "id": "nUhHsDrkVTb2",
        "colab_type": "code",
        "outputId": "91ab151b-fafe-4d2c-8bfb-2863b00e2866",
        "colab": {
          "base_uri": "https://localhost:8080/",
          "height": 347
        }
      },
      "cell_type": "code",
      "source": [
        "# indirect recurrent connections are represented by \n",
        "# smaller squares than the others connections\n",
        "myIR = 2*(2*[0.01]+2*[3]+3*[0.01])+  \\\n",
        "        2*(2*[1]+2*[0.01]+ 3*[3]) +  \\\n",
        "        3*(2*[0.01] + 2*[1]+3*[0.01])       \n",
        "        \n",
        "\n",
        "myIR = np.array(myIR).reshape(7,7)\n",
        "#print(myIR)\n",
        "plots.hinton(myIR,add_legend=False)"
      ],
      "execution_count": 0,
      "outputs": [
        {
          "output_type": "execute_result",
          "data": {
            "text/plain": [
              "<matplotlib.axes._subplots.AxesSubplot at 0x7f651654ac88>"
            ]
          },
          "metadata": {
            "tags": []
          },
          "execution_count": 50
        },
        {
          "output_type": "display_data",
          "data": {
            "image/png": "[encoded data removed]",
            "text/plain": [
              "<Figure size 576x396 with 1 Axes>"
            ]
          },
          "metadata": {
            "tags": []
          }
        }
      ]
    },
    {
      "metadata": {
        "id": "qJf048USJpvm",
        "colab_type": "text"
      },
      "cell_type": "markdown",
      "source": [
        "* Lateral  Recurrence\n",
        "  * Multiple layers with connections allowed to neurons of the following layers \n",
        "  * Connections between neurons of the same layer are allowed"
      ]
    },
    {
      "metadata": {
        "id": "I8kD9ULdniZw",
        "colab_type": "code",
        "outputId": "e2879606-63ef-4afc-9f4d-c444dad2bcd5",
        "colab": {
          "base_uri": "https://localhost:8080/",
          "height": 347
        }
      },
      "cell_type": "code",
      "source": [
        "# Lateral recurrent connections are represented by \n",
        "# smaller squares than the others connections\n",
        "myLR = ([0.01]+[1]+2*[3]+3*[0.01])+([1]+[0.01]+2*[3]+3*[0.01])+\\\n",
        "        (3*[0.01]+[1]+ 3*[3])+(2*[0.01]+[1]+[0.01]+ 3*[3])+\\\n",
        "        (5*[0.01] + 2*[1])+ \\\n",
        "        (4*[0.01]+[1]+[0.01]+[1])+ \\\n",
        "        (4*[0.01]+2*[1]+[0.01])\n",
        "\n",
        "myLR = np.array(myLR).reshape(7,7)\n",
        "#print(myLR)\n",
        "plots.hinton(myLR,add_legend=False)"
      ],
      "execution_count": 0,
      "outputs": [
        {
          "output_type": "execute_result",
          "data": {
            "text/plain": [
              "<matplotlib.axes._subplots.AxesSubplot at 0x7f6516223080>"
            ]
          },
          "metadata": {
            "tags": []
          },
          "execution_count": 56
        },
        {
          "output_type": "display_data",
          "data": {
            "image/png": "[encoded data removed]",
            "text/plain": [
              "<Figure size 576x396 with 1 Axes>"
            ]
          },
          "metadata": {
            "tags": []
          }
        }
      ]
    },
    {
      "metadata": {
        "id": "_6H6Ca-GSK4-",
        "colab_type": "text"
      },
      "cell_type": "markdown",
      "source": [
        "## Fully connected Neural Network\n",
        "* Multiple layers with connections allowed from any neuron to any other neuron\n",
        "* Direct recurrence is not allowed\n",
        "* Connections must be symmetric"
      ]
    },
    {
      "metadata": {
        "id": "LFRL8cWVtCZU",
        "colab_type": "code",
        "outputId": "6847be45-ed9f-4340-aedb-557188e192a5",
        "colab": {
          "base_uri": "https://localhost:8080/",
          "height": 347
        }
      },
      "cell_type": "code",
      "source": [
        "myFC = 49 *[3]\n",
        "myFC = np.array(myFC).reshape(7,7)\n",
        "for i in range(7):\n",
        "  myFC[i,i] = 0.01\n",
        "#print(myFC)\n",
        "plots.hinton(myFC,add_legend=False)"
      ],
      "execution_count": 0,
      "outputs": [
        {
          "output_type": "execute_result",
          "data": {
            "text/plain": [
              "<matplotlib.axes._subplots.AxesSubplot at 0x7f6516064320>"
            ]
          },
          "metadata": {
            "tags": []
          },
          "execution_count": 60
        },
        {
          "output_type": "display_data",
          "data": {
            "image/png": "[encoded data removed]",
            "text/plain": [
              "<Figure size 576x396 with 1 Axes>"
            ]
          },
          "metadata": {
            "tags": []
          }
        }
      ]
    },
    {
      "metadata": {
        "id": "tSbN2yDrRSdW",
        "colab_type": "text"
      },
      "cell_type": "markdown",
      "source": [
        "# References\n",
        "\n",
        "* Joshi Prateek. Artificial intelligence with Python. Packt Publishing, 2017.\n",
        "\n",
        "* Jake VanderPlas. Python data science handbook: essential tools for working with data. O’Reilly Media, Inc, 2017.\n",
        "\n",
        "\n",
        "* Neural Networks – II, Version 2 CSE IIT, Kharagpur, available at:https://nptel.ac.in/courses/106105078/pdf/Lesson%2038.pdf\n",
        "Isaac Changhau, Loss Functions in Neural Networks, 2017, available at:\n",
        "https://isaacchanghau.github.io/post/loss_functions/\n",
        "\n",
        "* Sebastian Seung, The delta rule, MIT Department of Brain and Cognitive Sciences , Introduction to Neural Networks, 2005, https://ocw.mit.edu/courses/brain-and-cognitive-sciences/9-641j-introduction-to-neural-networks-spring-2005/lecture-notes/lec19_delta.pdf\n",
        "* NeuPy, Neural Networks in Python, http://neupy.com/pages/home.html\n"
      ]
    }
  ]
}