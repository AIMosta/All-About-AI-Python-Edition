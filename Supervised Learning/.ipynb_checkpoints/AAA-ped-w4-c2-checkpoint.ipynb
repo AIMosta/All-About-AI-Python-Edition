{
 "cells": [
  {
   "cell_type": "markdown",
   "metadata": {
    "colab_type": "text",
    "id": "b9q-VxEW5tRs"
   },
   "source": [
    "<img src=\"https://docs.google.com/uc?export=download&id=1EiHSYfHYk8nKMEWd6A74CMFVak5Lf4ab\">\n",
    "# Supervised Learning: Multivariable Regressor & Classifiers"
   ]
  },
  {
   "cell_type": "markdown",
   "metadata": {
    "colab_type": "toc",
    "id": "H1a7Uuzz8dnI"
   },
   "source": [
    ">[Supervised Learning: Multivariable Regressor & Classifiers](#scrollTo=b9q-VxEW5tRs)\n",
    "\n",
    ">[1- Preprocessing Data](#scrollTo=1oBho425Q7ca)\n",
    "\n",
    ">>[Introduction](#scrollTo=yLvtrsm0RcWq)\n",
    "\n",
    ">>[Binarization](#scrollTo=QtI6YjSJRzo8)\n",
    "\n",
    ">>[mean removal](#scrollTo=zkTQ-AyyNeg2)\n",
    "\n",
    ">>[Min Max Scaling](#scrollTo=HCUrZpjmMcRM)\n",
    "\n",
    ">>[Normalization](#scrollTo=OjzIaOe1RdZ2)\n",
    "\n",
    ">[2-  A single variable regressor](#scrollTo=VL49qQMiRCfC)\n",
    "\n",
    ">>[Training  and testing set](#scrollTo=Tg2exEipRz7w)\n",
    "\n",
    ">>[Loading and saving models](#scrollTo=lYnbKQUdR0Ou)\n",
    "\n",
    ">[3- A multivariable regressor](#scrollTo=Nhm8OJc_RFU8)\n",
    "\n",
    ">>[Multiple features](#scrollTo=TOgMnI_CR7QE)\n",
    "\n",
    ">>[Simple Linear Regression ( with multiple features)](#scrollTo=iJCObGCDR7Wk)\n",
    "\n",
    ">>[Polynomial Regression ( with multiple features)](#scrollTo=Zd06of0ZR7JC)\n",
    "\n",
    ">[4-Regularization](#scrollTo=Ca8Ofrs7RHwC)\n",
    "\n",
    ">>[Introduction](#scrollTo=xn8bZSmqSBwY)\n",
    "\n",
    ">>[Ridge Regression (L2 regularization)](#scrollTo=157T7zEfSB_u)\n",
    "\n",
    ">>[Lasso Regression (L1 regularization)](#scrollTo=ArfuFPFFSB4a)\n",
    "\n",
    ">[5- Logistic Regression Classifier](#scrollTo=5aXVjrUrRNGi)\n",
    "\n",
    ">>[Definition](#scrollTo=H71qigLHSGU2)\n",
    "\n",
    ">>[Classification with 2 classes](#scrollTo=yMgLDZAdSGjG)\n",
    "\n",
    ">>[Classification with more than 2 classes: one vs all](#scrollTo=Z7prBx0pSGbS)\n",
    "\n",
    ">[6-Confusion matrix](#scrollTo=CffbTqAERQKg)\n",
    "\n",
    ">>[Definition](#scrollTo=23ma5K3xSKrS)\n",
    "\n",
    ">>[More than 2 classes](#scrollTo=WIGdB_nfSK9o)\n",
    "\n",
    ">>[Classification report](#scrollTo=_6H6Ca-GSK4-)\n",
    "\n",
    ">[References](#scrollTo=tSbN2yDrRSdW)\n",
    "\n"
   ]
  },
  {
   "cell_type": "markdown",
   "metadata": {
    "colab_type": "text",
    "id": "1oBho425Q7ca"
   },
   "source": [
    "# 1- Preprocessing Data"
   ]
  },
  {
   "cell_type": "markdown",
   "metadata": {
    "colab_type": "text",
    "id": "yLvtrsm0RcWq"
   },
   "source": [
    "## Introduction\n",
    "\n",
    "* Before going further, we have to focus in one important task: \n",
    "**preprocessing data**.\n",
    "\n",
    "* Before starting the learning (and the predicting) process, the used\n",
    "**data must be prepared** or **transformed**.\n",
    "\n",
    "* The different processes that can be applied to the data are:\n",
    "\n",
    "    * Binarization\n",
    "    * Mean removal\n",
    "    * Scaling\n",
    "    * Normalization"
   ]
  },
  {
   "cell_type": "markdown",
   "metadata": {
    "colab_type": "text",
    "id": "QtI6YjSJRzo8"
   },
   "source": [
    "## Binarization\n",
    "* Convert feature's values into **boolean** values.\n",
    "* We first fixt a **threshold** . Than we **transform**  the feature's values taking into account that **threshold**.\n",
    "* Values *$>$* than that threshold will be transformed to **1**\n",
    "* Values *$<=$* than that threshold will be transformed to **0**"
   ]
  },
  {
   "cell_type": "code",
   "execution_count": 0,
   "metadata": {
    "colab": {},
    "colab_type": "code",
    "collapsed": true,
    "id": "3oDqMiu0E_VC"
   },
   "outputs": [],
   "source": [
    "%matplotlib inline\n",
    "import matplotlib.pyplot as plt\n",
    "import numpy as np\n",
    "from pandas import DataFrame as DF, Series as S\n",
    "\n",
    "# import preprocessing module\n",
    "from sklearn import preprocessing"
   ]
  },
  {
   "cell_type": "code",
   "execution_count": 0,
   "metadata": {
    "colab": {
     "base_uri": "https://localhost:8080/",
     "height": 206
    },
    "colab_type": "code",
    "executionInfo": {
     "elapsed": 904,
     "status": "ok",
     "timestamp": 1542223231186,
     "user": {
      "displayName": "Amina Delali",
      "photoUrl": "https://lh3.googleusercontent.com/-ZJlQJ9AZAbc/AAAAAAAAAAI/AAAAAAAAAAc/7KF7CDqgx7Q/s64/photo.jpg",
      "userId": "06755669456247010035"
     },
     "user_tz": -60
    },
    "id": "hKlipzfqFDgg",
    "outputId": "baf7abf4-1e8d-4f99-c94a-d50cb30ba405"
   },
   "outputs": [
    {
     "data": {
      "text/html": [
       "<div>\n",
       "<style scoped>\n",
       "    .dataframe tbody tr th:only-of-type {\n",
       "        vertical-align: middle;\n",
       "    }\n",
       "\n",
       "    .dataframe tbody tr th {\n",
       "        vertical-align: top;\n",
       "    }\n",
       "\n",
       "    .dataframe thead th {\n",
       "        text-align: right;\n",
       "    }\n",
       "</style>\n",
       "<table border=\"1\" class=\"dataframe\">\n",
       "  <thead>\n",
       "    <tr style=\"text-align: right;\">\n",
       "      <th></th>\n",
       "      <th>Feature1</th>\n",
       "    </tr>\n",
       "  </thead>\n",
       "  <tbody>\n",
       "    <tr>\n",
       "      <th>s1</th>\n",
       "      <td>-0.626009</td>\n",
       "    </tr>\n",
       "    <tr>\n",
       "      <th>s2</th>\n",
       "      <td>1.556353</td>\n",
       "    </tr>\n",
       "    <tr>\n",
       "      <th>s3</th>\n",
       "      <td>0.450590</td>\n",
       "    </tr>\n",
       "    <tr>\n",
       "      <th>s4</th>\n",
       "      <td>0.898856</td>\n",
       "    </tr>\n",
       "    <tr>\n",
       "      <th>s5</th>\n",
       "      <td>-0.191403</td>\n",
       "    </tr>\n",
       "  </tbody>\n",
       "</table>\n",
       "</div>"
      ],
      "text/plain": [
       "    Feature1\n",
       "s1 -0.626009\n",
       "s2  1.556353\n",
       "s3  0.450590\n",
       "s4  0.898856\n",
       "s5 -0.191403"
      ]
     },
     "execution_count": 4,
     "metadata": {
      "tags": []
     },
     "output_type": "execute_result"
    }
   ],
   "source": [
    "# create data\n",
    "myD = DF([-0.626009,1.556353,0.45059,0.898856,-0.191403],index = [\"s1\",\"s2\",\"s3\",\"s4\",\"s5\"],columns =[\"Feature1\"])\n",
    "myD"
   ]
  },
  {
   "cell_type": "code",
   "execution_count": 0,
   "metadata": {
    "colab": {
     "base_uri": "https://localhost:8080/",
     "height": 104
    },
    "colab_type": "code",
    "executionInfo": {
     "elapsed": 5322,
     "status": "ok",
     "timestamp": 1542223237482,
     "user": {
      "displayName": "Amina Delali",
      "photoUrl": "https://lh3.googleusercontent.com/-ZJlQJ9AZAbc/AAAAAAAAAAI/AAAAAAAAAAc/7KF7CDqgx7Q/s64/photo.jpg",
      "userId": "06755669456247010035"
     },
     "user_tz": -60
    },
    "id": "lYgjebuIGPpO",
    "outputId": "65bdee1c-36ce-4de8-fe27-68777a71b6e6"
   },
   "outputs": [
    {
     "data": {
      "text/plain": [
       "array([[0.],\n",
       "       [1.],\n",
       "       [0.],\n",
       "       [0.],\n",
       "       [0.]])"
      ]
     },
     "execution_count": 5,
     "metadata": {
      "tags": []
     },
     "output_type": "execute_result"
    }
   ],
   "source": [
    "# the value of the threshold\n",
    "th = 1\n",
    "# instaciate a Binarizer object with that threshold\n",
    "myBin = preprocessing.Binarizer(threshold=th)\n",
    "# transform the feature's values with that Binarizer\n",
    "myD_B =myBin.transform(myD.Feature1.values.reshape(-1,1))\n",
    "\n",
    "myD_B"
   ]
  },
  {
   "cell_type": "markdown",
   "metadata": {
    "colab_type": "text",
    "id": "zkTQ-AyyNeg2"
   },
   "source": [
    "## mean removal\n",
    "* we apply the mean removal , so that the feature's values will be centred at **0**."
   ]
  },
  {
   "cell_type": "code",
   "execution_count": 0,
   "metadata": {
    "colab": {
     "base_uri": "https://localhost:8080/",
     "height": 156
    },
    "colab_type": "code",
    "executionInfo": {
     "elapsed": 1460,
     "status": "ok",
     "timestamp": 1542223246366,
     "user": {
      "displayName": "Amina Delali",
      "photoUrl": "https://lh3.googleusercontent.com/-ZJlQJ9AZAbc/AAAAAAAAAAI/AAAAAAAAAAc/7KF7CDqgx7Q/s64/photo.jpg",
      "userId": "06755669456247010035"
     },
     "user_tz": -60
    },
    "id": "BZ57Y_IBRc8O",
    "outputId": "33e7167f-35ef-4f98-a757-73dc92e538b3"
   },
   "outputs": [
    {
     "name": "stdout",
     "output_type": "stream",
     "text": [
      "previous mean== Feature1    0.417677\n",
      "dtype: float64\n",
      "new mean== 2.2204460492503132e-17\n"
     ]
    },
    {
     "data": {
      "text/plain": [
       "array([[-1.0436864],\n",
       "       [ 1.1386756],\n",
       "       [ 0.0329126],\n",
       "       [ 0.4811786],\n",
       "       [-0.6090804]])"
      ]
     },
     "execution_count": 6,
     "metadata": {
      "tags": []
     },
     "output_type": "execute_result"
    }
   ],
   "source": [
    "print(\"previous mean==\",myD.mean())\n",
    "myD_mr = preprocessing.scale(myD,with_std=False)\n",
    "print(\"new mean==\",myD_mr.mean())\n",
    "\n",
    "myD_mr\n",
    "\n"
   ]
  },
  {
   "cell_type": "markdown",
   "metadata": {
    "colab_type": "text",
    "id": "HCUrZpjmMcRM"
   },
   "source": [
    "\n",
    "## Min Max Scaling\n",
    "* In the case where the data is represented by multiple features. The  values can vary differently from one feature to an other.\n",
    "* For example, probabilistic values vary  between **0** and **1**, and the values of a surface area exceed largely these values.\n",
    "* So,  we apply a **sacling** preprocessing to avoid that one feature will influence the results, more than an other one, just because of the scale of its values.\n",
    "* one of the methods used is **Min Max scaling**: use the minimum and maximum values for each features to scale the values into a specified range applying the following formula:\n",
    "$ X_{std}=(X- X_{min})/(X_{max}- X_{min}) $\n",
    "$X_{scaled}= X_{std}* (max - min) + min$\n",
    "$min, max:$ feature_range\n",
    "$"
   ]
  },
  {
   "cell_type": "code",
   "execution_count": 0,
   "metadata": {
    "colab": {
     "base_uri": "https://localhost:8080/",
     "height": 206
    },
    "colab_type": "code",
    "executionInfo": {
     "elapsed": 1192,
     "status": "ok",
     "timestamp": 1542223248010,
     "user": {
      "displayName": "Amina Delali",
      "photoUrl": "https://lh3.googleusercontent.com/-ZJlQJ9AZAbc/AAAAAAAAAAI/AAAAAAAAAAc/7KF7CDqgx7Q/s64/photo.jpg",
      "userId": "06755669456247010035"
     },
     "user_tz": -60
    },
    "id": "Ju9-MnmxQE3u",
    "outputId": "679657a9-1646-4d2b-8d37-dabe8467e711"
   },
   "outputs": [
    {
     "data": {
      "text/html": [
       "<div>\n",
       "<style scoped>\n",
       "    .dataframe tbody tr th:only-of-type {\n",
       "        vertical-align: middle;\n",
       "    }\n",
       "\n",
       "    .dataframe tbody tr th {\n",
       "        vertical-align: top;\n",
       "    }\n",
       "\n",
       "    .dataframe thead th {\n",
       "        text-align: right;\n",
       "    }\n",
       "</style>\n",
       "<table border=\"1\" class=\"dataframe\">\n",
       "  <thead>\n",
       "    <tr style=\"text-align: right;\">\n",
       "      <th></th>\n",
       "      <th>Feature1</th>\n",
       "      <th>Feature2</th>\n",
       "      <th>Feature3</th>\n",
       "    </tr>\n",
       "  </thead>\n",
       "  <tbody>\n",
       "    <tr>\n",
       "      <th>s1</th>\n",
       "      <td>-0.626009</td>\n",
       "      <td>100</td>\n",
       "      <td>9</td>\n",
       "    </tr>\n",
       "    <tr>\n",
       "      <th>s2</th>\n",
       "      <td>1.556353</td>\n",
       "      <td>1000</td>\n",
       "      <td>7</td>\n",
       "    </tr>\n",
       "    <tr>\n",
       "      <th>s3</th>\n",
       "      <td>0.450590</td>\n",
       "      <td>500</td>\n",
       "      <td>-3</td>\n",
       "    </tr>\n",
       "    <tr>\n",
       "      <th>s4</th>\n",
       "      <td>0.898856</td>\n",
       "      <td>200</td>\n",
       "      <td>1</td>\n",
       "    </tr>\n",
       "    <tr>\n",
       "      <th>s5</th>\n",
       "      <td>-0.191403</td>\n",
       "      <td>80</td>\n",
       "      <td>55</td>\n",
       "    </tr>\n",
       "  </tbody>\n",
       "</table>\n",
       "</div>"
      ],
      "text/plain": [
       "    Feature1  Feature2  Feature3\n",
       "s1 -0.626009       100         9\n",
       "s2  1.556353      1000         7\n",
       "s3  0.450590       500        -3\n",
       "s4  0.898856       200         1\n",
       "s5 -0.191403        80        55"
      ]
     },
     "execution_count": 7,
     "metadata": {
      "tags": []
     },
     "output_type": "execute_result"
    }
   ],
   "source": [
    "# adding new columns to myD\n",
    "myD[\"Feature2\"]=S([100,1000,500,200,80],index = [\"s1\",\"s2\",\"s3\",\"s4\",\"s5\"])\n",
    "myD[\"Feature3\"]=S([9,7,-3,1,55],index = [\"s1\",\"s2\",\"s3\",\"s4\",\"s5\"])\n",
    "\n",
    "myD"
   ]
  },
  {
   "cell_type": "code",
   "execution_count": 0,
   "metadata": {
    "colab": {
     "base_uri": "https://localhost:8080/",
     "height": 104
    },
    "colab_type": "code",
    "executionInfo": {
     "elapsed": 2704,
     "status": "ok",
     "timestamp": 1542223251196,
     "user": {
      "displayName": "Amina Delali",
      "photoUrl": "https://lh3.googleusercontent.com/-ZJlQJ9AZAbc/AAAAAAAAAAI/AAAAAAAAAAc/7KF7CDqgx7Q/s64/photo.jpg",
      "userId": "06755669456247010035"
     },
     "user_tz": -60
    },
    "id": "088xU5CJGLwK",
    "outputId": "c35c8483-823f-4627-eba7-68157d24cb2b"
   },
   "outputs": [
    {
     "data": {
      "text/plain": [
       "array([[0.        , 0.02173913, 0.20689655],\n",
       "       [1.        , 1.        , 0.17241379],\n",
       "       [0.49331825, 0.45652174, 0.        ],\n",
       "       [0.6987223 , 0.13043478, 0.06896552],\n",
       "       [0.19914478, 0.        , 1.        ]])"
      ]
     },
     "execution_count": 8,
     "metadata": {
      "tags": []
     },
     "output_type": "execute_result"
    }
   ],
   "source": [
    "# initiate a minmax scaler instance\n",
    "myScaler=preprocessing.MinMaxScaler(feature_range=(0,1))\n",
    "\n",
    "# scale the features in myD\n",
    "myD_s = myScaler.fit_transform(myD)\n",
    "myD_s"
   ]
  },
  {
   "cell_type": "markdown",
   "metadata": {
    "colab_type": "text",
    "id": "OjzIaOe1RdZ2"
   },
   "source": [
    "## Normalization\n",
    "* An other way to avoid scale and other problems (like outliers data values) it is to apply a **normalization**\n",
    "* ** L1** normalization (**Least Absolute Deviations**)  :transform the features values in a way that the sum of **absolute** values of each sample row will be **equal to 1**.\n",
    "* ** L2** normalization (**Least Squares**)  :transform the features values in a way that the sum of **square**  values of each sample row will be **equal to 1**."
   ]
  },
  {
   "cell_type": "code",
   "execution_count": 0,
   "metadata": {
    "colab": {
     "base_uri": "https://localhost:8080/",
     "height": 104
    },
    "colab_type": "code",
    "executionInfo": {
     "elapsed": 3238,
     "status": "ok",
     "timestamp": 1542223254960,
     "user": {
      "displayName": "Amina Delali",
      "photoUrl": "https://lh3.googleusercontent.com/-ZJlQJ9AZAbc/AAAAAAAAAAI/AAAAAAAAAAc/7KF7CDqgx7Q/s64/photo.jpg",
      "userId": "06755669456247010035"
     },
     "user_tz": -60
    },
    "id": "mGX9YF72X0o2",
    "outputId": "f499c72f-7b46-45d3-b063-f12396e8375c"
   },
   "outputs": [
    {
     "data": {
      "text/plain": [
       "array([[-5.71040582e-03,  9.12192288e-01,  8.20973059e-02],\n",
       "       [ 1.54314927e-03,  9.91516237e-01,  6.94061366e-03],\n",
       "       [ 8.95003420e-04,  9.93146120e-01, -5.95887672e-03],\n",
       "       [ 4.45201136e-03,  9.90595014e-01,  4.95297507e-03],\n",
       "       [-1.41579269e-03,  5.91753604e-01,  4.06830603e-01]])"
      ]
     },
     "execution_count": 9,
     "metadata": {
      "tags": []
     },
     "output_type": "execute_result"
    }
   ],
   "source": [
    "# Normalize myD using L1 normalization\n",
    "myD_l1 = preprocessing.normalize(myD, norm='l1')\n",
    "myD_l1"
   ]
  },
  {
   "cell_type": "code",
   "execution_count": 0,
   "metadata": {
    "colab": {
     "base_uri": "https://localhost:8080/",
     "height": 104
    },
    "colab_type": "code",
    "executionInfo": {
     "elapsed": 1500,
     "status": "ok",
     "timestamp": 1542223257506,
     "user": {
      "displayName": "Amina Delali",
      "photoUrl": "https://lh3.googleusercontent.com/-ZJlQJ9AZAbc/AAAAAAAAAAI/AAAAAAAAAAc/7KF7CDqgx7Q/s64/photo.jpg",
      "userId": "06755669456247010035"
     },
     "user_tz": -60
    },
    "id": "3W5HtBRYUMiO",
    "outputId": "58b7e6b1-190c-43ce-fc1c-a66d9f9a1633"
   },
   "outputs": [
    {
     "data": {
      "text/plain": [
       "array([[-6.23476844e-03,  9.95955081e-01,  8.96359573e-02],\n",
       "       [ 1.55631299e-03,  9.99974290e-01,  6.99982003e-03],\n",
       "       [ 9.01163413e-04,  9.99981594e-01, -5.99988957e-03],\n",
       "       [ 4.49417844e-03,  9.99977401e-01,  4.99988701e-03],\n",
       "       [-1.97154737e-03,  8.24040323e-01,  5.66527722e-01]])"
      ]
     },
     "execution_count": 10,
     "metadata": {
      "tags": []
     },
     "output_type": "execute_result"
    }
   ],
   "source": [
    "# Normalize myD using L2 normalization\n",
    "myD_l2 = preprocessing.normalize(myD, norm='l2')\n",
    "myD_l2"
   ]
  },
  {
   "cell_type": "markdown",
   "metadata": {
    "colab_type": "text",
    "id": "VL49qQMiRCfC"
   },
   "source": [
    "# 2-  A **single** variable regressor"
   ]
  },
  {
   "cell_type": "markdown",
   "metadata": {
    "colab_type": "text",
    "id": "oYp9mYa6zyEg"
   },
   "source": [
    "* A single variable regressor is a regresso trained using data described by **one**  feature.\n",
    "\n",
    "\n",
    "\n"
   ]
  },
  {
   "cell_type": "markdown",
   "metadata": {
    "colab_type": "text",
    "id": "Tg2exEipRz7w"
   },
   "source": [
    "## Training  and testing set\n",
    "* the labeled data is split into t**training** and **testing** sets. The training set is used to train the model. The test set is used to compute the performance of the model."
   ]
  },
  {
   "cell_type": "markdown",
   "metadata": {
    "colab_type": "text",
    "id": "b01eSVJ_ngCs"
   },
   "source": [
    "* We will use the data and \"utilities.py\" file from [Artificial intelligence with python , github Repository](https://github.com/PacktPublishing/Artificial-Intelligence-with-Python)"
   ]
  },
  {
   "cell_type": "code",
   "execution_count": 0,
   "metadata": {
    "colab": {
     "base_uri": "https://localhost:8080/",
     "height": 121
    },
    "colab_type": "code",
    "executionInfo": {
     "elapsed": 5740,
     "status": "ok",
     "timestamp": 1542223263704,
     "user": {
      "displayName": "Amina Delali",
      "photoUrl": "https://lh3.googleusercontent.com/-ZJlQJ9AZAbc/AAAAAAAAAAI/AAAAAAAAAAc/7KF7CDqgx7Q/s64/photo.jpg",
      "userId": "06755669456247010035"
     },
     "user_tz": -60
    },
    "id": "-7EFUidAnIO8",
    "outputId": "62c11074-10b5-43b3-ea26-e145ee211722"
   },
   "outputs": [
    {
     "name": "stdout",
     "output_type": "stream",
     "text": [
      "Cloning into 'AAA-Ped-Week4'...\n",
      "remote: Enumerating objects: 16, done.\u001b[K\n",
      "remote: Counting objects:   6% (1/16)   \u001b[K\r",
      "remote: Counting objects:  12% (2/16)   \u001b[K\r",
      "remote: Counting objects:  18% (3/16)   \u001b[K\r",
      "remote: Counting objects:  25% (4/16)   \u001b[K\r",
      "remote: Counting objects:  31% (5/16)   \u001b[K\r",
      "remote: Counting objects:  37% (6/16)   \u001b[K\r",
      "remote: Counting objects:  43% (7/16)   \u001b[K\r",
      "remote: Counting objects:  50% (8/16)   \u001b[K\r",
      "remote: Counting objects:  56% (9/16)   \u001b[K\r",
      "remote: Counting objects:  62% (10/16)   \u001b[K\r",
      "remote: Counting objects:  68% (11/16)   \u001b[K\r",
      "remote: Counting objects:  75% (12/16)   \u001b[K\r",
      "remote: Counting objects:  81% (13/16)   \u001b[K\r",
      "remote: Counting objects:  87% (14/16)   \u001b[K\r",
      "remote: Counting objects:  93% (15/16)   \u001b[K\r",
      "remote: Counting objects: 100% (16/16)   \u001b[K\r",
      "remote: Counting objects: 100% (16/16), done.\u001b[K\n",
      "remote: Compressing objects:   8% (1/12)   \u001b[K\r",
      "remote: Compressing objects:  16% (2/12)   \u001b[K\r",
      "remote: Compressing objects:  25% (3/12)   \u001b[K\r",
      "remote: Compressing objects:  33% (4/12)   \u001b[K\r",
      "remote: Compressing objects:  41% (5/12)   \u001b[K\r",
      "remote: Compressing objects:  50% (6/12)   \u001b[K\r",
      "remote: Compressing objects:  58% (7/12)   \u001b[K\r",
      "remote: Compressing objects:  66% (8/12)   \u001b[K\r",
      "remote: Compressing objects:  75% (9/12)   \u001b[K\r",
      "remote: Compressing objects:  83% (10/12)   \u001b[K\r",
      "remote: Compressing objects:  91% (11/12)   \u001b[K\r",
      "remote: Compressing objects: 100% (12/12)   \u001b[K\r",
      "remote: Compressing objects: 100% (12/12), done.\u001b[K\n",
      "Unpacking objects:   6% (1/16)   \r",
      "Unpacking objects:  12% (2/16)   \r",
      "Unpacking objects:  18% (3/16)   \r",
      "Unpacking objects:  25% (4/16)   \r",
      "Unpacking objects:  31% (5/16)   \r",
      "Unpacking objects:  37% (6/16)   \r",
      "Unpacking objects:  43% (7/16)   \r",
      "Unpacking objects:  50% (8/16)   \r",
      "Unpacking objects:  56% (9/16)   \r",
      "remote: Total 16 (delta 2), reused 10 (delta 1), pack-reused 0\u001b[K\n",
      "Unpacking objects:  62% (10/16)   \r",
      "Unpacking objects:  68% (11/16)   \r",
      "Unpacking objects:  75% (12/16)   \r",
      "Unpacking objects:  81% (13/16)   \r",
      "Unpacking objects:  87% (14/16)   \r",
      "Unpacking objects:  93% (15/16)   \r",
      "Unpacking objects: 100% (16/16)   \r",
      "Unpacking objects: 100% (16/16), done.\n"
     ]
    }
   ],
   "source": [
    "# the data and utitlites.py files used are downloaded from https://github.com/PacktPublishing/Artificial-Intelligence-with-Python\n",
    "!git clone https://github.com/MostaSchoolOfAI/AAA-Ped-Week4.git"
   ]
  },
  {
   "cell_type": "code",
   "execution_count": 0,
   "metadata": {
    "colab": {
     "base_uri": "https://localhost:8080/",
     "height": 69
    },
    "colab_type": "code",
    "executionInfo": {
     "elapsed": 4796,
     "status": "ok",
     "timestamp": 1542223268630,
     "user": {
      "displayName": "Amina Delali",
      "photoUrl": "https://lh3.googleusercontent.com/-ZJlQJ9AZAbc/AAAAAAAAAAI/AAAAAAAAAAc/7KF7CDqgx7Q/s64/photo.jpg",
      "userId": "06755669456247010035"
     },
     "user_tz": -60
    },
    "id": "yy0lXlkMn6gu",
    "outputId": "50c713ae-bf07-41b0-f39c-e1a7a464e228"
   },
   "outputs": [
    {
     "name": "stdout",
     "output_type": "stream",
     "text": [
      "A3P-w4-data_multivar_nb.txt\tA3P-w4-income_data.txt\n",
      "A3P-w4-data_multivar_regr.txt\tA3P-w4-utilities.py\n",
      "A3P-w4-data_singlevar_regr.txt\tREADME.md\n"
     ]
    }
   ],
   "source": [
    "!ls AAA-Ped-Week4"
   ]
  },
  {
   "cell_type": "code",
   "execution_count": 0,
   "metadata": {
    "colab": {
     "base_uri": "https://localhost:8080/",
     "height": 241
    },
    "colab_type": "code",
    "executionInfo": {
     "elapsed": 1810,
     "status": "ok",
     "timestamp": 1542223270664,
     "user": {
      "displayName": "Amina Delali",
      "photoUrl": "https://lh3.googleusercontent.com/-ZJlQJ9AZAbc/AAAAAAAAAAI/AAAAAAAAAAc/7KF7CDqgx7Q/s64/photo.jpg",
      "userId": "06755669456247010035"
     },
     "user_tz": -60
    },
    "id": "Yubj7fvIbAh8",
    "outputId": "2e4950b5-5291-47ac-c39a-09818fe7ec82"
   },
   "outputs": [
    {
     "name": "stdout",
     "output_type": "stream",
     "text": [
      "/content/AAA-Ped-Week4\n",
      "/content\n"
     ]
    },
    {
     "data": {
      "text/html": [
       "<div>\n",
       "<style scoped>\n",
       "    .dataframe tbody tr th:only-of-type {\n",
       "        vertical-align: middle;\n",
       "    }\n",
       "\n",
       "    .dataframe tbody tr th {\n",
       "        vertical-align: top;\n",
       "    }\n",
       "\n",
       "    .dataframe thead th {\n",
       "        text-align: right;\n",
       "    }\n",
       "</style>\n",
       "<table border=\"1\" class=\"dataframe\">\n",
       "  <thead>\n",
       "    <tr style=\"text-align: right;\">\n",
       "      <th></th>\n",
       "      <th>col0</th>\n",
       "      <th>col1</th>\n",
       "    </tr>\n",
       "  </thead>\n",
       "  <tbody>\n",
       "    <tr>\n",
       "      <th>0</th>\n",
       "      <td>-0.86</td>\n",
       "      <td>4.38</td>\n",
       "    </tr>\n",
       "    <tr>\n",
       "      <th>1</th>\n",
       "      <td>2.58</td>\n",
       "      <td>6.97</td>\n",
       "    </tr>\n",
       "    <tr>\n",
       "      <th>2</th>\n",
       "      <td>4.17</td>\n",
       "      <td>7.01</td>\n",
       "    </tr>\n",
       "    <tr>\n",
       "      <th>3</th>\n",
       "      <td>2.60</td>\n",
       "      <td>5.44</td>\n",
       "    </tr>\n",
       "    <tr>\n",
       "      <th>4</th>\n",
       "      <td>5.13</td>\n",
       "      <td>6.45</td>\n",
       "    </tr>\n",
       "  </tbody>\n",
       "</table>\n",
       "</div>"
      ],
      "text/plain": [
       "   col0  col1\n",
       "0 -0.86  4.38\n",
       "1  2.58  6.97\n",
       "2  4.17  7.01\n",
       "3  2.60  5.44\n",
       "4  5.13  6.45"
      ]
     },
     "execution_count": 13,
     "metadata": {
      "tags": []
     },
     "output_type": "execute_result"
    }
   ],
   "source": [
    "\n",
    "# move to AAA-Ped-Week4 folder\n",
    "%cd AAA-Ped-Week4\n",
    "import pickle\n",
    "import pandas as pd\n",
    "from sklearn import linear_model\n",
    "import sklearn.metrics as sm\n",
    "\n",
    "\n",
    "\n",
    "# loading the data: doesn't have a header (=-1)\n",
    "# \"col0\" are x features values, and \"col1\" are the labels y\n",
    "myD2 = pd.read_csv(\"A3P-w4-data_singlevar_regr.txt\",header=-1,prefix=\"col\")\n",
    "# move back to content folder\n",
    "%cd ..\n",
    "myD2.head(5)"
   ]
  },
  {
   "cell_type": "code",
   "execution_count": 0,
   "metadata": {
    "colab": {},
    "colab_type": "code",
    "collapsed": true,
    "id": "w6nuLpZ2r4vG"
   },
   "outputs": [],
   "source": [
    "x=myD2.col0\n",
    "y=myD2.col1\n",
    "from sklearn.model_selection import train_test_split\n",
    "# srpliting the data into test and training sets\n",
    "x_train, x_test, y_train, y_test = train_test_split(x, y, test_size=0.2)\n"
   ]
  },
  {
   "cell_type": "code",
   "execution_count": 0,
   "metadata": {
    "colab": {
     "base_uri": "https://localhost:8080/",
     "height": 72
    },
    "colab_type": "code",
    "executionInfo": {
     "elapsed": 868,
     "status": "ok",
     "timestamp": 1542223273444,
     "user": {
      "displayName": "Amina Delali",
      "photoUrl": "https://lh3.googleusercontent.com/-ZJlQJ9AZAbc/AAAAAAAAAAI/AAAAAAAAAAc/7KF7CDqgx7Q/s64/photo.jpg",
      "userId": "06755669456247010035"
     },
     "user_tz": -60
    },
    "id": "8H0V6PODtZiY",
    "outputId": "53a66912-439d-41d0-d020-5d825a10329b"
   },
   "outputs": [
    {
     "name": "stderr",
     "output_type": "stream",
     "text": [
      "/usr/local/lib/python3.6/dist-packages/ipykernel_launcher.py:1: FutureWarning: reshape is deprecated and will raise in a subsequent release. Please use .values.reshape(...) instead\n",
      "  \"\"\"Entry point for launching an IPython kernel.\n"
     ]
    }
   ],
   "source": [
    "# reshape the data\n",
    "x_train, y_train, x_test,y_test= x_train.reshape(-1,1), y_train.reshape(-1,1),x_test.reshape(-1,1), y_test.reshape(-1,1)\n",
    "# create an instance of a Linear regressor\n",
    "myModel = linear_model.LinearRegression()\n",
    "# train the model using the training sets\n",
    "myModel.fit(x_train, y_train)\n",
    "# predict using testing set\n",
    "y_test_pred = myModel.predict(x_test)"
   ]
  },
  {
   "cell_type": "code",
   "execution_count": 0,
   "metadata": {
    "colab": {
     "base_uri": "https://localhost:8080/",
     "height": 269
    },
    "colab_type": "code",
    "executionInfo": {
     "elapsed": 4002,
     "status": "ok",
     "timestamp": 1542223277800,
     "user": {
      "displayName": "Amina Delali",
      "photoUrl": "https://lh3.googleusercontent.com/-ZJlQJ9AZAbc/AAAAAAAAAAI/AAAAAAAAAAc/7KF7CDqgx7Q/s64/photo.jpg",
      "userId": "06755669456247010035"
     },
     "user_tz": -60
    },
    "id": "yXbyB-lEu0rg",
    "outputId": "d470e174-8852-4ebb-beda-5b7a9b9adb78"
   },
   "outputs": [
    {
     "data": {
      "image/png": "[encoded data removed]",
      "text/plain": [
       "<matplotlib.figure.Figure at 0x7f078c5462b0>"
      ]
     },
     "metadata": {
      "tags": []
     },
     "output_type": "display_data"
    }
   ],
   "source": [
    "# plotting the real and predicted values\n",
    "plt.scatter(x_test, y_test)\n",
    "plt.plot(x_test, y_test_pred, color=\"green\")\n",
    "\n",
    "plt.show()"
   ]
  },
  {
   "cell_type": "code",
   "execution_count": 0,
   "metadata": {
    "colab": {
     "base_uri": "https://localhost:8080/",
     "height": 52
    },
    "colab_type": "code",
    "executionInfo": {
     "elapsed": 1704,
     "status": "ok",
     "timestamp": 1542223280262,
     "user": {
      "displayName": "Amina Delali",
      "photoUrl": "https://lh3.googleusercontent.com/-ZJlQJ9AZAbc/AAAAAAAAAAI/AAAAAAAAAAc/7KF7CDqgx7Q/s64/photo.jpg",
      "userId": "06755669456247010035"
     },
     "user_tz": -60
    },
    "id": "LBeaAqvVrt2U",
    "outputId": "2b8505c7-ca11-4d1c-c732-19fcd44c1bd0"
   },
   "outputs": [
    {
     "name": "stdout",
     "output_type": "stream",
     "text": [
      "Mean absolute error = 0.8137311542508426\n",
      "Mean squared error = 0.934298751817154\n"
     ]
    }
   ],
   "source": [
    "# Compute mean absolute error\n",
    "print(\"Mean absolute error =\", sm.mean_absolute_error(y_test,y_test_pred))\n",
    "# Compute mean squared error\n",
    "print(\"Mean squared error =\", sm.mean_squared_error(y_test,y_test_pred))"
   ]
  },
  {
   "cell_type": "markdown",
   "metadata": {
    "colab_type": "text",
    "id": "lYnbKQUdR0Ou"
   },
   "source": [
    "## Loading and saving models\n",
    "* the trained models can be **saved** to be **loaded** later to predict labels."
   ]
  },
  {
   "cell_type": "code",
   "execution_count": 0,
   "metadata": {
    "colab": {},
    "colab_type": "code",
    "collapsed": true,
    "id": "hCBwWN9MHsW6"
   },
   "outputs": [],
   "source": [
    "# creating a new file\n",
    "f= open(\"myModel.okl\", 'wb')\n",
    "# saving the model to that file\n",
    "pickle.dump(myModel, f)"
   ]
  },
  {
   "cell_type": "code",
   "execution_count": 0,
   "metadata": {
    "colab": {},
    "colab_type": "code",
    "collapsed": true,
    "id": "x2fizYWmImzw"
   },
   "outputs": [],
   "source": [
    "# opening (loading) the file\n",
    "f= open(\"myModel.okl\", 'rb')\n",
    "#loading the model from that file\n",
    "myLModel = pickle.load(f)"
   ]
  },
  {
   "cell_type": "code",
   "execution_count": 0,
   "metadata": {
    "colab": {
     "base_uri": "https://localhost:8080/",
     "height": 265
    },
    "colab_type": "code",
    "executionInfo": {
     "elapsed": 1724,
     "status": "ok",
     "timestamp": 1542223289066,
     "user": {
      "displayName": "Amina Delali",
      "photoUrl": "https://lh3.googleusercontent.com/-ZJlQJ9AZAbc/AAAAAAAAAAI/AAAAAAAAAAc/7KF7CDqgx7Q/s64/photo.jpg",
      "userId": "06755669456247010035"
     },
     "user_tz": -60
    },
    "id": "4MCE4SSvJyEU",
    "outputId": "0f2efc12-c3db-4d33-8803-83261c2a26a2"
   },
   "outputs": [
    {
     "data": {
      "image/png": "[encoded data removed]",
      "text/plain": [
       "<matplotlib.figure.Figure at 0x7f078986e860>"
      ]
     },
     "metadata": {
      "tags": []
     },
     "output_type": "display_data"
    }
   ],
   "source": [
    "# try other splits\n",
    "x1,x2,y1,y2= train_test_split(x, y, test_size=0.3)\n",
    "# test the loaded model(without training, it is already trained)\n",
    "# on the new split  x2,y2\n",
    "x2,y2= x2.values.reshape(-1,1),y2.values.reshape(-1,1)\n",
    "y2_pred=myLModel.predict(x2)\n",
    "# ploting the labeled data x2,y2\n",
    "plt.scatter(x2, y2)\n",
    "# plotting the predicted values: x2, y2_pred\n",
    "plt.plot(x2, y2_pred, color=\"green\")\n",
    "plt.show()\n",
    "\n"
   ]
  },
  {
   "cell_type": "markdown",
   "metadata": {
    "colab_type": "text",
    "id": "Nhm8OJc_RFU8"
   },
   "source": [
    "# 3- A multivariable regressor\n",
    "\n"
   ]
  },
  {
   "cell_type": "markdown",
   "metadata": {
    "colab_type": "text",
    "id": "TOgMnI_CR7QE"
   },
   "source": [
    "## Multiple features\n",
    "* A multivariable variable regressor can be a model trained using :\n",
    "  * data described by **one** feature, and other features are generated: like polynomial features.\n",
    "  * data described by **multiple**  features\n",
    "  * data described by  ** multiple** features, and other **generated** features.\n"
   ]
  },
  {
   "cell_type": "code",
   "execution_count": 0,
   "metadata": {
    "colab": {
     "base_uri": "https://localhost:8080/",
     "height": 241
    },
    "colab_type": "code",
    "executionInfo": {
     "elapsed": 3586,
     "status": "ok",
     "timestamp": 1542223293084,
     "user": {
      "displayName": "Amina Delali",
      "photoUrl": "https://lh3.googleusercontent.com/-ZJlQJ9AZAbc/AAAAAAAAAAI/AAAAAAAAAAc/7KF7CDqgx7Q/s64/photo.jpg",
      "userId": "06755669456247010035"
     },
     "user_tz": -60
    },
    "id": "jM4gQIH4ROC6",
    "outputId": "72497492-fe7c-4506-eaf1-e6ca7482c57b"
   },
   "outputs": [
    {
     "name": "stdout",
     "output_type": "stream",
     "text": [
      "/content/AAA-Ped-Week4\n",
      "/content\n"
     ]
    },
    {
     "data": {
      "text/html": [
       "<div>\n",
       "<style scoped>\n",
       "    .dataframe tbody tr th:only-of-type {\n",
       "        vertical-align: middle;\n",
       "    }\n",
       "\n",
       "    .dataframe tbody tr th {\n",
       "        vertical-align: top;\n",
       "    }\n",
       "\n",
       "    .dataframe thead th {\n",
       "        text-align: right;\n",
       "    }\n",
       "</style>\n",
       "<table border=\"1\" class=\"dataframe\">\n",
       "  <thead>\n",
       "    <tr style=\"text-align: right;\">\n",
       "      <th></th>\n",
       "      <th>col0</th>\n",
       "      <th>col1</th>\n",
       "      <th>col2</th>\n",
       "      <th>col3</th>\n",
       "    </tr>\n",
       "  </thead>\n",
       "  <tbody>\n",
       "    <tr>\n",
       "      <th>0</th>\n",
       "      <td>2.06</td>\n",
       "      <td>3.48</td>\n",
       "      <td>7.21</td>\n",
       "      <td>15.69</td>\n",
       "    </tr>\n",
       "    <tr>\n",
       "      <th>1</th>\n",
       "      <td>6.37</td>\n",
       "      <td>3.01</td>\n",
       "      <td>7.27</td>\n",
       "      <td>15.34</td>\n",
       "    </tr>\n",
       "    <tr>\n",
       "      <th>2</th>\n",
       "      <td>1.18</td>\n",
       "      <td>1.20</td>\n",
       "      <td>5.42</td>\n",
       "      <td>0.66</td>\n",
       "    </tr>\n",
       "    <tr>\n",
       "      <th>3</th>\n",
       "      <td>7.37</td>\n",
       "      <td>3.81</td>\n",
       "      <td>-1.95</td>\n",
       "      <td>38.37</td>\n",
       "    </tr>\n",
       "    <tr>\n",
       "      <th>4</th>\n",
       "      <td>6.16</td>\n",
       "      <td>1.39</td>\n",
       "      <td>7.39</td>\n",
       "      <td>9.96</td>\n",
       "    </tr>\n",
       "  </tbody>\n",
       "</table>\n",
       "</div>"
      ],
      "text/plain": [
       "   col0  col1  col2   col3\n",
       "0  2.06  3.48  7.21  15.69\n",
       "1  6.37  3.01  7.27  15.34\n",
       "2  1.18  1.20  5.42   0.66\n",
       "3  7.37  3.81 -1.95  38.37\n",
       "4  6.16  1.39  7.39   9.96"
      ]
     },
     "execution_count": 21,
     "metadata": {
      "tags": []
     },
     "output_type": "execute_result"
    }
   ],
   "source": [
    "\n",
    "# move to AAA-Ped-Week4 folder\n",
    "%cd AAA-Ped-Week4\n",
    "# loading the data:\n",
    "# \"col0\"\"col1\"\"col2\" are x features values: 3 features\n",
    "# and \"col3\" are the labels y\n",
    "myD3 = pd.read_csv(\"A3P-w4-data_multivar_regr.txt\",header=-1,prefix=\"col\")\n",
    "# move back to content folder\n",
    "%cd ..\n",
    "myD3.head(5)"
   ]
  },
  {
   "cell_type": "markdown",
   "metadata": {
    "colab_type": "text",
    "id": "iJCObGCDR7Wk"
   },
   "source": [
    "## Simple Linear Regression ( with multiple features)\n",
    "* the data is described by **multiple features**: **n** features, and $n>1$\n",
    "* the mathematical model is:\n",
    "$y= a_1*x_1+a_2*x_2+ ... + a_n*x_n $"
   ]
  },
  {
   "cell_type": "code",
   "execution_count": 0,
   "metadata": {
    "colab": {
     "base_uri": "https://localhost:8080/",
     "height": 52
    },
    "colab_type": "code",
    "executionInfo": {
     "elapsed": 1536,
     "status": "ok",
     "timestamp": 1542223295176,
     "user": {
      "displayName": "Amina Delali",
      "photoUrl": "https://lh3.googleusercontent.com/-ZJlQJ9AZAbc/AAAAAAAAAAI/AAAAAAAAAAc/7KF7CDqgx7Q/s64/photo.jpg",
      "userId": "06755669456247010035"
     },
     "user_tz": -60
    },
    "id": "GnKi13c1Y8lU",
    "outputId": "13ef2db5-0ca0-4266-e326-548ee7fc110c"
   },
   "outputs": [
    {
     "name": "stdout",
     "output_type": "stream",
     "text": [
      "ai are in  [[ 1.97288257  3.91615283 -1.75291766]]\n",
      "b is in  [5.77068196]\n"
     ]
    }
   ],
   "source": [
    "# Features values\n",
    "myX= myD3.iloc[:,:3]\n",
    "# labels\n",
    "myY = myD3.iloc[:,3]\n",
    "myY = myY.values.reshape(-1,1)\n",
    "# train again the linear regression model\n",
    "myModel.fit(myX,myY)\n",
    "print(\"ai are in \",myModel.coef_)\n",
    "print (\"b is in \",myModel.intercept_)\n",
    "\n"
   ]
  },
  {
   "cell_type": "markdown",
   "metadata": {
    "colab_type": "text",
    "id": "Zd06of0ZR7JC"
   },
   "source": [
    "## Polynomial Regression ( with multiple features)\n",
    "* the data is described by **multiple features**: **n** features, and $n>1$\n",
    "\n",
    "* new **polynomial** features are **generated** with a defined **order **\n",
    "\n",
    "* For example, the mathematical model for **3 features**  with **order  =2** is :\n",
    "$y= a_1*x_1+a_2*x_2+ a_3*x_3+a_4*x_1^²+ a_5*x_1*x_2+a_6*x_1*x_3+a_7*x_2^2+a_8*x_2*x_3+a_9*x_3^2 +b$\n",
    "\n"
   ]
  },
  {
   "cell_type": "code",
   "execution_count": 0,
   "metadata": {
    "colab": {
     "base_uri": "https://localhost:8080/",
     "height": 34
    },
    "colab_type": "code",
    "executionInfo": {
     "elapsed": 1102,
     "status": "ok",
     "timestamp": 1542223296864,
     "user": {
      "displayName": "Amina Delali",
      "photoUrl": "https://lh3.googleusercontent.com/-ZJlQJ9AZAbc/AAAAAAAAAAI/AAAAAAAAAAc/7KF7CDqgx7Q/s64/photo.jpg",
      "userId": "06755669456247010035"
     },
     "user_tz": -60
    },
    "id": "6dtwtsV1iO9s",
    "outputId": "6031e202-e519-48f3-879a-8cc768b2b8ca"
   },
   "outputs": [
    {
     "name": "stdout",
     "output_type": "stream",
     "text": [
      "b is in  [5.67788315]\n"
     ]
    }
   ],
   "source": [
    "from sklearn.preprocessing import PolynomialFeatures\n",
    "# polynomial features generator of degree 2\n",
    "polynomial = PolynomialFeatures(degree=2, include_bias=False)\n",
    "# generate the new features\n",
    "x_poly = polynomial.fit_transform(myX)\n",
    "\n",
    "# fit the model\n",
    "myModel.fit(x_poly,myY)\n",
    "# calculated parameters\n",
    "\n",
    "print (\"b is in \",myModel.intercept_)"
   ]
  },
  {
   "cell_type": "markdown",
   "metadata": {
    "colab_type": "text",
    "id": "Ca8Ofrs7RHwC"
   },
   "source": [
    "# 4-Regularization\n"
   ]
  },
  {
   "cell_type": "markdown",
   "metadata": {
    "colab_type": "text",
    "id": "xn8bZSmqSBwY"
   },
   "source": [
    "##  Introduction\n",
    "* When we train a regression learning model, sometimes we **overfit** the training set: it **fits** verry well to the training sample but it **doesn't predict** well for the **testing** or the **new data** sets.\n",
    "* so, we introduce **penalties ** to the model: calculated from the **parameters** values."
   ]
  },
  {
   "cell_type": "code",
   "execution_count": 0,
   "metadata": {
    "colab": {
     "base_uri": "https://localhost:8080/",
     "height": 320
    },
    "colab_type": "code",
    "executionInfo": {
     "elapsed": 4164,
     "status": "ok",
     "timestamp": 1542223301390,
     "user": {
      "displayName": "Amina Delali",
      "photoUrl": "https://lh3.googleusercontent.com/-ZJlQJ9AZAbc/AAAAAAAAAAI/AAAAAAAAAAc/7KF7CDqgx7Q/s64/photo.jpg",
      "userId": "06755669456247010035"
     },
     "user_tz": -60
    },
    "id": "srGTOqH2Q23W",
    "outputId": "91517b3e-e845-4215-8f13-66b5932a5369"
   },
   "outputs": [
    {
     "name": "stderr",
     "output_type": "stream",
     "text": [
      "/usr/local/lib/python3.6/dist-packages/sklearn/linear_model/coordinate_descent.py:491: ConvergenceWarning: Objective did not converge. You might want to increase the number of iterations. Fitting data with very small alpha may cause precision problems.\n",
      "  ConvergenceWarning)\n"
     ]
    },
    {
     "data": {
      "image/png": "[encoded data removed]",
      "text/plain": [
       "<matplotlib.figure.Figure at 0x7f078ca58668>"
      ]
     },
     "metadata": {
      "tags": []
     },
     "output_type": "display_data"
    }
   ],
   "source": [
    "from sklearn.linear_model import LinearRegression, Ridge, Lasso\n",
    "from sklearn.pipeline import make_pipeline\n",
    "\n",
    "\n",
    "# generating new data\n",
    "rng = np.random.RandomState(1)\n",
    "x = 10 * rng.rand(100)\n",
    "y = np.sin(x) + 0.1 * rng.randn(100)\n",
    "\n",
    "# split the data into training and testing sets\n",
    "x_tr,x_te,y_tr,y_te=train_test_split(x, y, test_size=0.2)\n",
    "x_tr=x_tr.reshape(-1,1)\n",
    "y_tr=y_tr.reshape(-1,1)\n",
    "x_te=x_te.reshape(-1,1)\n",
    "y_te=y_te.reshape(-1,1)\n",
    "\n",
    "# a linear regressor\n",
    "regressor =LinearRegression()\n",
    "# a Ridge regressor: linear regressor with L2 regularization\n",
    "regressor2 =Ridge(alpha=0.1)\n",
    "# a Lasso regressor: linear regressor with L1 regularization\n",
    "regressor3 =Lasso(alpha=0.1)\n",
    "\n",
    "\n",
    "# a linear regressor with polynomial features\n",
    "myModel2 = make_pipeline(PolynomialFeatures(17), regressor)\n",
    "\n",
    "# a Ridge regressor with polynomial features\n",
    "myRModel= make_pipeline(PolynomialFeatures(17), regressor2)\n",
    "\n",
    "# a Lasso regressor with polynomial features\n",
    "myLModel = make_pipeline(PolynomialFeatures(17), regressor3)\n",
    "\n",
    "#training the models\n",
    "myModel2.fit(x_tr,y_tr)\n",
    "myRModel.fit(x_tr,y_tr)\n",
    "myLModel.fit(x_tr,y_tr)\n",
    "\n",
    "# generate x values for ploting the models graphs\n",
    "x_plot= np.linspace(0,10,1000).reshape(-1,1)\n",
    "\n",
    "# predincting the corresponding labels for each model\n",
    "y_pred = myModel2.predict(x_plot)\n",
    "y_pred2 = myRModel.predict(x_plot)\n",
    "y_pred3 = myLModel.predict(x_plot)\n",
    "\n",
    "# plotting the training values\n",
    "plt.scatter(x_tr, y_tr, color=\"red\")\n",
    "#plotting the models\n",
    "plt.plot(x_plot, y_pred, color=\"green\")\n",
    "plt.plot(x_plot, y_pred2, color=\"orange\")\n",
    "plt.plot(x_plot, y_pred3, color=\"black\")\n",
    "plt.show()\n"
   ]
  },
  {
   "cell_type": "code",
   "execution_count": 0,
   "metadata": {
    "colab": {
     "base_uri": "https://localhost:8080/",
     "height": 265
    },
    "colab_type": "code",
    "executionInfo": {
     "elapsed": 1310,
     "status": "ok",
     "timestamp": 1542223302980,
     "user": {
      "displayName": "Amina Delali",
      "photoUrl": "https://lh3.googleusercontent.com/-ZJlQJ9AZAbc/AAAAAAAAAAI/AAAAAAAAAAc/7KF7CDqgx7Q/s64/photo.jpg",
      "userId": "06755669456247010035"
     },
     "user_tz": -60
    },
    "id": "p7tNa3R1TGJc",
    "outputId": "0e39f9cb-8378-4722-c6bc-1a28fc33e211"
   },
   "outputs": [
    {
     "data": {
      "image/png": "[encoded data removed]",
      "text/plain": [
       "<matplotlib.figure.Figure at 0x7f0786f1a198>"
      ]
     },
     "metadata": {
      "tags": []
     },
     "output_type": "display_data"
    }
   ],
   "source": [
    "y_test_pred = myModel2.predict(x_plot)\n",
    "plt.scatter(x_te, y_te, color=\"red\")\n",
    "plt.plot(x_plot, y_pred, color=\"green\")\n",
    "#x_tes= np.linspace(0, 10, 1000)\n",
    "plt.show()"
   ]
  },
  {
   "cell_type": "markdown",
   "metadata": {
    "colab_type": "text",
    "id": "157T7zEfSB_u"
   },
   "source": [
    "## Ridge Regression (L2 regularization)\n",
    "* the penalty is:\n",
    ">$p=\\alpha *\\sum_{n=1}^N \\theta_n^2$\n",
    "* here, the $\\theta_n$ represent the $a_i$ and $b$ parameters.\n",
    "and the $\\alpha$ parameter is a value that defines the strength of the penalty."
   ]
  },
  {
   "cell_type": "code",
   "execution_count": 0,
   "metadata": {
    "colab": {
     "base_uri": "https://localhost:8080/",
     "height": 265
    },
    "colab_type": "code",
    "executionInfo": {
     "elapsed": 1350,
     "status": "ok",
     "timestamp": 1542223304652,
     "user": {
      "displayName": "Amina Delali",
      "photoUrl": "https://lh3.googleusercontent.com/-ZJlQJ9AZAbc/AAAAAAAAAAI/AAAAAAAAAAc/7KF7CDqgx7Q/s64/photo.jpg",
      "userId": "06755669456247010035"
     },
     "user_tz": -60
    },
    "id": "Pz8fapUoKaZ2",
    "outputId": "d308c9b7-02d8-4716-f9e2-58b33e80a0ef"
   },
   "outputs": [
    {
     "data": {
      "image/png": "[encoded data removed]",
      "text/plain": [
       "<matplotlib.figure.Figure at 0x7f0786e11748>"
      ]
     },
     "metadata": {
      "tags": []
     },
     "output_type": "display_data"
    }
   ],
   "source": [
    "y_test_pred = myRModel.predict(x_plot)\n",
    "plt.scatter(x_te, y_te, color=\"red\")\n",
    "plt.plot(x_plot, y_pred2, color=\"orange\")\n",
    "plt.show()"
   ]
  },
  {
   "cell_type": "markdown",
   "metadata": {
    "colab_type": "text",
    "id": "ArfuFPFFSB4a"
   },
   "source": [
    "## Lasso Regression (L1 regularization)\n",
    "\n",
    "* the penalty is:\n",
    ">$p=\\alpha *\\sum_{n=1}^N |\\theta_n|$\n",
    "* here, the $\\theta_n$ represent the $a_i$ and $b$ parameters.\n",
    "and the $\\alpha$ parameter is a value that defines the strength of the penalty."
   ]
  },
  {
   "cell_type": "code",
   "execution_count": 0,
   "metadata": {
    "colab": {
     "base_uri": "https://localhost:8080/",
     "height": 265
    },
    "colab_type": "code",
    "executionInfo": {
     "elapsed": 1272,
     "status": "ok",
     "timestamp": 1542223306308,
     "user": {
      "displayName": "Amina Delali",
      "photoUrl": "https://lh3.googleusercontent.com/-ZJlQJ9AZAbc/AAAAAAAAAAI/AAAAAAAAAAc/7KF7CDqgx7Q/s64/photo.jpg",
      "userId": "06755669456247010035"
     },
     "user_tz": -60
    },
    "id": "fVTiUWmeKpA2",
    "outputId": "b9ec5ca4-433c-499c-9409-20feaa0793dc"
   },
   "outputs": [
    {
     "data": {
      "image/png": "[encoded data removed]",
      "text/plain": [
       "<matplotlib.figure.Figure at 0x7f078d4cc978>"
      ]
     },
     "metadata": {
      "tags": []
     },
     "output_type": "display_data"
    }
   ],
   "source": [
    "y_test_pred = myLModel.predict(x_plot)\n",
    "plt.scatter(x_te, y_te, color=\"red\")\n",
    "plt.plot(x_plot, y_pred3, color=\"black\")\n",
    "plt.show()"
   ]
  },
  {
   "cell_type": "markdown",
   "metadata": {
    "colab_type": "text",
    "id": "5aXVjrUrRNGi"
   },
   "source": [
    "# 5- Logistic Regression Classifier"
   ]
  },
  {
   "cell_type": "markdown",
   "metadata": {
    "colab_type": "text",
    "id": "H71qigLHSGU2"
   },
   "source": [
    "## Definition\n",
    "\n",
    "* In this **classification** a **sigmoid  activation function**  and **a regression function** are **combined** to determine the class of each sample: \n",
    "  * a regression is used to predict values : $z$\n",
    "  * These values are used as input to the sigmoid function :\n",
    "  \n",
    "  $S(z) = \\frac{1}{1+e^{-z}}$\n",
    "  * the results are probabilities that each sample belong to a defined class. If a probability value is greater than a certain threshold, the corresponding sample is affected to that class. Elswere, it will be affected to the other.\n",
    "  \n",
    "  * the process is repeated, until the cost function ( applicable for logistic regressions ) is minimized."
   ]
  },
  {
   "cell_type": "markdown",
   "metadata": {
    "colab_type": "text",
    "id": "yMgLDZAdSGjG"
   },
   "source": [
    "\n",
    "## Classification with 2 classes"
   ]
  },
  {
   "cell_type": "code",
   "execution_count": 0,
   "metadata": {
    "colab": {
     "base_uri": "https://localhost:8080/",
     "height": 285
    },
    "colab_type": "code",
    "executionInfo": {
     "elapsed": 3716,
     "status": "ok",
     "timestamp": 1542223310278,
     "user": {
      "displayName": "Amina Delali",
      "photoUrl": "https://lh3.googleusercontent.com/-ZJlQJ9AZAbc/AAAAAAAAAAI/AAAAAAAAAAc/7KF7CDqgx7Q/s64/photo.jpg",
      "userId": "06755669456247010035"
     },
     "user_tz": -60
    },
    "id": "EB2p-tGg3P_k",
    "outputId": "d42537f8-0c93-4e48-c97d-e156220ba2d9"
   },
   "outputs": [
    {
     "name": "stdout",
     "output_type": "stream",
     "text": [
      "AAA-Ped-Week4  myModel.okl  sample_data\n"
     ]
    },
    {
     "data": {
      "image/png": "[encoded data removed]",
      "text/plain": [
       "<matplotlib.figure.Figure at 0x7f0786fb1b70>"
      ]
     },
     "metadata": {
      "tags": []
     },
     "output_type": "display_data"
    }
   ],
   "source": [
    "# you must be in Content folder so\n",
    "# when your run !ls you should see\n",
    "# AAA-Ped-Week4  and sample_data folders\n",
    "!ls\n",
    "import numpy as np\n",
    "from sklearn import linear_model\n",
    "import matplotlib.pyplot as plt\n",
    "# import of A3P-w4-utilities.py \n",
    "# the code (utilities.py) is from https://github.com/PacktPublishing/Artificial-Intelligence-with-Python\n",
    "\n",
    "# this import is necessary to load the module utilities\n",
    "from importlib.machinery import SourceFileLoader\n",
    "module = SourceFileLoader(\"A3P-w4-utilities\", \"AAA-Ped-Week4/A3P-w4-utilities.py\").load_module()\n",
    "\n",
    "# loading the data\n",
    "myD3= pd.read_csv(\"AAA-Ped-Week4/A3P-w4-data_multivar_nb.txt\",header=-1)\n",
    "# first we will consider only 2 classes: we will keep classes class1 and class2\n",
    "class1=1\n",
    "class2=2\n",
    "cond =( myD3.iloc[:,2]==class1) | (myD3.iloc[:,2]==class2)\n",
    "myD3_2c=myD3.where(cond).dropna()\n",
    "# select the columns features\n",
    "myX2= myD3_2c.iloc[:,:2]\n",
    "myY2 = myD3_2c.iloc[:,2]\n",
    "# spliting into training and test sets\n",
    "x2_train,x2_test,y2_train,y2_test = train_test_split(myX2, myY2, test_size=0.2)\n",
    "# instance of a logistic regressor\n",
    "myModel_reg = linear_model.LogisticRegression()\n",
    "# train the model\n",
    "myModel_reg.fit(x2_train, y2_train)\n",
    "# predict for test values:\n",
    "y2_test_pred= myModel_reg.predict(x2_test)\n",
    "myTestC=[\"blue\",\"orange\"]\n",
    "y2colorsP = [\"red\" if i==class1 else \"green\" for i in y2_test_pred]\n",
    "y2colors = [\"blue\" if i==class1 else \"orange\" for i in y2_test]\n",
    "# plotting the original and predicted values:\n",
    "## the predicted values are the \"+\" mark\n",
    "plt.scatter(x2_test.values[:,0],x2_test.values[:,1],c = y2colorsP, marker = \"+\", s=160)\n",
    "## the original values are the \".\" mark\n",
    "plt.scatter(x2_test.values[:,0],x2_test.values[:,1],c = y2colors, marker =\".\",s=150)\n",
    "plt.show()"
   ]
  },
  {
   "cell_type": "code",
   "execution_count": 0,
   "metadata": {
    "colab": {
     "base_uri": "https://localhost:8080/",
     "height": 265
    },
    "colab_type": "code",
    "executionInfo": {
     "elapsed": 3832,
     "status": "ok",
     "timestamp": 1542223314460,
     "user": {
      "displayName": "Amina Delali",
      "photoUrl": "https://lh3.googleusercontent.com/-ZJlQJ9AZAbc/AAAAAAAAAAI/AAAAAAAAAAc/7KF7CDqgx7Q/s64/photo.jpg",
      "userId": "06755669456247010035"
     },
     "user_tz": -60
    },
    "id": "_tgd5SjFsZcI",
    "outputId": "1387a677-ebc7-4581-8dee-3ff8187ab827"
   },
   "outputs": [
    {
     "data": {
      "image/png": "[encoded data removed]",
      "text/plain": [
       "<matplotlib.figure.Figure at 0x7f0786e6b908>"
      ]
     },
     "metadata": {
      "tags": []
     },
     "output_type": "display_data"
    }
   ],
   "source": [
    "# the circles color represent the real class, the regions color\n",
    "# represent the predicted class\n",
    "module.visualize_classifier(myModel_reg, x2_test.values, y2_test)"
   ]
  },
  {
   "cell_type": "code",
   "execution_count": 0,
   "metadata": {
    "colab": {
     "base_uri": "https://localhost:8080/",
     "height": 69
    },
    "colab_type": "code",
    "executionInfo": {
     "elapsed": 758,
     "status": "ok",
     "timestamp": 1542223315716,
     "user": {
      "displayName": "Amina Delali",
      "photoUrl": "https://lh3.googleusercontent.com/-ZJlQJ9AZAbc/AAAAAAAAAAI/AAAAAAAAAAc/7KF7CDqgx7Q/s64/photo.jpg",
      "userId": "06755669456247010035"
     },
     "user_tz": -60
    },
    "id": "piGSnhe9dpxM",
    "outputId": "31c4109e-f5a1-4c3e-8b30-8ff5df0acdd1"
   },
   "outputs": [
    {
     "data": {
      "text/plain": [
       "array([2., 1., 2., 2., 2., 2., 2., 1., 2., 2., 2., 2., 2., 2., 1., 1., 1.,\n",
       "       2., 2., 2., 2., 1., 1., 2., 1., 2., 1., 1., 1., 1., 2., 2., 2., 1.,\n",
       "       2., 1., 2., 2., 2., 1.])"
      ]
     },
     "execution_count": 30,
     "metadata": {
      "tags": []
     },
     "output_type": "execute_result"
    }
   ],
   "source": [
    "# the values of predicted classification\n",
    "y2_test_pred\n",
    "\n"
   ]
  },
  {
   "cell_type": "code",
   "execution_count": 0,
   "metadata": {
    "colab": {
     "base_uri": "https://localhost:8080/",
     "height": 69
    },
    "colab_type": "code",
    "executionInfo": {
     "elapsed": 660,
     "status": "ok",
     "timestamp": 1542223316740,
     "user": {
      "displayName": "Amina Delali",
      "photoUrl": "https://lh3.googleusercontent.com/-ZJlQJ9AZAbc/AAAAAAAAAAI/AAAAAAAAAAc/7KF7CDqgx7Q/s64/photo.jpg",
      "userId": "06755669456247010035"
     },
     "user_tz": -60
    },
    "id": "jbv0oa-FgjgA",
    "outputId": "e53adf81-d12a-427c-fcca-a7f5b018d833"
   },
   "outputs": [
    {
     "data": {
      "text/plain": [
       "array([[1.00150524e-03, 9.98998495e-01],\n",
       "       [9.96075639e-01, 3.92436083e-03],\n",
       "       [3.52935069e-04, 9.99647065e-01]])"
      ]
     },
     "execution_count": 31,
     "metadata": {
      "tags": []
     },
     "output_type": "execute_result"
    }
   ],
   "source": [
    "# the corresponding probabilities predicted the 3 first samples\n",
    "y2_test_pr = myModel_reg.predict_proba(x2_test)[0:3]\n",
    "y2_test_pr"
   ]
  },
  {
   "cell_type": "code",
   "execution_count": 0,
   "metadata": {
    "colab": {
     "base_uri": "https://localhost:8080/",
     "height": 34
    },
    "colab_type": "code",
    "executionInfo": {
     "elapsed": 768,
     "status": "ok",
     "timestamp": 1542223317758,
     "user": {
      "displayName": "Amina Delali",
      "photoUrl": "https://lh3.googleusercontent.com/-ZJlQJ9AZAbc/AAAAAAAAAAI/AAAAAAAAAAc/7KF7CDqgx7Q/s64/photo.jpg",
      "userId": "06755669456247010035"
     },
     "user_tz": -60
    },
    "id": "MO1aIL1tg4MG",
    "outputId": "0c26f3f6-3331-418f-e461-9d4a586c9019"
   },
   "outputs": [
    {
     "data": {
      "text/plain": [
       "array([ 1.32811043, -2.07898741])"
      ]
     },
     "execution_count": 32,
     "metadata": {
      "tags": []
     },
     "output_type": "execute_result"
    }
   ],
   "source": [
    "# the coefficients calculated of the regression model\n",
    "a = myModel_reg.coef_[0]\n",
    "a"
   ]
  },
  {
   "cell_type": "code",
   "execution_count": 0,
   "metadata": {
    "colab": {
     "base_uri": "https://localhost:8080/",
     "height": 34
    },
    "colab_type": "code",
    "executionInfo": {
     "elapsed": 762,
     "status": "ok",
     "timestamp": 1542223318714,
     "user": {
      "displayName": "Amina Delali",
      "photoUrl": "https://lh3.googleusercontent.com/-ZJlQJ9AZAbc/AAAAAAAAAAI/AAAAAAAAAAc/7KF7CDqgx7Q/s64/photo.jpg",
      "userId": "06755669456247010035"
     },
     "user_tz": -60
    },
    "id": "Nf0GUt28hEXy",
    "outputId": "85bfc796-f72d-4ab1-dcfd-9aa670433965"
   },
   "outputs": [
    {
     "data": {
      "text/plain": [
       "array([-0.2286719])"
      ]
     },
     "execution_count": 33,
     "metadata": {
      "tags": []
     },
     "output_type": "execute_result"
    }
   ],
   "source": [
    "# the intercept of the rgression model\n",
    "b= myModel_reg.intercept_\n",
    "b"
   ]
  },
  {
   "cell_type": "code",
   "execution_count": 0,
   "metadata": {
    "colab": {
     "base_uri": "https://localhost:8080/",
     "height": 86
    },
    "colab_type": "code",
    "executionInfo": {
     "elapsed": 754,
     "status": "ok",
     "timestamp": 1542223319828,
     "user": {
      "displayName": "Amina Delali",
      "photoUrl": "https://lh3.googleusercontent.com/-ZJlQJ9AZAbc/AAAAAAAAAAI/AAAAAAAAAAc/7KF7CDqgx7Q/s64/photo.jpg",
      "userId": "06755669456247010035"
     },
     "user_tz": -60
    },
    "id": "TEiJMH2WgXkY",
    "outputId": "fca7087e-7902-4a83-ce62-a3160f851655"
   },
   "outputs": [
    {
     "data": {
      "text/plain": [
       "334    True\n",
       "81     True\n",
       "394    True\n",
       "dtype: bool"
      ]
     },
     "execution_count": 34,
     "metadata": {
      "tags": []
     },
     "output_type": "execute_result"
    }
   ],
   "source": [
    "# verification of the result of the 3 first classificaiton values\n",
    "## we could use: myModel_reg.decision_function(x2_test)[0] to calculate z value\n",
    "z = a[0] * x2_test.iloc[0:3,0] + a[1] * x2_test.iloc[0:3,1]+ b[0]\n",
    "## sigmoid value\n",
    "sig = 1/(1+ np.exp(-z))\n",
    "sig==y2_test_pr[:,1]\n"
   ]
  },
  {
   "cell_type": "code",
   "execution_count": 0,
   "metadata": {
    "colab": {
     "base_uri": "https://localhost:8080/",
     "height": 34
    },
    "colab_type": "code",
    "executionInfo": {
     "elapsed": 610,
     "status": "ok",
     "timestamp": 1542223320648,
     "user": {
      "displayName": "Amina Delali",
      "photoUrl": "https://lh3.googleusercontent.com/-ZJlQJ9AZAbc/AAAAAAAAAAI/AAAAAAAAAAc/7KF7CDqgx7Q/s64/photo.jpg",
      "userId": "06755669456247010035"
     },
     "user_tz": -60
    },
    "id": "frnzuuc9qmP2",
    "outputId": "4f376f23-5bbc-4ff0-b327-54d5558513b7"
   },
   "outputs": [
    {
     "data": {
      "text/plain": [
       "array([ True,  True,  True])"
      ]
     },
     "execution_count": 35,
     "metadata": {
      "tags": []
     },
     "output_type": "execute_result"
    }
   ],
   "source": [
    "# verification of the classification\n",
    "[class2 if i>0.5 else class1 for i in y2_test_pr[:,1]] == y2_test_pred[0:3]"
   ]
  },
  {
   "cell_type": "markdown",
   "metadata": {
    "colab_type": "text",
    "id": "Z7prBx0pSGbS"
   },
   "source": [
    "## Classification with more than 2 classes: one vs all\n",
    "* The principle is simple: the probabilities are computed for all the samples, for belonging to one of the classes rather than the others  (all the other classes will represent one class).  This process is repeated for all the classes. The class thas scores the **greatest probability** for each sample, is choosen."
   ]
  },
  {
   "cell_type": "code",
   "execution_count": 0,
   "metadata": {
    "colab": {
     "base_uri": "https://localhost:8080/",
     "height": 269
    },
    "colab_type": "code",
    "executionInfo": {
     "elapsed": 970,
     "status": "ok",
     "timestamp": 1542223394696,
     "user": {
      "displayName": "Amina Delali",
      "photoUrl": "https://lh3.googleusercontent.com/-ZJlQJ9AZAbc/AAAAAAAAAAI/AAAAAAAAAAc/7KF7CDqgx7Q/s64/photo.jpg",
      "userId": "06755669456247010035"
     },
     "user_tz": -60
    },
    "id": "CSMm8nWXq0Fc",
    "outputId": "0fda4aea-6de8-4478-fed5-23d7c13e9e2b"
   },
   "outputs": [
    {
     "data": {
      "image/png": "[encoded data removed]",
      "text/plain": [
       "<matplotlib.figure.Figure at 0x7f0786d9c860>"
      ]
     },
     "metadata": {
      "tags": []
     },
     "output_type": "display_data"
    }
   ],
   "source": [
    "# now we will consider all the classes\n",
    "\n",
    "\n",
    "# select the columns features\n",
    "myX2= myD3.iloc[:,:2]\n",
    "myY2 = myD3.iloc[:,2]\n",
    "# spliting into training and test sets\n",
    "x2_train,x2_test,y2_train,y2_test = train_test_split(myX2, myY2, test_size=0.2)\n",
    "# instance of a logistic regressor\n",
    "myModel_reg = linear_model.LogisticRegression()\n",
    "# train the model\n",
    "myModel_reg.fit(x2_train, y2_train)\n",
    "# predict for test values:\n",
    "y2_test_pred= myModel_reg.predict(x2_test)\n",
    "class1 =0\n",
    "class2= 1\n",
    "class3 = 2\n",
    "class4 = 3\n",
    "myTestC=[\"blue\",\"orange\"]\n",
    "y2colorsP = [\"red\" if i==class1 else \"green\" if i==class2 else \"darkorchid\" if i==class3  else \"black\" for i in y2_test_pred]\n",
    "y2colors = [\"blue\" if i==class1 else \"orange\" if i==class2 else \"skyblue\" if i==class3  else \"gray\" for i in y2_test]\n",
    "\n",
    "# plotting the original and predicted values:\n",
    "## the predicted values are the \"+\" mark\n",
    "plt.scatter(x2_test.values[:,0],x2_test.values[:,1],c = y2colorsP, marker = \"+\", s=160)\n",
    "## the original values are the \".\" mark\n",
    "plt.scatter(x2_test.values[:,0],x2_test.values[:,1],c = y2colors, marker =\".\",s=140)\n",
    "plt.show()"
   ]
  },
  {
   "cell_type": "code",
   "execution_count": 0,
   "metadata": {
    "colab": {
     "base_uri": "https://localhost:8080/",
     "height": 265
    },
    "colab_type": "code",
    "executionInfo": {
     "elapsed": 3294,
     "status": "ok",
     "timestamp": 1542223404370,
     "user": {
      "displayName": "Amina Delali",
      "photoUrl": "https://lh3.googleusercontent.com/-ZJlQJ9AZAbc/AAAAAAAAAAI/AAAAAAAAAAc/7KF7CDqgx7Q/s64/photo.jpg",
      "userId": "06755669456247010035"
     },
     "user_tz": -60
    },
    "id": "qO3HLyhaUzyu",
    "outputId": "d60686bf-c9b6-4055-bb3e-d88ed3d8b5a7"
   },
   "outputs": [
    {
     "data": {
      "image/png": "[encoded data removed]",
      "text/plain": [
       "<matplotlib.figure.Figure at 0x7f0786fb7080>"
      ]
     },
     "metadata": {
      "tags": []
     },
     "output_type": "display_data"
    }
   ],
   "source": [
    "module.visualize_classifier(myModel_reg, x2_test.values, y2_test)"
   ]
  },
  {
   "cell_type": "markdown",
   "metadata": {
    "colab_type": "text",
    "id": "CffbTqAERQKg"
   },
   "source": [
    "# 6-Confusion matrix"
   ]
  },
  {
   "cell_type": "markdown",
   "metadata": {
    "colab_type": "text",
    "id": "23ma5K3xSKrS"
   },
   "source": [
    "## Definition\n",
    "\n",
    "* One way to **measure** the performance of a classification learning model, is to use a **confusion matrix**. \n",
    "\n",
    "* If we consider the two classes : 0 and 1 . And  class 1 being the class for which the probailities are computed (the probabilities that the samples belong to that class). We can define our confusion matrix using this **4** values:\n",
    "\n",
    "  * **True Positives**:  number of samples predicted belonging to  **class 1**, and it was true.\n",
    "  * **True Negatives**: number of samples predicted belonging to  **class 0** (doesn't belong to class 1), and it was true.\n",
    "  * **False Positives**:  number of samples predicted belonging to  **class 1**, and it was **False**.\n",
    "  * **False Negative**s: number of samples predicted belonging to  **class 0**, and it was **false**.\n"
   ]
  },
  {
   "cell_type": "code",
   "execution_count": 0,
   "metadata": {
    "colab": {
     "base_uri": "https://localhost:8080/",
     "height": 52
    },
    "colab_type": "code",
    "executionInfo": {
     "elapsed": 1904,
     "status": "ok",
     "timestamp": 1542223329578,
     "user": {
      "displayName": "Amina Delali",
      "photoUrl": "https://lh3.googleusercontent.com/-ZJlQJ9AZAbc/AAAAAAAAAAI/AAAAAAAAAAc/7KF7CDqgx7Q/s64/photo.jpg",
      "userId": "06755669456247010035"
     },
     "user_tz": -60
    },
    "id": "1AifzShEipO8",
    "outputId": "59dc89d2-9874-462a-9550-164acaedf205"
   },
   "outputs": [
    {
     "data": {
      "text/plain": [
       "array([[2, 3],\n",
       "       [1, 5]])"
      ]
     },
     "execution_count": 38,
     "metadata": {
      "tags": []
     },
     "output_type": "execute_result"
    }
   ],
   "source": [
    "import numpy as np\n",
    "import matplotlib.pyplot as plt\n",
    "from sklearn.metrics import confusion_matrix\n",
    "from sklearn.metrics import classification_report\n",
    "\n",
    "true_classes = [1,1,1,0,1,0,0,1,0,1,0]\n",
    "pred_classes = [1,0,1,0,1,0,1,1,1,1,1]\n",
    "# Create confusion matrix\n",
    "myConfusionMat = confusion_matrix(true_classes, pred_classes)\n",
    "myConfusionMat"
   ]
  },
  {
   "cell_type": "markdown",
   "metadata": {
    "colab_type": "text",
    "id": "WIGdB_nfSK9o"
   },
   "source": [
    "## More than 2 classes\n",
    "\n",
    "* in scikit-learn, the confusion matrix is as follow:\n",
    "\n",
    "* the rows numbers represent the true classes number\n",
    "  * the columns number srepresent the predicted classes number\n",
    "  * the cell (i,j) content represent the number of samples predicted to be in the column j class, but in fact, they belong to the row i class."
   ]
  },
  {
   "cell_type": "code",
   "execution_count": 0,
   "metadata": {
    "colab": {
     "base_uri": "https://localhost:8080/",
     "height": 104
    },
    "colab_type": "code",
    "executionInfo": {
     "elapsed": 894,
     "status": "ok",
     "timestamp": 1542223330860,
     "user": {
      "displayName": "Amina Delali",
      "photoUrl": "https://lh3.googleusercontent.com/-ZJlQJ9AZAbc/AAAAAAAAAAI/AAAAAAAAAAc/7KF7CDqgx7Q/s64/photo.jpg",
      "userId": "06755669456247010035"
     },
     "user_tz": -60
    },
    "id": "PCv9D00DpAzA",
    "outputId": "d7b60802-36b3-4329-a16f-7b37a3dae769"
   },
   "outputs": [
    {
     "data": {
      "text/plain": [
       "array([[3, 2, 1, 1, 1],\n",
       "       [2, 6, 0, 0, 0],\n",
       "       [1, 2, 1, 0, 0],\n",
       "       [1, 0, 0, 1, 0],\n",
       "       [0, 1, 0, 0, 2]])"
      ]
     },
     "execution_count": 39,
     "metadata": {
      "tags": []
     },
     "output_type": "execute_result"
    }
   ],
   "source": [
    "true_classes = [1,2,1,0,1,0,0,1,0,1,0,3,4,1,1,2,0,4,4,3,1,0,2,2,0]\n",
    "pred_classes = [1,0,1,0,1,0,1,1,1,1,3,3,4,0,1,1,0,4,1,0,0,2,2,1,4]\n",
    "# Create confusion matrix\n",
    "myConfusionMat = confusion_matrix(true_classes, pred_classes)\n",
    "myConfusionMat"
   ]
  },
  {
   "cell_type": "markdown",
   "metadata": {
    "colab_type": "text",
    "id": "_6H6Ca-GSK4-"
   },
   "source": [
    "##Classification report\n",
    "* Shows the following metrics of each class:\n",
    "  * precision :\n",
    "  >$ \\frac{number of \"true\" positives}{ number of \"true\" positives+ number of \"false\" positives}$\n",
    "  * recall : \n",
    "  >$ \\frac{number of \"true\" positives}{ number of \"true\" positives+ number of \"false\" negatives}$\n",
    "  * f1-score : \n",
    "  >$  2* \\frac{precision * recall}{ precision + recall}$\n",
    "  * support: number of occurences in each class (the true labels)"
   ]
  },
  {
   "cell_type": "code",
   "execution_count": 0,
   "metadata": {
    "colab": {
     "base_uri": "https://localhost:8080/",
     "height": 191
    },
    "colab_type": "code",
    "executionInfo": {
     "elapsed": 746,
     "status": "ok",
     "timestamp": 1542223331838,
     "user": {
      "displayName": "Amina Delali",
      "photoUrl": "https://lh3.googleusercontent.com/-ZJlQJ9AZAbc/AAAAAAAAAAI/AAAAAAAAAAc/7KF7CDqgx7Q/s64/photo.jpg",
      "userId": "06755669456247010035"
     },
     "user_tz": -60
    },
    "id": "w8Zc3JQQ9mmQ",
    "outputId": "1e8a7a43-9769-49ab-c334-d56d39b11e7f"
   },
   "outputs": [
    {
     "name": "stdout",
     "output_type": "stream",
     "text": [
      "             precision    recall  f1-score   support\n",
      "\n",
      "          0       0.43      0.38      0.40         8\n",
      "          1       0.55      0.75      0.63         8\n",
      "          2       0.50      0.25      0.33         4\n",
      "          3       0.50      0.50      0.50         2\n",
      "          4       0.67      0.67      0.67         3\n",
      "\n",
      "avg / total       0.51      0.52      0.50        25\n",
      "\n"
     ]
    }
   ],
   "source": [
    " print(classification_report(true_classes, pred_classes))"
   ]
  },
  {
   "cell_type": "code",
   "execution_count": 0,
   "metadata": {
    "colab": {
     "base_uri": "https://localhost:8080/",
     "height": 34
    },
    "colab_type": "code",
    "executionInfo": {
     "elapsed": 666,
     "status": "ok",
     "timestamp": 1542223332790,
     "user": {
      "displayName": "Amina Delali",
      "photoUrl": "https://lh3.googleusercontent.com/-ZJlQJ9AZAbc/AAAAAAAAAAI/AAAAAAAAAAc/7KF7CDqgx7Q/s64/photo.jpg",
      "userId": "06755669456247010035"
     },
     "user_tz": -60
    },
    "id": "kjMgWEuvP6OE",
    "outputId": "2e002359-3d20-48df-918c-9bb2d414bc8b"
   },
   "outputs": [
    {
     "data": {
      "text/plain": [
       "0.52"
      ]
     },
     "execution_count": 41,
     "metadata": {
      "tags": []
     },
     "output_type": "execute_result"
    }
   ],
   "source": [
    "13/25"
   ]
  },
  {
   "cell_type": "markdown",
   "metadata": {
    "colab_type": "text",
    "id": "tSbN2yDrRSdW"
   },
   "source": [
    "# References\n",
    "\n",
    "* Joshi Prateek. Artificial intelligence with Python. Packt Publishing, 2017.\n",
    "\n",
    "* Jake VanderPlas. Python data science handbook: essential tools for working with data. O’Reilly Media, Inc, 2017.\n",
    "\n",
    "* Scikit-learn.org. scikit-learn, machine learning in python.\n",
    "On-line at scikit-learn.org/stable/. Accessed on 03-11-2018"
   ]
  }
 ],
 "metadata": {
  "colab": {
   "collapsed_sections": [],
   "name": "AAA-ped-w4-c2.ipynb",
   "provenance": [
    {
     "file_id": "19v_cYZ6jtDnfKqtvnmOuZvBdwExo8cgc",
     "timestamp": 1541607153492
    },
    {
     "file_id": "1CgOXIsafoxgDo3jDOFjq56aL5RNVrWJq",
     "timestamp": 1541243740186
    }
   ],
   "toc_visible": true,
   "version": "0.3.2"
  },
  "kernelspec": {
   "display_name": "Python 3",
   "language": "python",
   "name": "python3"
  },
  "language_info": {
   "codemirror_mode": {
    "name": "ipython",
    "version": 3
   },
   "file_extension": ".py",
   "mimetype": "text/x-python",
   "name": "python",
   "nbconvert_exporter": "python",
   "pygments_lexer": "ipython3",
   "version": "3.6.4"
  }
 },
 "nbformat": 4,
 "nbformat_minor": 1
}
