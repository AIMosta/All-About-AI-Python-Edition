{
  "nbformat": 4,
  "nbformat_minor": 0,
  "metadata": {
    "colab": {
      "name": "AAA-ped-w6-c3.ipynb",
      "version": "0.3.2",
      "provenance": [],
      "collapsed_sections": [],
      "toc_visible": true,
      "include_colab_link": true
    },
    "kernelspec": {
      "name": "python3",
      "display_name": "Python 3"
    }
  },
  "cells": [
    {
      "cell_type": "markdown",
      "metadata": {
        "id": "view-in-github",
        "colab_type": "text"
      },
      "source": [
        "<a href=\"https://colab.research.google.com/github/AIMosta/All-About-AI-Python-Edition/blob/master/Course%206-%20Unsupervised%20learning/AAA_ped_w6_c3.ipynb\" target=\"_parent\"><img src=\"https://colab.research.google.com/assets/colab-badge.svg\" alt=\"Open In Colab\"/></a>"
      ]
    },
    {
      "metadata": {
        "id": "b9q-VxEW5tRs",
        "colab_type": "text"
      },
      "cell_type": "markdown",
      "source": [
        "<img src=\"https://docs.google.com/uc?export=download&id=1ap18raVTUCSJeGzTLz9kViroFGvTknrV\">\n",
        "# Unsupervised Learning: Association Rule Learning"
      ]
    },
    {
      "metadata": {
        "id": "H1a7Uuzz8dnI",
        "colab_type": "toc"
      },
      "cell_type": "markdown",
      "source": [
        ">[Unsupervised Learning: Association Rule Learning](#scrollTo=b9q-VxEW5tRs)\n",
        "\n",
        ">[1- Association Rule Learning](#scrollTo=sSnq87j_7QB0)\n",
        "\n",
        ">>[Concept and terminology](#scrollTo=1oBho425Q7ca)\n",
        "\n",
        ">>[Measures](#scrollTo=yLvtrsm0RcWq)\n",
        "\n",
        ">>[Frequent itemsets and association rules](#scrollTo=A8DvRRWlRdGi)\n",
        "\n",
        ">[2- Apriori](#scrollTo=VL49qQMiRCfC)\n",
        "\n",
        ">>[Naive apriori: frequent itemsets](#scrollTo=OxjaV3aMH1rs)\n",
        "\n",
        ">>[Naive apriori: rule generation](#scrollTo=Qv39x4rV_M-U)\n",
        "\n",
        ">>[Remarks](#scrollTo=65SQT0EM_UlK)\n",
        "\n",
        ">[3- apriori illustration: frequent itemsets](#scrollTo=Nhm8OJc_RFU8)\n",
        "\n",
        ">>[The data](#scrollTo=TOgMnI_CR7QE)\n",
        "\n",
        ">>[Frequent itemsets](#scrollTo=iJCObGCDR7Wk)\n",
        "\n",
        ">>[Frequent itemsets: prune steps](#scrollTo=Zd06of0ZR7JC)\n",
        "\n",
        ">[4- A priori application](#scrollTo=Ca8Ofrs7RHwC)\n",
        "\n",
        ">>[mlxtend: the data](#scrollTo=xn8bZSmqSBwY)\n",
        "\n",
        ">>[Ml-extend frequent itemsets](#scrollTo=157T7zEfSB_u)\n",
        "\n",
        ">>[Ml-extend generated rules](#scrollTo=ArfuFPFFSB4a)\n",
        "\n",
        ">[5- Eclat](#scrollTo=5aXVjrUrRNGi)\n",
        "\n",
        ">>[Concept](#scrollTo=Z7prBx0pSGbS)\n",
        "\n",
        ">>[Algorithm](#scrollTo=H71qigLHSGU2)\n",
        "\n",
        ">>[Illustration](#scrollTo=yMgLDZAdSGjG)\n",
        "\n",
        ">[6- fim library](#scrollTo=CffbTqAERQKg)\n",
        "\n",
        ">>[Library and Data](#scrollTo=23ma5K3xSKrS)\n",
        "\n",
        ">>[Eclat application](#scrollTo=WIGdB_nfSK9o)\n",
        "\n",
        ">>[apriori with fim](#scrollTo=CtpmqyljPfSM)\n",
        "\n",
        ">[References](#scrollTo=tSbN2yDrRSdW)\n",
        "\n"
      ]
    },
    {
      "metadata": {
        "id": "sSnq87j_7QB0",
        "colab_type": "text"
      },
      "cell_type": "markdown",
      "source": [
        "# 1- Association Rule Learning"
      ]
    },
    {
      "metadata": {
        "id": "1oBho425Q7ca",
        "colab_type": "text"
      },
      "cell_type": "markdown",
      "source": [
        "##  Concept and terminology\n",
        "\n",
        "* The  learning concerns identifying **associations** between data attributes.\n",
        "\n",
        "* This association is expressed by : **associations rules**  in the form:\n",
        "   > $ If~ X ~then~ Y $  Or in the form:    $X\\rightarrow Y$.\n",
        "  * Where $X $and$ Y$ are subsets of attributes. These attributes are generally called: **items**. And the subsets of attributes are called: **itemsets**.\n",
        "  * The data samples described by these attributes are called **transactions**. \n",
        "\n",
        "* These rules are obtained by identifying the **frequent itemsets**. \n",
        "\n",
        "* The rules permit to **predict** the presence of items knowing the existence of other ones.\n"
      ]
    },
    {
      "metadata": {
        "id": "yLvtrsm0RcWq",
        "colab_type": "text"
      },
      "cell_type": "markdown",
      "source": [
        "## Measures\n",
        "\n",
        " \n",
        "The following measures are used in the association rules identification process: (where $X$ and $Y$ are itemsets from the transactions set $T$,  and form the rule   $X \\rightarrow Y$)\n",
        "\n",
        "* $Support_-count (X)$: $= frequency ~of~ X~ in ~T$\n",
        "* $Support (X)$: $= \\frac {frequency ~of~ X ~in~ T} {size~of~ T}$\n",
        "\n",
        "\n",
        "* $Support (X,Y)$:$= \\frac {frequency ~of~ X ~and~Y~together~in~ T} {size~of~ T} =support(X \\rightarrow Y)$\n",
        "\n",
        "\n",
        "* $Confidence( X  \\rightarrow Y)$: $=\\frac {frequency ~of~ X ~and~Y~together~in~ T} {frequency~of~ X}$\n",
        "\n",
        "\n",
        "$Lift(X,Y)$ : $=\\frac {Support(X,Y)} {Support(X) \\times Support(Y)}$\n",
        "\n",
        "\n"
      ]
    },
    {
      "metadata": {
        "id": "A8DvRRWlRdGi",
        "colab_type": "text"
      },
      "cell_type": "markdown",
      "source": [
        "## Frequent itemsets and association rules\n",
        "\n",
        "\n",
        "* An **itemset** $A$  is frequent if : \n",
        "  * $ Support(A) >=$ **minimum support threshold**\n",
        "\n",
        "* An association rule ($X \\rightarrow Y$) is generated as follow:\n",
        "  * Select **All ** itemsets that are **frequents**\n",
        "  * Split  **each frequent  itemset** in all possible subsets: $X$ and $Y$ that satisfy the condition:\n",
        "  *  $Confidence (X \\rightarrow Y) >=$ **minimum confidence threshold**\n",
        "\n",
        "* In association rules **learning**, we apply  **specific algorithms **on the transactions **dataset** (the training data) to identify the **frequent itemsets ** in order to generate the **association rules**.\n",
        "\n",
        "* Some of these algorithms:\n",
        "  * **Apriori** ( Breath First Search )\n",
        "  * **FP-growth** (Frequent Pattern Growth)\n",
        "  * **Eclat** ( Depth First Search )"
      ]
    },
    {
      "metadata": {
        "id": "VL49qQMiRCfC",
        "colab_type": "text"
      },
      "cell_type": "markdown",
      "source": [
        "# 2- Apriori\n"
      ]
    },
    {
      "metadata": {
        "id": "OxjaV3aMH1rs",
        "colab_type": "text"
      },
      "cell_type": "markdown",
      "source": [
        "## Naive apriori: frequent itemsets\n",
        "\n",
        "* There is the “**naive**” approach, which describe the original **apriori **algorithm. Some improvements were introduced to this algorithm, which lead to different versions. We are going to describe the steps of  the naive algorithm described in ** [Agrawal et al., 1994]**\n",
        "\n",
        "* The steps of frequent itemsets generation:\n",
        "  * Define the L1={frequent 1-itemset} (k-itemset = itemset with k items).\n",
        "  * For ($k=2,L_{k-1} \\neq   \\emptyset         , k++$) \n",
        "    * $C_k = from~ L_{k-1} $generate-all candidates k-itemsets\n",
        "    * For all transactions   $t \\in T$    (T is the set of all transactions)\n",
        "      * Increment the count of all itemsets in $C_k$ and contained in$ t$\n",
        "    * $L_k$ = frequent itemsets in $ C_k$  ( itemsets with count $\\geq$ **min support threshold**)\n",
        "  * The final frequent itemsets  \n",
        "  \n"
      ]
    },
    {
      "metadata": {
        "id": "Qv39x4rV_M-U",
        "colab_type": "text"
      },
      "cell_type": "markdown",
      "source": [
        "## Naive apriori: rule generation\n",
        "\n",
        "* The steps of rules generation are:\n",
        "  * For all frequent itemsets $ l_k, k \\geq 2$\n",
        "    * Generate all valid rules $\\bar a \\rightarrow (l_k - \\bar a)$ for each   $\\bar a \\subset l_k$\n",
        "a valid rule is the one that have confidence$\\geq$ **min confidence threshold**\n",
        "\n",
        "* To generate all valid rules $\\bar a \\rightarrow (l_k - \\bar a)$ for each   $\\bar a \\subset l_k$\n",
        "  * 1- Set $a_m  = l_k$\n",
        "  * 2- A =  all$ a_{m-1}$ itemsets that are  subsets of $a_m$\n",
        "  * 3- For each $a_{m-1} in A$ \n",
        "    * Compute confidence of the rule $ r= (a_{m-1} \\rightarrow l_k- a_{m-1})  == \\frac {support (l_k)} {support(a_{m-1})}$\n",
        "    * If (confidence $(r) \\geq $ **min confidence threshold**) then\n",
        "      * select **r** as a valid rule\n",
        "      * If ($m-1 >1$) set $a_m= a_{m-1} $ and go to 2.\n"
      ]
    },
    {
      "metadata": {
        "id": "65SQT0EM_UlK",
        "colab_type": "text"
      },
      "cell_type": "markdown",
      "source": [
        "## Remarks\n",
        "\n",
        "* When we generate the Ck candidates, we eliminate all the ones created by subsets that are not frequent. We call it the **prune** step.\n",
        "\n",
        "* As an improvement, we can consider only transactions that contain frequent itemsets\n",
        "\n",
        "* The min support and min confidence thresholds must be chosen wisely:\n",
        "\n",
        "  * A small threshold will lead to more iterations of the algorithm \n",
        "  \n",
        "  * A  high threshold can eliminate rare items."
      ]
    },
    {
      "metadata": {
        "id": "Nhm8OJc_RFU8",
        "colab_type": "text"
      },
      "cell_type": "markdown",
      "source": [
        "# 3- apriori illustration: frequent itemsets"
      ]
    },
    {
      "metadata": {
        "id": "TOgMnI_CR7QE",
        "colab_type": "text"
      },
      "cell_type": "markdown",
      "source": [
        "## The data\n",
        "* We will run the algorithm on the example cited in [Gollapudi, 2016]\n",
        "* We suppose we have the  dataset T of transactions that represent the items bought together in each purchase.\n",
        ">T=\n",
        "\n",
        ">TID |Itemset\n",
        ">--- | ---\n",
        ">1 | A, B, E\n",
        ">2 | B, D\n",
        ">3 | B, C\n",
        ">4 | A, B, D\n",
        ">5 | A, D\n",
        ">6 | B, C\n",
        ">7 | A, C\n",
        ">8 | A, B, C, E\n",
        ">9 | A, B, C\n",
        "\n",
        "\n",
        "* the TID numbers refer to the Transaction identifiers\n",
        "\n",
        "* Each letter represents an item:\n",
        "  * A = iPad\n",
        "  * B = iPad case\n",
        "  * C = iPad scratch guard\n",
        "  * D = Apple care\n",
        "  * E = iPhone\n",
        "\n",
        "\n",
        "\n",
        "\n",
        "\n",
        "\n",
        "\n"
      ]
    },
    {
      "metadata": {
        "id": "iJCObGCDR7Wk",
        "colab_type": "text"
      },
      "cell_type": "markdown",
      "source": [
        "## Frequent itemsets\n",
        "* We suppose that the **minimum support count =2,(min support threshold (2/9 )**\n",
        ">$L_1$=\n",
        "\n",
        ">Itemset |Support count $\\geq$2\n",
        ">--- | ---\n",
        ">A|6\n",
        ">B|7\n",
        ">C| 4\n",
        ">D|4\n",
        ">E| 2\n",
        "\n",
        ">$C_2$=\n",
        "\n",
        ">Itemset |Support count\n",
        ">--- | ---\n",
        ">A,B|4\n",
        ">A,C|2\n",
        ">A,D|3\n",
        ">A,E|2\n",
        ">B,C| 4\n",
        ">B,D|2\n",
        ">B,E|2\n",
        ">C,D| 0\n",
        ">C,E|1\n",
        ">D,E| 0\n",
        "\n",
        "\n",
        ">$L_2$=\n",
        "\n",
        ">Itemset |SC $\\geq$2\n",
        ">--- | ---\n",
        ">A,B|4\n",
        ">A,C|2\n",
        ">A,D|3\n",
        ">A,E|2\n",
        ">B,C| 4\n",
        ">B,D|2\n",
        ">B,E|2"
      ]
    },
    {
      "metadata": {
        "id": "Zd06of0ZR7JC",
        "colab_type": "text"
      },
      "cell_type": "markdown",
      "source": [
        "## Frequent itemsets: prune steps\n",
        "\n",
        "\n",
        ">$C_3$=\n",
        "\n",
        ">Itemset |subsets\n",
        ">--- | ---\n",
        ">A,B,C|AB, AC, BC\n",
        ">A,B,D|AB, AD, BD\n",
        ">A,B,E|AB, AE, BE\n",
        ">A,C,D|AC, AD, **CD**\n",
        ">A,C,E|AC, AE, **CE**\n",
        ">A,D,E|AD, AE, **DE**\n",
        ">B,C,D|BC, BD, CD\n",
        ">B,C,E|BC, BE, **CE**\n",
        ">B,D,E|BD, BE, **DE**\n",
        "\n",
        "* The bolded subsets are those ou do not belong to $L_2$: they are not frequent subsets. We will delete all corresponding rows.\n",
        "\n",
        "* After prunce step, $C_2$ became:\n",
        "\n",
        ">Itemset |SC\n",
        ">--- | ---\n",
        ">A,B,C|2\n",
        ">A,B,D|1\n",
        ">A,B,E|2\n",
        ">B,C,D|0\n",
        "\n",
        "\n",
        ">$L_3$\n",
        "\n",
        ">Itemset |SC\n",
        ">--- | ---\n",
        ">A,B,C|2\n",
        ">A,B,E|2\n",
        "\n",
        "* We swill top here, because if we want to prune $C_4$, we will eliminate the generated subsets from **ABCD** and  **ABCE** itemsets because they contain subsets of 3 items that are not in $L_3$."
      ]
    },
    {
      "metadata": {
        "id": "Ca8Ofrs7RHwC",
        "colab_type": "text"
      },
      "cell_type": "markdown",
      "source": [
        "# 4- A priori application"
      ]
    },
    {
      "metadata": {
        "id": "xn8bZSmqSBwY",
        "colab_type": "text"
      },
      "cell_type": "markdown",
      "source": [
        "## mlxtend: the data\n",
        "* **mlxtend** library implments the **apriori** algorithm. \n",
        "* But, before applying the algorithm on the previous example, we have to create the corresponding data."
      ]
    },
    {
      "metadata": {
        "id": "c5UN3ww4ZrSw",
        "colab_type": "code",
        "outputId": "afdca959-7ee0-4e5a-8630-264c9b923301",
        "colab": {
          "base_uri": "https://localhost:8080/",
          "height": 332
        }
      },
      "cell_type": "code",
      "source": [
        "import pandas as pd\n",
        "from mlxtend.preprocessing import TransactionEncoder\n",
        "\n",
        "# the previous data\n",
        "data = [[\"A\",\"B\",\"E\"],[\"B\",\"D\"],[\"B\",\"C\"],[\"A\",\"B\",\"D\"],[\"A\",\"D\"],[\"B\",\"C\"],[\"A\",\"D\"],[\"A\",\"B\",\"C\",\"E\"],[\"A\",\"B\",\"C\"]]\n",
        "\n",
        "# encode the data, so we can apply the algorithm\n",
        "TE = TransactionEncoder()\n",
        "dataEnc = TE.fit(data).transform(data)\n",
        "df = pd.DataFrame(dataEnc, columns=TE.columns_)\n",
        "df\n"
      ],
      "execution_count": 0,
      "outputs": [
        {
          "output_type": "execute_result",
          "data": {
            "text/html": [
              "<div>\n",
              "<style scoped>\n",
              "    .dataframe tbody tr th:only-of-type {\n",
              "        vertical-align: middle;\n",
              "    }\n",
              "\n",
              "    .dataframe tbody tr th {\n",
              "        vertical-align: top;\n",
              "    }\n",
              "\n",
              "    .dataframe thead th {\n",
              "        text-align: right;\n",
              "    }\n",
              "</style>\n",
              "<table border=\"1\" class=\"dataframe\">\n",
              "  <thead>\n",
              "    <tr style=\"text-align: right;\">\n",
              "      <th></th>\n",
              "      <th>A</th>\n",
              "      <th>B</th>\n",
              "      <th>C</th>\n",
              "      <th>D</th>\n",
              "      <th>E</th>\n",
              "    </tr>\n",
              "  </thead>\n",
              "  <tbody>\n",
              "    <tr>\n",
              "      <th>0</th>\n",
              "      <td>True</td>\n",
              "      <td>True</td>\n",
              "      <td>False</td>\n",
              "      <td>False</td>\n",
              "      <td>True</td>\n",
              "    </tr>\n",
              "    <tr>\n",
              "      <th>1</th>\n",
              "      <td>False</td>\n",
              "      <td>True</td>\n",
              "      <td>False</td>\n",
              "      <td>True</td>\n",
              "      <td>False</td>\n",
              "    </tr>\n",
              "    <tr>\n",
              "      <th>2</th>\n",
              "      <td>False</td>\n",
              "      <td>True</td>\n",
              "      <td>True</td>\n",
              "      <td>False</td>\n",
              "      <td>False</td>\n",
              "    </tr>\n",
              "    <tr>\n",
              "      <th>3</th>\n",
              "      <td>True</td>\n",
              "      <td>True</td>\n",
              "      <td>False</td>\n",
              "      <td>True</td>\n",
              "      <td>False</td>\n",
              "    </tr>\n",
              "    <tr>\n",
              "      <th>4</th>\n",
              "      <td>True</td>\n",
              "      <td>False</td>\n",
              "      <td>False</td>\n",
              "      <td>True</td>\n",
              "      <td>False</td>\n",
              "    </tr>\n",
              "    <tr>\n",
              "      <th>5</th>\n",
              "      <td>False</td>\n",
              "      <td>True</td>\n",
              "      <td>True</td>\n",
              "      <td>False</td>\n",
              "      <td>False</td>\n",
              "    </tr>\n",
              "    <tr>\n",
              "      <th>6</th>\n",
              "      <td>True</td>\n",
              "      <td>False</td>\n",
              "      <td>False</td>\n",
              "      <td>True</td>\n",
              "      <td>False</td>\n",
              "    </tr>\n",
              "    <tr>\n",
              "      <th>7</th>\n",
              "      <td>True</td>\n",
              "      <td>True</td>\n",
              "      <td>True</td>\n",
              "      <td>False</td>\n",
              "      <td>True</td>\n",
              "    </tr>\n",
              "    <tr>\n",
              "      <th>8</th>\n",
              "      <td>True</td>\n",
              "      <td>True</td>\n",
              "      <td>True</td>\n",
              "      <td>False</td>\n",
              "      <td>False</td>\n",
              "    </tr>\n",
              "  </tbody>\n",
              "</table>\n",
              "</div>"
            ],
            "text/plain": [
              "       A      B      C      D      E\n",
              "0   True   True  False  False   True\n",
              "1  False   True  False   True  False\n",
              "2  False   True   True  False  False\n",
              "3   True   True  False   True  False\n",
              "4   True  False  False   True  False\n",
              "5  False   True   True  False  False\n",
              "6   True  False  False   True  False\n",
              "7   True   True   True  False   True\n",
              "8   True   True   True  False  False"
            ]
          },
          "metadata": {
            "tags": []
          },
          "execution_count": 72
        }
      ]
    },
    {
      "metadata": {
        "id": "157T7zEfSB_u",
        "colab_type": "text"
      },
      "cell_type": "markdown",
      "source": [
        "## Ml-extend frequent itemsets"
      ]
    },
    {
      "metadata": {
        "id": "D157hglteA6s",
        "colab_type": "code",
        "outputId": "97857c79-a013-486e-acc9-95b94ac0d508",
        "colab": {
          "base_uri": "https://localhost:8080/",
          "height": 488
        }
      },
      "cell_type": "code",
      "source": [
        "from mlxtend.frequent_patterns import apriori\n",
        "\n",
        "frequent_itemsets= apriori(df, min_support=0.22, use_colnames=True)\n",
        "frequent_itemsets"
      ],
      "execution_count": 0,
      "outputs": [
        {
          "output_type": "execute_result",
          "data": {
            "text/html": [
              "<div>\n",
              "<style scoped>\n",
              "    .dataframe tbody tr th:only-of-type {\n",
              "        vertical-align: middle;\n",
              "    }\n",
              "\n",
              "    .dataframe tbody tr th {\n",
              "        vertical-align: top;\n",
              "    }\n",
              "\n",
              "    .dataframe thead th {\n",
              "        text-align: right;\n",
              "    }\n",
              "</style>\n",
              "<table border=\"1\" class=\"dataframe\">\n",
              "  <thead>\n",
              "    <tr style=\"text-align: right;\">\n",
              "      <th></th>\n",
              "      <th>support</th>\n",
              "      <th>itemsets</th>\n",
              "    </tr>\n",
              "  </thead>\n",
              "  <tbody>\n",
              "    <tr>\n",
              "      <th>0</th>\n",
              "      <td>0.666667</td>\n",
              "      <td>(A)</td>\n",
              "    </tr>\n",
              "    <tr>\n",
              "      <th>1</th>\n",
              "      <td>0.777778</td>\n",
              "      <td>(B)</td>\n",
              "    </tr>\n",
              "    <tr>\n",
              "      <th>2</th>\n",
              "      <td>0.444444</td>\n",
              "      <td>(C)</td>\n",
              "    </tr>\n",
              "    <tr>\n",
              "      <th>3</th>\n",
              "      <td>0.444444</td>\n",
              "      <td>(D)</td>\n",
              "    </tr>\n",
              "    <tr>\n",
              "      <th>4</th>\n",
              "      <td>0.222222</td>\n",
              "      <td>(E)</td>\n",
              "    </tr>\n",
              "    <tr>\n",
              "      <th>5</th>\n",
              "      <td>0.444444</td>\n",
              "      <td>(B, A)</td>\n",
              "    </tr>\n",
              "    <tr>\n",
              "      <th>6</th>\n",
              "      <td>0.222222</td>\n",
              "      <td>(C, A)</td>\n",
              "    </tr>\n",
              "    <tr>\n",
              "      <th>7</th>\n",
              "      <td>0.333333</td>\n",
              "      <td>(D, A)</td>\n",
              "    </tr>\n",
              "    <tr>\n",
              "      <th>8</th>\n",
              "      <td>0.222222</td>\n",
              "      <td>(E, A)</td>\n",
              "    </tr>\n",
              "    <tr>\n",
              "      <th>9</th>\n",
              "      <td>0.444444</td>\n",
              "      <td>(C, B)</td>\n",
              "    </tr>\n",
              "    <tr>\n",
              "      <th>10</th>\n",
              "      <td>0.222222</td>\n",
              "      <td>(B, D)</td>\n",
              "    </tr>\n",
              "    <tr>\n",
              "      <th>11</th>\n",
              "      <td>0.222222</td>\n",
              "      <td>(E, B)</td>\n",
              "    </tr>\n",
              "    <tr>\n",
              "      <th>12</th>\n",
              "      <td>0.222222</td>\n",
              "      <td>(C, B, A)</td>\n",
              "    </tr>\n",
              "    <tr>\n",
              "      <th>13</th>\n",
              "      <td>0.222222</td>\n",
              "      <td>(E, B, A)</td>\n",
              "    </tr>\n",
              "  </tbody>\n",
              "</table>\n",
              "</div>"
            ],
            "text/plain": [
              "     support   itemsets\n",
              "0   0.666667        (A)\n",
              "1   0.777778        (B)\n",
              "2   0.444444        (C)\n",
              "3   0.444444        (D)\n",
              "4   0.222222        (E)\n",
              "5   0.444444     (B, A)\n",
              "6   0.222222     (C, A)\n",
              "7   0.333333     (D, A)\n",
              "8   0.222222     (E, A)\n",
              "9   0.444444     (C, B)\n",
              "10  0.222222     (B, D)\n",
              "11  0.222222     (E, B)\n",
              "12  0.222222  (C, B, A)\n",
              "13  0.222222  (E, B, A)"
            ]
          },
          "metadata": {
            "tags": []
          },
          "execution_count": 14
        }
      ]
    },
    {
      "metadata": {
        "id": "ArfuFPFFSB4a",
        "colab_type": "text"
      },
      "cell_type": "markdown",
      "source": [
        "## Ml-extend generated rules\n",
        "* we will generate the **association rules** corresponding to the found **frequent itemsets** "
      ]
    },
    {
      "metadata": {
        "id": "8e1l5Oahh11m",
        "colab_type": "code",
        "outputId": "d8f2c254-a46a-454a-d4f8-99cad9f158db",
        "colab": {
          "base_uri": "https://localhost:8080/",
          "height": 300
        }
      },
      "cell_type": "code",
      "source": [
        "from mlxtend.frequent_patterns import association_rules\n",
        "\n",
        "AR= association_rules(frequent_itemsets, metric=\"confidence\", min_threshold=0.7)\n",
        "AR.iloc[:,[0,1,4,5,6]]"
      ],
      "execution_count": 0,
      "outputs": [
        {
          "output_type": "execute_result",
          "data": {
            "text/html": [
              "<div>\n",
              "<style scoped>\n",
              "    .dataframe tbody tr th:only-of-type {\n",
              "        vertical-align: middle;\n",
              "    }\n",
              "\n",
              "    .dataframe tbody tr th {\n",
              "        vertical-align: top;\n",
              "    }\n",
              "\n",
              "    .dataframe thead th {\n",
              "        text-align: right;\n",
              "    }\n",
              "</style>\n",
              "<table border=\"1\" class=\"dataframe\">\n",
              "  <thead>\n",
              "    <tr style=\"text-align: right;\">\n",
              "      <th></th>\n",
              "      <th>antecedents</th>\n",
              "      <th>consequents</th>\n",
              "      <th>support</th>\n",
              "      <th>confidence</th>\n",
              "      <th>lift</th>\n",
              "    </tr>\n",
              "  </thead>\n",
              "  <tbody>\n",
              "    <tr>\n",
              "      <th>0</th>\n",
              "      <td>(D)</td>\n",
              "      <td>(A)</td>\n",
              "      <td>0.333333</td>\n",
              "      <td>0.75</td>\n",
              "      <td>1.125000</td>\n",
              "    </tr>\n",
              "    <tr>\n",
              "      <th>1</th>\n",
              "      <td>(E)</td>\n",
              "      <td>(A)</td>\n",
              "      <td>0.222222</td>\n",
              "      <td>1.00</td>\n",
              "      <td>1.500000</td>\n",
              "    </tr>\n",
              "    <tr>\n",
              "      <th>2</th>\n",
              "      <td>(C)</td>\n",
              "      <td>(B)</td>\n",
              "      <td>0.444444</td>\n",
              "      <td>1.00</td>\n",
              "      <td>1.285714</td>\n",
              "    </tr>\n",
              "    <tr>\n",
              "      <th>3</th>\n",
              "      <td>(E)</td>\n",
              "      <td>(B)</td>\n",
              "      <td>0.222222</td>\n",
              "      <td>1.00</td>\n",
              "      <td>1.285714</td>\n",
              "    </tr>\n",
              "    <tr>\n",
              "      <th>4</th>\n",
              "      <td>(C, A)</td>\n",
              "      <td>(B)</td>\n",
              "      <td>0.222222</td>\n",
              "      <td>1.00</td>\n",
              "      <td>1.285714</td>\n",
              "    </tr>\n",
              "    <tr>\n",
              "      <th>5</th>\n",
              "      <td>(B, E)</td>\n",
              "      <td>(A)</td>\n",
              "      <td>0.222222</td>\n",
              "      <td>1.00</td>\n",
              "      <td>1.500000</td>\n",
              "    </tr>\n",
              "    <tr>\n",
              "      <th>6</th>\n",
              "      <td>(E, A)</td>\n",
              "      <td>(B)</td>\n",
              "      <td>0.222222</td>\n",
              "      <td>1.00</td>\n",
              "      <td>1.285714</td>\n",
              "    </tr>\n",
              "    <tr>\n",
              "      <th>7</th>\n",
              "      <td>(E)</td>\n",
              "      <td>(B, A)</td>\n",
              "      <td>0.222222</td>\n",
              "      <td>1.00</td>\n",
              "      <td>2.250000</td>\n",
              "    </tr>\n",
              "  </tbody>\n",
              "</table>\n",
              "</div>"
            ],
            "text/plain": [
              "  antecedents consequents   support  confidence      lift\n",
              "0         (D)         (A)  0.333333        0.75  1.125000\n",
              "1         (E)         (A)  0.222222        1.00  1.500000\n",
              "2         (C)         (B)  0.444444        1.00  1.285714\n",
              "3         (E)         (B)  0.222222        1.00  1.285714\n",
              "4      (C, A)         (B)  0.222222        1.00  1.285714\n",
              "5      (B, E)         (A)  0.222222        1.00  1.500000\n",
              "6      (E, A)         (B)  0.222222        1.00  1.285714\n",
              "7         (E)      (B, A)  0.222222        1.00  2.250000"
            ]
          },
          "metadata": {
            "tags": []
          },
          "execution_count": 16
        }
      ]
    },
    {
      "metadata": {
        "id": "5aXVjrUrRNGi",
        "colab_type": "text"
      },
      "cell_type": "markdown",
      "source": [
        "# 5- Eclat"
      ]
    },
    {
      "metadata": {
        "id": "Z7prBx0pSGbS",
        "colab_type": "text"
      },
      "cell_type": "markdown",
      "source": [
        "## Concept\n",
        "\n",
        "* It it is based on the relationship between subset inclusion and support values.\n",
        "* In this algorithm, an item is represented by the list of transactions it belongs to. They are the TidLists\n",
        "* The support is computed from the intersection of these TidLists.\n",
        "\n",
        "* If N is the size of T (the transactions dataset), then:\n",
        "\n",
        "$Support (X,Y)= \\frac {\\left|Tid(X) \\cap Tid(Y) \\right|  } N = \\frac {frequency~ of ~X~\"and\"~Y~together}  N\n",
        " $\n",
        "\n",
        "* It also relies on the concept that:\n",
        "  * If    $X  \\subseteq Y, ~and~ support(Y) = S  \\Rightarrow  support (X) \\geq s$        \n",
        "\n",
        "  * If $Y \\subseteq X, ~and~ support(X) \\leq ~min_-s~ \\Rightarrow  support (Y) < ~min_-s~$"
      ]
    },
    {
      "metadata": {
        "id": "H71qigLHSGU2",
        "colab_type": "text"
      },
      "cell_type": "markdown",
      "source": [
        "## Algorithm\n",
        "\n",
        "* The algorithm is defined by a recursive function **eclat**\n",
        "* A recursive function is a function that calls itself directly or indirectly. It stops when a certain condition is met.\n",
        "* The steps are:\n",
        "  * set p= {}, Items ={all items}\n",
        "  * Call Eclat(P,Items)\n",
        "* Eclat (P,I) definition:\n",
        "  * F = {}, Cit={}\n",
        "  * If Items ={} return F \n",
        "  * else\n",
        "  * C = for each i in Items and not in P generate $(P \\cup i, i )$ tuples\n",
        "  * Filter  out C so it will contain only frequent P U i itemsets\n",
        "  * For each $(P \\cup i, i)$ in C add i to Cit\n",
        "  * For each (X, i) in C:\n",
        "    * Cit = Cit - {i}\n",
        "    * $ F = F \\cup X \\cup  Eclat(X, Cit)$\n",
        "  * Return F"
      ]
    },
    {
      "metadata": {
        "id": "yMgLDZAdSGjG",
        "colab_type": "text"
      },
      "cell_type": "markdown",
      "source": [
        "## Illustration\n",
        "\n",
        "* We will run the algorithm on the example cited in [Eclat](http://mlwiki.org/index.php/Eclat) ( in the reference it is actually run for threshold=2 and not 3):\n",
        "* I = {a,c,b,e,d,f}, min_support_count_threshold= 3\n",
        "* T = [[a,b,c],[a,c,d,e,f], [a,b,c],[d,e]]\n",
        "* P = , I =\n",
        "* Eclat(P= {}, I={a,b,c,d,e}) --------------(**1**)\n",
        "---------------------------------------------------------------------\n",
        "* Eclat(P= {}, I={a,b,c,d,e}) (from **1**) :\n",
        "  * F= {}, Cit={}\n",
        "  * C= {(a,a),(c,c)}\n",
        "  * Cit= {a, c}\n",
        "    * 1.  X= {a}, i= a\n",
        "    *  Cit={c}\n",
        "    * F = {a} U Eclat(P={a}, I={c}) ------- (**11**)\n",
        "    -----------------------------------------------------\n",
        "    * Eclat(P={a}, I= c}) (from **11**) :\n",
        "      * F= {}, Cit={}\n",
        "      * C = {(ac,c)}\n",
        "     * Cit= {c}\n",
        "        * 1.  X= {ac}, i = c\n",
        "        * Cit= {}\n",
        "        * F = {ac} U Eclat (P={ac}, I={})----  (**111**)\n",
        "        -------------------------------------------------------------------------------\n",
        "      \n",
        "          * Eclat (P={ac}, I={}) (from **111**):\n",
        "            *  F= {}, Cit={}\n",
        "            * I =={}, return F (return to **111**)\n",
        "       --------------------------------------------------------------------\n",
        "           \n",
        "        * **111**\n",
        "        * F ={ac}\n",
        "      * Return F (return to  (**11**)\n",
        "      ------------------------------------------------------------\n",
        "    \n",
        "    * **11**\n",
        "    * F ={a, ac}\n",
        "    * 2. X={c}, i = {c}\n",
        "    * Cit={a}\n",
        "    * F = {a,ac,c} U Eclat(P={c}, I={a}) ------- (**12**)\n",
        "    --------------------------------------------------------------------------------\n",
        "    \n",
        "      * Eclat(P={c}, I= a}) (from **12**)\n",
        "        * F= {}, Cit={}\n",
        "        * C = {(ca,a)}\n",
        "        * Cit= {a}\n",
        "          * 1.  X= {ca}, i= a\n",
        "          * Cit= {}\n",
        "          * F = {ca } U Eclat (P={ca}, I={})----  (**121**)\n",
        "        ---------------------------------------------------------------\n",
        "           * Eclat (P={ca}, I={}) (from **121**)\n",
        "\t\t\t\t    - F= {}, Cit={}\n",
        "\t\t\t\t    - I =={}, return F (return to **121**)\n",
        "            --------------------------------------------------------------\n",
        "             *  **121**\n",
        "            \n",
        "            * F = {ca}\n",
        "   * Return F (return to ---- (**12**))\n",
        "   -------------------------------------------------------------\n",
        "     \n",
        "    * **12**\n",
        "     \n",
        "    * F ={a,ac,c}\n",
        " * Return F (return to (**1**))\n",
        " ---------------------------------------------------------\n",
        "* **1**\n",
        " \n",
        "* Final F = {a, ac, c}"
      ]
    },
    {
      "metadata": {
        "id": "CffbTqAERQKg",
        "colab_type": "text"
      },
      "cell_type": "markdown",
      "source": [
        "# 6- fim library"
      ]
    },
    {
      "metadata": {
        "id": "23ma5K3xSKrS",
        "colab_type": "text"
      },
      "cell_type": "markdown",
      "source": [
        "##  Library and Data\n",
        "\n",
        "* **fim** is a library comprised of a module that implements a set of functions  dedicated to frequent itemset mining.\n",
        "\n",
        "* The functions are related to the algorithm they implement. \n",
        "For example, the library  implements “Eclat”, “apriori”, et “fpgrowth” functions.\n",
        "\n",
        "* To have a list of all the represented algorithms , take a look at its homepage [PyFIM - Frequent Item Set Mining for Python](http://www.borgelt.net/pyfim.html).\n",
        "\n"
      ]
    },
    {
      "metadata": {
        "id": "DBmDv-HODvSe",
        "colab_type": "code",
        "outputId": "11feb9d0-5f16-4040-89b5-f4592d85fdca",
        "colab": {
          "base_uri": "https://localhost:8080/",
          "height": 34
        }
      },
      "cell_type": "code",
      "source": [
        "# To install the library, just use the pip command:\n",
        "\n",
        "!pip install fim"
      ],
      "execution_count": 0,
      "outputs": [
        {
          "output_type": "stream",
          "text": [
            "Requirement already satisfied: fim in /usr/local/lib/python3.6/dist-packages (6.27)\n"
          ],
          "name": "stdout"
        }
      ]
    },
    {
      "metadata": {
        "id": "CbHlalJg97Pe",
        "colab_type": "code",
        "colab": {}
      },
      "cell_type": "code",
      "source": [
        "# Concerning the data, we do not need to do any transformation. \n",
        "# So, we will use the transactions of the previous examples, \n",
        "# as we defined them (list of lists): \n",
        "\n",
        "T = [[\"a\",\"b\",\"c\"],[\"a\",\"c\",\"d\",\"e\",\"f\"], [\"a\",\"b\",\"c\"],[\"d\",\"e\"]]\n",
        "data = [[\"A\",\"B\",\"E\"],[\"B\",\"D\"],[\"B\",\"C\"],[\"A\",\"B\",\"D\"],[\"A\",\"D\"],[\"B\",\"C\"],[\"A\",\"D\"],[\"A\",\"B\",\"C\",\"E\"],[\"A\",\"B\",\"C\"]]\n"
      ],
      "execution_count": 0,
      "outputs": []
    },
    {
      "metadata": {
        "id": "WIGdB_nfSK9o",
        "colab_type": "text"
      },
      "cell_type": "markdown",
      "source": [
        "## Eclat application"
      ]
    },
    {
      "metadata": {
        "id": "NQj_ZQafDWsm",
        "colab_type": "code",
        "outputId": "fb2236e7-ede0-4abe-9432-febfba0d8906",
        "colab": {
          "base_uri": "https://localhost:8080/",
          "height": 34
        }
      },
      "cell_type": "code",
      "source": [
        "import fim as fim\n",
        "from fim import eclat\n",
        "fis = eclat(T, supp=75)\n",
        "fis"
      ],
      "execution_count": 0,
      "outputs": [
        {
          "output_type": "execute_result",
          "data": {
            "text/plain": [
              "[(('c',), 3), (('a', 'c'), 3), (('a',), 3)]"
            ]
          },
          "metadata": {
            "tags": []
          },
          "execution_count": 88
        }
      ]
    },
    {
      "metadata": {
        "id": "E480acp7OTd8",
        "colab_type": "code",
        "outputId": "8ec03a78-fa17-4a57-edcb-1614af67b0b4",
        "colab": {
          "base_uri": "https://localhost:8080/",
          "height": 34
        }
      },
      "cell_type": "code",
      "source": [
        "fis_p = eclat(T, supp = 75,report = \"s\")\n",
        "fis_p"
      ],
      "execution_count": 0,
      "outputs": [
        {
          "output_type": "execute_result",
          "data": {
            "text/plain": [
              "[(('c',), 0.75), (('a', 'c'), 0.75), (('a',), 0.75)]"
            ]
          },
          "metadata": {
            "tags": []
          },
          "execution_count": 86
        }
      ]
    },
    {
      "metadata": {
        "id": "CtpmqyljPfSM",
        "colab_type": "text"
      },
      "cell_type": "markdown",
      "source": [
        "##  apriori with fim\n"
      ]
    },
    {
      "metadata": {
        "id": "JG-8XdBVO_FS",
        "colab_type": "code",
        "outputId": "c5537052-cdc4-4111-ac14-ff84dd778ca4",
        "colab": {
          "base_uri": "https://localhost:8080/",
          "height": 260
        }
      },
      "cell_type": "code",
      "source": [
        "#We will use the “apriori” function \n",
        "#on the previous example we saw in apriori section.\n",
        "\n",
        "from fim import apriori\n",
        "fis_a = apriori(data, supp=22,report=\"s\")\n",
        "fis_a"
      ],
      "execution_count": 0,
      "outputs": [
        {
          "output_type": "execute_result",
          "data": {
            "text/plain": [
              "[(('E', 'A', 'B'), 0.2222222222222222),\n",
              " (('E', 'A'), 0.2222222222222222),\n",
              " (('E', 'B'), 0.2222222222222222),\n",
              " (('E',), 0.2222222222222222),\n",
              " (('D',), 0.4444444444444444),\n",
              " (('D', 'A'), 0.3333333333333333),\n",
              " (('D', 'B'), 0.2222222222222222),\n",
              " (('C', 'B'), 0.4444444444444444),\n",
              " (('C',), 0.4444444444444444),\n",
              " (('C', 'A', 'B'), 0.2222222222222222),\n",
              " (('C', 'A'), 0.2222222222222222),\n",
              " (('A',), 0.6666666666666666),\n",
              " (('A', 'B'), 0.4444444444444444),\n",
              " (('B',), 0.7777777777777778)]"
            ]
          },
          "metadata": {
            "tags": []
          },
          "execution_count": 75
        }
      ]
    },
    {
      "metadata": {
        "id": "tSbN2yDrRSdW",
        "colab_type": "text"
      },
      "cell_type": "markdown",
      "source": [
        "# References\n",
        "\n",
        "* [Agrawal et al., 1994] Agrawal, R., Srikant, R., et al. (1994). Fast algorithms for mining association rules. In Proc. 20th int. conf. very large data bases, VLDB, volume 1215, pages 487–499.\n",
        "* [Alexey, 2014] Alexey, G. (2014). Eclat. On-line at http://mlwiki.org/\n",
        "index.php/Eclat. Accessed on 30-12-2018.\n",
        "* [Gollapudi, 2016] Gollapudi, S. (2016). Practical Machine Learning. Community experience distilled. Packt Publishing.\n",
        "* [Sebastian, ] Sebastian, R. mlxtend’s documentation. On-line at http://rasbt.github.io/mlxtend/. Accessed on 30-12-2018.\n"
      ]
    },
    {
      "metadata": {
        "id": "PxEYRVi6Icq0",
        "colab_type": "code",
        "outputId": "4f77fa79-128d-413f-eefb-90e964c0bc3e",
        "colab": {
          "base_uri": "https://localhost:8080/",
          "height": 176
        }
      },
      "cell_type": "code",
      "source": [
        "!pip install apyori"
      ],
      "execution_count": 0,
      "outputs": [
        {
          "output_type": "stream",
          "text": [
            "Collecting apyori\n",
            "  Downloading https://files.pythonhosted.org/packages/25/fd/0561e2dd29aeed544bad2d1991636e38700cdaef9530490b863741f35295/apyori-1.1.1.tar.gz\n",
            "Building wheels for collected packages: apyori\n",
            "  Running setup.py bdist_wheel for apyori ... \u001b[?25l-\b \bdone\n",
            "\u001b[?25h  Stored in directory: /root/.cache/pip/wheels/7b/2a/35/c0c3749c1a36d4f454ea22d8396e1b854b86340d63cbbb7949\n",
            "Successfully built apyori\n",
            "Installing collected packages: apyori\n",
            "Successfully installed apyori-1.1.1\n"
          ],
          "name": "stdout"
        }
      ]
    }
  ]
}