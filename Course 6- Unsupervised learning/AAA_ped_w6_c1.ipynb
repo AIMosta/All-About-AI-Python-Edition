{
  "nbformat": 4,
  "nbformat_minor": 0,
  "metadata": {
    "colab": {
      "name": "AAA-ped-w6-c1.ipynb",
      "version": "0.3.2",
      "provenance": [],
      "collapsed_sections": [],
      "toc_visible": true,
      "include_colab_link": true
    },
    "kernelspec": {
      "name": "python3",
      "display_name": "Python 3"
    }
  },
  "cells": [
    {
      "cell_type": "markdown",
      "metadata": {
        "id": "view-in-github",
        "colab_type": "text"
      },
      "source": [
        "<a href=\"https://colab.research.google.com/github/AIMosta/All-About-AI-Python-Edition/blob/master/Course%206-%20Unsupervised%20learning/AAA_ped_w6_c1.ipynb\" target=\"_parent\"><img src=\"https://colab.research.google.com/assets/colab-badge.svg\" alt=\"Open In Colab\"/></a>"
      ]
    },
    {
      "metadata": {
        "id": "b9q-VxEW5tRs",
        "colab_type": "text"
      },
      "cell_type": "markdown",
      "source": [
        "<img src=\"https://docs.google.com/uc?export=download&id=1ap18raVTUCSJeGzTLz9kViroFGvTknrV\">\n",
        "# Unspervised Learning: Clustering"
      ]
    },
    {
      "metadata": {
        "id": "H1a7Uuzz8dnI",
        "colab_type": "toc"
      },
      "cell_type": "markdown",
      "source": [
        ">[Unspervised Learning: Clustering](#scrollTo=b9q-VxEW5tRs)\n",
        "\n",
        ">[1- clustering](#scrollTo=1oBho425Q7ca)\n",
        "\n",
        ">>[Unsupervised Learning](#scrollTo=PTsXuubynLHY)\n",
        "\n",
        ">>[Clustering](#scrollTo=a1bTFc9bnLZu)\n",
        "\n",
        ">>[K-Mean Algorithm](#scrollTo=I0mTWFEcnLpw)\n",
        "\n",
        ">[2-K-mean example](#scrollTo=UGNJc3cBQfYY)\n",
        "\n",
        ">>[The Data](#scrollTo=yLvtrsm0RcWq)\n",
        "\n",
        ">>[Training](#scrollTo=A8DvRRWlRdGi)\n",
        "\n",
        ">>[Visulaization](#scrollTo=OjzIaOe1RdZ2)\n",
        "\n",
        ">[3-  Silouhette scores](#scrollTo=Nhm8OJc_RFU8)\n",
        "\n",
        ">>[Definition](#scrollTo=O7cibba16mLG)\n",
        "\n",
        ">>[Use](#scrollTo=3syoaBkI74VQ)\n",
        "\n",
        ">[Example](#scrollTo=nOurFtOg8Ora)\n",
        "\n",
        ">[4- mean-shift](#scrollTo=VL49qQMiRCfC)\n",
        "\n",
        ">>[Concept & Steps](#scrollTo=QtI6YjSJRzo8)\n",
        "\n",
        ">>[Example](#scrollTo=Tg2exEipRz7w)\n",
        "\n",
        ">>[Bandwidth](#scrollTo=lYnbKQUdR0Ou)\n",
        "\n",
        ">[5- Guassian mixture model](#scrollTo=Ca8Ofrs7RHwC)\n",
        "\n",
        ">>[Concept](#scrollTo=xn8bZSmqSBwY)\n",
        "\n",
        ">>[Example with scikit-learn](#scrollTo=157T7zEfSB_u)\n",
        "\n",
        ">>[Selection of n_components](#scrollTo=ArfuFPFFSB4a)\n",
        "\n",
        ">[6- Affinity Propagation model](#scrollTo=5aXVjrUrRNGi)\n",
        "\n",
        ">>[Concept](#scrollTo=H71qigLHSGU2)\n",
        "\n",
        ">>[Process](#scrollTo=yMgLDZAdSGjG)\n",
        "\n",
        ">>[Example](#scrollTo=Z7prBx0pSGbS)\n",
        "\n",
        ">[References](#scrollTo=tSbN2yDrRSdW)\n",
        "\n"
      ]
    },
    {
      "metadata": {
        "id": "1oBho425Q7ca",
        "colab_type": "text"
      },
      "cell_type": "markdown",
      "source": [
        "# 1- clustering\n"
      ]
    },
    {
      "metadata": {
        "id": "PTsXuubynLHY",
        "colab_type": "text"
      },
      "cell_type": "markdown",
      "source": [
        "## Unsupervised Learning\n",
        "* Unsupervised learning is about Machine Learning using Unlabeled Data.\n",
        "\n",
        "* It concerns several kind of tasks, that can be grouped into **3** categories:\n",
        "\n",
        "  * Clustering\n",
        "  * Visualization and Dimensionality reduction\n",
        "  * Association Rule Learning\n"
      ]
    },
    {
      "metadata": {
        "id": "a1bTFc9bnLZu",
        "colab_type": "text"
      },
      "cell_type": "markdown",
      "source": [
        "## Clustering\n",
        "* **Clustering** means finding the** clusters** within a given **data**.\n",
        "\n",
        "* A **cluster** can be defined as a **group** of **similar points** (samples) of data.\n",
        "\n",
        "* One way to identify similar points, is to use **similarity metrics**.\n",
        "**Euclidean Distance** in one of these similarity metrics."
      ]
    },
    {
      "metadata": {
        "id": "I0mTWFEcnLpw",
        "colab_type": "text"
      },
      "cell_type": "markdown",
      "source": [
        "##K-Mean Algorithm\n",
        "\n",
        "* it is one of the methods used in clustering. It uses the euclidean distance as a similarity metric.\n",
        "The steps are as follow:\n",
        "\n",
        "\n",
        "1.   Set the number of clusters to be find: K\n",
        "2.   Select randomly : k samples from the data ,or use an algorithm to select generally distant k points. The k samples are the initial centroids of the clusters.\n",
        "3.   Divide the samples into these K clusters: for each sample:\n",
        "Compute the distances from each centroid\n",
        "Select the least one.\n",
        "4.   Compute the new centroids of clusters u:j the mean of the samples belonging to each cluster\n",
        "5.   Compute the inertia, for n samples, \n",
        "using this formula:  $\\sum_{i=0}^{n}\\min_{\\mu_j \\in C}(||x_i - \\mu_j||^2)$\n",
        "6.   Repeat from step 3, until the inertia is minimized, or the clusters assignment do not change or a maximum number of iterations is reached\n",
        "\n",
        "\n"
      ]
    },
    {
      "metadata": {
        "id": "UGNJc3cBQfYY",
        "colab_type": "text"
      },
      "cell_type": "markdown",
      "source": [
        "# 2-K-mean example\n"
      ]
    },
    {
      "metadata": {
        "id": "yLvtrsm0RcWq",
        "colab_type": "text"
      },
      "cell_type": "markdown",
      "source": [
        "## The Data\n",
        "* We will use the file shared by [Artificial Intelligence with Python](https://github.com/PacktPublishing/Artificial-Intelligence-with-Python.git)"
      ]
    },
    {
      "metadata": {
        "id": "3lIatMXqtIsi",
        "colab_type": "code",
        "outputId": "9cfb21a0-99aa-46c3-c4c8-f4b70718ff1a",
        "colab": {
          "base_uri": "https://localhost:8080/",
          "height": 121
        }
      },
      "cell_type": "code",
      "source": [
        "# we will use the data available at https://github.com/PacktPublishing/Artificial-Intelligence-with-Python.git\n",
        "!rm -R AAA-Ped-Week6\n",
        "!git clone https://github.com/AIMosta/AAA-Ped-Week6.git"
      ],
      "execution_count": 0,
      "outputs": [
        {
          "output_type": "stream",
          "text": [
            "Cloning into 'AAA-Ped-Week6'...\n",
            "remote: Enumerating objects: 9, done.\u001b[K\n",
            "remote: Counting objects:  11% (1/9)   \u001b[K\rremote: Counting objects:  22% (2/9)   \u001b[K\rremote: Counting objects:  33% (3/9)   \u001b[K\rremote: Counting objects:  44% (4/9)   \u001b[K\rremote: Counting objects:  55% (5/9)   \u001b[K\rremote: Counting objects:  66% (6/9)   \u001b[K\rremote: Counting objects:  77% (7/9)   \u001b[K\rremote: Counting objects:  88% (8/9)   \u001b[K\rremote: Counting objects: 100% (9/9)   \u001b[K\rremote: Counting objects: 100% (9/9), done.\u001b[K\n",
            "remote: Compressing objects:  16% (1/6)   \u001b[K\rremote: Compressing objects:  33% (2/6)   \u001b[K\rremote: Compressing objects:  50% (3/6)   \u001b[K\rremote: Compressing objects:  66% (4/6)   \u001b[K\rremote: Compressing objects:  83% (5/6)   \u001b[K\rremote: Compressing objects: 100% (6/6)   \u001b[K\rremote: Compressing objects: 100% (6/6), done.\u001b[K\n",
            "remote: Total 9 (delta 0), reused 3 (delta 0), pack-reused 0\u001b[K\n",
            "Unpacking objects:  11% (1/9)   \rUnpacking objects:  22% (2/9)   \rUnpacking objects:  33% (3/9)   \rUnpacking objects:  44% (4/9)   \rUnpacking objects:  55% (5/9)   \rUnpacking objects:  66% (6/9)   \rUnpacking objects:  77% (7/9)   \rUnpacking objects:  88% (8/9)   \rUnpacking objects: 100% (9/9)   \rUnpacking objects: 100% (9/9), done.\n"
          ],
          "name": "stdout"
        }
      ]
    },
    {
      "metadata": {
        "id": "bsc8EBYkt9zU",
        "colab_type": "code",
        "outputId": "335830e9-e925-41f6-a532-6bbfe2b60628",
        "colab": {
          "base_uri": "https://localhost:8080/",
          "height": 34
        }
      },
      "cell_type": "code",
      "source": [
        "!ls AAA-Ped-Week6\n"
      ],
      "execution_count": 0,
      "outputs": [
        {
          "output_type": "stream",
          "text": [
            "A3P-w6-data_clustering.txt  README.md\n"
          ],
          "name": "stdout"
        }
      ]
    },
    {
      "metadata": {
        "id": "insdY7ymuGZM",
        "colab_type": "code",
        "colab": {}
      },
      "cell_type": "code",
      "source": [
        "import matplotlib.pyplot as plt\n",
        "from sklearn.cluster import KMeans\n",
        "import pandas as pd\n",
        "from pandas import DataFrame as DF, Series as S"
      ],
      "execution_count": 0,
      "outputs": []
    },
    {
      "metadata": {
        "id": "OpaLy_2tQmF2",
        "colab_type": "code",
        "outputId": "ee5c52d2-8dc1-4a7a-cf40-6399e3879eba",
        "colab": {
          "base_uri": "https://localhost:8080/",
          "height": 206
        }
      },
      "cell_type": "code",
      "source": [
        "dataF = pd.read_csv('AAA-Ped-Week6/A3P-w6-data_clustering.txt',header=-1)\n",
        "dataF.head(5)\n"
      ],
      "execution_count": 0,
      "outputs": [
        {
          "output_type": "execute_result",
          "data": {
            "text/html": [
              "<div>\n",
              "<style scoped>\n",
              "    .dataframe tbody tr th:only-of-type {\n",
              "        vertical-align: middle;\n",
              "    }\n",
              "\n",
              "    .dataframe tbody tr th {\n",
              "        vertical-align: top;\n",
              "    }\n",
              "\n",
              "    .dataframe thead th {\n",
              "        text-align: right;\n",
              "    }\n",
              "</style>\n",
              "<table border=\"1\" class=\"dataframe\">\n",
              "  <thead>\n",
              "    <tr style=\"text-align: right;\">\n",
              "      <th></th>\n",
              "      <th>0</th>\n",
              "      <th>1</th>\n",
              "    </tr>\n",
              "  </thead>\n",
              "  <tbody>\n",
              "    <tr>\n",
              "      <th>0</th>\n",
              "      <td>2.08</td>\n",
              "      <td>1.05</td>\n",
              "    </tr>\n",
              "    <tr>\n",
              "      <th>1</th>\n",
              "      <td>2.05</td>\n",
              "      <td>7.70</td>\n",
              "    </tr>\n",
              "    <tr>\n",
              "      <th>2</th>\n",
              "      <td>4.53</td>\n",
              "      <td>5.49</td>\n",
              "    </tr>\n",
              "    <tr>\n",
              "      <th>3</th>\n",
              "      <td>6.23</td>\n",
              "      <td>1.02</td>\n",
              "    </tr>\n",
              "    <tr>\n",
              "      <th>4</th>\n",
              "      <td>5.35</td>\n",
              "      <td>7.86</td>\n",
              "    </tr>\n",
              "  </tbody>\n",
              "</table>\n",
              "</div>"
            ],
            "text/plain": [
              "      0     1\n",
              "0  2.08  1.05\n",
              "1  2.05  7.70\n",
              "2  4.53  5.49\n",
              "3  6.23  1.02\n",
              "4  5.35  7.86"
            ]
          },
          "metadata": {
            "tags": []
          },
          "execution_count": 50
        }
      ]
    },
    {
      "metadata": {
        "id": "PX2qn2BBRay6",
        "colab_type": "code",
        "outputId": "0d87391d-92a2-4629-816a-e9edf5e222c8",
        "colab": {
          "base_uri": "https://localhost:8080/",
          "height": 34
        }
      },
      "cell_type": "code",
      "source": [
        "X= dataF.values\n",
        "print (X.shape)"
      ],
      "execution_count": 0,
      "outputs": [
        {
          "output_type": "stream",
          "text": [
            "(350, 2)\n"
          ],
          "name": "stdout"
        }
      ]
    },
    {
      "metadata": {
        "id": "OAJ_WKlzuS1q",
        "colab_type": "code",
        "outputId": "65de48cd-9ccb-49f8-8657-710d83b38e92",
        "colab": {
          "base_uri": "https://localhost:8080/",
          "height": 364
        }
      },
      "cell_type": "code",
      "source": [
        "# Plot input data\n",
        "plt.figure()\n",
        "plt.scatter(X[:,0], X[:,1], marker='+',c=\"g\")\n"
      ],
      "execution_count": 0,
      "outputs": [
        {
          "output_type": "execute_result",
          "data": {
            "text/plain": [
              "<matplotlib.collections.PathCollection at 0x7f36daaf4c88>"
            ]
          },
          "metadata": {
            "tags": []
          },
          "execution_count": 52
        },
        {
          "output_type": "display_data",
          "data": {
            "image/png": "[encoded data removed]",
            "text/plain": [
              "<matplotlib.figure.Figure at 0x7f36dac9cda0>"
            ]
          },
          "metadata": {
            "tags": []
          }
        }
      ]
    },
    {
      "metadata": {
        "id": "A8DvRRWlRdGi",
        "colab_type": "text"
      },
      "cell_type": "markdown",
      "source": [
        "## Training"
      ]
    },
    {
      "metadata": {
        "id": "0bVxknhIugIG",
        "colab_type": "code",
        "colab": {}
      },
      "cell_type": "code",
      "source": [
        "# initialize the number of the clusters\n",
        "num_clusters = 5\n",
        "# Create KMeans object using random centroid initalization\n",
        "kmeans = KMeans(init='random', n_clusters=num_clusters,verbose=1, n_init=1)"
      ],
      "execution_count": 0,
      "outputs": []
    },
    {
      "metadata": {
        "id": "UlPSRLOpukAo",
        "colab_type": "code",
        "outputId": "b44ad95a-1595-4c6e-96ce-d7c895701065",
        "colab": {
          "base_uri": "https://localhost:8080/",
          "height": 660
        }
      },
      "cell_type": "code",
      "source": [
        "# Train the KMeans clustering model\n",
        "kmeans.fit(X)"
      ],
      "execution_count": 0,
      "outputs": [
        {
          "output_type": "stream",
          "text": [
            "Initialization complete\n",
            "start iteration\n",
            "done sorting\n",
            "end inner loop\n",
            "Iteration 0, inertia 1110.0300083942802\n",
            "start iteration\n",
            "done sorting\n",
            "end inner loop\n",
            "Iteration 1, inertia 1012.8587443839103\n",
            "start iteration\n",
            "done sorting\n",
            "end inner loop\n",
            "Iteration 2, inertia 1002.444845248496\n",
            "start iteration\n",
            "done sorting\n",
            "end inner loop\n",
            "Iteration 3, inertia 1000.4001365690789\n",
            "start iteration\n",
            "done sorting\n",
            "end inner loop\n",
            "Iteration 4, inertia 1000.2107315861655\n",
            "start iteration\n",
            "done sorting\n",
            "end inner loop\n",
            "Iteration 5, inertia 999.3857315546138\n",
            "start iteration\n",
            "done sorting\n",
            "end inner loop\n",
            "Iteration 6, inertia 999.133255042761\n",
            "start iteration\n",
            "done sorting\n",
            "end inner loop\n",
            "Iteration 7, inertia 999.133255042761\n",
            "center shift 0.000000e+00 within tolerance 6.415290e-04\n"
          ],
          "name": "stdout"
        },
        {
          "output_type": "execute_result",
          "data": {
            "text/plain": [
              "KMeans(algorithm='auto', copy_x=True, init='random', max_iter=300,\n",
              "    n_clusters=5, n_init=1, n_jobs=None, precompute_distances='auto',\n",
              "    random_state=None, tol=0.0001, verbose=1)"
            ]
          },
          "metadata": {
            "tags": []
          },
          "execution_count": 54
        }
      ]
    },
    {
      "metadata": {
        "id": "jVQuw3TksKG4",
        "colab_type": "code",
        "outputId": "87165b68-b7fc-4d27-b2d1-2de37eb2049d",
        "colab": {
          "base_uri": "https://localhost:8080/",
          "height": 104
        }
      },
      "cell_type": "code",
      "source": [
        "# the final centroids are\n",
        "final_Centroids=kmeans.cluster_centers_\n",
        "\n",
        "final_Centroids"
      ],
      "execution_count": 0,
      "outputs": [
        {
          "output_type": "execute_result",
          "data": {
            "text/plain": [
              "array([[7.09588235, 2.01735294],\n",
              "       [2.98576923, 3.51076923],\n",
              "       [3.98220588, 8.34404412],\n",
              "       [2.97698113, 1.62773585],\n",
              "       [5.22791045, 5.19985075]])"
            ]
          },
          "metadata": {
            "tags": []
          },
          "execution_count": 55
        }
      ]
    },
    {
      "metadata": {
        "id": "OjzIaOe1RdZ2",
        "colab_type": "text"
      },
      "cell_type": "markdown",
      "source": [
        "## Visulaization"
      ]
    },
    {
      "metadata": {
        "id": "Ygw12WBvj10i",
        "colab_type": "code",
        "outputId": "3117480f-fcfa-446f-c370-7161face8cf3",
        "colab": {
          "base_uri": "https://localhost:8080/",
          "height": 312
        }
      },
      "cell_type": "code",
      "source": [
        "kmeans.labels_"
      ],
      "execution_count": 0,
      "outputs": [
        {
          "output_type": "execute_result",
          "data": {
            "text/plain": [
              "array([3, 2, 4, 0, 2, 3, 2, 4, 4, 2, 3, 2, 4, 0, 2, 3, 2, 4, 0, 2, 1, 2,\n",
              "       4, 3, 4, 3, 2, 4, 0, 2, 3, 2, 4, 0, 2, 3, 2, 4, 0, 2, 1, 2, 4, 0,\n",
              "       2, 1, 2, 4, 0, 2, 3, 2, 4, 0, 2, 1, 2, 4, 0, 2, 3, 2, 4, 0, 2, 3,\n",
              "       2, 4, 0, 2, 1, 2, 4, 0, 4, 3, 2, 2, 0, 2, 1, 2, 4, 0, 2, 3, 2, 4,\n",
              "       0, 2, 3, 2, 4, 0, 2, 3, 2, 4, 0, 2, 3, 2, 1, 0, 2, 3, 2, 4, 0, 2,\n",
              "       1, 2, 4, 0, 2, 3, 2, 2, 0, 2, 3, 2, 4, 0, 4, 3, 2, 4, 0, 2, 3, 2,\n",
              "       4, 0, 2, 3, 2, 1, 0, 2, 3, 2, 4, 0, 2, 3, 2, 4, 0, 2, 3, 2, 4, 0,\n",
              "       2, 1, 2, 4, 0, 2, 3, 2, 4, 0, 2, 1, 2, 4, 0, 2, 3, 2, 4, 0, 2, 3,\n",
              "       2, 1, 0, 4, 3, 2, 4, 0, 2, 3, 2, 4, 0, 2, 3, 2, 1, 0, 2, 3, 2, 4,\n",
              "       0, 2, 3, 2, 4, 0, 2, 3, 2, 1, 0, 2, 3, 2, 1, 0, 2, 1, 2, 4, 0, 2,\n",
              "       1, 1, 4, 0, 2, 1, 2, 4, 0, 2, 3, 2, 2, 0, 2, 1, 2, 4, 0, 2, 3, 2,\n",
              "       4, 0, 2, 3, 2, 4, 0, 2, 3, 2, 4, 0, 2, 3, 2, 4, 0, 2, 3, 2, 4, 0,\n",
              "       2, 3, 2, 1, 0, 2, 3, 2, 4, 0, 2, 3, 2, 4, 0, 2, 3, 2, 4, 0, 4, 3,\n",
              "       2, 4, 0, 2, 3, 2, 4, 0, 2, 1, 2, 4, 0, 4, 1, 2, 4, 0, 2, 3, 2, 4,\n",
              "       0, 2, 1, 2, 4, 0, 2, 3, 2, 4, 0, 2, 3, 2, 4, 0, 2, 3, 2, 4, 0, 2,\n",
              "       3, 2, 4, 0, 2, 3, 2, 4, 0, 2, 1, 2, 4, 0, 2, 1, 2, 4, 0, 2],\n",
              "      dtype=int32)"
            ]
          },
          "metadata": {
            "tags": []
          },
          "execution_count": 56
        }
      ]
    },
    {
      "metadata": {
        "id": "n9OAubpZS1ea",
        "colab_type": "code",
        "outputId": "bede8e73-42b5-49ea-cf9e-41817d8d402f",
        "colab": {
          "base_uri": "https://localhost:8080/",
          "height": 364
        }
      },
      "cell_type": "code",
      "source": [
        "clus_colors=[ \"goldenrod\" if y ==1 else \"green\" if y == 2 else \"blue\" if y==3 else \"orange\" if y== 4\n",
        "             else \"lightcoral\" for y in kmeans.labels_]\n",
        "\n",
        "plt.figure()\n",
        "plt.scatter(X[:,0], X[:,1], marker='+',c=clus_colors)\n",
        "plt.scatter(final_Centroids[:,0],final_Centroids[:,1],marker=\"o\",facecolor=\"black\",\n",
        "             s =80)\n"
      ],
      "execution_count": 0,
      "outputs": [
        {
          "output_type": "execute_result",
          "data": {
            "text/plain": [
              "<matplotlib.collections.PathCollection at 0x7f36daa5be10>"
            ]
          },
          "metadata": {
            "tags": []
          },
          "execution_count": 57
        },
        {
          "output_type": "display_data",
          "data": {
            "image/png": "[encoded data removed]",
            "text/plain": [
              "<matplotlib.figure.Figure at 0x7f36daa9b470>"
            ]
          },
          "metadata": {
            "tags": []
          }
        }
      ]
    },
    {
      "metadata": {
        "id": "Nhm8OJc_RFU8",
        "colab_type": "text"
      },
      "cell_type": "markdown",
      "source": [
        "# 3-  Silouhette scores"
      ]
    },
    {
      "metadata": {
        "id": "O7cibba16mLG",
        "colab_type": "text"
      },
      "cell_type": "markdown",
      "source": [
        "## Definition\n",
        "* **Silhouette score** is a measure that is used to indicate the quality of the clustering: it shows at which degree the data  samples are similar to the others samples belonging to the same cluster.\n",
        "\n",
        "* For one sample, it is computed as follow:  $s= \\frac { b - a }  {  max (a,b)}$\n",
        "Where:\n",
        " * $a$: the mean distance between a sample and all other samples in the same cluster.\n",
        " * $b$: the mean distance between a sample and all other samples in the next nearest cluster.\n",
        "* The **distance** is computed by considering the samples as points and the features as coordinates. The distance between two samples, is computed as the euclidean distance between 2 points.\n",
        "> For example: the distance between $c(x1,y1)$ and $d(x2,y2)$ is computed as follow:  $\\sqrt{( x_2 - x_1 )^2 + (y_2 - y_1)^2} $"
      ]
    },
    {
      "metadata": {
        "id": "3syoaBkI74VQ",
        "colab_type": "text"
      },
      "cell_type": "markdown",
      "source": [
        "## Use\n",
        "\n",
        "* For one sample, the silhouette value score ranges from 1 to -1. Many values close to 1 indicates **good** clustering. And in the other hand, many values close to -1, indicates **bad** clustering (too many or too few clusters). \n",
        "\n",
        "* We can compute the overall silhouette score by computing the **mean** of all the samples silhouette scores.\n",
        "A value close to zero indicates cluster overlapping.\n",
        "\n",
        "* The overall silhouette score can be used to find the best  **k** number of clusters.\n",
        "\n",
        "* Sklearn implements the silhouette score calculation: the overall (mean) and the singular coefficient (for one sample).\n",
        " * sklearn.metrics.silhouette_score:  the mean\n",
        " * klearn.metrics.silhouette_samples:  for each sample"
      ]
    },
    {
      "metadata": {
        "id": "nOurFtOg8Ora",
        "colab_type": "text"
      },
      "cell_type": "markdown",
      "source": [
        "# Example"
      ]
    },
    {
      "metadata": {
        "id": "HliQx4ecsjhY",
        "colab_type": "code",
        "colab": {}
      },
      "cell_type": "code",
      "source": [
        "from sklearn.datasets import make_blobs\n",
        "from sklearn.cluster import KMeans\n",
        "from sklearn.metrics import silhouette_samples, silhouette_score\n",
        "\n",
        "import matplotlib.pyplot as plt\n",
        "import matplotlib.cm as cm\n",
        "import numpy as np\n"
      ],
      "execution_count": 0,
      "outputs": []
    },
    {
      "metadata": {
        "id": "_bGkqjtjsoY0",
        "colab_type": "code",
        "outputId": "c25215ce-5b24-47e5-850f-97b9c87b9d7d",
        "colab": {
          "base_uri": "https://localhost:8080/",
          "height": 364
        }
      },
      "cell_type": "code",
      "source": [
        "# generate clustred data: 500 samples, described by\n",
        "# 2 features\n",
        "X2 , y2 = make_blobs(n_samples=500, n_features=2,centers=3)\n",
        "\n",
        "# plotting the points\n",
        "plt.scatter(X2[:,0],X2[:,1],marker =\"+\", color= \"rebeccapurple\")\n",
        "                 \n"
      ],
      "execution_count": 0,
      "outputs": [
        {
          "output_type": "execute_result",
          "data": {
            "text/plain": [
              "<matplotlib.collections.PathCollection at 0x7f36da454a58>"
            ]
          },
          "metadata": {
            "tags": []
          },
          "execution_count": 86
        },
        {
          "output_type": "display_data",
          "data": {
            "image/png": "[encoded data removed]",
            "text/plain": [
              "<matplotlib.figure.Figure at 0x7f36da682828>"
            ]
          },
          "metadata": {
            "tags": []
          }
        }
      ]
    },
    {
      "metadata": {
        "id": "SwoJAkVmxcc0",
        "colab_type": "code",
        "outputId": "14d83581-5e97-4b51-e6f2-7ffd20d0ee3c",
        "colab": {
          "base_uri": "https://localhost:8080/",
          "height": 379
        }
      },
      "cell_type": "code",
      "source": [
        "# testing cluster numbers: from 2 to 10\n",
        "k_values = range(2,11)\n",
        "scores =[]\n",
        "for n_clusters in k_values:\n",
        "  # initialise a kmean clusterer with the actual tested\n",
        "  # cluster number\n",
        "  myKmean = KMeans (init='random', n_clusters=n_clusters, n_init=1)\n",
        "  # train it\n",
        "  myKmean.fit(X2)\n",
        "  # compute the ovreall silhouette score\n",
        "  overall_score=  silhouette_score(X2, myKmean.labels_,metric='euclidean', sample_size=len(X))\n",
        "  # add it to list of previously computed scores\n",
        "  scores.append(overall_score)\n",
        "\n",
        "# plot the scores\n",
        "plt.figure()\n",
        "plt.bar(k_values, scores, width=0.7, color='goldenrod', align='center')\n",
        "plt.title('Silhouette scores')\n"
      ],
      "execution_count": 0,
      "outputs": [
        {
          "output_type": "execute_result",
          "data": {
            "text/plain": [
              "Text(0.5,1,'Silhouette scores')"
            ]
          },
          "metadata": {
            "tags": []
          },
          "execution_count": 87
        },
        {
          "output_type": "display_data",
          "data": {
            "image/png": "[encoded data removed]",
            "text/plain": [
              "<matplotlib.figure.Figure at 0x7f36da7442b0>"
            ]
          },
          "metadata": {
            "tags": []
          }
        }
      ]
    },
    {
      "metadata": {
        "id": "VL49qQMiRCfC",
        "colab_type": "text"
      },
      "cell_type": "markdown",
      "source": [
        "# 4- mean-shift"
      ]
    },
    {
      "metadata": {
        "id": "QtI6YjSJRzo8",
        "colab_type": "text"
      },
      "cell_type": "markdown",
      "source": [
        "## Concept & Steps\n",
        "\n",
        "* **Mean shift** clustering is an other method used to identify clusters in a dataset. Is supposes that the data distribution may tend to be dense around certain points: the centers of the clusters (centroids).\n",
        "* To identify these points, it defines the following steps:\n",
        " * Make a copy of your data\n",
        " * For each sample in the copy, repeat these steps:\n",
        "    * Compute the mean of samples contained in a window (fixed size) around the sample. The mean is computed as follow:\n",
        "    $m(x_i) = \\frac{\\sum_{x_j \\in N(x_i)}K(x_j - x_i)x_j}{\\sum_{x_j \\in N(x_i)}K(x_j - x_i)}$\n",
        "    > where $K$  is a function that will affect weights to the neighbors of $x$, regarding their distance from $x $(bigger distance, small weight). $N(x)$ represents the points near $x$(neighbors of $x$). \n",
        "    * Update the sample’s location to that new mean: $x_i^{t+1} = m(x_i^t)$\n",
        "\n",
        "                                             \n",
        "  * Stop the process when the samples doesn’t move, or the shift is not significant. Then, Filter out near-similar points to keep the final centroids.\n",
        "\n",
        "\n",
        "\n"
      ]
    },
    {
      "metadata": {
        "id": "Tg2exEipRz7w",
        "colab_type": "text"
      },
      "cell_type": "markdown",
      "source": [
        "## Example"
      ]
    },
    {
      "metadata": {
        "id": "ptNlhQITxy2a",
        "colab_type": "code",
        "colab": {}
      },
      "cell_type": "code",
      "source": [
        "import numpy as np\n",
        "import matplotlib.pyplot as plt\n",
        "from sklearn.cluster import MeanShift, estimate_bandwidth\n",
        "from itertools import cycle"
      ],
      "execution_count": 0,
      "outputs": []
    },
    {
      "metadata": {
        "id": "ciDV7rPsyDcq",
        "colab_type": "code",
        "outputId": "d154a65f-0412-444f-8b80-4eff0d109ef4",
        "colab": {
          "base_uri": "https://localhost:8080/",
          "height": 52
        }
      },
      "cell_type": "code",
      "source": [
        "# Cluster data with MeanShift\n",
        "myMeanShift = MeanShift(bandwidth=2)\n",
        "myMeanShift.fit(X)"
      ],
      "execution_count": 0,
      "outputs": [
        {
          "output_type": "execute_result",
          "data": {
            "text/plain": [
              "MeanShift(bandwidth=2, bin_seeding=False, cluster_all=True, min_bin_freq=1,\n",
              "     n_jobs=None, seeds=None)"
            ]
          },
          "metadata": {
            "tags": []
          },
          "execution_count": 59
        }
      ]
    },
    {
      "metadata": {
        "id": "CNMyrZMi79WW",
        "colab_type": "code",
        "outputId": "a3fc5bcd-bf14-439f-fc0c-ef8039c10ccf",
        "colab": {
          "base_uri": "https://localhost:8080/",
          "height": 364
        }
      },
      "cell_type": "code",
      "source": [
        "labels = myMeanShift.labels_\n",
        "final_Centroids2 = myMeanShift.cluster_centers_\n",
        "plt.figure()\n",
        "plt.scatter(X[:,0], X[:,1], marker='+',c=labels, cmap =\"rainbow\")\n",
        "plt.scatter(final_Centroids2[:,0],final_Centroids2[:,1],marker=\"o\",facecolor=\"black\",\n",
        "             s =80)"
      ],
      "execution_count": 0,
      "outputs": [
        {
          "output_type": "execute_result",
          "data": {
            "text/plain": [
              "<matplotlib.collections.PathCollection at 0x7f36da9c6c18>"
            ]
          },
          "metadata": {
            "tags": []
          },
          "execution_count": 60
        },
        {
          "output_type": "display_data",
          "data": {
            "image/png": "[encoded data removed]",
            "text/plain": [
              "<matplotlib.figure.Figure at 0x7f36daa66320>"
            ]
          },
          "metadata": {
            "tags": []
          }
        }
      ]
    },
    {
      "metadata": {
        "id": "lYnbKQUdR0Ou",
        "colab_type": "text"
      },
      "cell_type": "markdown",
      "source": [
        "## Bandwidth\n",
        "* If you change the bandwidth value, you will have different clustering: "
      ]
    },
    {
      "metadata": {
        "id": "LsRTW1oj_iGa",
        "colab_type": "code",
        "outputId": "7e2c0b0f-d37d-4ba1-90f7-bff4b25c48d6",
        "colab": {
          "base_uri": "https://localhost:8080/",
          "height": 364
        }
      },
      "cell_type": "code",
      "source": [
        "myMeanShift = MeanShift(bandwidth=1)\n",
        "myMeanShift.fit(X)\n",
        "labels = myMeanShift.labels_\n",
        "final_Centroids2 = myMeanShift.cluster_centers_\n",
        "plt.figure()\n",
        "plt.scatter(X[:,0], X[:,1], marker='+',c=labels, cmap =\"prism\")\n",
        "plt.scatter(final_Centroids2[:,0],final_Centroids2[:,1],marker=\"o\",facecolor=\"black\",\n",
        "             s =80)"
      ],
      "execution_count": 0,
      "outputs": [
        {
          "output_type": "execute_result",
          "data": {
            "text/plain": [
              "<matplotlib.collections.PathCollection at 0x7f36da99fac8>"
            ]
          },
          "metadata": {
            "tags": []
          },
          "execution_count": 61
        },
        {
          "output_type": "display_data",
          "data": {
            "image/png": "[encoded data removed]",
            "text/plain": [
              "<matplotlib.figure.Figure at 0x7f36da98c828>"
            ]
          },
          "metadata": {
            "tags": []
          }
        }
      ]
    },
    {
      "metadata": {
        "id": "el2Z1cfcC3p0",
        "colab_type": "code",
        "outputId": "4adc2ae6-2892-4192-8593-c1bde251ed52",
        "colab": {
          "base_uri": "https://localhost:8080/",
          "height": 382
        }
      },
      "cell_type": "code",
      "source": [
        "from sklearn.cluster import estimate_bandwidth\n",
        "\n",
        "myBW = estimate_bandwidth(X,quantile=0.2); \n",
        "print(\"The estimated bandwidth is: \",np.round(myBW,2))\n",
        "myMeanShift = MeanShift(bandwidth=myBW)\n",
        "myMeanShift.fit(X)\n",
        "labels = myMeanShift.labels_\n",
        "final_Centroids2 = myMeanShift.cluster_centers_\n",
        "plt.figure()\n",
        "plt.scatter(X[:,0], X[:,1], marker='+',c=labels, cmap =\"prism\")\n",
        "plt.scatter(final_Centroids2[:,0],final_Centroids2[:,1],marker=\"o\",facecolor=\"black\",\n",
        "             s =80)\n"
      ],
      "execution_count": 0,
      "outputs": [
        {
          "output_type": "stream",
          "text": [
            "The estimated bandwidth is:  2.35\n"
          ],
          "name": "stdout"
        },
        {
          "output_type": "execute_result",
          "data": {
            "text/plain": [
              "<matplotlib.collections.PathCollection at 0x7f36da90dbe0>"
            ]
          },
          "metadata": {
            "tags": []
          },
          "execution_count": 62
        },
        {
          "output_type": "display_data",
          "data": {
            "image/png": "[encoded data removed]",
            "text/plain": [
              "<matplotlib.figure.Figure at 0x7f36dabcc7f0>"
            ]
          },
          "metadata": {
            "tags": []
          }
        }
      ]
    },
    {
      "metadata": {
        "id": "Ca8Ofrs7RHwC",
        "colab_type": "text"
      },
      "cell_type": "markdown",
      "source": [
        "# 5- Guassian mixture model"
      ]
    },
    {
      "metadata": {
        "id": "xn8bZSmqSBwY",
        "colab_type": "text"
      },
      "cell_type": "markdown",
      "source": [
        "## Concept\n",
        "\n",
        "* The **Gaussian Mixture Model **is simply a** mixture** of **Gaussian models**.\n",
        "* A Gaussian Model, is a model that makes the hypothesis that the data is drawn following the Gaussian distribution, or more exactly, the function: \n",
        "$f ( x ) = \\frac{1}{\\sigma\\sqrt{2\\pi}} e^{-\\frac{(x-\\mu)^2}{2\\sigma^2}}$\n",
        "> whre $\\mu$ is the mean, and $\\sigma$ is the standard deviation.\n",
        "\n",
        "\n",
        "\n",
        "\n",
        "\n",
        "* Gaussian Mixture clustering consist of identifying to which distribution each point belongs.\n",
        "\n",
        "* This identification is done using algorithms like: **Expectation-Maximization (EM)** algortihm."
      ]
    },
    {
      "metadata": {
        "id": "157T7zEfSB_u",
        "colab_type": "text"
      },
      "cell_type": "markdown",
      "source": [
        "## Example with scikit-learn\n",
        "\n",
        "* Scikit-learn will use the expectation maximization algorithm to determine the different Gaussian distributions."
      ]
    },
    {
      "metadata": {
        "id": "DyNg8La54jXM",
        "colab_type": "code",
        "colab": {}
      },
      "cell_type": "code",
      "source": [
        "\n",
        "from sklearn.mixture import GaussianMixture\n"
      ],
      "execution_count": 0,
      "outputs": []
    },
    {
      "metadata": {
        "id": "qhdi0nnO5r8K",
        "colab_type": "code",
        "outputId": "b5caa23b-d0a5-4994-851c-0983ac9d0211",
        "colab": {
          "base_uri": "https://localhost:8080/",
          "height": 86
        }
      },
      "cell_type": "code",
      "source": [
        "myGMM = GaussianMixture(n_components= 5,)\n",
        "myGMM.fit(X)\n"
      ],
      "execution_count": 0,
      "outputs": [
        {
          "output_type": "execute_result",
          "data": {
            "text/plain": [
              "GaussianMixture(covariance_type='full', init_params='kmeans', max_iter=100,\n",
              "        means_init=None, n_components=5, n_init=1, precisions_init=None,\n",
              "        random_state=None, reg_covar=1e-06, tol=0.001, verbose=0,\n",
              "        verbose_interval=10, warm_start=False, weights_init=None)"
            ]
          },
          "metadata": {
            "tags": []
          },
          "execution_count": 67
        }
      ]
    },
    {
      "metadata": {
        "id": "Cg16AwnzZvta",
        "colab_type": "code",
        "outputId": "a05eba9d-d143-4b7e-c2fc-4d2760da94e5",
        "colab": {
          "base_uri": "https://localhost:8080/",
          "height": 364
        }
      },
      "cell_type": "code",
      "source": [
        "labels = myGMM.predict(X)\n",
        "centroids= myGMM.means_\n",
        "plt.figure()\n",
        "plt.scatter(X[:,0], X[:,1], marker='+', c=labels,cmap =\"Set1\")\n",
        "plt.scatter(centroids[:,0],centroids[:,1],marker=\"o\",facecolor=\"black\",\n",
        "             s =80)"
      ],
      "execution_count": 0,
      "outputs": [
        {
          "output_type": "execute_result",
          "data": {
            "text/plain": [
              "<matplotlib.collections.PathCollection at 0x7f36da835dd8>"
            ]
          },
          "metadata": {
            "tags": []
          },
          "execution_count": 68
        },
        {
          "output_type": "display_data",
          "data": {
            "image/png": "[encoded data removed]",
            "text/plain": [
              "<matplotlib.figure.Figure at 0x7f36da874128>"
            ]
          },
          "metadata": {
            "tags": []
          }
        }
      ]
    },
    {
      "metadata": {
        "id": "ncqX6uOojNBy",
        "colab_type": "code",
        "outputId": "4f8b7bba-7f5e-44e3-f460-1e32d0770a6f",
        "colab": {
          "base_uri": "https://localhost:8080/",
          "height": 104
        }
      },
      "cell_type": "code",
      "source": [
        "myGMM.means_"
      ],
      "execution_count": 0,
      "outputs": [
        {
          "output_type": "execute_result",
          "data": {
            "text/plain": [
              "array([[2.93866761, 1.94247355],\n",
              "       [6.12759508, 8.5681192 ],\n",
              "       [7.0956042 , 2.02972811],\n",
              "       [1.99605273, 8.06032511],\n",
              "       [4.89055576, 4.96266136]])"
            ]
          },
          "metadata": {
            "tags": []
          },
          "execution_count": 69
        }
      ]
    },
    {
      "metadata": {
        "id": "ArfuFPFFSB4a",
        "colab_type": "text"
      },
      "cell_type": "markdown",
      "source": [
        "## Selection of n_components"
      ]
    },
    {
      "metadata": {
        "id": "v7dljixdpSO6",
        "colab_type": "code",
        "colab": {}
      },
      "cell_type": "code",
      "source": [
        "n_components = range(1,10)\n",
        "bics=[]\n",
        "aics=[]\n",
        "for i in n_components:\n",
        "  model = GaussianMixture(n_components=i)\n",
        "  model.fit(X)\n",
        "  bics.append(model.bic(X))\n",
        "  aics.append(model.aic(X))"
      ],
      "execution_count": 0,
      "outputs": []
    },
    {
      "metadata": {
        "id": "vfT7r92rr6qU",
        "colab_type": "code",
        "outputId": "35ac55a7-7a45-4f5b-e012-a0a031355c0a",
        "colab": {
          "base_uri": "https://localhost:8080/",
          "height": 379
        }
      },
      "cell_type": "code",
      "source": [
        "# plot the bic  values\n",
        "plt.figure()\n",
        "plt.bar(n_components, bics, width=0.5, color='orange', align='center')\n",
        "plt.title('BIC scores')\n",
        "\n"
      ],
      "execution_count": 0,
      "outputs": [
        {
          "output_type": "execute_result",
          "data": {
            "text/plain": [
              "Text(0.5,1,'BIC scores')"
            ]
          },
          "metadata": {
            "tags": []
          },
          "execution_count": 71
        },
        {
          "output_type": "display_data",
          "data": {
            "image/png": "[encoded data removed]",
            "text/plain": [
              "<matplotlib.figure.Figure at 0x7f36da8a8e10>"
            ]
          },
          "metadata": {
            "tags": []
          }
        }
      ]
    },
    {
      "metadata": {
        "id": "RNK2RHytsTeM",
        "colab_type": "code",
        "outputId": "cc4d0ad2-1419-4ffa-d1f0-281052571892",
        "colab": {
          "base_uri": "https://localhost:8080/",
          "height": 379
        }
      },
      "cell_type": "code",
      "source": [
        "# plot the aic values\n",
        "plt.figure()\n",
        "plt.bar(n_components, aics, width=0.5, color='lightcoral', align='center')\n",
        "plt.title('AIC scores')\n"
      ],
      "execution_count": 0,
      "outputs": [
        {
          "output_type": "execute_result",
          "data": {
            "text/plain": [
              "Text(0.5,1,'AIC scores')"
            ]
          },
          "metadata": {
            "tags": []
          },
          "execution_count": 72
        },
        {
          "output_type": "display_data",
          "data": {
            "image/png": "[encoded data removed]",
            "text/plain": [
              "<matplotlib.figure.Figure at 0x7f36da7b5d30>"
            ]
          },
          "metadata": {
            "tags": []
          }
        }
      ]
    },
    {
      "metadata": {
        "id": "EEf9IWFybRxy",
        "colab_type": "code",
        "outputId": "e0bc1a8e-e1cb-4ac5-edbe-0c3409021411",
        "colab": {
          "base_uri": "https://localhost:8080/",
          "height": 52
        }
      },
      "cell_type": "code",
      "source": [
        "np.round(aics,2)"
      ],
      "execution_count": 0,
      "outputs": [
        {
          "output_type": "execute_result",
          "data": {
            "text/plain": [
              "array([3244.22, 3096.53, 2931.99, 2884.79, 2808.95, 2808.76, 2826.23,\n",
              "       2820.11, 2830.73])"
            ]
          },
          "metadata": {
            "tags": []
          },
          "execution_count": 73
        }
      ]
    },
    {
      "metadata": {
        "id": "tHOierJRbTdI",
        "colab_type": "code",
        "outputId": "b7662e87-84cc-4479-c5e6-54cfd353023c",
        "colab": {
          "base_uri": "https://localhost:8080/",
          "height": 52
        }
      },
      "cell_type": "code",
      "source": [
        "np.round(bics,2)"
      ],
      "execution_count": 0,
      "outputs": [
        {
          "output_type": "execute_result",
          "data": {
            "text/plain": [
              "array([3263.51, 3138.96, 2997.58, 2973.52, 2920.83, 2943.78, 2984.41,\n",
              "       3001.44, 3035.2 ])"
            ]
          },
          "metadata": {
            "tags": []
          },
          "execution_count": 74
        }
      ]
    },
    {
      "metadata": {
        "id": "5aXVjrUrRNGi",
        "colab_type": "text"
      },
      "cell_type": "markdown",
      "source": [
        "# 6- Affinity Propagation model"
      ]
    },
    {
      "metadata": {
        "id": "H71qigLHSGU2",
        "colab_type": "text"
      },
      "cell_type": "markdown",
      "source": [
        "## Concept\n",
        "\n",
        "\n",
        "* An other clustering method: **Affinity propagation model**. It is defined by these  terms : **Exemplars**, **responsibility**, **availability**,**preference**, **damping facto**r and** message passing**.\n",
        "\n",
        " * ** Exemplars:** are the clusters centers.\n",
        " * **Preference** influence the resulting number of clusters by affecting a preference value for a sample to be an exemplar (its similarity score between it and itself).\n",
        " * **Message:** responsibility or availability values.\n",
        " * **Message passing: **responsibility and availability calculation\n",
        " * **Responsibility $r(i,k)$:** accumulated evidence that the sample k should be the exemplar of i. \n",
        " * **Availability $a(i,k)$:** accumulated evidence that the sample i should select k to be its exemplar.\n",
        " * **Damping factor**  $\\lambda$   : influence the resulting number of clusters by affecting a value for the relationship between new and current messages values. Must be$ >= 0.5$ and $< 1$.\n",
        "\n"
      ]
    },
    {
      "metadata": {
        "id": "yMgLDZAdSGjG",
        "colab_type": "text"
      },
      "cell_type": "markdown",
      "source": [
        "## Process\n",
        "\n",
        "* Select a similarity measure. For example, the **negative** of Euclidean Distance\n",
        "* Select preferences and a damping factor values. \n",
        "* Set $r$ and $a$ matrices  to $0$. Fill $S$ with the similarity scores between all points. Its diagonal is filled with the preferences values.\n",
        "* **Repeat until convergence** (changes for exemplars values are too small or non-existent) **is reached**\n",
        "  * Compute $r$ using this formulas: \n",
        "    * $r_{t+1}(i, k) = s(i, k) - max [ a_t(i, k') + s(i, k') \\forall k' \\neq k ]$\n",
        "    * $r_{t+1}(i, k) = \\lambda\\cdot r_{t}(i, k) + (1-\\lambda)\\cdot r_{t+1}(i, k)$\n",
        "  * Compute $a$ using this formulas:\n",
        "    * $a_{t+1}(i, k) = min [0, r_{t+1}(k, k) + \\sum_{i'~,~i' \\notin \\{i, k\\}}{r(i', k)}]$\n",
        "    * $a_{t+1}(i, k) = \\lambda\\cdot a_{t}(i, k) + (1-\\lambda)\\cdot a_{t+1}(i, k)$\n",
        "\n",
        " \n",
        "\n",
        "* Select the exemplars from: $r(i,i) + a(i,i) >0$\n"
      ]
    },
    {
      "metadata": {
        "id": "Z7prBx0pSGbS",
        "colab_type": "text"
      },
      "cell_type": "markdown",
      "source": [
        "## Example"
      ]
    },
    {
      "metadata": {
        "id": "26lnf6lBdI4e",
        "colab_type": "code",
        "colab": {}
      },
      "cell_type": "code",
      "source": [
        "from sklearn.cluster import AffinityPropagation\n",
        "# initialization of the model with default values\n",
        "myModel= AffinityPropagation()\n"
      ],
      "execution_count": 0,
      "outputs": []
    },
    {
      "metadata": {
        "id": "A1FQS2jUdkJc",
        "colab_type": "code",
        "outputId": "865eb677-0274-4edb-ef7f-6a6826ec810a",
        "colab": {
          "base_uri": "https://localhost:8080/",
          "height": 52
        }
      },
      "cell_type": "code",
      "source": [
        "myModel.fit(X)"
      ],
      "execution_count": 0,
      "outputs": [
        {
          "output_type": "execute_result",
          "data": {
            "text/plain": [
              "AffinityPropagation(affinity='euclidean', convergence_iter=15, copy=True,\n",
              "          damping=0.5, max_iter=200, preference=None, verbose=False)"
            ]
          },
          "metadata": {
            "tags": []
          },
          "execution_count": 76
        }
      ]
    },
    {
      "metadata": {
        "id": "LRobbuPYdm_e",
        "colab_type": "code",
        "outputId": "f4c3f3e5-363d-46d7-b2a0-43a27dd4296f",
        "colab": {
          "base_uri": "https://localhost:8080/",
          "height": 364
        }
      },
      "cell_type": "code",
      "source": [
        "labels = myModel.labels_\n",
        "centroids= myModel.cluster_centers_\n",
        "plt.figure()\n",
        "plt.scatter(X[:,0], X[:,1], marker='+', c=labels,cmap =\"Set1\")\n",
        "plt.scatter(centroids[:,0],centroids[:,1],marker=\"o\",facecolor=\"black\",\n",
        "             s =80)"
      ],
      "execution_count": 0,
      "outputs": [
        {
          "output_type": "execute_result",
          "data": {
            "text/plain": [
              "<matplotlib.collections.PathCollection at 0x7f36da6f2208>"
            ]
          },
          "metadata": {
            "tags": []
          },
          "execution_count": 77
        },
        {
          "output_type": "display_data",
          "data": {
            "image/png": "[encoded data removed]",
            "text/plain": [
              "<matplotlib.figure.Figure at 0x7f36da719ba8>"
            ]
          },
          "metadata": {
            "tags": []
          }
        }
      ]
    },
    {
      "metadata": {
        "id": "_qRmjqLXdzrW",
        "colab_type": "code",
        "outputId": "ffe8a2d9-da38-423d-d2ee-fc1ce199435c",
        "colab": {
          "base_uri": "https://localhost:8080/",
          "height": 364
        }
      },
      "cell_type": "code",
      "source": [
        "# personalize the preference\n",
        "myModel= AffinityPropagation(preference=-100)\n",
        "myModel.fit(X)\n",
        "\n",
        "labels = myModel.labels_\n",
        "centroids= myModel.cluster_centers_\n",
        "plt.figure()\n",
        "plt.scatter(X[:,0], X[:,1], marker='+', c=labels,cmap =\"Set1\")\n",
        "plt.scatter(centroids[:,0],centroids[:,1],marker=\"o\",facecolor=\"black\",\n",
        "             s =80)\n"
      ],
      "execution_count": 0,
      "outputs": [
        {
          "output_type": "execute_result",
          "data": {
            "text/plain": [
              "<matplotlib.collections.PathCollection at 0x7f36da5008d0>"
            ]
          },
          "metadata": {
            "tags": []
          },
          "execution_count": 84
        },
        {
          "output_type": "display_data",
          "data": {
            "image/png": "[encoded data removed]",
            "text/plain": [
              "<matplotlib.figure.Figure at 0x7f36da55c780>"
            ]
          },
          "metadata": {
            "tags": []
          }
        }
      ]
    },
    {
      "metadata": {
        "id": "tSbN2yDrRSdW",
        "colab_type": "text"
      },
      "cell_type": "markdown",
      "source": [
        "# References\n",
        "\n",
        "* Aurélien Géron. Hands-on machine learning with Scikit-Learn and Tensor-\n",
        "Flow: concepts, tools, and techniques to build intelligent systems. O’Reilly\n",
        "Media, Inc, 2017.\n",
        "* matplotlib.org. color example code: colormaps_reference.py. On-line at https://matplotlib.org/examples/color/colormaps_reference.html. Accessed on 24-12-2018.\n",
        "* matplotlib.org. color example code: named_colors.py. On-line at https://matplotlib.org/examples/color/named_colors.html. Accessed on 24-12-2018.\n",
        "* Joshi Prateek. Artificial intelligence with Python. Packt Publishing, 2017.\n",
        "*  Vink Ritchie. Algorithm breakdown: Affinity propagation.\n",
        "On-line at https://www.ritchievink.com/blog/2018/05/18/\n",
        "algorithm-breakdown-affinity-propagation/, May 2018. Accessed on 24-12-2018.\n",
        "* Scikit-learn.org. scikit-learn, machine learning in python. On-line at https://scikit-learn.org/stable/. Accessed on 03-11-2018.\n",
        "* wikipedia.org. Affinity propagation. On-line at https://en.wikipedia.org/wiki/Affinity_propagation. Accessed on 24-12-2018.\n",
        "* wikipedia.org. Mean shift. On-line at https://en.wikipedia.org/wiki/Mean_shift. Accessed on 24-12-2018."
      ]
    }
  ]
}