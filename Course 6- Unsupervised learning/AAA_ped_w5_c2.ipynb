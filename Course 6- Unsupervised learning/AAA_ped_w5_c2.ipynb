{
  "nbformat": 4,
  "nbformat_minor": 0,
  "metadata": {
    "colab": {
      "name": "AAA-ped-w5-c2.ipynb",
      "version": "0.3.2",
      "provenance": [],
      "collapsed_sections": [],
      "toc_visible": true,
      "include_colab_link": true
    },
    "kernelspec": {
      "name": "python3",
      "display_name": "Python 3"
    }
  },
  "cells": [
    {
      "cell_type": "markdown",
      "metadata": {
        "id": "view-in-github",
        "colab_type": "text"
      },
      "source": [
        "<a href=\"https://colab.research.google.com/github/AIMosta/All-About-AI-Python-Edition/blob/master/Course%206-%20Unsupervised%20learning/AAA_ped_w5_c2.ipynb\" target=\"_parent\"><img src=\"https://colab.research.google.com/assets/colab-badge.svg\" alt=\"Open In Colab\"/></a>"
      ]
    },
    {
      "metadata": {
        "id": "b9q-VxEW5tRs",
        "colab_type": "text"
      },
      "cell_type": "markdown",
      "source": [
        "<img src=\"https://docs.google.com/uc?export=download&id=1ap18raVTUCSJeGzTLz9kViroFGvTknrV\">\n",
        "# Ensemble Leaning: About Ensemble Learning"
      ]
    },
    {
      "metadata": {
        "id": "H1a7Uuzz8dnI",
        "colab_type": "toc"
      },
      "cell_type": "markdown",
      "source": [
        ">[Supervised Learning: Introduction to Supervised Learning](#scrollTo=b9q-VxEW5tRs)\n",
        "\n",
        ">[1- Ensemble Learning](#scrollTo=1oBho425Q7ca)\n",
        "\n",
        ">>[Concept](#scrollTo=yLvtrsm0RcWq)\n",
        "\n",
        ">>[Voting](#scrollTo=A8DvRRWlRdGi)\n",
        "\n",
        ">>[Ensemble methods](#scrollTo=OjzIaOe1RdZ2)\n",
        "\n",
        ">[2- Bagging and Pasting](#scrollTo=VL49qQMiRCfC)\n",
        "\n",
        ">>[Deffinition](#scrollTo=QtI6YjSJRzo8)\n",
        "\n",
        ">>[Bagging example using scikit-learn](#scrollTo=Tg2exEipRz7w)\n",
        "\n",
        ">>[Pasting example using sckit-learn](#scrollTo=lYnbKQUdR0Ou)\n",
        "\n",
        ">[3- Features sampling](#scrollTo=Nhm8OJc_RFU8)\n",
        "\n",
        ">>[Definition](#scrollTo=TOgMnI_CR7QE)\n",
        "\n",
        ">>[Example with a Random patches method](#scrollTo=iJCObGCDR7Wk)\n",
        "\n",
        ">>[Example with a Random Subspaces method](#scrollTo=Zd06of0ZR7JC)\n",
        "\n",
        ">[4- Boosting : Adaptive Boosting](#scrollTo=Ca8Ofrs7RHwC)\n",
        "\n",
        ">>[Boosting](#scrollTo=xn8bZSmqSBwY)\n",
        "\n",
        ">>[AdaBoost](#scrollTo=157T7zEfSB_u)\n",
        "\n",
        ">>[SAMME](#scrollTo=ArfuFPFFSB4a)\n",
        "\n",
        ">>[Example](#scrollTo=zDNBX55A9MWc)\n",
        "\n",
        ">[5- Boosting: Gradient boosting](#scrollTo=5aXVjrUrRNGi)\n",
        "\n",
        ">>[Concept](#scrollTo=H71qigLHSGU2)\n",
        "\n",
        ">>[Example: the data](#scrollTo=Z7prBx0pSGbS)\n",
        "\n",
        ">>[Example:  using  a GBRT](#scrollTo=rRQa4nSudjXU)\n",
        "\n",
        ">[6- Stacking or Blending](#scrollTo=CffbTqAERQKg)\n",
        "\n",
        ">>[Concept](#scrollTo=23ma5K3xSKrS)\n",
        "\n",
        ">>[Hold-out set: principle](#scrollTo=WIGdB_nfSK9o)\n",
        "\n",
        ">>[Hold-out set: generalization](#scrollTo=_6H6Ca-GSK4-)\n",
        "\n",
        ">[References](#scrollTo=tSbN2yDrRSdW)\n",
        "\n"
      ]
    },
    {
      "metadata": {
        "id": "1oBho425Q7ca",
        "colab_type": "text"
      },
      "cell_type": "markdown",
      "source": [
        "# 1- Ensemble Learning"
      ]
    },
    {
      "metadata": {
        "id": "yLvtrsm0RcWq",
        "colab_type": "text"
      },
      "cell_type": "markdown",
      "source": [
        "## Concept\n",
        "* In** Ensemble Learning**, we **combine** several models to build a **better** model. The **algorithm** used in Ensemble learning is called: an **Ensemble Method**.\n",
        "* We can combine **classifiers** or **regressors**.\n",
        "* The models can be all the** same type**,  or** different**. "
      ]
    },
    {
      "metadata": {
        "id": "A8DvRRWlRdGi",
        "colab_type": "text"
      },
      "cell_type": "markdown",
      "source": [
        "## Voting\n",
        "\n",
        "* Its about: how to select the final prediction.\n",
        "\n",
        "* In Classification \n",
        "\n",
        "  * Hard Voting: \n",
        "    * For each sample, a classifier will make a prediction : a class for that sample\n",
        "    * Select the **most** predicted class by all the classifiers, for that sample .\n",
        "\n",
        "  * Soft Voting: \n",
        "    * available when the classifiers can predict class  probabilities.\n",
        "    * Select the class with the **highest averaged** probability\n",
        "* In Regression\n",
        "\n",
        "  * The **average** of the predicted values.\n",
        "\n",
        "* These methods are the general way to make the predictions. But, they can differ in some specific Ensemble Method. "
      ]
    },
    {
      "metadata": {
        "id": "OjzIaOe1RdZ2",
        "colab_type": "text"
      },
      "cell_type": "markdown",
      "source": [
        "## Ensemble methods\n",
        "* The ensemble methods can vary by: \n",
        " * **Varying** or not the types of the models: use the **same or different **models.\n",
        " * Select the **same sample** only **once** or **several times** in **the same model**.\n",
        "  * **Whether or not** the model use **all the features** or only a **subset** of features.\n",
        " * The models learn in **parallel** or **sequentially**.\n",
        " * The type of **mechanism** used to make a** prediction**."
      ]
    },
    {
      "metadata": {
        "id": "HTCGM7RP2FzO",
        "colab_type": "text"
      },
      "cell_type": "markdown",
      "source": [
        "   ## Example"
      ]
    },
    {
      "metadata": {
        "id": "t3NiAsxkVdC2",
        "colab_type": "code",
        "colab": {}
      },
      "cell_type": "code",
      "source": [
        "#import iris plant datasets tools\n",
        "from sklearn.datasets import load_iris\n",
        "\n",
        "%matplotlib inline\n",
        "\n",
        "import matplotlib.pyplot as plt\n",
        "\n",
        "\n",
        "# import numpy\n",
        "import numpy as np\n",
        "\n",
        "#import train_test_split from model_selection\n",
        "from sklearn.model_selection import train_test_split\n",
        "\n",
        "# import the confusion matrix\n",
        "from sklearn.metrics import confusion_matrix\n"
      ],
      "execution_count": 0,
      "outputs": []
    },
    {
      "metadata": {
        "id": "I8kcpuhKVmPg",
        "colab_type": "code",
        "outputId": "6754566f-173e-44c1-8f86-321bd53d5ebd",
        "colab": {
          "base_uri": "https://localhost:8080/",
          "height": 34
        }
      },
      "cell_type": "code",
      "source": [
        "# load the data\n",
        "myIris = load_iris()\n",
        "X = myIris.data\n",
        "y = myIris.target\n",
        "x_train,x_test,y_train,y_test= train_test_split(X, y, test_size=0.25)\n",
        "print(x_train.shape)"
      ],
      "execution_count": 0,
      "outputs": [
        {
          "output_type": "stream",
          "text": [
            "(112, 4)\n"
          ],
          "name": "stdout"
        }
      ]
    },
    {
      "metadata": {
        "id": "1cTgn3l92FXU",
        "colab_type": "code",
        "outputId": "d18871b8-c788-462d-e55c-71b3b62135af",
        "colab": {
          "base_uri": "https://localhost:8080/",
          "height": 193
        }
      },
      "cell_type": "code",
      "source": [
        "from sklearn.tree import DecisionTreeClassifier\n",
        "from sklearn.ensemble import VotingClassifier\n",
        "from sklearn.linear_model import LogisticRegression\n",
        "from sklearn.svm import SVC\n",
        "\n",
        "logReg = LogisticRegression()\n",
        "decTree = DecisionTreeClassifier()\n",
        "SVMClass = SVC()\n",
        "myEnsembleMethd = VotingClassifier(estimators=[('lr',logReg),('dt',decTree),('svc',SVMClass)]\n",
        "                                   ,voting='hard')\n",
        "myEnsembleMethd.fit(x_train, y_train)\n",
        "y_pred= myEnsembleMethd.predict(x_test.reshape(-1,4))\n",
        "myConfMat = confusion_matrix(y_test,y_pred)\n",
        "print( myConfMat)\n"
      ],
      "execution_count": 0,
      "outputs": [
        {
          "output_type": "stream",
          "text": [
            "[[16  0  0]\n",
            " [ 0 11  1]\n",
            " [ 0  0 10]]\n"
          ],
          "name": "stdout"
        },
        {
          "output_type": "stream",
          "text": [
            "/usr/local/lib/python3.6/dist-packages/sklearn/linear_model/logistic.py:433: FutureWarning: Default solver will be changed to 'lbfgs' in 0.22. Specify a solver to silence this warning.\n",
            "  FutureWarning)\n",
            "/usr/local/lib/python3.6/dist-packages/sklearn/linear_model/logistic.py:460: FutureWarning: Default multi_class will be changed to 'auto' in 0.22. Specify the multi_class option to silence this warning.\n",
            "  \"this warning.\", FutureWarning)\n",
            "/usr/local/lib/python3.6/dist-packages/sklearn/svm/base.py:196: FutureWarning: The default value of gamma will change from 'auto' to 'scale' in version 0.22 to account better for unscaled features. Set gamma explicitly to 'auto' or 'scale' to avoid this warning.\n",
            "  \"avoid this warning.\", FutureWarning)\n"
          ],
          "name": "stderr"
        }
      ]
    },
    {
      "metadata": {
        "id": "VL49qQMiRCfC",
        "colab_type": "text"
      },
      "cell_type": "markdown",
      "source": [
        "# 2- Bagging and Pasting"
      ]
    },
    {
      "metadata": {
        "id": "QtI6YjSJRzo8",
        "colab_type": "text"
      },
      "cell_type": "markdown",
      "source": [
        "## Deffinition\n",
        "\n",
        "* **Bagging** (or **Bootstrap aggregating**) and **pasting** are **both** ensemble methods that combine** same type of models**. They both train the **models** on **different random sub sets**. All the models run in **parallel.** They use the **voting** mechanism for the final prediction.\n",
        "\n",
        "* Both Bagging and Basting apply **random sampling** :\n",
        "  * The training set of each model is a subset of the original data randomly selected.\n",
        "  * The same sample can be found in different models (different subsets).\n",
        "* The difference is:\n",
        "  * Bagging  : random sampling **with replacement** <==> \n",
        "    * One sample can be found **several times** in the **same model** (same subset).\n",
        "  * Pasting: random sampling **without** replacement <==> \n",
        "    * One sample can be found **only once** in the same model (same subset)."
      ]
    },
    {
      "metadata": {
        "id": "Tg2exEipRz7w",
        "colab_type": "text"
      },
      "cell_type": "markdown",
      "source": [
        "## Bagging example using scikit-learn\n",
        "\n",
        "* We will use an SVC (support vecotr machine classifier) for the bagging example."
      ]
    },
    {
      "metadata": {
        "id": "q-toMW9cXMrg",
        "colab_type": "code",
        "outputId": "88d78e55-29d6-4d35-ef87-9a744fbb0a0f",
        "colab": {
          "base_uri": "https://localhost:8080/",
          "height": 86
        }
      },
      "cell_type": "code",
      "source": [
        "from sklearn.ensemble import BaggingClassifier\n",
        "from sklearn.svm import SVC\n",
        "theModel2 = SVC()\n",
        "myBagClass2 = BaggingClassifier(\n",
        "theModel2, n_estimators=300,max_samples=90, bootstrap=True, n_jobs=-1)\n",
        "myBagClass2.fit(x_train, y_train)\n",
        "y_pred = myBagClass2.predict(x_test)\n",
        "\n",
        "\n",
        "myConfMat2 = confusion_matrix(y_test,y_pred)\n",
        "print( myConfMat2)\n",
        "myBagClass2.score(x_test,y_test)"
      ],
      "execution_count": 0,
      "outputs": [
        {
          "output_type": "stream",
          "text": [
            "[[16  0  0]\n",
            " [ 0 11  1]\n",
            " [ 0  0 10]]\n"
          ],
          "name": "stdout"
        },
        {
          "output_type": "execute_result",
          "data": {
            "text/plain": [
              "0.9736842105263158"
            ]
          },
          "metadata": {
            "tags": []
          },
          "execution_count": 26
        }
      ]
    },
    {
      "metadata": {
        "id": "lYnbKQUdR0Ou",
        "colab_type": "text"
      },
      "cell_type": "markdown",
      "source": [
        "## Pasting example using sckit-learn\n",
        "\n",
        "* We will use an SVC (support vecotr machine classifier) for the **bagging **example."
      ]
    },
    {
      "metadata": {
        "id": "59-iUgX8gvDI",
        "colab_type": "code",
        "outputId": "b70d5da1-a77d-46bc-e0ea-51c9fb840181",
        "colab": {
          "base_uri": "https://localhost:8080/",
          "height": 86
        }
      },
      "cell_type": "code",
      "source": [
        "from sklearn.svm import SVC\n",
        "\n",
        "myBagClass2P = BaggingClassifier(\n",
        "theModel2, n_estimators=300,max_samples=90, bootstrap=False, n_jobs=-1)\n",
        "myBagClass2P.fit(x_train, y_train)\n",
        "y_pred = myBagClass2P.predict(x_test)\n",
        "\n",
        "\n",
        "myConfMat2P = confusion_matrix(y_test,y_pred)\n",
        "print( myConfMat2P)\n",
        "myBagClass2P.score(x_test,y_test)"
      ],
      "execution_count": 0,
      "outputs": [
        {
          "output_type": "stream",
          "text": [
            "[[16  0  0]\n",
            " [ 0 11  1]\n",
            " [ 0  0 10]]\n"
          ],
          "name": "stdout"
        },
        {
          "output_type": "execute_result",
          "data": {
            "text/plain": [
              "0.9736842105263158"
            ]
          },
          "metadata": {
            "tags": []
          },
          "execution_count": 27
        }
      ]
    },
    {
      "metadata": {
        "id": "AYZktkmmiK0e",
        "colab_type": "code",
        "outputId": "dcd9737c-4db1-46b5-bd7a-154bb31a9a1e",
        "colab": {
          "base_uri": "https://localhost:8080/",
          "height": 86
        }
      },
      "cell_type": "code",
      "source": [
        "from sklearn.linear_model import LogisticRegression\n",
        "\n",
        "theModel = LogisticRegression()\n",
        "myBagClassP = BaggingClassifier(\n",
        "theModel, n_estimators=300,max_samples=90, bootstrap=False, n_jobs=-1)\n",
        "myBagClassP.fit(x_train, y_train)\n",
        "y_pred = myBagClassP.predict(x_test)\n",
        "\n",
        "\n",
        "myConfMatP = confusion_matrix(y_test,y_pred)\n",
        "print( myConfMatP)\n",
        "myBagClassP.score(x_test,y_test)"
      ],
      "execution_count": 0,
      "outputs": [
        {
          "output_type": "stream",
          "text": [
            "[[16  0  0]\n",
            " [ 0 10  2]\n",
            " [ 0  0 10]]\n"
          ],
          "name": "stdout"
        },
        {
          "output_type": "execute_result",
          "data": {
            "text/plain": [
              "0.9473684210526315"
            ]
          },
          "metadata": {
            "tags": []
          },
          "execution_count": 28
        }
      ]
    },
    {
      "metadata": {
        "id": "Nhm8OJc_RFU8",
        "colab_type": "text"
      },
      "cell_type": "markdown",
      "source": [
        "# 3- Features sampling"
      ]
    },
    {
      "metadata": {
        "id": "TOgMnI_CR7QE",
        "colab_type": "text"
      },
      "cell_type": "markdown",
      "source": [
        "##  Definition\n",
        "\n",
        "* All the following methods use **features sampling**: each model will be trained in a **random subset** of features.\n",
        "\n",
        "* **Sampling features** can be **with **or **without replacement**.\n",
        "\n",
        "\n",
        "* Random patches method\n",
        "\n",
        "  * **Sampling **both **“**training instances**” and “**features**”\n",
        "\n",
        "\n",
        "\n",
        "* Random subspaces method\n",
        "\n",
        "  * Keeping all **bold text** “**training**” instances but “**sampling” features**"
      ]
    },
    {
      "metadata": {
        "id": "iJCObGCDR7Wk",
        "colab_type": "text"
      },
      "cell_type": "markdown",
      "source": [
        "## Example with a Random patches method"
      ]
    },
    {
      "metadata": {
        "id": "loxMUDn037Q8",
        "colab_type": "code",
        "outputId": "c6f5adc6-d16e-44f2-a01c-a263c3eba214",
        "colab": {
          "base_uri": "https://localhost:8080/",
          "height": 34
        }
      },
      "cell_type": "code",
      "source": [
        " # import the tool for generating the data\n",
        "from sklearn.datasets import make_regression\n",
        "\n",
        "\n",
        "# generate a random regression problem\n",
        "xr,yr= make_regression( n_features = 20)\n",
        "\n",
        "xr_train,xr_test,yr_train,yr_test= train_test_split(xr, yr, test_size=0.25)\n",
        "print(xr_train.shape)"
      ],
      "execution_count": 0,
      "outputs": [
        {
          "output_type": "stream",
          "text": [
            "(75, 20)\n"
          ],
          "name": "stdout"
        }
      ]
    },
    {
      "metadata": {
        "id": "7wOqlUya4PZy",
        "colab_type": "code",
        "outputId": "b69fe35c-e9a5-4c28-8139-f1a4b6d3740a",
        "colab": {
          "base_uri": "https://localhost:8080/",
          "height": 34
        }
      },
      "cell_type": "code",
      "source": [
        "from sklearn.ensemble import BaggingRegressor\n",
        "from sklearn.linear_model import LinearRegression\n",
        "\n",
        "\n",
        "theModelR = LinearRegression()\n",
        "myBagReg = BaggingRegressor(\n",
        "               theModelR, n_estimators=20,max_samples=50,max_features=15, \n",
        "               bootstrap=True, bootstrap_features= True, n_jobs=-1)\n",
        "\n",
        "myBagReg.fit(xr_train, yr_train)\n",
        "yr_pred = myBagReg.predict(xr_test)\n",
        "myBagReg.score(xr_test,yr_test)"
      ],
      "execution_count": 0,
      "outputs": [
        {
          "output_type": "execute_result",
          "data": {
            "text/plain": [
              "0.670360383167735"
            ]
          },
          "metadata": {
            "tags": []
          },
          "execution_count": 30
        }
      ]
    },
    {
      "metadata": {
        "id": "Zd06of0ZR7JC",
        "colab_type": "text"
      },
      "cell_type": "markdown",
      "source": [
        "## Example with a Random Subspaces method\n",
        "\n"
      ]
    },
    {
      "metadata": {
        "id": "gzYxL9ZkDL3G",
        "colab_type": "code",
        "outputId": "de753a5d-7d25-493e-800e-f3a1d0ab5494",
        "colab": {
          "base_uri": "https://localhost:8080/",
          "height": 34
        }
      },
      "cell_type": "code",
      "source": [
        "myBagReg2 = BaggingRegressor(\n",
        "               theModelR, n_estimators=45,max_samples=1.0,max_features=1, \n",
        "               bootstrap=False, bootstrap_features=False, n_jobs=-1)\n",
        "\n",
        "myBagReg2.fit(xr_train, yr_train)\n",
        "yr_pred2 = myBagReg2.predict(xr_test)\n",
        "myBagReg2.score(xr_test,yr_test)\n"
      ],
      "execution_count": 0,
      "outputs": [
        {
          "output_type": "execute_result",
          "data": {
            "text/plain": [
              "0.041318141556522796"
            ]
          },
          "metadata": {
            "tags": []
          },
          "execution_count": 31
        }
      ]
    },
    {
      "metadata": {
        "id": "Ca8Ofrs7RHwC",
        "colab_type": "text"
      },
      "cell_type": "markdown",
      "source": [
        "# 4- Boosting : Adaptive Boosting"
      ]
    },
    {
      "metadata": {
        "id": "xn8bZSmqSBwY",
        "colab_type": "text"
      },
      "cell_type": "markdown",
      "source": [
        "## Boosting\n",
        "\n",
        "\n",
        "* Boosting **bold text** : Ensemble method, that combines **several weak learners** into a** stronger** learner.\n",
        "\n",
        "* This is done by training the **models sequentially** ==> each model **correct (boost)** its **predecessor**.\n",
        "\n",
        "* The most known boosting methods are: **Adaptive Boosting** and **Gradient Boosting**.\n",
        "\n",
        "  * **AdaBoost**: each new predictor focus on the training samples that its **predecessor underfitted **( for example: misclassified in a classification problem) by modifying the instances weight .\n",
        "  * **Gradient Boosting**: the new predictor tries to** fit**\n",
        "to the **residual errors** made by the **previous predictor**.\n",
        "\n"
      ]
    },
    {
      "metadata": {
        "id": "157T7zEfSB_u",
        "colab_type": "text"
      },
      "cell_type": "markdown",
      "source": [
        "## AdaBoost\n",
        "\n",
        "* Applicable in binary classification.\n",
        "* The steps of the algorithm are as follow:\n",
        "  *  initialize the samples weight $ w^i$ (for the first predictor ) by $\\frac{1}{m}$. $m$ is the number of the training samples.\n",
        "  * for each predictor $j$, after training, and predicting,  compute:\n",
        "    * the weighted error rate : $r_j = \\frac {\\sum_{i=1_{y_{true}(i) \\ne y_{pred}(i)}}^m  w^i}{\\sum_{i=1} ^m w^i}$\n",
        "    * compute the $j$ predictor's weight:\n",
        "    $\\alpha_j = \\eta \\log \\frac {1 - r_j}{r_j}$. $\\eta$ is the learning rate parameter.\n",
        "    * Compute the new weights (to be used by the following new predictor $j+1$) :\n",
        " $ w^i = w^i , if,  y_{true}(i) = y_{pred}(i) $\n",
        "  $w^i = w^i \\exp(\\alpha_j),  if, y_{true}(i) \\neq y_{pred}(i) $\n",
        "  \n",
        "    * Normalize the new weights $ w^i$ by: $w^i=\\frac{1}{\\sum_{i=1} ^m w^i}$\n",
        "    * The process is repeated until  the **perfect predictor** is found, or the ** maximum** number of **predictors** is reached.\n",
        " * To make a prediction: \n",
        "   * make a prediction with each predictor $j$ from the resulting $N$ predictors.\n",
        "   * attribute a weight to each  prediction by the predictor's  $j$  weight.$\\alpha_j$\n",
        "   * for each sample $x$ select the class $k$ that receives the majority of weighted votes: for each predicted class $k$ sum up the corresponding $\\alpha_j$weights, then select the class $k$ with the biggest sum.\n",
        "    \n",
        "    \n",
        "    "
      ]
    },
    {
      "metadata": {
        "id": "ArfuFPFFSB4a",
        "colab_type": "text"
      },
      "cell_type": "markdown",
      "source": [
        "## SAMME\n",
        "\n",
        "* SAMME  : **S**tagewise **A**dditive **M**odeling using a **M**ulti-class **E**xponential loss function\n",
        "\n",
        "* Enhanced version of **AdaBoost**, applicable in **multiclass** classification.\n",
        "\n",
        "* Same steps as AdaBoost, just the **$\\alpha $** weight is computed differently:  $\\alpha_j = \\eta *(\\log \\frac {1 - r_j}{r_j} + log(K-1))$. $K$ is the number of classes.\n"
      ]
    },
    {
      "metadata": {
        "id": "zDNBX55A9MWc",
        "colab_type": "text"
      },
      "cell_type": "markdown",
      "source": [
        "## Example\n",
        "* We will apply SAMME algorithm using Scikit Learn on the previous data.\n",
        "* There is another version of the algorithme **SAMME.R** applicable by default if the model use implements **predict_proba** function."
      ]
    },
    {
      "metadata": {
        "id": "qdLVIOdq9Lvc",
        "colab_type": "code",
        "outputId": "87270435-e704-434f-d706-8d618d36c625",
        "colab": {
          "base_uri": "https://localhost:8080/",
          "height": 69
        }
      },
      "cell_type": "code",
      "source": [
        "from sklearn.ensemble import AdaBoostClassifier\n",
        "  # we will use  a decision tree classifier\n",
        "from sklearn.tree import DecisionTreeClassifier\n",
        "\n",
        "theModel4 = DecisionTreeClassifier(max_depth=1)\n",
        "mySAMME = AdaBoostClassifier(theModel4, n_estimators=200,                           \n",
        "                           algorithm=\"SAMME\", learning_rate=1\n",
        "                           )\n",
        "\n",
        "mySAMME.fit(x_train, y_train)\n",
        "y_pred = mySAMME.predict(x_test)\n",
        "\n",
        "myConfMat3 = confusion_matrix(y_test,y_pred)\n",
        "print(myConfMat3)\n",
        "\n"
      ],
      "execution_count": 0,
      "outputs": [
        {
          "output_type": "stream",
          "text": [
            "[[16  0  0]\n",
            " [ 0 11  1]\n",
            " [ 0  0 10]]\n"
          ],
          "name": "stdout"
        }
      ]
    },
    {
      "metadata": {
        "id": "5aXVjrUrRNGi",
        "colab_type": "text"
      },
      "cell_type": "markdown",
      "source": [
        "# 5- Boosting: Gradient boosting"
      ]
    },
    {
      "metadata": {
        "id": "H71qigLHSGU2",
        "colab_type": "text"
      },
      "cell_type": "markdown",
      "source": [
        "## Concept\n",
        "\n",
        "\n",
        "1. The predictor will be first trained on a set of data: $x$,$y$\n",
        "2. The residual errors are computed from its prediction: $r = y - y_{pred}$\n",
        "3. A new predictor will be trained with the new set of data: $x$,$r$\n",
        "4. The residual errors are computed again  as follow: $r2 = r - r_{pred}$\n",
        "5. The steps 3 and 4 are repeated until: you predict using all the predefined number of predictors, or you  determine the optimal consecutive predictors (the least generated error) and you select those predictors as your final model. Or, you continue adding predictors until the errors will not diminish \n",
        "6. The final prediction will be the sum of all the predictions.\n",
        "\n",
        "\n",
        "\n",
        "* Scikit learn implements gradient tree boosting: the models used are decision trees."
      ]
    },
    {
      "metadata": {
        "id": "Z7prBx0pSGbS",
        "colab_type": "text"
      },
      "cell_type": "markdown",
      "source": [
        "## Example: the data"
      ]
    },
    {
      "metadata": {
        "id": "IWNZr7MtM5cG",
        "colab_type": "code",
        "colab": {}
      },
      "cell_type": "code",
      "source": [
        "# we will use load_boston utilities to load our data\n",
        "# we will considere only the feature with the indices 12 (the last one): 'LSTAT'\n",
        "\n",
        "from sklearn.datasets import load_boston\n",
        "mydata =load_boston()\n",
        "xr2 = mydata.data[:,[12]]\n",
        "yr2 = mydata.target\n",
        "xr2_train,xr2_test,yr2_train,yr2_test= train_test_split(xr2, yr2, test_size=0.25)\n",
        "\n",
        "\n",
        "\n",
        "\n"
      ],
      "execution_count": 0,
      "outputs": []
    },
    {
      "metadata": {
        "id": "fQsBMHoRd5mU",
        "colab_type": "code",
        "outputId": "1b53277b-f6b7-45f0-ca83-2892385a60bc",
        "colab": {
          "base_uri": "https://localhost:8080/",
          "height": 923
        }
      },
      "cell_type": "code",
      "source": [
        "print(mydata.DESCR)"
      ],
      "execution_count": 0,
      "outputs": [
        {
          "output_type": "stream",
          "text": [
            ".. _boston_dataset:\n",
            "\n",
            "Boston house prices dataset\n",
            "---------------------------\n",
            "\n",
            "**Data Set Characteristics:**  \n",
            "\n",
            "    :Number of Instances: 506 \n",
            "\n",
            "    :Number of Attributes: 13 numeric/categorical predictive. Median Value (attribute 14) is usually the target.\n",
            "\n",
            "    :Attribute Information (in order):\n",
            "        - CRIM     per capita crime rate by town\n",
            "        - ZN       proportion of residential land zoned for lots over 25,000 sq.ft.\n",
            "        - INDUS    proportion of non-retail business acres per town\n",
            "        - CHAS     Charles River dummy variable (= 1 if tract bounds river; 0 otherwise)\n",
            "        - NOX      nitric oxides concentration (parts per 10 million)\n",
            "        - RM       average number of rooms per dwelling\n",
            "        - AGE      proportion of owner-occupied units built prior to 1940\n",
            "        - DIS      weighted distances to five Boston employment centres\n",
            "        - RAD      index of accessibility to radial highways\n",
            "        - TAX      full-value property-tax rate per $10,000\n",
            "        - PTRATIO  pupil-teacher ratio by town\n",
            "        - B        1000(Bk - 0.63)^2 where Bk is the proportion of blacks by town\n",
            "        - LSTAT    % lower status of the population\n",
            "        - MEDV     Median value of owner-occupied homes in $1000's\n",
            "\n",
            "    :Missing Attribute Values: None\n",
            "\n",
            "    :Creator: Harrison, D. and Rubinfeld, D.L.\n",
            "\n",
            "This is a copy of UCI ML housing dataset.\n",
            "https://archive.ics.uci.edu/ml/machine-learning-databases/housing/\n",
            "\n",
            "\n",
            "This dataset was taken from the StatLib library which is maintained at Carnegie Mellon University.\n",
            "\n",
            "The Boston house-price data of Harrison, D. and Rubinfeld, D.L. 'Hedonic\n",
            "prices and the demand for clean air', J. Environ. Economics & Management,\n",
            "vol.5, 81-102, 1978.   Used in Belsley, Kuh & Welsch, 'Regression diagnostics\n",
            "...', Wiley, 1980.   N.B. Various transformations are used in the table on\n",
            "pages 244-261 of the latter.\n",
            "\n",
            "The Boston house-price data has been used in many machine learning papers that address regression\n",
            "problems.   \n",
            "     \n",
            ".. topic:: References\n",
            "\n",
            "   - Belsley, Kuh & Welsch, 'Regression diagnostics: Identifying Influential Data and Sources of Collinearity', Wiley, 1980. 244-261.\n",
            "   - Quinlan,R. (1993). Combining Instance-Based and Model-Based Learning. In Proceedings on the Tenth International Conference of Machine Learning, 236-243, University of Massachusetts, Amherst. Morgan Kaufmann.\n",
            "\n"
          ],
          "name": "stdout"
        }
      ]
    },
    {
      "metadata": {
        "id": "rRQa4nSudjXU",
        "colab_type": "text"
      },
      "cell_type": "markdown",
      "source": [
        "## Example:  using  a GBRT\n",
        "* **GBRT** for **G**radient **B**oosted **R**egression **T**rees"
      ]
    },
    {
      "metadata": {
        "id": "5U_XR04gfC04",
        "colab_type": "code",
        "outputId": "9ccb1540-5193-4e49-8aeb-e8a16b671a2d",
        "colab": {
          "base_uri": "https://localhost:8080/",
          "height": 282
        }
      },
      "cell_type": "code",
      "source": [
        "from sklearn.ensemble import GradientBoostingRegressor\n",
        "from sklearn.model_selection import train_test_split\n",
        "\n",
        "myGBRT = GradientBoostingRegressor(max_depth=2, n_estimators=45)\n",
        "myGBRT.fit(xr2_train, yr2_train)\n",
        "\n",
        "# xnew to draw the model\n",
        "xnew= np.linspace(4,40,2000).reshape(-1,1)\n",
        "ypred= myGBRT.predict(xnew)\n",
        "plt.plot(xnew, ypred,color=\"red\")\n",
        "plt.scatter(xr2_train,yr2_train,marker=\".\")"
      ],
      "execution_count": 0,
      "outputs": [
        {
          "output_type": "execute_result",
          "data": {
            "text/plain": [
              "<matplotlib.collections.PathCollection at 0x7f49e246ffd0>"
            ]
          },
          "metadata": {
            "tags": []
          },
          "execution_count": 37
        },
        {
          "output_type": "display_data",
          "data": {
            "image/png": "[encoded data removed]",
            "text/plain": [
              "<matplotlib.figure.Figure at 0x7f49e1282208>"
            ]
          },
          "metadata": {
            "tags": []
          }
        }
      ]
    },
    {
      "metadata": {
        "id": "QP3PbUNNd_28",
        "colab_type": "code",
        "outputId": "b0e6367e-8f6f-45a1-cc6c-cf89784fb62b",
        "colab": {
          "base_uri": "https://localhost:8080/",
          "height": 282
        }
      },
      "cell_type": "code",
      "source": [
        "# testing the model\n",
        "ypred= myGBRT.predict(xr2_test)\n",
        "\n",
        "#plot the true values: in green and the predicted values: in black\n",
        "plt.scatter(xr2_test,yr2_test,color=\"green\",marker=\".\")\n",
        "plt.scatter(xr2_test,ypred,color=\"black\",marker=\"+\")\n",
        "\n",
        "\n",
        "from sklearn.metrics import mean_squared_error as MSE\n",
        "print (MSE(yr2_test,ypred))"
      ],
      "execution_count": 0,
      "outputs": [
        {
          "output_type": "stream",
          "text": [
            "27.701804841167945\n"
          ],
          "name": "stdout"
        },
        {
          "output_type": "display_data",
          "data": {
            "image/png": "[encoded data removed]",
            "text/plain": [
              "<matplotlib.figure.Figure at 0x7f49de7e8630>"
            ]
          },
          "metadata": {
            "tags": []
          }
        }
      ]
    },
    {
      "metadata": {
        "id": "CffbTqAERQKg",
        "colab_type": "text"
      },
      "cell_type": "markdown",
      "source": [
        "# 6- Stacking or Blending"
      ]
    },
    {
      "metadata": {
        "id": "23ma5K3xSKrS",
        "colab_type": "text"
      },
      "cell_type": "markdown",
      "source": [
        "## Concept\n",
        "\n",
        "* The idea here, is to train a model to** learn** how to** aggregate** the ensemble models predictions.\n",
        "\n",
        "* The method is composed of:\n",
        "  * Learner models : that will fit to the data, and make the predictions.\n",
        "  * **Blender**: the final model  or meta learner, that will make the final prediction.\n",
        "\n",
        "* There are different methods to train the blender:\n",
        "  * Hold-out set: Blending\n",
        "  * Out-of-fold: Stacking"
      ]
    },
    {
      "metadata": {
        "id": "WIGdB_nfSK9o",
        "colab_type": "text"
      },
      "cell_type": "markdown",
      "source": [
        "## Hold-out set: principle\n",
        "\n",
        "* An example using 3 Predictors and 1 blender (2 layers). The 3 predictors will form **a layer** ,  and another predictor will be the **second layer**.\n",
        "\n",
        "  * First, the training data is subdivided into 2 subsets.\n",
        "  * The **first subset** is used by the first layer to train.\n",
        "  * The **trained** layer will use the** second subset**  to predict new values:  3 predictors ==>  3 set of predictions\n",
        "  * The 3 set of predictions will form a new set of values: each set will represent a feature ==> x values with 3 features.\n",
        "  * The target values will be the target values of the orginal subsest of the training data (the second one used for prediction) .\n",
        "  * The new set values will be used by the blender (another model) to train.\n",
        " \n",
        "* To make a prediction with new instances:\n",
        "  *  The new instance will go through the first layer.\n",
        "  * The resulting predictions will  serve as input for the second layer.\n",
        "  * The prediction made by this later one is the final result.\n",
        "\n"
      ]
    },
    {
      "metadata": {
        "id": "jQPFYQx1I-Ei",
        "colab_type": "code",
        "outputId": "5dfee9e2-1e97-411f-a8f9-67dc4614a0f7",
        "colab": {
          "base_uri": "https://localhost:8080/",
          "height": 159
        }
      },
      "cell_type": "code",
      "source": [
        "from sklearn.linear_model import LinearRegression\n",
        "from sklearn.svm import SVR\n",
        "from sklearn.tree import DecisionTreeRegressor\n",
        "\n",
        "# predictors composing the first layer\n",
        "myModel1 = SVR(kernel='poly')\n",
        "myModel2 = LinearRegression()\n",
        "myModel3 = DecisionTreeRegressor()\n",
        "\n",
        "# the model choosen for the blender\n",
        "myBlender = SVR(kernel='linear')\n",
        "\n",
        "#subdividing the= training data into 2 subsets\n",
        "size=  int(xr2_train.shape[0]/2)\n",
        "\n",
        "subXR1=xr2_train[:size]\n",
        "subXR2=xr2_train[size:]\n",
        "\n",
        "subYR1= yr2_train[:size]\n",
        "subYR2= yr2_train[size:]\n",
        "print(subXR1.shape,subXR2.shape,subYR1.shape,subYR2.shape)\n",
        "\n",
        "# training the first layer\n",
        "myModel1.fit(subXR1,subYR1)\n",
        "myModel2.fit(subXR1,subYR1)\n",
        "myModel3.fit(subXR1,subYR1)\n",
        "\n",
        "# predicting with the second subset\n",
        "\n",
        "pred1 = myModel1.predict(subXR2)\n",
        "pred2 = myModel2.predict(subXR2)\n",
        "pred3 = myModel3.predict(subXR2)\n",
        "\n",
        "\n",
        "# constructing the new x values\n",
        "xnew = np.append(pred1.reshape(-1,1), pred2.reshape(-1,1), axis= 1)\n",
        "xnew= np.append(xnew, pred3.reshape(-1,1),axis = 1)\n",
        "print(xnew.shape)\n",
        "\n",
        "\n",
        "# train on the previous predicted values\n",
        "\n",
        "myBlender.fit(xnew,subYR2)\n",
        "\n",
        "# predicting on test data\n",
        "\n",
        "# predicting with the first layer\n",
        "\n",
        "pred1 = myModel1.predict(xr2_test)\n",
        "pred2 = myModel2.predict(xr2_test)\n",
        "pred3 = myModel3.predict(xr2_test)\n",
        "\n",
        "# create the x vlaues\n",
        "# constructing the new x values\n",
        "xnew_test = np.append(pred1.reshape(-1,1), pred2.reshape(-1,1), axis= 1)\n",
        "xnew_test= np.append(xnew_test, pred3.reshape(-1,1),axis = 1)\n",
        "print(xnew_test.shape)\n",
        "\n",
        "\n",
        "# predicting with the second layer\n",
        "myFP= myBlender.predict(xnew_test)\n",
        "print(myBlender.score(xnew_test,yr2_test))\n",
        "\n",
        "# printing the mean square error\n",
        "print (MSE(yr2_test,myFP))"
      ],
      "execution_count": 0,
      "outputs": [
        {
          "output_type": "stream",
          "text": [
            "(189, 1) (190, 1) (189,) (190,)\n"
          ],
          "name": "stdout"
        },
        {
          "output_type": "stream",
          "text": [
            "/usr/local/lib/python3.6/dist-packages/sklearn/svm/base.py:196: FutureWarning: The default value of gamma will change from 'auto' to 'scale' in version 0.22 to account better for unscaled features. Set gamma explicitly to 'auto' or 'scale' to avoid this warning.\n",
            "  \"avoid this warning.\", FutureWarning)\n"
          ],
          "name": "stderr"
        },
        {
          "output_type": "stream",
          "text": [
            "(190, 3)\n",
            "(127, 3)\n",
            "0.6411442145726178\n",
            "27.90487595475314\n"
          ],
          "name": "stdout"
        }
      ]
    },
    {
      "metadata": {
        "id": "_6H6Ca-GSK4-",
        "colab_type": "text"
      },
      "cell_type": "markdown",
      "source": [
        "## Hold-out set: generalization\n",
        "\n",
        "* Its possible to train several type of blenders. And , each one can be a set of models.\n",
        "\n",
        "* The idea is to divide the original training set into several subsets: n subsets ==> n layers (n-1 blending phase)\n",
        "\n",
        "* The first set of predictors will  train from the first subset, and make prediction with the second one.\n",
        "\n",
        "* The second set of predictors will train from the previous predictions. And then make new predictions using the third subset.\n",
        "\n",
        "* The process is repeated until the last subset of predictors: it will train from the last predictions made by the previous predictors using the last subset of data. "
      ]
    },
    {
      "metadata": {
        "id": "tSbN2yDrRSdW",
        "colab_type": "text"
      },
      "cell_type": "markdown",
      "source": [
        "# References\n",
        "\n",
        "* Aurélien Géron. Hands-on machine learning with Scikit-Learn and Tensor-Flow: concepts, tools, and techniques to build intelligent systems. O’Reilly Media, Inc, 2017.\n",
        "\n",
        "* Scikit-learn.org. scikit-learn, machine learning in python. On-line at https://scikit-learn.org/stable/. Accessed on 03-11-2018."
      ]
    }
  ]
}